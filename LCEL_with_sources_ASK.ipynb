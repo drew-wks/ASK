{
 "cells": [
  {
   "cell_type": "markdown",
   "metadata": {},
   "source": [
    "Assumes Langchain v.0.3.4\n"
   ]
  },
  {
   "cell_type": "code",
   "execution_count": 1,
   "metadata": {},
   "outputs": [],
   "source": [
    "# %pip install --upgrade --quiet langchain-openai\n",
    "# %pip install langchain-qdrant\n",
    "# % pip install streamlit"
   ]
  },
  {
   "cell_type": "code",
   "execution_count": 2,
   "metadata": {},
   "outputs": [],
   "source": [
    "import streamlit as st"
   ]
  },
  {
   "cell_type": "markdown",
   "metadata": {},
   "source": [
    "### Langsmith\n",
    "accessible [here](https://smith.langchain.com/o/3941ecea-6957-508c-9f4f-08ed62dc7d61/projects/p/0aea481f-080e-45eb-bae1-2ae8ee246bd9)"
   ]
  },
  {
   "cell_type": "code",
   "execution_count": 3,
   "metadata": {},
   "outputs": [],
   "source": [
    "# These have to be set as environmental variables to be accessed behind the scenes\n",
    "import os\n",
    "from dotenv import load_dotenv, find_dotenv\n",
    "\n",
    "env_path = find_dotenv()\n",
    "load_dotenv(env_path)\n",
    "\n",
    "# os.environ[\"LANGCHAIN_TRACING_V2\"] = st.secrets[\"LANGCHAIN_TRACING_V2\"]\n",
    "# os.environ[\"LANGCHAIN_PROJECT\"] = st.secrets[\"LANGCHAIN_PROJECT\"]\n",
    "\n",
    "os.environ[\"LANGCHAIN_API_KEY\"] = st.secrets[\"LANGCHAIN_API_KEY\"]\n",
    "os.environ[\"LANGCHAIN_TRACING_V2\"] = \"true\"\n",
    "os.environ[\"LANGCHAIN_PROJECT\"] = \"ASK\"\n"
   ]
  },
  {
   "cell_type": "code",
   "execution_count": 4,
   "metadata": {},
   "outputs": [],
   "source": [
    "OPENAI_API_KEY = st.secrets[\"OPENAI_API_KEY\"]\n",
    "open_api_key = st.secrets[\"OPENAI_API_KEY\"]"
   ]
  },
  {
   "cell_type": "code",
   "execution_count": 5,
   "metadata": {},
   "outputs": [],
   "source": [
    "from qdrant_client import QdrantClient\n",
    "from langchain.chains import create_retrieval_chain\n",
    "from langchain.chains.combine_documents import create_stuff_documents_chain\n",
    "# from langchain.vectorstores import Qdrant Deprecated\n",
    "from langchain_qdrant import QdrantVectorStore\n",
    "from langchain_core.prompts import ChatPromptTemplate\n",
    "from langchain_openai import OpenAIEmbeddings"
   ]
  },
  {
   "cell_type": "code",
   "execution_count": 6,
   "metadata": {},
   "outputs": [],
   "source": [
    "config = {\n",
    "    # langchain. No longer needs the API key parameter in 0.3.4\n",
    "    \"embedding\": OpenAIEmbeddings(),\n",
    "    \"embedding_dims\": 1536,\n",
    "    \"search_type\": \"mmr\",\n",
    "    \"k\": 5,\n",
    "    'fetch_k': 20,   # fetch 30 docs then select 4\n",
    "    'lambda_mult': .7,    # 0= max diversity, 1 is min. default is 0.5\n",
    "    \"score_threshold\": 0.5,\n",
    "    \"model\": \"gpt-3.5-turbo-16k\",\n",
    "    \"temperature\": 0.7,\n",
    "    \"chain_type\": \"stuff\",  # a LangChain parameter\n",
    "}"
   ]
  },
  {
   "cell_type": "code",
   "execution_count": 7,
   "metadata": {},
   "outputs": [],
   "source": [
    "from langchain_openai import ChatOpenAI\n",
    "\n",
    "# keep outside the function so it's accessible elsewhere in this notebook\n",
    "llm = ChatOpenAI(model=config[\"model\"], temperature=config[\"temperature\"])\n",
    "query = []"
   ]
  },
  {
   "cell_type": "code",
   "execution_count": 8,
   "metadata": {},
   "outputs": [],
   "source": [
    "qdrant_collection_name = \"ASK_vectorstore\"\n",
    "qdrant_path = \"/tmp/local_qdrant\"\n",
    "\n",
    "\n",
    "def get_retriever():\n",
    "    '''Creates and caches the document retriever and Qdrant client.'''\n",
    "\n",
    "    client = QdrantClient(\n",
    "        url=st.secrets[\"QDRANT_URL\"],\n",
    "        prefer_grpc=True,\n",
    "        api_key=st.secrets[\"QDRANT_API_KEY\"]\n",
    "    )  # cloud instance\n",
    "    # client = QdrantClient(path=\"/tmp/local_qdrant\" )  # local instance: /private/tmp/local_qdrant\n",
    "\n",
    "# Qdrant is deprecated. Use this instead. Notice embedding is singular\n",
    "    qdrant = QdrantVectorStore(\n",
    "        client=client,\n",
    "        collection_name=qdrant_collection_name,\n",
    "        embedding=config[\"embedding\"]\n",
    "    )\n",
    "\n",
    "    retriever = qdrant.as_retriever(\n",
    "        search_type=config[\"search_type\"],\n",
    "        search_kwargs={'k': config[\"k\"], \"fetch_k\": config[\"fetch_k\"],\n",
    "                       \"lambda_mult\": config[\"lambda_mult\"], \"filter\": None},  # filter documents by metadata\n",
    "    )\n",
    "\n",
    "    return retriever"
   ]
  },
  {
   "cell_type": "code",
   "execution_count": 9,
   "metadata": {},
   "outputs": [],
   "source": [
    "# tessting the retriever initializes\n",
    "retriever = get_retriever()"
   ]
  },
  {
   "cell_type": "code",
   "execution_count": 10,
   "metadata": {},
   "outputs": [],
   "source": [
    "# 2. Incorporate the retriever into a question-answering chain.\n",
    "system_prompt = (\n",
    "    \"You are an assistant for question-answering tasks. \"\n",
    "    \"Use the following pieces of retrieved context to answer \"\n",
    "    \"the question. If you don't know the answer, say that you \"\n",
    "    \"don't know. Use three sentences maximum and keep the \"\n",
    "    \"answer concise.\"\n",
    "    \"\\n\\n\"\n",
    "    \"{context}\"\n",
    ")\n",
    "\n",
    "prompt = ChatPromptTemplate.from_messages(\n",
    "    [\n",
    "        (\"system\", system_prompt),\n",
    "        (\"human\", \"{input}\"),\n",
    "    ]\n",
    ")"
   ]
  },
  {
   "cell_type": "code",
   "execution_count": 11,
   "metadata": {},
   "outputs": [],
   "source": [
    "question_answer_chain = create_stuff_documents_chain(llm, prompt)\n",
    "rag_chain = create_retrieval_chain(retriever, question_answer_chain)"
   ]
  },
  {
   "cell_type": "markdown",
   "metadata": {},
   "source": [
    "### Run using the built-in create_retrieval_chain, which returns sources by default;\n",
    "\n",
    "Note that `result` is a dict with keys `\"input\"`, `\"context\"`, and `\"answer\"`:\n"
   ]
  },
  {
   "cell_type": "code",
   "execution_count": 12,
   "metadata": {},
   "outputs": [
    {
     "data": {
      "text/plain": [
       "{'input': 'What is the Auxiliary?',\n",
       " 'context': [Document(metadata={'page': 114, 'source': 'References/Auxiliary Manual CIM_16790_1G.pdf', '_id': '89ef5ec1-475c-45fb-bba6-5f7b0dcac8c3', '_collection_name': 'ASK_vectorstore'}, page_content='COMDTINST M16790.1G \\n \\n \\n \\n \\n \\n \\nSection A. Eligibility \\nIntroduction The Auxiliary is an organiza tion of uniformed volunteers.  Pursuant to \\nprovisions of this chapter, m embership is open to any citizen of the U.S. and \\nits territories and possessions who is seventeen years of age or older. \\nMembership is predicated on successful completion of the Auxiliary \\nenrollment application (including the passing of the New Member Exam), \\nand receipt of  a favorable (FAV) Personnel Secu rity Investigation (PSI) in \\naccordance with the Personnel Security and Suitability Program Manual, \\nCOMDTINST M5520.12 (series), and pa ragraph C.3 of this chapter . \\nIndividuals who hold dual citizenship w ith the U.S. and another country may \\nbecome members of the Auxiliary.  Such  individuals whose other country of \\ncitizenship is one of those specifica lly identified in Table 2.C of the \\nPersonnel Security and Suitabil ity Program Manual, COMDTINST \\nM5520.12 (series), will not be authorized  to pursue a Direct Informational \\n(DI) or Direct Operational (DO) PSI nor  any of its associated activities.  \\nSimilarly, an Auxiliarist who holds dual citizenship and who pursues a DI or \\nDO PSI must clearly indicate in their DI or DO PSI package the willingness \\nto renounce their other country ’s citizenship if circumstances dictate.  Failure \\nto so indicate will be recognized by the Director  a s  s u f f i c i e n t  g r o u n d s  t o  \\nimmediately terminate the DI or DO PSI process. \\nAuxiliary membership is open to all U.S. citizens, or those of dual \\ncitizenship as described above, who are current military active duty or \\nReserve personnel, or veterans of thes e services who were discharged under \\nhonorable conditions (see secti on 3.A.6 of this Manual). \\nFacility (vessel, aircraft, or radio st ation) ownership and special skills are \\ndesirable, but not mandatory for membership. \\nA.1.  Facility \\nDefinition A facility is a privately owned boat, yacht, personal watercraft, aircraft, fixed \\nland, or land mobile radio station, at least 25 percent of which is owned by \\nthe Auxiliarist.  Under certain conditions, the Director may grant a waiver \\nfor corporate or government owned facilitie s.  All surface facilities, however, \\nmust meet the requirements stated for vessels in the Auxiliary Operations \\nPolicy Manual, COMDTINST M16798.3 (series); the  Vessel Examiner \\nManual, COMDTINST M16796.2 (series); and local requirements \\nestablished by the District Commander.  For aircraft or radio facilities, the \\nrequirements are in the Auxiliary Op erations Policy Manual, COMDTINST \\nM16798.3 (series).  To become a faci lity it must meet applicable \\nrequirements, be offered for use,  and be accepted by the Director. \\n3-3 '),\n",
       "  Document(metadata={'page': 142, 'source': 'References/Gold Side/Flotilla_Procedures_Guide_FINAL_ESIGNED_23MAR23.pdf', '_id': 'feb43d9c-bfc3-47ca-8736-5a5fc80e927c', '_collection_name': 'ASK_vectorstore'}, page_content='6-3 rank. However, by using distinctive insignia, the Auxiliary does \\nidentify and recognize the increasing responsibility and authority of \\nelected and appointed staff officers from lower to higher levels. \\nUnder this system, leaders can be easily identified by the insignia \\nappropriate to the level of their position. Because members wear a \\nmodified Coast Guard uniform and insignia of position, the \\nrequi rements for courtesy and protocol are thereby simplified and \\nform the basis for an effective working relationship between \\nAuxiliarists and their Coast Guard counterparts.'),\n",
       "  Document(metadata={'page': 83, 'source': \"References/Gold Side/COAST GUARD AUXILIARY PUBLIC AFFAIRS OFFICER'S GUIDE_CIM_5728_3A.pdf\", '_id': 'b666c475-1a45-41e4-88c3-80d137d8f8c8', '_collection_name': 'ASK_vectorstore'}, page_content='  topics covered are charts, navigational instruments, tides and currents,  \\n  magnetic compass, and the many means of determining position on the  \\n  water.  The course concludes with a \"piloting problem\" which makes  \\n  practical application of all the topics learned in the course. \\n \\n         In addition to these regular courses, the Auxiliary provides a  \\n  special short lecture program on boating safety for schools, churches,  \\n  or other organizations.  All public education is given by qualified  \\n  Auxiliary instructors, many of whom have had years of experience on the \\n  water, and all of whom are well acquainted with the subjects they teach. \\n \\n         The Courtesy Marine Examination program is the second basic  \\n  \"cornerstone\" activity of the Auxiliary.  These safety equipment checks  \\n  are provided as a free public service, performed at the request of the  \\n  boat owner or operator.  The annual \"Seal of safety\" decal indicates \\n  that at the time of the examination the boat not only met federal  \\n  regulations and safety-related equipment requirements of the state in  \\n  which the examination was conducted--but also satisfied initial Auxiliary  \\n  requirements that may go considerably further in some cases.  The \\n  examination is, in effect, a \"one-on-one\" educational program involving a \\n  valuable exchange of boating safety information.  These examinations are  \\n  conducted by specially qualified Auxiliarists who have been trained as  \\n  Courtesy Examiners. \\n \\n         Each year, the Auxiliary\\'s operational activities help thousands  \\n  of recreational boaters who find themselves in trouble.  Auxiliarists  \\n  cooperate with the Coast Guard and State boating officials to augment  \\n  their forces for search and rescue missions, safety patrols, and regatta \\n  patrols. \\n \\n         Another of the Auxiliary\\'s programs is Project AIM, Academy  \\n  Introduction Mission.  Annually since 1955, Coast Guard Auxiliary units  \\n  throughout the country have sponsored a visit to the Coast Guard Academy  \\n  for selected high school students.  The visit is 5 days in length with \\n  meals, lodging and transportation provided to the students, many of whom \\n  compete for appointment as a Coast Guard cadet subsequent to their visit.   \\n  This program has been successful in promoting interest in, and desirable  \\n  publicity for, the Coast Guard and its Academy. \\n \\n         RAP, Recruitment Assistance Program, is another cooperative  \\n  Auxiliary effort to aid in the Coast Guard\\'s procurement of officers and  \\n  enlisted personnel. \\n \\n \\n \\n \\n \\n \\n \\n \\n \\n \\n \\n \\n \\nENC 1-6 '),\n",
       "  Document(metadata={'page': 4, 'source': 'References/Facilitation Docs/2015_NEW_MEMBER_HANDBOOK.pdf', '_id': '7d874a63-d1fb-4718-afcf-d69fa6ea80e8', '_collection_name': 'ASK_vectorstore'}, page_content='NEW MEMBER HANDBOOK \\n5 D. ACRONYMS/ABBREVIATIONS \\n1. What in the world is an AUXOP, DCDR, or FSO-?  One of the first puzzles for a new \\nmember is the shorthand (acronyms/abbreviations) with which we sprinkle our \\nconversations and writing.  It\\'s the \"insider\" Auxiliary language, just like other insider \\nlanguages.  Acronyms are a part of the game.  Don\\'t become frustrated; no one knows \\nthem all.  Ask a fellow Auxiliarist or look them up in your Auxiliary Manual or on \\nthe Auxiliary website at: www.cgaux.org. \\n2.  Some helpful examples:  \\n• PE—Public Education \\n• VSC—Vessel Safety Check \\n• OP—Operations \\n• MT—Member Training \\n• BS&S—Boating Skills & Seamanship \\nE. MEMBER IDENTIFICATION NUMBER \\nYou have been given an Member Identification Number.  From this point on, your status, \\nactivities and accomplishments will be recorded in the Auxiliary Data Syste m \\n(AUXDATA) using that number.  The Coast Guard has provided you with an Identification Card.  Your Member ID is provided on your card. It is important that you \\nknow and understand your Member ID.  \\nF. DUES \\nEach year you will receive a notice when dues are pay able.  Your total dues are divided \\ninto four parts: flotilla, division, district, and national.  You pay your total to the flotilla. \\nThe Flotilla Finance Officer (FSO -FN), in turn, sends the appropriate portions of your \\ndues to the other levels of the organization.  Our dues help to support Auxiliary activities at all levels of the organization and are tax deductible.  \\nG. REPORTING \\nThe status, qualifications, and activities of all members and units in the Auxiliary are \\ntracked in the Auxiliary Data System (AUX DATA) using the member number.  Since the \\nAuxiliary plays a significant part in Coast Guard accomplishments, it has a direct bearing on Coast Guard funding.  Reporting is very important to you, your flotilla and division \\nand the Coast Guard.'),\n",
       "  Document(metadata={'page': 10, 'source': 'References/Facilitation Docs/2015_NEW_MEMBER_HANDBOOK.pdf', '_id': '0f802800-589f-4cae-8fbe-759e68f7aa42', '_collection_name': 'ASK_vectorstore'}, page_content='NEW MEMBER HANDBOOK \\n11 If your boat, aircraft, or other authorized Auxiliary facility is damaged or destroyed while \\nlegitimately engaged in Auxiliary operations, coverage for repairs or replacement will be \\nprovided.  Liability insurance protects the Auxiliarist from third -party claims made as a \\nresult of actions that occur when the Auxiliarist is performing authorized missions an d \\nhas been properly assigned to duty.  \\n \\nIn order to maintain this coverage, all incidents and accidents must be reported to your \\norder-issuing authority for the mission.  As a caution, there must be strict adherence to all \\nCoast Guard governing policies, or the claim may be denied.  \\nD. EXCHANGE PRIVILEGES  Auxiliarists in uniform, with proper identification, can purchase anything sold in the Coast Guard Exchange System (CGES) Stores except \\nliquor and cigarettes.  Family members may accompany Auxiliarists to th e Exchange, but \\nmay not make individual purchases.  Members of the Auxiliary are also welcome at other Department of Defense Exchanges, but only uniform items or accessories may be \\npurchased. \\nE. PUBLICATIONS  Members receive the quarterly Auxiliary National p ublication, The \\nNavigator, their own district/division/flotilla publications, and other bulletins to keep \\nabreast of Coast Guard, Auxiliary, and general boating information.  \\nF. UNIFORMS AND AWARDS  The pride of wearing the Auxiliary uniform is amplified by awards and advancement.  There are ample opportunities to receive recognition by \\ncompleting Auxiliary training courses and participating in authorized programs.  \\nG. TAX DEDUCTIONS  Uniforms, their cleaning and maintenance, and reasonable out -of-\\npocket expenses incurred in the performance of your duties are considered contributions \\nfor tax purposes.  The foregoing is not intended to be advice on deductibility. You should \\nconsult your professional tax advisor. \\n \\nDoing something useful with friends may be the benefit that will bring satisfaction to your \\nmembership.  That could mean tossing a towline to a distressed boater, or tossing a salad at a \\nflotilla picnic.  It could mean being a student or an instructor, checking a boat or performing an \\nexam, using computer skills or accounting skills ... it could mean a lot o\\nf things.  \\nIT IS UP TO YOU ... a little or a lot, once a month or once a day—something that interests you and \"as your time and circumstances permit. \"  The personal benefits and satisfaction that you recei ve from your membership will depend upon your choice and level of participation.  \\n \\nWELCOME ABOARD!  ')],\n",
       " 'answer': 'The Auxiliary is an organization of uniformed volunteers that is open to any U.S. citizen or dual citizen who is seventeen years of age or older. Membership is predicated on successful completion of the Auxiliary enrollment application and a favorable Personnel Security Investigation. The Auxiliary provides various programs and activities such as boating safety education, vessel safety checks, search and rescue missions, and recruitment assistance for the Coast Guard.'}"
      ]
     },
     "execution_count": 12,
     "metadata": {},
     "output_type": "execute_result"
    }
   ],
   "source": [
    "result = rag_chain.invoke({\"input\": \"What is the Auxiliary?\"})\n",
    "\n",
    "result"
   ]
  },
  {
   "cell_type": "markdown",
   "metadata": {},
   "source": [
    "### Custom LCEL implementation\n",
    "\n",
    "This constructs a chain similar to those built by `create_retrieval_chain` above.\n",
    "\n",
    "It works by building up a dict with the input query,\n",
    "then add the retrieved docs in the `\"context\"` key;\n",
    "Feed both the query and context into a RAG chain and add the result to the dict.\n"
   ]
  },
  {
   "cell_type": "code",
   "execution_count": 23,
   "metadata": {},
   "outputs": [
    {
     "data": {
      "text/plain": [
       "{'input': 'What is Task Decomposition',\n",
       " 'context': [Document(metadata={'page': 15, 'source': 'References/Gold Side/Auxiliary Boat Crew Qualification Handbook- ABQH 16115.52B.pdf', '_id': '6b607953-80a5-4b67-9e78-45524c598f31', '_collection_name': 'ASK_vectorstore'}, page_content=' Part 1 –  Introduction to Auxiliary Boat Crew Qualification System  \\n  Chapter 4 – Task Designations  \\n  \\n  \\n1-5 \\n \\nCHAPTER 4  \\nTask Designations  \\n \\n \\nA.1. Task Designation \\nComponents  A task designation is comprised of three elements followed by the word \\n“AUX ”. The three elements of a task designation are:  \\n(01) Qualification  \\n(02) Division Designation Number  \\n(03) Task Designation Number  \\nA.2. Task Structure  Below is an  example : \\nBCM -07-05-AUX  \\n     Indicated that the task must be accomplished on an Auxiliary \\nfacility .  \\n   Task designation number.  The task is a knowledge or skill objective to be performed.   \\n  Division designation number   \\n Qualification  designation  (e.g., BCM = Boat Crewmember ; COX N = Coxswain; \\nPWC = Personal Watercraft ).  \\nA.3. Task Completion \\nRequirement  All tasks shall be completed unless specifically stated otherwise.  Certain tasks \\nin the Qualification Guide are designated as “ Waiverable Tasks  by \\nDIRAUX”.  The Director may waive these designated tasks on a case- by-case \\nbasis given the mission requirements, the nature of the waters, or if the task is \\nnot operationally required for the geographical area. Any tasks that is either \\ndetermined to be “Waiverable Tasks  by DIRAUX” , Not Applicable (N/A), \\nor as applicable require appropriate comments in the “Comments” section for \\nthat specific “TASK”.  \\nA.4. Deferred Tasks  When situations exist that preclude a member from completing qualification \\ntasks outside of “ Waiverable Tasks  by DIRAUX” or Not Applicable (N/A) , \\nthe mentor may defer those tasks. The decision to defer a  task should not be \\ntaken lightly. Deferment applies to a member s inability to complete a task due \\nto equipment and/or facility  constraints.  Deferred Tasks r equire ap propriate \\ncomments in the “Comments” section for that specific “TASK”.  \\nNOTE \\uf024  \\nMembers moving to a new location  or with multiple residences , previously \\n“Waiverable Tasks by DIRAUX ”, Not Applicable (N/A), or Deferred Task  must be \\nreconsidered for completion based on new location and facility capabilities before \\nrecertification.  '),\n",
       "  Document(metadata={'/ModDate': \"D:20221102090321-04'00'\", '/Keywords': 'CI_16130_2G_THE U.S. COAST GUARD ADDENDUM TO THE UNITED STATES NATIONAL SEARCH AND RESCUE SUPPLEMENT (NSS) TO THE INTERNATIONAL AERONAUTICAL AND MARITIME SEARCH AND RESCUE MANUAL (IAMSAR)', '/Author': 'USCG', '/Creator': 'Adobe Acrobat Pro DC (32-bit) 22.2.20191', '/CreationDate': \"D:20221028162404-04'00'\", 'source': '/Users/drew_wilkins/Drews_Files/Drew/Python/VSCode/ASK/data/original_library_documents/CG_General/USCG Addendum to US NSS to IAMSAR CI_16130_2G_2022-10-01.PDF', '/Title': 'THE U.S. COAST GUARD ADDENDUM TO THE UNITED STATES NATIONAL SEARCH AND RESCUE SUPPLEMENT (NSS) TO THE INTERNATIONAL AERONAUTICAL AND MARITIME SEARCH AND RESCUE MANUAL (IAMSAR), COMDTINST 16130.2G', 'page': 428, '/Producer': 'Adobe Acrobat Pro DC (32-bit) 22.2.20191', '/Subject': 'CG-5R, (202) 372-2010', '_id': '9b4a13ac-3424-440d-b58e-edbff06bbd7a', '_collection_name': 'ASK_vectorstore'}, page_content='Appendix E to COMDTINST 16130.2 G \\n \\nE-3 \\n Table E-1  Relationship Between Various Decision Making Approaches  \\n \\nGeneric Model  Strategic Decision Making  Tactical Decision Making  \\nEstablish Goals  Establish Goals/Objectives  Define Mission/Task  \\nRisk \\nAssessment  Gather Stakeholders  \\nIdentify Hazards  Establish Assumptions and \\nGround Rules  \\nCheck Baseline  \\nEncode Expert Opinion  \\nDevelop Ranked List of Risks  Assess Risks  \\nRisk \\nManagement  Determine Potential \\nCountermeasures  Identify Options  \\nDevelop Ranked List of \\nCountermeasures  Evaluate Risk vs. Gain  \\nSelect Countermeasures and \\nImplement  Execute Decision  \\nEffect Assessment  Assess Effect  Monitor Situation  Continuous Improvement  \\n \\nE.1.2  PEACE M odel: Used to identify Hazards  \\n \\nPlanning : All resources and equipment used to properly plan and execute the mission (i.e. CG and \\nnon-CG resources, SAROPS, etc.).  Multiple resource operation - Air assets requiring air space \\ndeconfliction? Subsequent searches and relief assets pl anned ahead of time?  \\nEvent Complexity:  Personnel capable and properly trained to execute the mission.  \\nAsset Selection:  Ensure the right asset is available for the mission  (Boat, cutter, aircraft , and \\npersonnel) . \\nCommunications:  Frequencies established and maintained with SMC, OSC and SRUs prior to \\narrival on scene.  Comms maintained with the person(s) in need of assistance.  \\nEnvironment Conditions:  How will conditions affect the mission or situation? How long will \\nconditions remain the same?  \\n \\nE.1.3   STAAR Model: Used to identify Options.  \\n \\nSpread Out: Risk can be spread out by increasing either the SRUs responding to the distress or \\nthe time between exposures of the SRUs ( liner to the Fatigue Standards).  \\nTransfer: Transferring risk does not change probabilit y or severity but rather shifts possible losses \\nor costs to another unit or entity (i.e. assuming SMC from a Sector or transferring OSC \\nresponsibilities).   \\nAvoid:  Canceling or delaying a mission until the risk is reduced (i.e. avoiding risks associated \\nwith a night search by planning for a first light search or waiting for poor weather to pass).  '),\n",
       "  Document(metadata={'page': 78, 'source': 'References/Gold Side/Not Auxiliary Specific/USCG Incident Mgmt Handbook COMDTPUB_P3120.17B.pdf', '_id': '700a2877-8c71-47b3-976f-7b0ec796ce77', '_collection_name': 'ASK_vectorstore'}, page_content='May 2014  \\nC. Provide the IAP to subordinates, as needed.  \\nD. Review Division/Group assigned tasks and incident \\nactivities with subordinates.  \\nE. Implement the IAP for Division/Group.  \\nF. Assemble  and demobilize task force/strike teams as \\nappropriate.  \\nG. Supervise Division/Group resources and make changes \\nas appropriate.  \\nH. Ensure that RESL  is advised of all changes in the status \\nof resources assigned to the Division/Group through the \\nchain of command.  \\nI. Coordinate activities with adjacent Division/Group.  \\nJ. Determine the need for assistance on assigned tasks.  \\nK. Submit situation and resource status  information to the \\nBranch Director or the OSC as directed.  \\nL. Coordinate with FOBS assigned by the SITL.  \\nM. Report hazardous situations, special occurrences, or \\nsignificant events (e.g., accidents, mishaps, sickness, \\nand discovery of unanticipated sensitive res ources ) to \\nimmediate supervisor and SOFR.  \\nN. Ensure that assigned personnel and equipment get to \\nand from assignments in a timely and orderly manner.  \\nO. Resolve logistics problems within the Division/Group.  \\nP. Participate in the development of Branch plans for the \\nnext operational period, as requested.  \\nQ. Evaluate the demobilization of excess resources well in \\nadvance of demobilization.  \\nR. Debrief as directed at the end of each shift.  \\nS. Maintain Unit Log (ICS  214-CG) and forward to DOCL \\nfor disposition.  \\nSTRIKE TEAM/TASK FOR CE LEADER (STL/TFL)  \\nThe STL/TFL reports to the OSC, OPBD, or DIVS and is \\nresponsible for performing assigned tactical activities . The \\nSTL/TFL reports work progress, resources status, and other \\n7-6 \\nOPERATIONS SECTION'),\n",
       "  Document(metadata={'page': 120, 'source': 'For_injestion/Contingency Preparedness Planning Manual CPPM Vol 4 Incident Management and Crisis Response_2016-06-01.pdf', '_id': '5f013aaf-acf6-4a81-b5b7-69e12bd28681', '_collection_name': 'ASK_vectorstore'}, page_content='Appendix A to COMDTINST M3010.24 \\n A-5 cargos and for different locations under the MA, then a task order can be issued for each \\nsortie to describe the destin ation, purpose, and specific cost associated with each sortie.  \\nThis alleviates the need for drafting a MA  for each sortie and provides a record of \\noperations that can be used to support reimbursement requests from FEMA under the \\nsingle MA.  An MA Task Order Form should be used to detail specific operational \\nactivities, such as task lo cations, mission requirements, personnel information, etc.  The \\ntask order shall be consider ed supporting documentation and forwarded for inclusion in \\nthe reimbursement package. \\n6. Under some circumstances, Coast Guard uni ts may be tasked under another agency’s \\nMA.  For example, the EPA can accept a MA for hazmat response disaster wide and then generate a task order for the USCG to actually conduct a portion of the operation.  \\nAwareness of this task order shall be comm unicated to the operational commander for \\nthat specific area of responsib ility the correspondi ng Headquarters, Area , and/or regional \\nliaison officers (LNO) responsible fo r processing the task order. \\nC. Execution\\n.  When executing a MA, the Coast Guard will  adhere to a number of expectations.  \\nFirst, the Coast Guard must use its own f unds and resources to procure the goods and \\nservices needed to complete the assigned ta sking.  Second, the AO should closely monitor \\nthe implementation of the project, ensuring that  goods and services are delivered on time and \\nwithin the budget outlined for the MA.  The Coast Guard will only be reimbursed for work \\nperformed within the statement of  work and projected timeline.  If the Coast Guard or FEMA \\nrecognizes the need to increase or decrease th e obligated funding amount, this issue will be \\nbrought to the attention of the AO, FEMA PO , and the MA Manager so the MA can be \\namended.  Completing work outside of the scope  of work and/or projected timeline, or \\nexceeding obligated funding may prevent reimbursement to the Coast Guard unit assigned to perform the MA.  Finally, the Coast Guard must make all payments to government or private \\nvendors used in the event for all incurred costs.  In the event that probl ems arise that prevent \\nor inhibit the Coast Guard from  executing the assigned MA as originally intended, the FEMA \\nPO will work with the MA Manager to amend or de-obligate the original MA based on the \\nnewly developed plan.  MAs may also be cancell ed when the activity is no longer required \\nbecause the need has been met through other means. \\n1. Requests to amend an existing MA must be submitted via a RRF to the FEMA PO or MA \\nManager.  MA amendments are only made fo r changes in the cost ceiling, period of \\nperformance, or the assigned FEMA PO.  Under no circumstances should an amendment \\nbe done to change the statement of work, to include added or removing task orders.  If a \\nchange in the statement of work is necessary, a new MA must be drafted.  Therefore, in a \\nlarge disaster, a broad statement of work for an MA is preferred to many small, detailed, \\nstatements of work. \\n2. Each distinct source of funding for an MA provided to the Coast Guard must have its \\nown unique accounting string in the Coast Guar d accounting system.  An amendment that \\ndoes not change the MA number (or the re lated FEMA account line) does not require a \\nnew Coast Guard accounting string. \\nD. Reimbursement.\\n  Refer to Reference (w), Section 5.1.8 “FEMA Reimbursable Agreements” \\nfor reimbursement billing requirements. '),\n",
       "  Document(metadata={'page': 342, 'source': 'For_injestion/USCG Incident Mgmt Handbook COMDTPUB_P3120.17B.pdf', '_id': 'c4e12ef4-f5d0-485c-8269-68cf72755a20', '_collection_name': 'ASK_vectorstore'}, page_content='May 2014  \\nCRITICAL INFRASTRUCTURES  - Systems and assets, \\nwhether physical or virtual, so vital to the U.S. that the \\nincapacity or destruction of such systems and assets would \\nhave a debilitating impact on security, national economic \\nsecurity, national publ ic health or safety, or any combination \\nof those matters.  \\nDATA  - Data is the rawest form of information being \\nobtained.  \\nDEMOBILIZATION  - Release of resources from an incident \\nin strict accordance with a detailed plan approved by the Incident Commander /Unified Command . \\nDEPUTY  - A fully qualified individual who, in the absence of \\na superior, could be delegated the authority to manage a \\nfunctional operation or perform a specific task. A Deputy \\ncould act as relief for a superior and, therefore, must be fully \\nqualified in the position. Deputies can be assigned to the \\nIncident Commander, General Staff, and Branch Directors.  \\nDIRECTOR  - Incident Command System  title for individuals \\nresponsible for supervision of a Branch.  \\nDISSEMINATION  - Sharing of data within the I ncident \\nManagement Team , operational assets, other government \\nagencies , and external communication to the public.  \\nDIVISION  - Organization level used to divide an incident into \\ngeographical areas of operation. The Division level is \\nestablished when the numb er of resources exceeds the \\nspan -of-control of the O perations Section Chief  and is \\norganizationally between the Task Force/Team and the Branch. (See also: Group)  \\nEMERGENCY OPERATIONS CENTER - The pre -\\ndesignated facility established by an agency or jurisdic tion to \\ncoordinate the overall agency or jurisdictional response and \\nsupport to an emergency. The emergency operations center  \\n25-7 \\nGLOSSARY')],\n",
       " 'answer': 'Task decomposition refers to the process of breaking down a complex task into smaller, more manageable subtasks or components. It involves analyzing the main task and identifying the specific steps or actions required to complete it. Task decomposition helps in understanding the task better, assigning responsibilities to different individuals or teams, and improving efficiency and productivity in task execution.'}"
      ]
     },
     "execution_count": 23,
     "metadata": {},
     "output_type": "execute_result"
    }
   ],
   "source": [
    "from langchain_core.output_parsers import StrOutputParser\n",
    "from langchain_core.runnables import RunnablePassthrough\n",
    "\n",
    "\n",
    "def format_docs(docs):\n",
    "    return \"\\n\\n\".join(doc.page_content for doc in docs)\n",
    "\n",
    "\n",
    "# This Runnable takes a dict with keys 'input' and 'context',\n",
    "# formats them into a prompt, and generates a response.\n",
    "rag_chain_from_docs = (\n",
    "    {\n",
    "        \"input\": lambda x: x[\"input\"],  # input query\n",
    "        \"context\": lambda x: format_docs(x[\"context\"]),  # context\n",
    "    }\n",
    "    | prompt  # format query and context into prompt\n",
    "    | llm  # generate response\n",
    "    | StrOutputParser()  # coerce to string\n",
    ")\n",
    "\n",
    "# Pass input query to retriever\n",
    "retrieve_docs = (lambda x: x[\"input\"]) | retriever\n",
    "\n",
    "# Below, we chain `.assign` calls. This takes a dict and successively\n",
    "# adds keys-- \"context\" and \"answer\"-- where the value for each key\n",
    "# is determined by a Runnable. The Runnable operates on all existing\n",
    "# keys in the dict.\n",
    "chain = RunnablePassthrough.assign(context=retrieve_docs).assign(\n",
    "    answer=rag_chain_from_docs\n",
    ")\n",
    "\n",
    "chain.invoke({\"input\": \"What is Task Decomposition\"})"
   ]
  },
  {
   "cell_type": "markdown",
   "metadata": {},
   "source": [
    "### Include the sources in model's response\n"
   ]
  },
  {
   "cell_type": "markdown",
   "metadata": {},
   "source": [
    "Up to this point, we've simply propagated the documents returned from the retrieval step through to the final response. But this may not illustrate what subset of the retrieved information the model relied on when generating its answer. Below, we show how to structure sources into the model response, allowing the model to report what specific context it relied on for its answer.\n",
    "\n",
    "Because the above LCEL implementation is composed of Runnable primitives, it is straightforward to extend. Below, we make a simple change:\n",
    "\n",
    "We use the model's tool-calling features to generate structured output, consisting of an answer and list of sources. The schema for the response is represented in the `AnswerWithSources` TypedDict, below.\n",
    "We remove the `StrOutputParser()`, as we expect `dict` output in this scenario.\n"
   ]
  },
  {
   "cell_type": "code",
   "execution_count": 24,
   "metadata": {},
   "outputs": [],
   "source": [
    "from typing import List\n",
    "\n",
    "from langchain_core.runnables import RunnablePassthrough\n",
    "from typing_extensions import Annotated, TypedDict\n",
    "\n",
    "\n",
    "# Desired schema for response\n",
    "class AnswerWithSources(TypedDict):\n",
    "    \"\"\"An answer to the question, with sources.\"\"\"\n",
    "\n",
    "    answer: str\n",
    "    sources: Annotated[\n",
    "        List[str],\n",
    "        ...,\n",
    "        \"List of sources (author + year) used to answer the question\",\n",
    "    ]\n",
    "\n",
    "\n",
    "# Our rag_chain_from_docs has the following changes:\n",
    "# - add `.with_structured_output` to the LLM;\n",
    "# - remove the output parser\n",
    "rag_chain_from_docs = (\n",
    "    {\n",
    "        \"input\": lambda x: x[\"input\"],\n",
    "        \"context\": lambda x: format_docs(x[\"context\"]),\n",
    "    }\n",
    "    | prompt\n",
    "    | llm.with_structured_output(AnswerWithSources)\n",
    ")\n",
    "\n",
    "retrieve_docs = (lambda x: x[\"input\"]) | retriever\n",
    "\n",
    "chain = RunnablePassthrough.assign(context=retrieve_docs).assign(\n",
    "    answer=rag_chain_from_docs\n",
    ")\n",
    "\n",
    "response = chain.invoke({\"input\": \"What are the requirements to run for FC?\"})"
   ]
  },
  {
   "cell_type": "markdown",
   "metadata": {},
   "source": [
    "THis outputs the model's response as well as the subset of retrieved information that it used to infer its response.\n",
    "\n",
    "Note that the `answer` element in the `response` disctionary is itself a dictionary containing `answer` and `source` keys\n"
   ]
  },
  {
   "cell_type": "code",
   "execution_count": 25,
   "metadata": {},
   "outputs": [
    {
     "name": "stdout",
     "output_type": "stream",
     "text": [
      "{\n",
      "  \"answer\": \"To run for FC (Flotilla Commander), the requirements include: having a Favorable Operational Support Personnel Security Investigation (PSI) determination, completing one year as a member of the Auxiliary, successfully completing a relevant course (Administrative Procedures Course, Flotilla Leadership Course, or Basic Qualification II Course), being a member of the flotilla in which they seek elected office, and meeting certain eligibility criteria such as obtaining an Auxiliary qualification, serving as a staff officer or elected officer for two years, or having 25 hours of documented activity in Auxiliary programs or mission areas.\",\n",
      "  \"sources\": [\n",
      "    \"1-8 a. (CG Auxiliary Manual)\"\n",
      "  ]\n",
      "}\n"
     ]
    }
   ],
   "source": [
    "import json\n",
    "\n",
    "print(json.dumps(response[\"answer\"], indent=2))"
   ]
  },
  {
   "cell_type": "markdown",
   "metadata": {},
   "source": [
    "### Since the response object also contains-- the original query, all the retrieved docs, the LLM response, and the sources used by the model to generate its answer-- we can also list the titles of the retrieved documents and the source page content\n"
   ]
  },
  {
   "cell_type": "code",
   "execution_count": 26,
   "metadata": {},
   "outputs": [
    {
     "name": "stdout",
     "output_type": "stream",
     "text": [
      "Sources:\n",
      "References/Gold Side/Flotilla_Procedures_Guide_FINAL_ESIGNED_23MAR23.pdf page 172\n",
      "\n",
      "References/Gold Side/Flotilla_Procedures_Guide_FINAL_ESIGNED_23MAR23.pdf page 21\n",
      "\n",
      "References/Gold Side/Flotilla_Procedures_Guide_FINAL_ESIGNED_23MAR23.pdf page 28\n",
      "\n",
      "References/Gold Side/Flotilla_Procedures_Guide_FINAL_ESIGNED_23MAR23.pdf page 80\n",
      "\n",
      "References/Gold Side/Flotilla_Procedures_Guide_FINAL_ESIGNED_23MAR23.pdf page 22\n",
      "\n"
     ]
    }
   ],
   "source": [
    "'''\n",
    "    item.page_content\n",
    "    item.metadata['source']\n",
    "    item.metadata['page']\n",
    "'''\n",
    "print(\"Sources:\")\n",
    "for item in response[\"context\"]:\n",
    "    print(\n",
    "        f\"{item.metadata['source']} page {item.metadata['page']}\" + \"\\n\")"
   ]
  },
  {
   "cell_type": "markdown",
   "metadata": {},
   "source": [
    "### THis one is formatted in the same way as the short source list in ASK\n"
   ]
  },
  {
   "cell_type": "code",
   "execution_count": null,
   "metadata": {},
   "outputs": [],
   "source": [
    "markdown_list = []\n",
    "\n",
    "for i, doc in enumerate(response['context'], start=1):\n",
    "    page_content = doc.page_content\n",
    "    source = doc.metadata['source']\n",
    "    short_source = source.split('/')[-1].split('.')[0]\n",
    "    page = doc.metadata['page']\n",
    "    markdown_list.append(f\"*{short_source}*, page {page}\\n\")\n",
    "\n",
    "short_source_list = '\\n'.join(markdown_list)\n",
    "print(short_source_list)"
   ]
  },
  {
   "cell_type": "markdown",
   "metadata": {},
   "source": [
    "### THis one is formatted in the same way as the long source list in ASK\n"
   ]
  },
  {
   "cell_type": "code",
   "execution_count": null,
   "metadata": {},
   "outputs": [],
   "source": [
    "markdown_list = []\n",
    "\n",
    "for i, doc in enumerate(response['context'], start=1):\n",
    "    page_content = doc.page_content\n",
    "    source = doc.metadata['source']\n",
    "    short_source = source.split('/')[-1].split('.')[0]\n",
    "    page = doc.metadata['page']\n",
    "    markdown_list.append(\n",
    "        f\"**Reference {i}:**    *{short_source}*, page {page}   {page_content}\\n\")\n",
    "\n",
    "long_source_list = '\\n'.join(markdown_list)\n",
    "print(long_source_list)"
   ]
  },
  {
   "cell_type": "markdown",
   "metadata": {},
   "source": [
    "### For reference, here's the full response object. You can see it contains the original query all the retrieved docs, the LLM response, and the sources used by the model to generate its answer.\n"
   ]
  },
  {
   "cell_type": "code",
   "execution_count": null,
   "metadata": {},
   "outputs": [],
   "source": [
    "import json\n",
    "\n",
    "print(json.dumps(response, indent=2, default=str))"
   ]
  },
  {
   "cell_type": "code",
   "execution_count": null,
   "metadata": {},
   "outputs": [],
   "source": []
  }
 ],
 "metadata": {
  "kernelspec": {
   "display_name": ".venv",
   "language": "python",
   "name": "python3"
  },
  "language_info": {
   "codemirror_mode": {
    "name": "ipython",
    "version": 3
   },
   "file_extension": ".py",
   "mimetype": "text/x-python",
   "name": "python",
   "nbconvert_exporter": "python",
   "pygments_lexer": "ipython3",
   "version": "3.11.6"
  }
 },
 "nbformat": 4,
 "nbformat_minor": 2
}
