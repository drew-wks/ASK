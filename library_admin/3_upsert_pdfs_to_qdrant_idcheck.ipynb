{
 "cells": [
  {
   "cell_type": "markdown",
   "id": "66bdf56e",
   "metadata": {},
   "source": [
    "# Upsert PDFs to qdrant\n",
    "#### IT's designed to operate in PDF-wise fashion, unlike my previous ones that loaded and chunked an entire PDF in one go. THis one loads and chunks PDFs one at a time to enable for checking the id and enabling some better error handling."
   ]
  },
  {
   "cell_type": "code",
   "execution_count": null,
   "id": "10c1f7b9",
   "metadata": {},
   "outputs": [],
   "source": [
    "# %pip install --upgrade pip\n",
    "# %pip list # See what's installed and versions\n",
    "# %pip install openai==0.27.8\n",
    "# %pip install langchain==0.0.315\n",
    "# %pip install langchain-community\n",
    "%pip install langchain-qdrant\n",
    "# %pip install qdrant-client==1.6.3\n",
    "# %pip install pympler==1.1.3\n",
    "# %pip install pypdf==5.0.1\n",
    "# %pip install git+https://github.com/pikepdf/pikepdf.git#egg=pikepdf this requies python>=3.9\n",
    "#"
   ]
  },
  {
   "cell_type": "markdown",
   "id": "c5bda072",
   "metadata": {},
   "source": [
    "## 0. Imports and Configs\n"
   ]
  },
  {
   "cell_type": "code",
   "execution_count": 37,
   "id": "5e257d40",
   "metadata": {},
   "outputs": [
    {
     "name": "stdout",
     "output_type": "stream",
     "text": [
      "/Users/drew_wilkins/Drews_Files/Drew/Python/ASK/.venv-main/bin/python\n"
     ]
    }
   ],
   "source": [
    "# Confirm you're using the correct interpreter\n",
    "#\n",
    "import sys\n",
    "print(sys.executable)"
   ]
  },
  {
   "cell_type": "code",
   "execution_count": 38,
   "id": "60fdc824",
   "metadata": {},
   "outputs": [],
   "source": [
    "import pandas as pd\n",
    "import streamlit as st\n",
    "import os\n",
    "\n",
    "# Add the parent directory to sys.path so you can import library_utils from a subdirectory\n",
    "parent_dir = os.path.abspath(os.path.join(os.getcwd(), '..'))\n",
    "if parent_dir not in sys.path:\n",
    "    sys.path.append(parent_dir)"
   ]
  },
  {
   "cell_type": "code",
   "execution_count": 39,
   "id": "7ca6b6bb",
   "metadata": {},
   "outputs": [],
   "source": [
    "import library_utils as lib"
   ]
  },
  {
   "cell_type": "code",
   "execution_count": 40,
   "id": "0bf80b84",
   "metadata": {},
   "outputs": [],
   "source": [
    "# LANGSMITH CONFIG\n",
    "# These have to be set as environmental variables to be accessed behind the scenes\n",
    "\n",
    "os.environ[\"LANGCHAIN_API_KEY\"] = st.secrets[\"LANGCHAIN_API_KEY\"]\n",
    "os.environ[\"LANGCHAIN_TRACING_V2\"] = \"true\"\n",
    "os.environ[\"LANGCHAIN_PROJECT\"] = \"ASK_main_upsert_notebook\""
   ]
  },
  {
   "cell_type": "code",
   "execution_count": 41,
   "id": "5540a63e",
   "metadata": {},
   "outputs": [],
   "source": [
    "from langchain_openai import OpenAIEmbeddings\n",
    "# for langchain_openai.OpenAIEmbeddings\n",
    "OPENAI_API_KEY = st.secrets[\"OPENAI_API_KEY\"]\n",
    "\n",
    "CONFIG = {\n",
    "    \"splitter_type\": \"CharacterTextSplitter\",\n",
    "    \"chunk_size\": 2000,\n",
    "    \"chunk_overlap\": 200,\n",
    "    \"length_function\": len,\n",
    "    \"separators\": [\"}\"],  # [\" \", \",\", \"\\n\"]\n",
    "    \"embedding\": OpenAIEmbeddings(model=\"text-embedding-ada-002\"),\n",
    "    \"embedding_dims\": 1536,\n",
    "    \"model\": \"gpt-3.5-turbo-16k\",  # gpt-4, gpt-3.5-turbo-16k\n",
    "}"
   ]
  },
  {
   "cell_type": "markdown",
   "id": "c7e82ee0",
   "metadata": {},
   "source": [
    "## 1. Initialize the Qdrant and LC Vectorstore objects"
   ]
  },
  {
   "cell_type": "code",
   "execution_count": 42,
   "id": "5c665ba1",
   "metadata": {},
   "outputs": [],
   "source": [
    "# CONFIG: qdrant\n",
    "qdrant_collection_name = \"ASK_vectorstore\"\n",
    "# Only required for local instance (actual location is MacHD: private tmp local_qdrant)\n",
    "qdrant_path = \"/Users/drew_wilkins/Drews_Files/Drew/Python/VSCode/ASK/data/qdrant\"\n",
    "qdrant_url = st.secrets[\"QDRANT_URL\"]\n",
    "qdrant_api_key = st.secrets[\"QDRANT_API_KEY\"]"
   ]
  },
  {
   "cell_type": "code",
   "execution_count": 43,
   "id": "61a90112",
   "metadata": {},
   "outputs": [],
   "source": [
    "from qdrant_client import QdrantClient\n",
    "\n",
    "client = QdrantClient(\n",
    "    url=qdrant_url,\n",
    "    api_key=qdrant_api_key,\n",
    ")"
   ]
  },
  {
   "cell_type": "code",
   "execution_count": 44,
   "id": "583113b1",
   "metadata": {},
   "outputs": [
    {
     "data": {
      "text/plain": [
       "<langchain_qdrant.qdrant.QdrantVectorStore at 0x17e275010>"
      ]
     },
     "execution_count": 44,
     "metadata": {},
     "output_type": "execute_result"
    }
   ],
   "source": [
    "from langchain_qdrant import QdrantVectorStore\n",
    "\n",
    "qdrant = QdrantVectorStore(client=client,\n",
    "                           collection_name=qdrant_collection_name,\n",
    "                           # embedding here is LC interface to the embedding model\n",
    "                           embedding=CONFIG[\"embedding\"],\n",
    "                           )\n",
    "\n",
    "\n",
    "qdrant"
   ]
  },
  {
   "cell_type": "markdown",
   "id": "126f91a5",
   "metadata": {},
   "source": [
    "## 2. Specify the file locations"
   ]
  },
  {
   "cell_type": "code",
   "execution_count": 45,
   "id": "4b738407",
   "metadata": {},
   "outputs": [],
   "source": [
    "pdf_filename = \"VE_workshop_Dec_4_22_2023.pdf\"  #\n",
    "source_directory = \"./test_pdfs_copies_delete_after_use\"\n",
    "pdf_path = os.path.join(source_directory, pdf_filename)\n",
    "\n",
    "metadata_source_path = \"./v2__planned_library_catalog_2024-11-03.xlsx\""
   ]
  },
  {
   "cell_type": "markdown",
   "id": "b171c0e6",
   "metadata": {},
   "source": [
    "## 3. Generate PDF ID"
   ]
  },
  {
   "cell_type": "code",
   "execution_count": 46,
   "id": "f506eb0a",
   "metadata": {},
   "outputs": [
    {
     "data": {
      "text/plain": [
       "'a0d00ff2-7ad5-5ea7-baa0-0d738380cd3e'"
      ]
     },
     "execution_count": 46,
     "metadata": {},
     "output_type": "execute_result"
    }
   ],
   "source": [
    "def get_pdf_id(pdf_path):\n",
    "    pdf_uuid = lib.compute_pdf_id(pdf_path)\n",
    "    pdf_id = str(pdf_uuid)\n",
    "    return pdf_id\n",
    "\n",
    "\n",
    "'''usage'''\n",
    "pdf_id = get_pdf_id(pdf_path)\n",
    "pdf_id"
   ]
  },
  {
   "cell_type": "markdown",
   "id": "3a068a7a",
   "metadata": {},
   "source": [
    "## 4. Check if PDF is already in Qdrant"
   ]
  },
  {
   "cell_type": "code",
   "execution_count": 47,
   "id": "23f4e852",
   "metadata": {},
   "outputs": [
    {
     "data": {
      "text/plain": [
       "True"
      ]
     },
     "execution_count": 47,
     "metadata": {},
     "output_type": "execute_result"
    }
   ],
   "source": [
    "from qdrant_client.http import models\n",
    "\n",
    "\n",
    "def is_pdf_id_in_qdrant(pdf_id: str) -> bool:\n",
    "    '''Helper function checks if pdf_id is already in Qdrant'''\n",
    "\n",
    "    response = client.count(\n",
    "        collection_name=qdrant_collection_name,\n",
    "        count_filter=models.Filter(\n",
    "            must=[\n",
    "                models.FieldCondition(\n",
    "                    key=\"metadata.pdf_id\",\n",
    "                    match=models.MatchText(text=pdf_id),\n",
    "                ),\n",
    "            ]\n",
    "        ),\n",
    "        exact=True,  # Ensures accurate count\n",
    "    )\n",
    "\n",
    "    return response.count > 0\n",
    "\n",
    "\n",
    "'''usage'''\n",
    "is_pdf_id_in_qdrant(pdf_id)"
   ]
  },
  {
   "cell_type": "markdown",
   "id": "0a9dfdb7",
   "metadata": {},
   "source": [
    "## 5. Get metadata if it exists"
   ]
  },
  {
   "cell_type": "code",
   "execution_count": 48,
   "id": "29e05885",
   "metadata": {},
   "outputs": [
    {
     "name": "stdout",
     "output_type": "stream",
     "text": [
      "Successfully accessed metadata for pdf: a0d00ff2-7ad5-5ea7-baa0-0d738380cd3e\n"
     ]
    },
    {
     "data": {
      "text/plain": [
       "{'title': 'Auxiliary Vessel Examiner VE Workshop 2023',\n",
       " 'pdf_id': 'a0d00ff2-7ad5-5ea7-baa0-0d738380cd3e',\n",
       " 'publication_number': nan,\n",
       " 'organization': nan,\n",
       " 'scope': '1_national',\n",
       " 'issue_date': '2024-02-16T00:00:00Z',\n",
       " 'upsert_date': nan,\n",
       " 'expiration_date': '2034-02-16T00:00:00Z',\n",
       " 'aux_specific': True,\n",
       " 'public_release': 1.0,\n",
       " 'pdf_file_name': 'VE_workshop_Dec_4_22_2023.pdf',\n",
       " 'embedding': 'text-embedding-ada-002'}"
      ]
     },
     "execution_count": 48,
     "metadata": {},
     "output_type": "execute_result"
    }
   ],
   "source": [
    "# LEt's create a function to get the metadata as strings an then put this into library_utils\n",
    "\n",
    "\n",
    "def get_planned_metadata_for_single_record(pdf_id, metadata_source_path):\n",
    "    try:\n",
    "        df = pd.read_excel(metadata_source_path)\n",
    "\n",
    "        # Find the metadata row in df that corresponds to this pdf_id\n",
    "        pdf_metadata = df[df['pdf_id'].str.strip().astype(\n",
    "            str).str.lower() == pdf_id.lower()]\n",
    "\n",
    "        if not pdf_metadata.empty:\n",
    "            # Ensure no duplicate pdf_ids in the metadata\n",
    "            if len(pdf_metadata) > 1:\n",
    "                raise ValueError(\n",
    "                    f\"Found duplicates for pdf_id: '{pdf_id}', number of results: {len(pdf_metadata)}\")\n",
    "\n",
    "            pdf_metadata = pdf_metadata.iloc[0]\n",
    "            document_metadata = pdf_metadata.to_dict()\n",
    "            print(f\"Successfully accessed metadata for pdf: {pdf_id}\")\n",
    "            return document_metadata\n",
    "        else:\n",
    "            raise ValueError(f\"No metadata found for pdf: {pdf_id}\")\n",
    "\n",
    "    except Exception as e:\n",
    "        print(f\"Error retrieving metadata for {pdf_id}: {e}\")\n",
    "        return None, None  # Return None values if an error occurs to continue with the loop\n",
    "\n",
    "\n",
    "planned_metadata = get_planned_metadata_for_single_record(\n",
    "    pdf_id, metadata_source_path)\n",
    "\n",
    "planned_metadata"
   ]
  },
  {
   "cell_type": "markdown",
   "id": "e4d35529",
   "metadata": {},
   "source": [
    "## 6. Load PDFs into LangChain Document objects"
   ]
  },
  {
   "cell_type": "code",
   "execution_count": 49,
   "id": "1384586c",
   "metadata": {},
   "outputs": [
    {
     "name": "stdout",
     "output_type": "stream",
     "text": [
      "Processed ./test_pdfs_copies_delete_after_use/VE_workshop_Dec_4_22_2023.pdf\n",
      "number of pages processed: 31\n"
     ]
    }
   ],
   "source": [
    "import os\n",
    "from datetime import datetime, timezone\n",
    "import pypdf\n",
    "from langchain_community.document_loaders import PyPDFLoader\n",
    "\n",
    "\n",
    "def load_pdf(pdf_path, pdf_id, planned_metadata):  # pdf_dict is optional\n",
    "    \"\"\"Loads a PDF, pdf_id and, optionally, additional metadata.\n",
    "\n",
    "    Returns:\n",
    "        list: A list of Langchain page document objects with enriched metadata.\n",
    "    \"\"\"\n",
    "    pages = []\n",
    "\n",
    "    try:\n",
    "        loader = PyPDFLoader(pdf_path)\n",
    "        docs = loader.load()  # This returns a list of LC page document objects\n",
    "\n",
    "        with open(pdf_path, \"rb\") as pdf_file_obj:\n",
    "            reader = pypdf.PdfReader(pdf_file_obj)\n",
    "            # in case you want metadata from the orignal PDF\n",
    "            original_pdf_metadata = reader.metadata\n",
    "            enriched_metadata = {\n",
    "                'pdf_id': pdf_id,\n",
    "                'upsert_date': datetime.now(timezone.utc).strftime('%Y-%m-%dT%H:%M:%SZ'),\n",
    "                'aux_specific': bool(planned_metadata.get('aux_specific', 0)),\n",
    "                'public_release': bool(planned_metadata.get('public_release', 0)),\n",
    "                'page_count': len(reader.pages),\n",
    "                'embedding': \"text-embedding-ada-002\",\n",
    "            }\n",
    "            planned_metadata.update(enriched_metadata)\n",
    "            planned_metadata.pop('pdf_file_name', None)\n",
    "\n",
    "        for doc in docs:\n",
    "            doc.metadata.update(planned_metadata)\n",
    "            pages.append(doc)\n",
    "\n",
    "        print(f\"Processed {pdf_path}\")\n",
    "        print(\"number of pages processed:\", len(pages))\n",
    "    except FileNotFoundError:\n",
    "        print(f\"Error: Could not find {pdf_path}\")\n",
    "\n",
    "    return pages\n",
    "\n",
    "\n",
    "'''usage'''\n",
    "pages = load_pdf(pdf_path, pdf_id, planned_metadata)"
   ]
  },
  {
   "cell_type": "code",
   "execution_count": 50,
   "id": "03da1cbc",
   "metadata": {},
   "outputs": [
    {
     "data": {
      "text/plain": [
       "Document(metadata={'source': './test_pdfs_copies_delete_after_use/VE_workshop_Dec_4_22_2023.pdf', 'page': 0, 'title': 'Auxiliary Vessel Examiner VE Workshop 2023', 'pdf_id': 'a0d00ff2-7ad5-5ea7-baa0-0d738380cd3e', 'publication_number': nan, 'organization': nan, 'scope': '1_national', 'issue_date': '2024-02-16T00:00:00Z', 'upsert_date': '2024-11-14T20:09:34Z', 'expiration_date': '2034-02-16T00:00:00Z', 'aux_specific': True, 'public_release': True, 'embedding': 'text-embedding-ada-002', 'page_count': 31}, page_content='2023 VESSEL EXAMINER WORKSHOP\\nfor both USCG Auxiliary and US Power Squadrons  \\nPrepared by the \\nUNITED STATES COAST GUARD AUXILIARY\\n DIRECTORATE FOR VESSEL EXAMINATION \\nAND PARTNER VISITATION\\n1\\n٠Welcome to the 2023 Vessel Examiner Workshop, for both US Power Squadrons \\n(America’s Boating Club) and USCG Auxiliary.\\n٠It includes topics VEs requested to be included and information based on help desk \\nquestions received.\\n٠It can be done either in a group facilitated by an experienced VE or individually.\\n(NEXT SLIDE)\\n1')"
      ]
     },
     "execution_count": 50,
     "metadata": {},
     "output_type": "execute_result"
    }
   ],
   "source": [
    "pages[0]"
   ]
  },
  {
   "cell_type": "markdown",
   "id": "5f977e58",
   "metadata": {},
   "source": [
    "\n",
    "\n",
    "### Example enriched Langchain Page Document object\n",
    "\n",
    "```python\n",
    "page_content='Lorem ipsum dolor sit amet, consectetur adipiscing elit. Phasellus nunc sapien' metadata={'source': './raw_pdfs/lorem_ipsum.pdf', 'page': 1, 'page_count': 13, 'pdf_id': 'df6b2344-b73b-5c11-9f3e-aa2a370b1696'}\n",
    "```\n"
   ]
  },
  {
   "cell_type": "markdown",
   "id": "52ea2a89",
   "metadata": {},
   "source": [
    "## 7. Chunk the Pages\n"
   ]
  },
  {
   "cell_type": "code",
   "execution_count": 51,
   "id": "ab05e49f",
   "metadata": {},
   "outputs": [
    {
     "name": "stdout",
     "output_type": "stream",
     "text": [
      "number of chunks: 31\n"
     ]
    },
    {
     "data": {
      "text/plain": [
       "Document(metadata={'source': './test_pdfs_copies_delete_after_use/VE_workshop_Dec_4_22_2023.pdf', 'page': 0, 'title': 'Auxiliary Vessel Examiner VE Workshop 2023', 'pdf_id': 'a0d00ff2-7ad5-5ea7-baa0-0d738380cd3e', 'publication_number': nan, 'organization': nan, 'scope': '1_national', 'issue_date': '2024-02-16T00:00:00Z', 'upsert_date': '2024-11-14T20:09:34Z', 'expiration_date': '2034-02-16T00:00:00Z', 'aux_specific': True, 'public_release': True, 'embedding': 'text-embedding-ada-002', 'page_count': 31}, page_content='2023 VESSEL EXAMINER WORKSHOP\\nfor both USCG Auxiliary and US Power Squadrons  \\nPrepared by the \\nUNITED STATES COAST GUARD AUXILIARY\\n DIRECTORATE FOR VESSEL EXAMINATION \\nAND PARTNER VISITATION\\n1\\n٠Welcome to the 2023 Vessel Examiner Workshop, for both US Power Squadrons \\n(America’s Boating Club) and USCG Auxiliary.\\n٠It includes topics VEs requested to be included and information based on help desk \\nquestions received.\\n٠It can be done either in a group facilitated by an experienced VE or individually.\\n(NEXT SLIDE)\\n1')"
      ]
     },
     "execution_count": 51,
     "metadata": {},
     "output_type": "execute_result"
    }
   ],
   "source": [
    "from langchain.text_splitter import RecursiveCharacterTextSplitter\n",
    "\n",
    "\n",
    "def chunk(pages):\n",
    "    # chunks at the page break\n",
    "    text_splitter = RecursiveCharacterTextSplitter(\n",
    "        chunk_size=CONFIG[\"chunk_size\"],\n",
    "        chunk_overlap=CONFIG[\"chunk_overlap\"],\n",
    "        length_function=CONFIG[\"length_function\"],\n",
    "        separators=CONFIG[\"separators\"]\n",
    "    )\n",
    "\n",
    "    chunks = text_splitter.split_documents(pages)\n",
    "    '''\"chunks\" is a list of objects of the class langchain.schema.document.Document'''\n",
    "\n",
    "    return chunks\n",
    "\n",
    "\n",
    "'''usage'''\n",
    "chunks = chunk(pages)\n",
    "print(\"number of chunks:\", len(chunks))\n",
    "chunks[0]"
   ]
  },
  {
   "cell_type": "markdown",
   "id": "b5c1d5c5",
   "metadata": {},
   "source": [
    "## 8. Add chunks to Qdrant\n"
   ]
  },
  {
   "cell_type": "code",
   "execution_count": 57,
   "id": "c16d3a32",
   "metadata": {},
   "outputs": [],
   "source": [
    "# .from_documents  creates the Qdrant vectorstore object with the documents/chunks, embeddings, and metadata and automatically configures the collection.  It is a Langchain class method used to initialize a new Qdrant instance with a collection of documents all at once.\n",
    "def upsert_to_qdrant(chunks):\n",
    "    qdrant.from_documents(\n",
    "        chunks,\n",
    "        embedding=CONFIG[\"embedding\"],\n",
    "        collection_name=qdrant_collection_name,\n",
    "        url=qdrant_url,\n",
    "        api_key=qdrant_api_key,\n",
    "        # keep this to false so you don[t overwrite your collection\n",
    "        force_recreate=False,\n",
    "    )\n",
    "    print(f\"🗄️ Upserted to Qdrant\")"
   ]
  },
  {
   "cell_type": "markdown",
   "id": "edcfa129",
   "metadata": {},
   "source": [
    "### Option 1: Use this cell if loading a single PDF"
   ]
  },
  {
   "cell_type": "code",
   "execution_count": null,
   "id": "83af2f17",
   "metadata": {},
   "outputs": [],
   "source": [
    "'''usage'''\n",
    "pdf_chunks = upsert_to_qdrant(chunks)"
   ]
  },
  {
   "cell_type": "markdown",
   "id": "eb08c112",
   "metadata": {},
   "source": [
    "### Option 2: use this cell to load an entire folder of PDFs using the code above"
   ]
  },
  {
   "cell_type": "code",
   "execution_count": null,
   "id": "1755f217",
   "metadata": {},
   "outputs": [
    {
     "name": "stdout",
     "output_type": "stream",
     "text": [
      "Processing USCGAUX_Social_Media_SOP_FINAL_ESIGNED_12JUN23.pdf\n",
      "\u001b[91m💥 pdf_id 31fba5d9-53a8-5d3c-81cc-358d15f0b6e4 is already in Qdrant. Delete first before proceeding.\u001b[0m\n",
      "Processing VE_workshop_Dec_4_22_2023.pdf\n",
      "\u001b[91m💥 pdf_id a0d00ff2-7ad5-5ea7-baa0-0d738380cd3e is already in Qdrant. Delete first before proceeding.\u001b[0m\n",
      "\n",
      "🗄️ Uploaded files: []\n",
      "💥 Failed files: ['USCGAUX_Social_Media_SOP_FINAL_ESIGNED_12JUN23.pdf', 'VE_workshop_Dec_4_22_2023.pdf']\n"
     ]
    }
   ],
   "source": [
    "source_directory = source_directory\n",
    "metadata_source_path = metadata_source_path\n",
    "\n",
    "uploaded_files = []\n",
    "failed_files = []\n",
    "\n",
    "\n",
    "def mac_daddy_function(source_directory, metadata_source_path):\n",
    "    for dirpath, dirnames, filenames in os.walk(source_directory):\n",
    "        for filename in filenames:\n",
    "            if filename.lower().endswith(\".pdf\"):\n",
    "                pdf_path = os.path.join(dirpath, filename)\n",
    "                print(f\"Processing {filename}\")\n",
    "                try:\n",
    "                    pdf_id = get_pdf_id(pdf_path)\n",
    "                    if is_pdf_id_in_qdrant(pdf_id):\n",
    "                        # ANSI escape code for red text\n",
    "                        print(\n",
    "                            f\"\\033[91m💥 pdf_id {pdf_id} is already in Qdrant. Delete first before proceeding.\\033[0m\")\n",
    "                        failed_files.append(filename)\n",
    "                        continue  # Skip to the next file\n",
    "                    planned_metadata = get_planned_metadata_for_single_record(\n",
    "                        pdf_id, metadata_source_path)\n",
    "                    pages = load_pdf(pdf_path, pdf_id, planned_metadata)\n",
    "                    chunks = chunk(pages)\n",
    "                    upsert_to_qdrant(chunks)\n",
    "                    uploaded_files.append(filename)\n",
    "                except Exception as e:\n",
    "                    print(f\"Error processing {filename}: {e}\")\n",
    "                    failed_files.append(filename)\n",
    "\n",
    "\n",
    "'''usage'''\n",
    "mac_daddy_function(source_directory, metadata_source_path)\n",
    "print(\"🗄️ Uploaded files:\", uploaded_files)\n",
    "print(\"💥 Failed files:\", failed_files)"
   ]
  },
  {
   "cell_type": "markdown",
   "id": "9eb9d64f",
   "metadata": {},
   "source": [
    "## <span style=\"color:green\"><b>CONGRATULATIONS: You're done</b></span>\n"
   ]
  },
  {
   "cell_type": "markdown",
   "id": "bbe56977",
   "metadata": {},
   "source": [
    "## Simple Utility to see record in Qdrant"
   ]
  },
  {
   "cell_type": "code",
   "execution_count": 11,
   "id": "7ea13d1e",
   "metadata": {},
   "outputs": [
    {
     "name": "stdout",
     "output_type": "stream",
     "text": [
      "Number of points found: 34\n"
     ]
    },
    {
     "data": {
      "text/plain": [
       "[Record(id='01c69c14-8dbe-4113-b99c-bd9acfc84f2b', payload={'page_content': '                                                                                                                          AUX- SOP-012(A)  \\n                                                                                                                12 Jun 2023  \\n \\n11 \\n (13)  Unmonitored or abandoned social media accounts can be the target of hackers. The  \\nunit commander  has a choice of permanent versus temporary removal. If the page is \\nsimply deactivated or unpublished, the page can be reactivated or published in the \\nfuture without losing posts and followers.  \\n \\n(14)  DSO- PAs, with cooperation from unit leaders, will reinforce  social media policy, \\nsecurity, and pro cedure by providing unit or individual training in f lotillas , divisions \\nand within districts.  \\n \\n4.  Rules of Engagement. \\n \\na.  All Coast Guard personnel, including Auxiliarists, utilizing social media tools whether in \\nan official or unofficial capacity must adhere to the se guidelines when they identify \\nthemselves as a U.S. Coast Guard member or employee, or if it could be construed as \\nsuch. Identification as affiliated with the C oast Guard may be as a result of past site \\nactivity, photos of themselves, or other indirect activity. Even when off-duty, and on a personal site or blog, Coast Guard military personnel are subject to the Uniform Code of Military Justice and civilian employees are subject to administrative or legal action if they violate policy or security regulations.  \\n \\nb.  All Coast Guard personnel are responsible for any statements, comments, or blogs posted \\nunder their name. Personnel are not shielded from legal action for libel or other violations of the personal rights of others.  \\n \\nc.  Auxiliarists  are subject to  and abide by Coast  Guard  policy. Auxiliary  social  media  \\npolic ies effectively  align  with those for other Coast  Guard  personnel. \\n \\nd.  Section 5.R. of reference (a)  addresses Auxiliary s ocial m edia policy. It states  whether in \\na personal capacity or assigned to duty, Auxiliarists are expected to ensure their use of \\nsocial media , \"…neither  inadvertently nor deliberately connects or a ssociates, or projects \\nan image of connection or association with, inappropriate material that is not consistent \\nwith the Coast Guard\\'s C ore V alues and Ethos.\"  \\n \\ne.  There are various other rules  and responsibilities  that come with  official  or unofficial use \\nof social  media  as an Auxiliarist. We must be vigilant in  acting  professionally online at  \\nall times.  Auxiliarists  must always consider how their posts will reflect upon the Coast \\nGuard, the Auxiliary, and themselves. \\n \\nf.  You  can assume  anything posted is  public. Even  if your personal Facebook  timeline  is set \\nto \"friends  only,\" there is  still an  audience.  If you affiliate as an Auxiliar ist \\non social  media  in any fashion, including images,  video, text,  comments , or past  online \\nactivity,  you must act  accordingly and  respectfully.  \\n \\n \\n \\n ', 'metadata': {'source': './test_pdfs_copies_delete_after_use/USCGAUX_Social_Media_SOP_FINAL_ESIGNED_12JUN23.pdf', 'page': 15, 'title': 'AUXILIARY SOCIAL MEDIA STANDARD OPERATING PROCEDURES', 'pdf_id': '31fba5d9-53a8-5d3c-81cc-358d15f0b6e4', 'publication_number': None, 'organization': 'CG-BSX', 'scope': '1_national', 'issue_date': '2023-06-12T00:00:00Z', 'upsert_date': '2024-11-14T19:45:30Z', 'expiration_date': '2033-06-12T00:00:00Z', 'aux_specific': True, 'public_release': True, 'embedding': 'text-embedding-ada-002', 'page_count': 34}}, vector=None, shard_key=None, order_value=None),\n",
       " Record(id='044e4a54-0f6a-4729-83d1-d5d2e785f99e', payload={'page_content': 'AUX- SOP-012(A)  \\n                                                                                                                12 Jun 2023  \\n \\n22 \\n 9. Responsiveness: An evaluation of how often and how fast you respond to \\nmessages.  \\n \\n10. Videos: The number of video views of three seconds or more.  \\n \\n11. Page followers:  The number of new followers. \\n \\n(c)  An important number to check is the \"reach\" on individual posts or the page over \\ntime. Reach  is the total number of people who see your content. Other data \\nchoices are also available on Facebook.  \\n \\n \\n \\n \\n \\n \\n \\n(4)  On Twitter, data is located under \"Analytics.\" It is not as detailed as Facebook, but \\nhelpful nonetheless. Here is a Twitter data example : \\n \\n \\n \\n(5)  Other social media platform s have similar data, some more detailed than others. Data \\nwill also include information for popular times and days to post, but this data usually \\nchanges over time. \\n \\nj.  Social Media Page Records .  Auxiliary social media sites are considered  federal record s, \\nso you must maintain a copy per the appropriate records retention policies. This is \\nespecially important before removing an existing page. Saving data from social media sites is time -consuming and some save efforts need to be done manually. Follow \\ninstructions via the help function on respective sites.', 'metadata': {'source': './test_pdfs_copies_delete_after_use/USCGAUX_Social_Media_SOP_FINAL_ESIGNED_12JUN23.pdf', 'page': 26, 'title': 'AUXILIARY SOCIAL MEDIA STANDARD OPERATING PROCEDURES', 'pdf_id': '31fba5d9-53a8-5d3c-81cc-358d15f0b6e4', 'publication_number': None, 'organization': 'CG-BSX', 'scope': '1_national', 'issue_date': '2023-06-12T00:00:00Z', 'upsert_date': '2024-11-14T19:45:30Z', 'expiration_date': '2033-06-12T00:00:00Z', 'aux_specific': True, 'public_release': True, 'embedding': 'text-embedding-ada-002', 'page_count': 34}}, vector=None, shard_key=None, order_value=None),\n",
       " Record(id='23fd57ac-83de-40aa-aa1d-d116876bfd53', payload={'page_content': 'AUX- SOP-012(A)  \\n                                                                                                                12 Jun 2023  \\n \\n18 \\n (e)  To  create an official Auxiliary page or help administer  an already existing page, \\nyou will log into your personal F acebook account  first and create or administer  \\nit from there. To admin the page during future visits, you will access the page \\nvia your personal account.  \\n \\n(f)  If the page already exists, the current page administrator can invite other \\nadministrator s. If there are multiple administrators on a page, each one logs in \\nunder their own name to get access to the page.  \\n \\n(g\\n)  Make sure both the cover and profile images are clear with high resolution and \\nquality. Here are two examples o f profile images . For a unit logo, help may be \\nobtained via the Auxiliary Public Affairs Directorate’s  Creative Services \\nDivision  (DVC -AS). \\n \\n \\n \\n \\n \\n \\n \\n \\n(h)  While profile photos usually remain static  for brand recognition, cover photos \\ncan be changed. All photos must be professional and not outside photo \\nguidelines. Facebook accepts .jpg, .gif, and .png image formats. Facebook \\ncurrently recommends MP4 or MOV video format, but accepts various other \\nvideo format s. Facebook also offers live video streaming , which is helpful for \\nevents.  \\n \\n(i)  It is authorized to use the unaltered  Auxiliary e mblem online, such as for a \\nprofile photo on an Auxiliary page. There are other uses as well. Any \\ncommercial use must be approved by Auxiliary n ational leadership.  \\n \\n \\n \\n \\n \\n \\nU.S. Coast Guard Auxiliary Seal \\n U.S. Coast Guard Auxiliary E mblem', 'metadata': {'source': './test_pdfs_copies_delete_after_use/USCGAUX_Social_Media_SOP_FINAL_ESIGNED_12JUN23.pdf', 'page': 22, 'title': 'AUXILIARY SOCIAL MEDIA STANDARD OPERATING PROCEDURES', 'pdf_id': '31fba5d9-53a8-5d3c-81cc-358d15f0b6e4', 'publication_number': None, 'organization': 'CG-BSX', 'scope': '1_national', 'issue_date': '2023-06-12T00:00:00Z', 'upsert_date': '2024-11-14T19:45:30Z', 'expiration_date': '2033-06-12T00:00:00Z', 'aux_specific': True, 'public_release': True, 'embedding': 'text-embedding-ada-002', 'page_count': 34}}, vector=None, shard_key=None, order_value=None),\n",
       " Record(id='24652b26-a241-4a78-998e-1ca734705658', payload={'page_content': \"                                                                                                                          AUX- SOP-012(A)  \\n                                                                                                                12 Jun 2023  \\n \\n8 \\n SM will manage th ese accounts. An account does not need  to be created  if there is  \\nno interest.  National  social  media  pages  are available  for content submissions wi th \\nhigh resolution photos and  properly formatted  captions or stories.  Photo or graphic \\ncredit  (specific  name)  should be provided for any submission. \\n \\n(7)  Be  aware not all platforms  automatically  create closed  captions for videos as  required  \\nby Section  508 of the Americans  with  Disabilities  Act. Auxiliary  videos need  to \\nadhere to  accessibility  guidelines and  standards as promulgated by the U.S.  Access  \\nBoard. If questions arise,  they  should be directed  to the Coast  Guard  Directives  and \\nPublications Division  (CG -612) at  section.508@uscg.mil . \\n \\n(8)  Auxiliary unit posts must be pre -approved by the unti commander. Auxiliary videos \\nmust be submitted for pre -approval via the district chain of leadership and \\nmanagement (COLM) , and district public a ffairs program chain  prior to being \\nreleased to the public. Check with your district COLM to ascertain if District \\nDirector of Auxiliary ( DIRAUX) pre -approval is also required.  \\n \\ng.  Social  Media Staff  Assignments. \\n \\n(1)  Allow  staff  members  to administer  Auxiliary  social  media  only when  they  are \\nproperly trained.  \\n \\n(2)  There must be at  least  two administrators,  with  full permissions, on every  Auxiliary  \\nsocial  media  account. One  must be a manager,  and one must be from  current  elected  \\nunit leadership  from  the respective flotilla,  division, or district.   \\n \\n(3)  Page Manager .  Will manage,  monitor and  post to  the page.  May  include page design  \\nand will carefully  adher e to Auxiliary  and Coast  Guard  policy. Page manager s can  \\nassign  additional admininstrators  or moderators with leadership  approval. All  \\nassigned  administrators  must meet  training  criteria.  \\n \\n(4)  Leadership  Administrator .  At least  one administrator  will be from  a unit leadership  \\nposition, for example Flotilla  Commander/Vice  Flotilla  Commander ( FC/VFC), \\nDivision  Commander/Division  Vice Commander (DCDR/ VCDR ), District \\nCommodore/District Chief  of Staff/ District Directorate Chief  (DCO/DCOS/DDC) , \\netc. The leader ship member  will be considered  a 'silent'  administrator.  The silent \\nadministrator  does not post content or have responsibility  for monitoring the  page.  \\nThe silent administrator  is primarily  assigned  for the purpose of leadership  transition  \\nand staff  turnover. Leadership admins must make sure  the district DSO- PA or \\nADSO- PA-SM is assigned  as a full  admin  to the page or has  login information. \\n \\nh.  National  Level  Staff  Assignments. \\n \\n(1)  The  U.S. Coast  Guard  Auxiliary  Facebook  page is  recognized  as the main  official  \\nAuxiliary  Facebook page.  There are many  other  official  Auxiliary  pages  by flotillas,  \\ndivisions, districts , and  directorates .  \", 'metadata': {'source': './test_pdfs_copies_delete_after_use/USCGAUX_Social_Media_SOP_FINAL_ESIGNED_12JUN23.pdf', 'page': 12, 'title': 'AUXILIARY SOCIAL MEDIA STANDARD OPERATING PROCEDURES', 'pdf_id': '31fba5d9-53a8-5d3c-81cc-358d15f0b6e4', 'publication_number': None, 'organization': 'CG-BSX', 'scope': '1_national', 'issue_date': '2023-06-12T00:00:00Z', 'upsert_date': '2024-11-14T19:45:30Z', 'expiration_date': '2033-06-12T00:00:00Z', 'aux_specific': True, 'public_release': True, 'embedding': 'text-embedding-ada-002', 'page_count': 34}}, vector=None, shard_key=None, order_value=None),\n",
       " Record(id='28b20e1a-cb33-472a-a4da-a455d011550a', payload={'page_content': '                                                                                                                          AUX- SOP-012(A)  \\n                                                                                                                12 Jun 2023  \\n \\n12 \\n g.  Official  Auxiliary  Social  Media. \\n \\n(1)  Posting on an  official  Coast  Guard  Auxiliary  or Coast  Guard  social  media  page (e.g., \\nFacebook, Instagram,  Twitter)  is akin  to an abbreviated  news  or photo release.  \\nSubsequently, all  posts must  also fall within  guidelines set  forth  in references  (a), \\n(b), and  (d). Make sure descriptions, images,  and uniforms are in line with Coast \\nGuard and Auxiliary policy. For regulations pertaining to uniform wear, consult \\nChapter 10 of reference (a)  or an Auxiliary Human Resources staff officer . \\n \\n(2)  Each page manager  and their respective leadership  is responsible for what is  post ed - \\nshared and  original content!  \\n \\n(3)  Follow ethics of journalism when posting on social media. Traditional ethics still \\napply.  \\n \\n(4)  Verify there  are no copyright infringements. In regard to  imaging  or other intellectual \\nproperty, include credit and/or source. Do not use non-government al images  or other \\nintellectual property  without expressed written  permission  from the original creator . \\nCiting a source does not equal permission. When in doubt, err on the side of caution \\nand do not post it. Consult with unit leadership or experienced PAO for further \\ninquiry. Just because another official  page has posted an image or authored text , \\ndoes not mean it is authorized to use or share.  \\n \\n(5)  Do not post new  information or news about Coast Guard units on your Auxiliary \\nFacebook page without first clearing it with the active duty PAO and Officer- in-\\nCharge or Commanding Officer for that unit. It is permissible and encouraged to \\nshare from Coast Guard unit pages using the share function, since the content is \\nalready  vetted .  \\n \\n(6)  Only  share from  Coast Guard, Coast  Guard  Auxiliary, or other official  government \\npages.  Do not share from unofficial pages, private accounts, commercial pages, or \\nnon-profit entities not directly related  to the Coast Guard or Auxiliary. There are \\nexceptions when working with non-governmental agencies and other entities. \\nExceptions require approval from the D SO-PA and DCO, via COLM . When you \\nhave a question about sharing from an unauthorized page, first get g uidance from a \\nknowledgeable PAO or unit commander trained in public a ffairs.   \\n \\n(7)  On Auxiliary Facebook pages, it is preferable and courteous to utilize the share \\nfunction from Coast Guard and Coast Guard Auxiliary social media pages, instead of \\ncopying and pasting content that another member took time to create . This is simple \\nsocial media etiquette. There are exceptions, such as the inability to share across \\nplatforms. If you copy and paste content, always name the source page, tag them,  \\nand include photo credit.  \\n ', 'metadata': {'source': './test_pdfs_copies_delete_after_use/USCGAUX_Social_Media_SOP_FINAL_ESIGNED_12JUN23.pdf', 'page': 16, 'title': 'AUXILIARY SOCIAL MEDIA STANDARD OPERATING PROCEDURES', 'pdf_id': '31fba5d9-53a8-5d3c-81cc-358d15f0b6e4', 'publication_number': None, 'organization': 'CG-BSX', 'scope': '1_national', 'issue_date': '2023-06-12T00:00:00Z', 'upsert_date': '2024-11-14T19:45:30Z', 'expiration_date': '2033-06-12T00:00:00Z', 'aux_specific': True, 'public_release': True, 'embedding': 'text-embedding-ada-002', 'page_count': 34}}, vector=None, shard_key=None, order_value=None),\n",
       " Record(id='2ab87a6f-0bc2-4743-bed6-f62562d53527', payload={'page_content': '                                                                                                                          AUX- SOP-012(A)  \\n                                                                                                                12 Jun 2023  \\n \\n3 \\n 2.  Social Media Security . \\n \\n\"All personnel have a responsibility to ensure that sensitive information is not posted.\" \\nSection 6.E.4. of reference (b)  \\n \\na. Whether  on official  or unofficial  social  media  pages , security  awareness  involving social  \\nmedia  platforms  and posts takes top priority  to help  protect  the safety  of Team  Coast  \\nGuard  members  and operations. The  use of social  media  exposes us to  increasing  digital \\nrisks  and challenges.  Criminal and foreign adversaries have been known to scour \\nplatforms and accounts for the purpose of gathering information, making us more \\nvulnerable. \\n \\nb. Even though Coast Guard Pu blic Affairs policy states, \"Maximum disclosure  with \\nminimum delay,\" take the time necessary to ensure information is suitable for social \\nmedia release. Ensure the post content is accurate and does not violate policy or privacy.   \\n \\nc. If posting images of or from active -duty units or facilities, the O fficer-In-C harge (OINC) \\nor Commanding O fficer  (CO), via their chain of command, must approve the use of such \\nimages or information in any and all media. They are the information release authority.  \\n \\nd. You are expected  to properly  secure your accounts  and carefully  follow Operations  \\nSecurity  (OPSEC),  Security, Accuracy, Policy, and Propriety (SAPP), Controlled \\nUnclassified Information (CUI), and Privacy Act of 1974 restrictions.  \\n \\ne. Never release information  on social media that violates OPSEC or national security. Do  \\nnot post operations information  on an  official  page or your personal timeline  when  \\nactively  engaged  in those operations. That  would be an  example of an  OPSEC  violation  \\nand could jeopardize the safety of members and operations.  \\n \\nf. Be vigilant protecting yourself, fellow  members , and family.  Adversaries  collect  \\nintelligence  via social  media.  Do not tag  yourself or  other members  on an official  Coast  \\nGuard  or Auxiliary  social  media  post/page, and  do not share social  media  posts from  \\npersonal timelines  to an official  page.  Both situations lead  to an individual\\'s private \\ntimeline , potentially  reve aling personally identifiable information (PII ). It can also \\ndirectly  identif y the military  affiliation  of a member  to anyone on the internet. If there is  \\nopen (public) information on the member\\'s  personal  timeline,  names and  photos of family  \\nmembers  and resident  locations can  be exposed.  \\n \\ng. The disclosure of personal information on official  social media  is subject to the \\nprovisions contained in the Privacy Act of 1974. The Privacy Act, with certain \\nexceptions, prohibits the disclosure, distribution, dissemination, or copying of any \\ninformation  containing home addresses, home telephone numbers, spouses’ names, \\nSocial Security numbers, and other personal information.   \\n \\nh. Follow SAPP restrictions when posting. It is  helpful to determine if certain information \\ncan be released via social media.  ', 'metadata': {'source': './test_pdfs_copies_delete_after_use/USCGAUX_Social_Media_SOP_FINAL_ESIGNED_12JUN23.pdf', 'page': 7, 'title': 'AUXILIARY SOCIAL MEDIA STANDARD OPERATING PROCEDURES', 'pdf_id': '31fba5d9-53a8-5d3c-81cc-358d15f0b6e4', 'publication_number': None, 'organization': 'CG-BSX', 'scope': '1_national', 'issue_date': '2023-06-12T00:00:00Z', 'upsert_date': '2024-11-14T19:45:30Z', 'expiration_date': '2033-06-12T00:00:00Z', 'aux_specific': True, 'public_release': True, 'embedding': 'text-embedding-ada-002', 'page_count': 34}}, vector=None, shard_key=None, order_value=None),\n",
       " Record(id='2fd9c05d-1381-4048-96eb-80d232ba8616', payload={'page_content': '                                                                                                                          AUX- SOP-012(A)  \\n                                                                                                                12 Jun 2023  \\n \\n20 \\n (11)  Creating a Twitter Page. \\n \\n(a)  Twitter is another popular social media site . You can create a Twitter account \\nfor your unit at  district level, or above. Posts, named  \"tweets ,\" are limited to 280 \\ncharacters and may include links and images . You can create new content or  \\nshare posts. Sharing a post is called \" retweeting. \"  Similar to Facebook, you can \\nreceive likes and comments on your posts. \\n \\n(b)  Unlike Facebook, where you sign in to  your personal account to get to the \\nAuxiliary page, Twitter is different. You do not create a personal account. \\nCreate a page using the Auxiliary unit’s name as the account name.  \\n \\n(12)  Creating an Instagram Account. \\n \\n(a)  Instagram is a photo, video, and story sharing site owned by Facebook. You can \\ncreate an Instagram account for your unit.  An option is to share your high-\\nquality  photos and proper captioning with the  administrator of the National U.S.  \\nCoast Guard Auxiliary Instagram page .  \\n \\n(b)  To create an Instagram account for your unit, you do not need to open a \\npersonal account. Like Twitter, it can be managed  as a multi-user account if \\nthere is more than one admin istrator . Instagram used to be a mobile-only \\nplatform, but you can now access limited features of  Instagram on a desktop \\nenvironment. Create a unit email for login credentials.  \\n \\n(c)  For more informat ion about setting up an account, visit the Instagram help  \\npage.  \\n \\n(d)  Districts seeking to create YouTube accounts should reach out to the Auxiliary \\nPublic Affairs Directorate’s Social Media Division (DVC -AF) with  any \\nquestions or requests for assistance.  \\n \\ni.  Social Media Statistics . \\n \\n(1)  Statistical insights  and analytics can be found on most social media sites including \\nFacebook, Twitter, Instagram, and YouTube. Page and audience data are gathered \\nand analyzed to determine demographics, audience growth, and content success. \\n \\n(2)  Measuring the performance of activity helps us reach goals and report statistical \\nsuccess to leadership. Data is automatically created by audience demographics, along \\nwith page likes, post likes, post comments, shares, and similar data . Below is an \\nexample of important statistics about page followers.  \\n ', 'metadata': {'source': './test_pdfs_copies_delete_after_use/USCGAUX_Social_Media_SOP_FINAL_ESIGNED_12JUN23.pdf', 'page': 24, 'title': 'AUXILIARY SOCIAL MEDIA STANDARD OPERATING PROCEDURES', 'pdf_id': '31fba5d9-53a8-5d3c-81cc-358d15f0b6e4', 'publication_number': None, 'organization': 'CG-BSX', 'scope': '1_national', 'issue_date': '2023-06-12T00:00:00Z', 'upsert_date': '2024-11-14T19:45:30Z', 'expiration_date': '2033-06-12T00:00:00Z', 'aux_specific': True, 'public_release': True, 'embedding': 'text-embedding-ada-002', 'page_count': 34}}, vector=None, shard_key=None, order_value=None),\n",
       " Record(id='34e8a978-d92c-4ded-b668-cf9da1f66d0e', payload={'page_content': '                                                                                                                          AUX- SOP-012(A)  \\n                                                                                                                12 Jun 2023  \\n \\n16 \\n e.  It is important to regularly  post on your social media page. Consistent posting is crucial to \\ngain an audience and attract interest. If you are having a difficult time creating original \\ncontent, share interesting content from other Coast Guard, Coast Guard Auxiliary, and \\ngovernment pages which may have pertinent information. The National Safe Boating \\nCouncil and Safe Boating Campaign  websites  are excellent resources for downloadable \\nand usable safe boating content for creating social media  posts. \\n \\nf.  The following instructions are general information for creating social media pages , though \\nthere is more than one method. Social media platforms change periodically, so these \\ninstructions can quickly become outdated. Alternatively, y ou can do an internet search for \\ninstructions . Sample search criteria might include, \"How to create a Twitter page in 202 3.\" \\nIt helps to designate the year or you may get old instructions. T he most accurate method is \\nto use the help feature on the platform of choice. \\n \\ng.  Also, since platform features  often change, it is best to visit the platform to decide what \\npage features you want to utilize.  \\n \\nh.  The  Social  Media Creation  Process . \\n \\n(1)  Request  and obtain unit leadership  and DSO- PA approval before  creating  a page for \\nyour unit.  \\n \\n(2)  Report previously created pages through your public a ffairs program leadership up to \\nthe DSO -PA. \\n \\n(3)  Conduct a thorough search  for old pages  before  creating  a new  one. If your unit \\nalready  has a page or account in  its name,  make every  effort  to contact  the \\nadministrator  to take over the page before creating  a new  one. In some instances,  you \\ncan claim  the page via platform  guidelines, but it is  difficult to  accomplish.  Do not \\ncreate a new page,  until the old page is  in your control. \\n \\n(4)  Maintain  brand identity  across  channels.  Consistent naming of social  media  pages  \\nwill exist  nationwide. Social  media  pages  are an official  representation  of the Coast  \\nGuard  and the Auxiliary.  \\n \\n(5)  Do  not use nicknames  or informal  names.  Begin  the page name with U.S.  Coast  \\nGuard  Auxiliary  followed by your unit name.  Never  use the name U.S.  Coast Guard  \\nAuxiliary  alone.  That  name  is reserved  for and assigned  to the main  national  social  \\nmedia  page . If using unit numbers, start  with  U.S.  Coast  Guard  Auxiliary, add a \\nlocation  (as listed  in the Auxiliary  Directory ), then unit number if  desired.  Unit \\nnumbers are not required  (e.g., “ U.S. Coast  Guard  Auxiliary  Flotilla  Vancouver  \\nWA” and  “U.S. Coast  Guard  Auxiliary  Thirteenth District”) . Do not use a f lotilla  or \\ndivision  number alone as  there is  sometimes  more  than  one unit assigned  the same \\nnumber in  different  states , plus the general  public does not know the meaning  of unit \\nnumbers. \\n ', 'metadata': {'source': './test_pdfs_copies_delete_after_use/USCGAUX_Social_Media_SOP_FINAL_ESIGNED_12JUN23.pdf', 'page': 20, 'title': 'AUXILIARY SOCIAL MEDIA STANDARD OPERATING PROCEDURES', 'pdf_id': '31fba5d9-53a8-5d3c-81cc-358d15f0b6e4', 'publication_number': None, 'organization': 'CG-BSX', 'scope': '1_national', 'issue_date': '2023-06-12T00:00:00Z', 'upsert_date': '2024-11-14T19:45:30Z', 'expiration_date': '2033-06-12T00:00:00Z', 'aux_specific': True, 'public_release': True, 'embedding': 'text-embedding-ada-002', 'page_count': 34}}, vector=None, shard_key=None, order_value=None),\n",
       " Record(id='358cb7b0-5dbb-4922-89e8-d1427f234562', payload={'page_content': '                                                                                                                          AUX- SOP-012(A)  \\n                                                                                                                12 Jun 2023  \\n \\n13 \\n (8)  Do  not \"like\" or \"follow\" commercial  or personal  pages  from  an official  Auxiliary  \\npage,  not even  non- profits  that are not related  to the Coast  Guard  or Auxiliary . Only  \\n\"like\" official  Coast  Guard, Auxiliary , or other official  U.S.  government pages.   \\n \\n(9)  Do  not post controversial topics on official Auxiliary social media pages. Do not \\nengage in controversial discourse in the comment section of posts on Auxiliary or \\nCoast Guard social media pages. Do not speculate or offer controversial commentary  \\non official accounts . Content must contain  factual information.   \\n \\n(10)  Photos of minor children: Do not post photos of minors (i.e., youth under 18 years \\nof age) without signed consent by a parent or legal guardian on a U.S. Coast Guard \\nAuxiliary Photo/Video/Audio Consent Form/Release f orm, ANSC -7020 (Appendix \\nC). School release forms cannot be substituted. The top half of the consent/release \\nform can be used for adults as required. Sea Scouts and Sea Scout leaders use a \\nspecific release form, ANSC -7020a. Signed photo release forms are Auxiliary \\npolicy and not relevant to what local active-duty units may do. Cover your bases \\nand get signed releases for children/ citizens even if augmenting active duty. \\n \\n(11)  Federal holidays, military branch birthdays, and othe r Coast Guard -directed \\ncelebrations  may be recognized on social media.  \\n \\n(12)  Moderate and review submitted comments on each post. Comments must be \\nmoderated daily and checked frequently when a new post is made. Sometimes the \\nnature of a post will trigger more commenting. Comment threads can quickly spiral \\noff topic when not moderated. When removing inappropriate comments, do not \\ndelete the comment. Use the hide option instead so a record  of the comment is \\nmaintained. If a comment cannot be hidden, take a screenshot, and delete.  Provide \\nthe screenshot and circumstances to DSO -PA, who will save the record . \\n \\n(13)  When engaging with comments on your page, do so in a professional, positive, and  \\nfactual manner. It is okay not to respond to every comment. Feel free to ‘ like’ \\nappropriate comments. Response from the page admin often encourages more \\nengagement.  \\n \\n(14)  The following Coast Gu ard Auxiliary comment policy will be posted on all \\nAuxiliary  social media sites. The policy can be placed in the “about” or “ additional \\ninformation ” section of Facebook pages. For clarifi cation, the Auxiliary will add \\nPrivacy Act  of 1974 information in the final  paragraph.   \\n \\n \\n      ', 'metadata': {'source': './test_pdfs_copies_delete_after_use/USCGAUX_Social_Media_SOP_FINAL_ESIGNED_12JUN23.pdf', 'page': 17, 'title': 'AUXILIARY SOCIAL MEDIA STANDARD OPERATING PROCEDURES', 'pdf_id': '31fba5d9-53a8-5d3c-81cc-358d15f0b6e4', 'publication_number': None, 'organization': 'CG-BSX', 'scope': '1_national', 'issue_date': '2023-06-12T00:00:00Z', 'upsert_date': '2024-11-14T19:45:30Z', 'expiration_date': '2033-06-12T00:00:00Z', 'aux_specific': True, 'public_release': True, 'embedding': 'text-embedding-ada-002', 'page_count': 34}}, vector=None, shard_key=None, order_value=None),\n",
       " Record(id='396320ce-66bf-4666-80ce-5fa2aeac0a65', payload={'page_content': ' \\n       Commandant  \\n      United States Coast Guard \\n \\n 2703 Martin Luther King Jr. Ave SE  \\nStop 7501  \\nWashington, DC 20593 -7501 \\nStaff Symbol: CG -BSX \\nPhone: (202) 372 -1101 \\n \\n16790  / AUX- SOP-012(A)  \\n12 Jun 2023  \\n \\nMEMORANDUM              Reply  to   CG-BSX -11 \\n                  Attn of:    Mr. S. Minutolo \\n                        (202) 372-1267  \\n \\nFrom:  /T. P. Glendye, CAPT / \\nChief, Office of Auxiliary and Boating Safety   \\n \\n  \\nTo: Distribution   \\nSubj:  AUXILIARY SOCIAL MEDIA STANDARD OPERATING PROCEDURES   \\n \\n    Ref: (a)  Auxiliary  Manual, COMDTINST M 16790.1  (series)   \\n(b)  Coast Guard External Affairs Manual, COMDTINST M5700.13 (series) (c)  U.S. Coast Guard Social Media Handbook (series) (d)  Coast Guard Auxiliary Public Affairs Manual of May 2014 (e)  Coast Guard Correspondence Manual, COMDTINST M5216.4 (series) \\n \\n1. PURPOSE .  Pursuant to authorities and policies in references (a)-(e), to establish Standard \\nOperating Procedures (SOP) for Auxiliary units to conduct business and carry out authorized Auxiliary activities on social media platforms.   \\n \\n2. ACTION.  Elected and appointed leaders and program managers at all levels of the Auxiliary \\norganization shall ensure all Auxiliary units adhere to this SOP .  \\n \\n3. AUTHORIZED RELEASE .  Internet release is authorized.  \\n \\n4. DIRECTIVES AFFECTED .  None. \\n \\n5. BACKGROUND.  Social media is a powerful tool that can be utilized to promote Auxiliary \\nachievements, increase recruiting and retention efforts, and bring higher awareness to the organization amongst new and diverse segments of the population. To ensure that the Auxi liary \\nutilizes social media in a correct and proper manner, this SOP  has been  created to standardize \\nAuxiliary engagements online and to set the standards by which Auxiliary social media accounts \\nare created, used, and deleted.  \\n \\n6. DISCLAIMER .  This SOP is not a substitute for applicable legal requirements, nor is itself a \\nrule. It is intended to provide guidance for Auxiliary personnel and is not intended to, nor does it, impose legally -binding requirements on any party outside the Coast Guard.   \\n \\n7. MAJOR CHANGES .  This SOP creates p rocedures for the use of key social media platforms \\n(i.e., Facebook,Twitter, Instagram, You Tube) at Auxiliary national, district, area, division, and flotilla levels.  \\n', 'metadata': {'source': './test_pdfs_copies_delete_after_use/USCGAUX_Social_Media_SOP_FINAL_ESIGNED_12JUN23.pdf', 'page': 2, 'title': 'AUXILIARY SOCIAL MEDIA STANDARD OPERATING PROCEDURES', 'pdf_id': '31fba5d9-53a8-5d3c-81cc-358d15f0b6e4', 'publication_number': None, 'organization': 'CG-BSX', 'scope': '1_national', 'issue_date': '2023-06-12T00:00:00Z', 'upsert_date': '2024-11-14T19:45:30Z', 'expiration_date': '2033-06-12T00:00:00Z', 'aux_specific': True, 'public_release': True, 'embedding': 'text-embedding-ada-002', 'page_count': 34}}, vector=None, shard_key=None, order_value=None),\n",
       " Record(id='3bcadaf9-a060-47b3-96fe-357a8b194431', payload={'page_content': 'AUX- SOP-012(A)  \\n                                                                                                                12 Jun 2023  \\n \\n23 \\n     \\nPlatform  Target Level  \\n \\nFacebook  National  \\nArea  \\nDistrict  \\nFlotilla/Division  \\n \\nInstagram  National  \\nArea  \\nDistrict  \\nFlotilla/Division  \\n \\nTwitter  National  \\nArea  \\nDistrict  \\n \\nYouTube   \\nNational \\nDistrict  \\n  \\nNational \\nFlickr National  \\n \\nPodcast   \\nNational \\nAppendix A  \\nAuxiliary Social Media Platforms Summary  \\nLinkedIn', 'metadata': {'source': './test_pdfs_copies_delete_after_use/USCGAUX_Social_Media_SOP_FINAL_ESIGNED_12JUN23.pdf', 'page': 27, 'title': 'AUXILIARY SOCIAL MEDIA STANDARD OPERATING PROCEDURES', 'pdf_id': '31fba5d9-53a8-5d3c-81cc-358d15f0b6e4', 'publication_number': None, 'organization': 'CG-BSX', 'scope': '1_national', 'issue_date': '2023-06-12T00:00:00Z', 'upsert_date': '2024-11-14T19:45:30Z', 'expiration_date': '2033-06-12T00:00:00Z', 'aux_specific': True, 'public_release': True, 'embedding': 'text-embedding-ada-002', 'page_count': 34}}, vector=None, shard_key=None, order_value=None),\n",
       " Record(id='3f6dadf4-16ca-4fe4-a3a7-bfebcdd42ead', payload={'page_content': '                                                                                                                          AUX- SOP-012(A)  \\n                                                                                                                12 Jun 2023  \\n \\n15 \\n (15)  Per Coast Guard policy, official s ocial m edia pages are public, and settings should \\nbe set to ensure maximum public availability of content. This does not apply to \\npersonal pages.   \\n \\n(16)  Auxiliary  \"pages \" should not be confused with Facebook \"groups.\"  Auxiliary pages \\nwill only be created as a page, not as a group. Facebook groups are places for small \\ngroup interaction. Groups can be set to public, private, or secret.  \\n \\n(17)  Units are welcome to create groups for discussion, but membership will be limited  \\nto Auxiliary and  Coast Guard personnel and set to private since posting is done by \\nnamed individuals. Even if it is a private group, all posts should be considered \\npublic and adhere to the posting policy.  \\n \\n(18)  It is  worth  repeating  that it is the responsibility of each  member  to understand the \\ndifference between  official,  unofficial, and  personal  use of social  media  while  \\nengaging online. \\n \\n(a)  Official .  The communication is your job. \\n \\n(b)  Unofficial .  The communication relates to your job regardless of when or where \\nyou write it.  \\n \\n(c)  Personal .  The communication is about personal issues and not related to your \\njob. When  in doubt about social  media  guidelines and policy, check  with  your \\nunit PAO and  experienced  leadership.  \\n \\n5.  Creating  a Social  Media Presence.  \\n \\na.  The social media sites authorized  by the Auxiliary are Facebook, Twitter, Instagram, and \\nYouTube, with our highest presence (by far) on Facebook. The Auxiliary Photo Corps \\nuses Flick r as a photo repository. \\n \\nb.  Unlike traditional Auxiliary web  sites , social  media is not static. We have conversations \\nwith and get immediate feedback from our stakeholders in the form of likes, comments, \\nretweets , and other digital engagement .  \\n \\nc.  Social media sites offer detailed page statistics, giving us insight to help gro w and market \\nour pages. The more visitors  and followers we have, the more we can succeed in sharing \\nour number one mission and message of Recreational Boating Safety.  \\n \\nd.  Video production and viewing has grown exponentially on social media and is the most \\npopular content. Facebook offers video hosting and live video feeds. You can also share a \\nvideo from YouTube to a social media page. The importance of creating video content \\ncannot be emphasized enough since during the next few years, it will continue to grow as \\nthe primary content on social media . \\n ', 'metadata': {'source': './test_pdfs_copies_delete_after_use/USCGAUX_Social_Media_SOP_FINAL_ESIGNED_12JUN23.pdf', 'page': 19, 'title': 'AUXILIARY SOCIAL MEDIA STANDARD OPERATING PROCEDURES', 'pdf_id': '31fba5d9-53a8-5d3c-81cc-358d15f0b6e4', 'publication_number': None, 'organization': 'CG-BSX', 'scope': '1_national', 'issue_date': '2023-06-12T00:00:00Z', 'upsert_date': '2024-11-14T19:45:30Z', 'expiration_date': '2033-06-12T00:00:00Z', 'aux_specific': True, 'public_release': True, 'embedding': 'text-embedding-ada-002', 'page_count': 34}}, vector=None, shard_key=None, order_value=None),\n",
       " Record(id='4196a69a-5e15-42e7-b2c4-dec3d8a01eab', payload={'page_content': '                                                                                                                          AUX- SOP-012(A)  \\n                                                                                                                12 Jun 2023  \\n \\n24 \\n Appendix B \\nSocial Media  Glossary \\n(The definitions  below , compiled by the Auxiliary Public Affairs Directorate,  are provided to better inform readers \\nof basic interpretation of these commonly used words/phrases and are not official government definitions. ) \\n \\nAdministrator .  The person or persons who run, maintain and manage a social media page or \\ngroup. \\n \\nAnalytics.  S ocial media data insights derived from automated page data compilation.   Most \\nsocial networks include their own analytics tools to help pages  analyze data.  Analyt ics can be \\nused to improve social media strategy. \\n \\nArchiving .  Keeping a record of page data including posts, messages, and comments. This data \\ncan be requested  as federal records  through the FOIA process.  \\n \\nAudience .  Group of people on social media you can reach with your content. This includes \\nfollowers or anyone who sees or interacts with your content. Growing your social media \\naudience is one of the best ways to spread brand awareness. \\n \\nAvatar.  A computer -generated visual representation of a person for use in a digital \\nenvironment.  \\n \\nAverage R esponse  Time.  A social media customer service metric. It is the average time it takes \\na brand to reply to questions or complaints on social media.  \\n \\nBlock .  When you block someone on social media, you prevent them from seeing your posts on \\nthat social network. Blocked users will be unable to see you, follow you, message you or tag \\nyou.  \\n \\nBlog.  Contraction of the phrase web log. A digital publication in which one or more authors \\nregularly post content, generally on a specific topic. \\n \\nBoost ed Post.  Fo rm of social media advertising in which a brand pays to show a social post to a \\npotential audience.  \\n \\nBrand Awareness .  Social media metric that captures how likely people are to be aware of your \\nbrand. You can measure brand awareness by tracking mentions and engagement. The more \\npeople are talking about you online, the greater your brand awareness.  \\n \\nCaption.  Description that accompanies a photo on social media. Captions can include text, \\nhashtags, @ mentions, and emojis. Captions are an important part of telling your photo’s story. \\n \\nChat .  Online conversation with one or more people. Whether one-on-one or in a group, chats \\nare usually private and text-based, although they may incorporate imaging. The m ost common \\nchat platform is Facebook Messenger.   ', 'metadata': {'source': './test_pdfs_copies_delete_after_use/USCGAUX_Social_Media_SOP_FINAL_ESIGNED_12JUN23.pdf', 'page': 28, 'title': 'AUXILIARY SOCIAL MEDIA STANDARD OPERATING PROCEDURES', 'pdf_id': '31fba5d9-53a8-5d3c-81cc-358d15f0b6e4', 'publication_number': None, 'organization': 'CG-BSX', 'scope': '1_national', 'issue_date': '2023-06-12T00:00:00Z', 'upsert_date': '2024-11-14T19:45:30Z', 'expiration_date': '2033-06-12T00:00:00Z', 'aux_specific': True, 'public_release': True, 'embedding': 'text-embedding-ada-002', 'page_count': 34}}, vector=None, shard_key=None, order_value=None),\n",
       " Record(id='4a9736d7-bfc7-4424-8cd6-fcabe72985c5', payload={'page_content': 'U.S. Coast Guard Auxiliary  \\nSocial Medi a Standard \\nOperating Procedures', 'metadata': {'source': './test_pdfs_copies_delete_after_use/USCGAUX_Social_Media_SOP_FINAL_ESIGNED_12JUN23.pdf', 'page': 0, 'title': 'AUXILIARY SOCIAL MEDIA STANDARD OPERATING PROCEDURES', 'pdf_id': '31fba5d9-53a8-5d3c-81cc-358d15f0b6e4', 'publication_number': None, 'organization': 'CG-BSX', 'scope': '1_national', 'issue_date': '2023-06-12T00:00:00Z', 'upsert_date': '2024-11-14T19:45:30Z', 'expiration_date': '2033-06-12T00:00:00Z', 'aux_specific': True, 'public_release': True, 'embedding': 'text-embedding-ada-002', 'page_count': 34}}, vector=None, shard_key=None, order_value=None),\n",
       " Record(id='50986471-89db-460f-8e90-a2851c5ab08e', payload={'page_content': \"                                                                                                                          AUX- SOP-012(A)  \\n                                                                                                                12 Jun 2023  \\n \\n14 \\n =====================================================================  \\nU.S. Coast Guard Auxiliary Comment Policy  \\n \\nWe welcome your comments. This site is sponsored by the U.S. Coast Guard Auxiliary to \\nprovide a forum about our work to provide maritime safety, security, and stewardship; to secure \\nthe homeland, save lives and property; and to protect the environment. \\n \\nThis page is for public information only and is not a distress communication channel. If you have \\nan emergency and need Coast Guard assistance, use VHF -FM Channel 16 (156.8 MHz), dial \\n911, or call your nearest Coast Guard unit. \\n \\nAll comments are moderated. We will determine which comments to keep posted or not. We \\nexpect all contributors to be respectful and wil l remove comments that contain personal attacks; \\nthat refer to Coast  Guard or Auxiliary personnel by name; contain offensive terms that target \\nspecific ethnic or racial groups ; or contain vulgar language. \\n \\nWe will remove comments that are spam,  off-topic, or that promote services or products. \\n \\nWe disclaim any liability for loss or damage  resulting from any comments posted on this page. \\nThis forum may not be used for the submission of any claim, demand, informal or formal \\ncomplaint, or other form of legal and/or administrative notice or process. \\n \\nThe U.S. Coast Guard will not collect or retain personally identifiable information unless you \\nvoluntarily provide it. We discourage you from providing sensitive Personally Identifying \\nInformation ( PII) (e.g., Social Security numbers). \\n \\nAny links provided to a U.S. Coast Guard presence on other third -party  sites is for your reference \\nonly. The Coast Guard and Auxiliary  do not endorse any non-government websites, companies , \\nor applications. \\n \\nConfidentiality Notice  / Privacy Act of 1974 \\n \\nThe disclosure of personal information contained on this page is subject to the provisions \\ncontained in the Privacy Act of 1974. The subject Act with certain exceptions prohibits the \\ndisclosure, distribution, dissemination or copying of any material containing home addresses, \\nhome telephone numbers, spouses’ names, and S ocial Security numbers, except for official \\nbusiness. Violation may result in disciplinary action by the Coast Guard and/or civilian criminal \\nsanction. \\n=====================================================================  \\n \\nNOTE: On Twitter  and Instagram , there is not enough room allotted  for the above statement. In \\nthe 'bio' section, you can write the following: \\n \\n“This is NOT an emergency communication channel. If you are in distress, use VHF Ch. 16 or \\ndial 911. Per official policy, comments will be moderated.” \\n \", 'metadata': {'source': './test_pdfs_copies_delete_after_use/USCGAUX_Social_Media_SOP_FINAL_ESIGNED_12JUN23.pdf', 'page': 18, 'title': 'AUXILIARY SOCIAL MEDIA STANDARD OPERATING PROCEDURES', 'pdf_id': '31fba5d9-53a8-5d3c-81cc-358d15f0b6e4', 'publication_number': None, 'organization': 'CG-BSX', 'scope': '1_national', 'issue_date': '2023-06-12T00:00:00Z', 'upsert_date': '2024-11-14T19:45:30Z', 'expiration_date': '2033-06-12T00:00:00Z', 'aux_specific': True, 'public_release': True, 'embedding': 'text-embedding-ada-002', 'page_count': 34}}, vector=None, shard_key=None, order_value=None),\n",
       " Record(id='51beb301-53c3-45f5-9e18-3cd06b57494a', payload={'page_content': '                                                                                                                          AUX- SOP-012(A)  \\n                                                                                                                12 Jun 2023  \\n \\n25 \\n Check -in.  Location tagging a social media post to indicate where the user is, or where the \\ncontent in the post was created. Visting  a geographical location or event . Help brand awareness \\nwith follower check -in on your page. \\n \\nClickbait .  Web content with a misleading or sensationalist headline designed to get readers to \\nclick through to the full story to generate page views or obtain your digital information. \\n \\nComment .  Form of engagement in which a user replies to your social media post with an \\ninquiry, opinion or information. Comments can  be positive or negative. A large number of \\ncomments shows that your post is engaging or controversial.  \\n \\nContent .  Images, video, infographics, text and stories used to attract and retain followers on a \\npage.   \\n \\nDashboard.  T ool that allows social media administrators  to manage all their social media from \\none screen. A dashboard allows users to schedule, post, and view content , and to create analytics \\nreports.  \\n \\nEmbed .  Integration of links, images, videos, gifs and other content into social media posts or \\nother web media. Most social networks offer native tools to embed their content on other pages \\nor websites.   \\n \\nEmoji .  Small graphics used in digital text to represent expressions. 😊😊 😃😃 😢😢 \\n \\nEngagement.  Any form of interaction with your brand on social media. Likes, comments, and \\nshares are all forms of engagement . \\n \\nFan.  Someone who likes or follows your social media page.  \\n \\nFeed .  Ongoing list of new content posted by the accounts a user follows on social media. Most \\nsocial media feeds are controlled by an algorithm.  \\n \\nFollowers .  People who have liked or followed your page on social media.  \\n \\nFriend .  A person that you connect with on Facebook. Unlike a fan or follower, a friend is a two-\\nway personal connection. Pages do not have friends. Pages have fans and followers.  \\n \\nGeotag.  A geographical location added to a photo, video, message, or other social media post. \\nBe aware of geotags and OPSEC considerations. \\n \\nGIF.  An acronym for Graphics Interchange Format, a file format that supports both static and \\nanimated images. Facebook and Twitter both support animated GIFs.  \\n \\nGroup .  An online community within Facebook . Groups can be public, private or secret . \\nMembers with a common interest can share information and discuss relevant topics in groups.  \\n ', 'metadata': {'source': './test_pdfs_copies_delete_after_use/USCGAUX_Social_Media_SOP_FINAL_ESIGNED_12JUN23.pdf', 'page': 29, 'title': 'AUXILIARY SOCIAL MEDIA STANDARD OPERATING PROCEDURES', 'pdf_id': '31fba5d9-53a8-5d3c-81cc-358d15f0b6e4', 'publication_number': None, 'organization': 'CG-BSX', 'scope': '1_national', 'issue_date': '2023-06-12T00:00:00Z', 'upsert_date': '2024-11-14T19:45:30Z', 'expiration_date': '2033-06-12T00:00:00Z', 'aux_specific': True, 'public_release': True, 'embedding': 'text-embedding-ada-002', 'page_count': 34}}, vector=None, shard_key=None, order_value=None),\n",
       " Record(id='55ee5176-240f-4cee-80a7-fe231d1409c4', payload={'page_content': 'AUX- SOP-012(A)  \\n                                                                                                                12 Jun 2023  \\n \\n2 \\n (4)  Th ese Standard  Operating  Procedures  (SOP) complement the aforementioned  \\nreferences . It also serve s as a primary  reference and foundation, refining  the criteria  \\nand process  for utilizing  social  media  in the Auxiliary . It is  a fluid  document, to  be \\nupdated as  tech nology and practices  progress.   \\n \\n(5)  Th is document describes provisions for the use of social media by Auxiliary units \\nand individuals using personal accounts for Auxiliary business. Guidance for \\npersonal account use is  expressly noted and  all other general  guidance found in  this \\ndocument is  intended to  solely  apply to  Auxiliary  unit accounts . Refer  to Section  \\n5.R. of reference  (a) for additional guidelines on use of social  media  in official  and \\npersonal capacities.  \\n \\n(6)  It is the responsibility  of each  member  to understand the difference between  official,  \\nunofficial, and  personal  use of social  media  while  engaging online. \\n \\n(a)  Official .  The communication is your job. \\n \\n(b)  Unofficial .  The communication relates to your job regardless of when or where \\nyou write it.  \\n \\n(c)  Personal .  The communication is about personal issues and not related to your \\njob. When in doubt about social media guidelines and policy, check with your \\nunit Public Affairs (PA) staff officer and experienced leadership.   \\n \\n \\n \\n \\n \\n \\n \\n \\n \\n \\n \\n \\n \\n \\n \\n \\n \\n \\n  \\nDeborah Heldt Cordone, AUXPA 1', 'metadata': {'source': './test_pdfs_copies_delete_after_use/USCGAUX_Social_Media_SOP_FINAL_ESIGNED_12JUN23.pdf', 'page': 6, 'title': 'AUXILIARY SOCIAL MEDIA STANDARD OPERATING PROCEDURES', 'pdf_id': '31fba5d9-53a8-5d3c-81cc-358d15f0b6e4', 'publication_number': None, 'organization': 'CG-BSX', 'scope': '1_national', 'issue_date': '2023-06-12T00:00:00Z', 'upsert_date': '2024-11-14T19:45:30Z', 'expiration_date': '2033-06-12T00:00:00Z', 'aux_specific': True, 'public_release': True, 'embedding': 'text-embedding-ada-002', 'page_count': 34}}, vector=None, shard_key=None, order_value=None),\n",
       " Record(id='56b08acf-194b-40e9-8c18-cdcda6283177', payload={'page_content': '                                                                                                                          AUX- SOP-012(A)  \\n                                                                                                                12 Jun 2023  \\n \\n9 \\n  \\n(2)  On  national -level  Facebook pages,  there will be at  least  two staff  administrators,  with  \\nfull permissions, assigned  to each  page.  At least  one administrator  will be a page \\nmanager.  At least  one administrator,  division  chief or higher from  each  respective \\ndirectorate,  will be a silent administrator.   \\n \\n(3)  The  U.S. Coast  Guard  Auxiliary  Twitter  feed  is recognized  as the main  official  \\nAuxiliary  Twitter  page.  Page handle: @USCGAux.   \\n \\n(4)  The  U.S. Coast  Guard  Auxiliary  Instagram  page is  recognized  as the main  official  \\nAuxiliary  Instagram  page.  User  handle: @uscgaux.  \\n \\n(5)  For  national -level  Twitter , Instagram , and YouTube, there will be at  least  one \\nadministrator  assigned  to manage the page and  account. P ages will be created  using \\na directorate email.  For Twitter,  Instagram , and YouTube accounts, the director  and \\ndeputies of each  directorate  will be provided with  login information  for each  \\naccount,  including the relative  login email,  connected  phone number (if any),  user  \\nname and  password. \\n \\n(6)  If the current  account  information  is not up- to-date nor meet s the above criteria,  \\naccount  email,  phone number and  password  can be changed  in settings  by the page \\nadministrator.  Always  provide updated login information  to leadership . \\n \\ni.  District, Division  and Flotilla  Level s. \\n \\n(1)  The DSO- PA and ADSO- PA-SM will maintain a current list of all social media \\npages within their district. The Division Staff Officer for Public Affairs (SO -PA) \\nwill maintain a list of all social media pages within their division and provide that \\nlist to the DSO -PA and ADSO- PA-SM any time there is a change to it. \\n \\n(2)  The  DSO- PA and ADSO- PA-SM will also  be added  as silent administrators  with  full \\npermissions to  every  Facebook page within  their  district.  They  will not post content. \\nThey  will monitor pages  on behalf  of the District Commodore. This  assignment does \\nnot diminish  the responsibility of respective units to  administer  and monitor their  \\nown pages.  If a unit has  an unauthorized page,  the DSO- PA or ADSO- PA will still \\nbe provided login info, including login credentials  to access  the account. \\n \\n(3)  Within  units, there must be more  than  one administrator  on every  Auxiliary  \\nFacebook page,  including managing and  leadership  administrator s. \\n \\n(4)  The Public Affairs  staff  officer  will be assigned as  a primary  or additional \\nadministrator , silent or otherwise.  The FSO-PA will be added  to the f lotilla  social  \\nmedia  page.  The SO-PA will be added  to all flotilla  pages  within  their  division and  \\nthe division page itself . \\n ', 'metadata': {'source': './test_pdfs_copies_delete_after_use/USCGAUX_Social_Media_SOP_FINAL_ESIGNED_12JUN23.pdf', 'page': 13, 'title': 'AUXILIARY SOCIAL MEDIA STANDARD OPERATING PROCEDURES', 'pdf_id': '31fba5d9-53a8-5d3c-81cc-358d15f0b6e4', 'publication_number': None, 'organization': 'CG-BSX', 'scope': '1_national', 'issue_date': '2023-06-12T00:00:00Z', 'upsert_date': '2024-11-14T19:45:30Z', 'expiration_date': '2033-06-12T00:00:00Z', 'aux_specific': True, 'public_release': True, 'embedding': 'text-embedding-ada-002', 'page_count': 34}}, vector=None, shard_key=None, order_value=None),\n",
       " Record(id='5b989746-8c6a-4213-bdff-a9c80a57b7c5', payload={'page_content': '                                                                                                                          AUX- SOP-012(A)  \\n                                                                                                                12 Jun 2023  \\n \\n1 \\n Auxiliary Social Media  \\n \\nStandard Operating Procedures  \\n \\n \\n1.  Introduction to Social Media.  \\na.  What is Social Media? \\n \\n(1)  The Department of Homeland Security defines social media as  the sphere of \\nwebsites, applications, and web-based tools that connect users to engage in dialogue, share information and media, collaborate, and interact. Social media take many different forms, including but not limited to web-based communities and hosted services, social networking sites, video and photo sharing sites, blogs, virtual worlds, social bookmarking, and other emerging technologies. \\n \\n(2)  Social  media  provides an  avenue to  bridge time  and distance to  facilitate  \\ncommunications among people with  various backgrounds and  geographic locations.  \\nIt has become an integral part of our everyday  life and is an in valuable \\ncommunication tool in the 21st century .   \\n \\n(3)  Over  80 percent  of Americans use social media, with the majority on a daily basis. In \\n2023, it was  reported there were  over 4.9 billion active users globally. This was an \\nexponential and phenomenal increase from 2005 when modern- day social media \\nusage was only about seven percent  of the population (Pew Research Center) . \\n \\nb.  Social  Media and  the Coast  Guard  Auxiliary  \\n \\n(1)  Social  media , which  falls under Coast  Guard  public affairs  program  management , \\ngreatly  enhances our ability to  tell the Coast  Guard  and Coast  Guard  Auxiliary \\nstories via text,  imagery,  graphics, and  video. It is used as an avenue to  connect  with  \\nthe boating public and  disseminate  valuable content in  several  mission  areas . \\nAlthough Auxiliary  units are not required  to have a social  media  presence, unlike \\nmost websites,  social  media  is dynamic and  immediate . It allows  two-way, \\nsynchronous communication , and  feedback  with  our stakeholders in  an \\nunprecedented  fashion. \\n \\n(2)  With  the benefit  of adding social  media  to the public affairs  toolkit, we  also have the \\nresponsibility  to understand the guidelines and  ramifications . Official  guidelines and  \\npolic ies have not wholly kept up with  ever -changing technologies . Guidance must \\nevolve as  social  media use increases  among Auxiliary units. \\n \\n(3)  In 2021, the Coast  Guard  released the updated  reference  (c) to which  the Auxiliary  \\ncurrently  adheres.  The Auxiliary  also follows the policies  and procedures in  Section \\n5.R. of reference (a)  as well as those of references (b) and  (d).  \\n \\n', 'metadata': {'source': './test_pdfs_copies_delete_after_use/USCGAUX_Social_Media_SOP_FINAL_ESIGNED_12JUN23.pdf', 'page': 5, 'title': 'AUXILIARY SOCIAL MEDIA STANDARD OPERATING PROCEDURES', 'pdf_id': '31fba5d9-53a8-5d3c-81cc-358d15f0b6e4', 'publication_number': None, 'organization': 'CG-BSX', 'scope': '1_national', 'issue_date': '2023-06-12T00:00:00Z', 'upsert_date': '2024-11-14T19:45:30Z', 'expiration_date': '2033-06-12T00:00:00Z', 'aux_specific': True, 'public_release': True, 'embedding': 'text-embedding-ada-002', 'page_count': 34}}, vector=None, shard_key=None, order_value=None),\n",
       " Record(id='7099378b-6f93-40df-9a2e-d61d52798eb2', payload={'page_content': '                                                                                                                          AUX- SOP-012(A)  \\n                                                                                                                12 Jun 2023  \\n \\n7 \\n  \\ne.  Who  Can Be a Social  Media A dministrator  for the Auxiliary?   \\n \\n(1)  Any Auxiliary  member  assigned  as a social  media administrator  on an  official  Coast  \\nGuard  Auxiliary  social  media  account must: \\n \\n(a)  Be an enrolled  Auxiliar ist in Basically  Qualified  membership  status  with  a \\nFavorable Operational  Support (OS) background check . \\n \\n(b)  Successfully  complete  the eLearning  course AUX-20 Introduction to  Auxiliary  \\nPublic Affairs .  \\n \\n(c)  Read references  (c), (d), and  this SOP , and  relevant  sections  of refere nce (a)  and \\n(b) pertaining to  social  media.  \\n \\n(d)  Complete o ne hour of social media training by authorized district or national \\nclass. The DSO -PA or ADSO- PA-SM can offer that training .  \\n \\n(ef  Have good foundational knowledge of social media, plus experience.  \\n \\n(g)  All posts must be pre -approved by the administrator’s unit commander.  \\n \\nf.  What  Social  Media P latforms  Do We U se? \\n \\n(1)  There are several  social  media  sites  available.  For official  purposes, we are currently  \\nauthorized  to use Facebook, Twitter,  Instagram , and YouTube, plus a national -level  \\nblog. However,  Auxiliary  units  are not  required  to have a social  media  presence.  \\n \\n(2)  Facebook  is the most commonly used  platform by the Coast  Guard  and Auxiliary. It \\nis statistically  the most popular social  media  site available,  with  almost three billion  \\nactive monthly users.   \\n \\n(3)  Only  one official  page per  platform,  per unit (f lotilla,  division, d istrict) , is authorized . \\nFor example,  a district may  have one official  Twitter  page,  but not two.  A district \\nmay simultaneously  have Facebook, Twitter , and Instagram  pages . \\n \\n(4)  Twitter  pages  are authorized  at district- level  or above. Instagram is  now authorized  at \\nflotilla  level  and above. \\n \\n(5)  One  official  YouTube channel  is allowed  at national  and district level s, to be \\nmanaged  by appointed staff . One  national- level  LinkedIn account is  also authorized  \\nand is to be managed  by appointed national staff.   One Flickr  account is  allowed  at \\nnational level  and is to be managed  by appointed national staff.  \\n \\n(6)  District- level  Twitter  accounts  should be made available by the DSO- PA to serve \\ndivision  and flotilla  units upon request . However,  the DSO- PA and/or ADSO- PA-', 'metadata': {'source': './test_pdfs_copies_delete_after_use/USCGAUX_Social_Media_SOP_FINAL_ESIGNED_12JUN23.pdf', 'page': 11, 'title': 'AUXILIARY SOCIAL MEDIA STANDARD OPERATING PROCEDURES', 'pdf_id': '31fba5d9-53a8-5d3c-81cc-358d15f0b6e4', 'publication_number': None, 'organization': 'CG-BSX', 'scope': '1_national', 'issue_date': '2023-06-12T00:00:00Z', 'upsert_date': '2024-11-14T19:45:30Z', 'expiration_date': '2033-06-12T00:00:00Z', 'aux_specific': True, 'public_release': True, 'embedding': 'text-embedding-ada-002', 'page_count': 34}}, vector=None, shard_key=None, order_value=None),\n",
       " Record(id='75112b74-cbfa-45b4-b8bf-1854c3e275b2', payload={'page_content': \"                                                                                                                          AUX- SOP-012(A)  \\n                                                                                                                12 Jun 2023  \\n \\n26 \\n Hashtag.  A word or phrase preceded by the '#' or number symbol. Used on social media to help \\nother users easily find messages with a specific theme or content.  Hashtags are searchable and \\nserve a similar role as keywords. There are no spaces in hashtags. #SemperParatus #WearIt \\n#SafeBoating . \\n \\nHeader or C over P hoto . An i mage that appears at the top of a social media profile.   \\n \\nInbox.  A social media electronic folder where you read, respond and organize messages.   \\n \\nInfluencer.  A soc ial media user with a significant audience who can drive awareness about a \\ntrend , topic, or product.  \\n \\nLike .  A positive form of engagement on social media indicating you like content by clicking on \\na button. On Facebook, the 'like' button is a thumbs-up emoji. On Twitter and Instagram, a 'like' \\nis expressed with a heart emoji.  \\n \\nLive S tream .  A real -time video shared on social media.  Most social networks now offer live \\nstreaming options that include the possibility to interact with viewers, who can submit written \\ncomments and questions throughout the broadcast.  \\n \\nLurker.  Someone who watches a social media feed or belongs to a social media group but does \\nnot participate or engage.  \\n \\nMeme.  A joke or comment made for sharing on social networks, usually appearing in the form \\nof a graphic with clever text.  \\n \\nMessenger.  Facebook’s instant messaging app. Allows Facebook users to send direct messages \\nto each other.  \\n \\nNews  Feed.  Facebook term for the ongoing list of new content posted for a follower to view.   \\n \\nNotification .  Message or alert indicating new social media activity  on your page or personal \\naccount. Notifications can be turned on or off for various channels.  \\n \\nOrganic R each .  The number of unique users who view your content without paid promotion. \\nThis can be through their own feed or from content shared by others. Auxiliary pages and \\ncontent receive organic reach data since there is no paid content .   \\n \\nPhishing .  The  act of sending you a fraudulent message  or email  with questions, requests, threats \\nor links used to lure you to reveal personal information.  \\n \\nPinned Post.  A social media post saved to the top of the page on Facebook or Twitter. Pinning a \\npost features an important announcement, event or other highlight ed content.  \\n \\nPlatform .  A social network or a component of a social network. Facebook, Twitter and \\nInstagram are all social media platforms.  \", 'metadata': {'source': './test_pdfs_copies_delete_after_use/USCGAUX_Social_Media_SOP_FINAL_ESIGNED_12JUN23.pdf', 'page': 30, 'title': 'AUXILIARY SOCIAL MEDIA STANDARD OPERATING PROCEDURES', 'pdf_id': '31fba5d9-53a8-5d3c-81cc-358d15f0b6e4', 'publication_number': None, 'organization': 'CG-BSX', 'scope': '1_national', 'issue_date': '2023-06-12T00:00:00Z', 'upsert_date': '2024-11-14T19:45:30Z', 'expiration_date': '2033-06-12T00:00:00Z', 'aux_specific': True, 'public_release': True, 'embedding': 'text-embedding-ada-002', 'page_count': 34}}, vector=None, shard_key=None, order_value=None),\n",
       " Record(id='7794cf63-de9c-4ac7-b10e-e65df17319c5', payload={'page_content': '                                                                                                                          AUX- SOP-012(A)  \\n                                                                                                                12 Jun 2023  \\n \\n19 \\n (j)  Do not use the Auxiliary s eal, as shown above, on your social media. It  has a \\ndifferent design and purpose. Use of the Auxiliary s eal is only authorized for \\nuse on official Auxiliary documents requiring signature under seal, plus some \\nother limited uses such as official Auxiliary stationary.  \\n \\n(k)  The Auxiliary s eal is not authorized for use on Auxiliary websites , social media \\npages,  or in any other electronic venues that may facilitate its unauthorized \\nduplication. \\n \\n(l)  In posting Facebook content, make sure descriptions, images, and uniforms are  \\nin line with Coast Guard and Auxiliary policy. Carefully f ollow guidelines in \\nthe Rules of Engagement section of this SOP . \\n \\n(m) On Facebook, you can edit content after it has been posted. Click on the three \\nhorizontal dots on the upper right corner of the post which reveals a drop- down  \\nmenu. You can edit the text, change the date, delete the post or pin it to the top \\nof the page timeline. Beware anyone can see the edits you made by clicking on \\nedit history via the sa me drop-down menu. \\n \\n(n)  People can message your Auxiliary page, which can be seen in the page inbox. \\nIt is appropriate to respond to messages in a timely and professional manner. \\nYou can also  create an automated response for when you cannot answer right \\naway. If someone messages you with a complaint about an Auxiliary member, \\ndo not investigate the matter. Thank the person for their message and tell them \\nyou will pass the information to the proper person.  \\n \\n(o)  Take a screenshot of the complaint, including the name of the person who \\nmessaged you. Note the day, date, and time. If a link to content was provided, \\ntake a screenshot of the content in case it disappears. Look in the Auxiliary \\nDirectory  a nd see if the alleged offender is listed. Note their unit number and \\nunit commander. Do not contact the Auxiliary member. E mail your COLM  \\nimmediately  with the gathered information, followed by a phone call to make \\nsure the email was received . Though you may be the administrator who receives \\nthe complaint from the reporting party, you do not have authority to investigate \\nor take action. \\n \\n(p)  A \" call-to-action \" button can be added  to your page, below the cover photo. \\nThis button can guide users towards important information.  The  button can be \\nlinked to the sign up form  on the Auxiliary website, cgaux.org, or your unit \\nwebsite.  \\n \\n(q)  Facebook allows prescheduled posting, which is convenient for key dates and \\nevents . This feature is helpful during National Safe Boating Week. \\n \\n \\n ', 'metadata': {'source': './test_pdfs_copies_delete_after_use/USCGAUX_Social_Media_SOP_FINAL_ESIGNED_12JUN23.pdf', 'page': 23, 'title': 'AUXILIARY SOCIAL MEDIA STANDARD OPERATING PROCEDURES', 'pdf_id': '31fba5d9-53a8-5d3c-81cc-358d15f0b6e4', 'publication_number': None, 'organization': 'CG-BSX', 'scope': '1_national', 'issue_date': '2023-06-12T00:00:00Z', 'upsert_date': '2024-11-14T19:45:30Z', 'expiration_date': '2033-06-12T00:00:00Z', 'aux_specific': True, 'public_release': True, 'embedding': 'text-embedding-ada-002', 'page_count': 34}}, vector=None, shard_key=None, order_value=None),\n",
       " Record(id='77e8fe18-8130-48df-a03c-78b74cc34a68', payload={'page_content': 'AUX- SOP-012(A) \\n                                                                             12 Jun 2023 \\ni  \\nTable of Contents  \\n \\n1. Introduction to Social Media                          1 \\n2. Social Media Security                        3 \\n3. Managing Social Media                        6 \\n4. Rules of Engagement  11 \\n5.  Creating a Social Media Presence  15 \\nAppendix A  \\nAppendix B Auxiliary Social Media Platforms Summary  \\nSocial Media Glossary  23 \\n24 \\nAppendix C Auxiliary Photography/Photo/Video Consent Form /Release   29 \\n   \\n   \\n   \\n   \\n   \\n   \\n   \\n   \\n   \\n   \\n   \\n   \\n   \\n   \\n   \\nU.S. Coast Guard Auxiliary  \\nSocial Medi a Standard \\nOperating Procedures', 'metadata': {'source': './test_pdfs_copies_delete_after_use/USCGAUX_Social_Media_SOP_FINAL_ESIGNED_12JUN23.pdf', 'page': 4, 'title': 'AUXILIARY SOCIAL MEDIA STANDARD OPERATING PROCEDURES', 'pdf_id': '31fba5d9-53a8-5d3c-81cc-358d15f0b6e4', 'publication_number': None, 'organization': 'CG-BSX', 'scope': '1_national', 'issue_date': '2023-06-12T00:00:00Z', 'upsert_date': '2024-11-14T19:45:30Z', 'expiration_date': '2033-06-12T00:00:00Z', 'aux_specific': True, 'public_release': True, 'embedding': 'text-embedding-ada-002', 'page_count': 34}}, vector=None, shard_key=None, order_value=None),\n",
       " Record(id='80df16fa-37a9-4ef6-a16e-efee700d6138', payload={'page_content': '                                                                                                                          AUX- SOP-012(A)  \\n                                                                                                                12 Jun 2023  \\n \\n10 \\n (5)  If an administrator  no longer belongs to  the unit for any  reason  (e.g., transfers  to a \\ndifferent  unit), they  will be immediately  removed  from  the page, even  if they  created  \\nit. \\n \\n(6)  For  unit Twitter  accounts,  pages  will be created  using a unit email.  The administrator  \\nwill provide login information  to the DSO- PA, ADSO-PA- SM, unit PA  staff  officer , \\nand unit commander . At district level,  the information  will be provided to  the DCO \\nand DCOS.  Login information  includes relative  login  email,  connected  phone \\nnumber (if any),  user  name , and  password. If current  account  information  is not up-\\nto-date or does not meet  the above criteria,  account  email,  phone number, and \\npassword shall  be changed  in settings  by the page administrator.  Always  provide \\nupdated information. \\n \\n(7)  Unit PA staff officers  (FSO -PA, SO -PA, DSO- PA) will include social media activity  \\nin their monthly Easy Reports. New social media pages will be included in the \\nreport . \\n \\n(8)  When  unit PA  staff  officers  (FSO-PA, SO-PA, DSO- PA) leave their  assigned  \\npositions, th e incoming unit  PA staff  officer shall  be immediately  added  as \\nadministrator  to respective social  media  accounts within  the district, and  be provided \\nlogin info  for district Twitter  or Instagram  account if  they  exist.  In case there is  no \\nunit PA  staff  officer, the unit commander  or vice commander will be added  until a \\nPA staff  officer is  assigned . \\n \\n(9)  When  page managers  want  to leave their  positions, there is  a process. Do  not \\nabandon, deactivate, or unpublish pages!  Unit leadership  must first  be informed  \\nalong with  the DSO- PA via the public affairs  program  chain . The  page needs  to be \\nrelinquished to  the DSO- PA and unit leadership . Leadership  will decide if  they want  \\nto keep  the page active.   \\n \\n(10)  In this instance,  unit leadership  must decide if  they  have qualified  staff  to manage \\nthe page or they  want  to unpublish (Facebook) or deactivate (Twitter)  the page. If \\nthe page is  to be taken  down, the DSO- PA will remove the other administrator s. \\nThis gives the DSO- PA control of the page to  avoid future  issues.   \\n \\n(11)  Auxiliary  social  media  pages  constitute  federal  record s. The  pages must be archived \\nbefore  unpublishing or deactivating.  The record s must be preserved  in accordance \\nwith federal  records  management  policy, and  are otherwise subject  to the Freedom \\nof Informa tion Act (FOIA). DSO- PAs will keep  an electronic file of archived  \\npages.   \\n \\n(12)  If a page or  account has been  inactive  for six  months or more , the DSO -PA or \\nADSO- PA-SM should assist in helping the respective unit. Before the deletion of \\nany page in such instances, the DSO- PA will be consulted. \\n ', 'metadata': {'source': './test_pdfs_copies_delete_after_use/USCGAUX_Social_Media_SOP_FINAL_ESIGNED_12JUN23.pdf', 'page': 14, 'title': 'AUXILIARY SOCIAL MEDIA STANDARD OPERATING PROCEDURES', 'pdf_id': '31fba5d9-53a8-5d3c-81cc-358d15f0b6e4', 'publication_number': None, 'organization': 'CG-BSX', 'scope': '1_national', 'issue_date': '2023-06-12T00:00:00Z', 'upsert_date': '2024-11-14T19:45:30Z', 'expiration_date': '2033-06-12T00:00:00Z', 'aux_specific': True, 'public_release': True, 'embedding': 'text-embedding-ada-002', 'page_count': 34}}, vector=None, shard_key=None, order_value=None),\n",
       " Record(id='b3a0cecd-57f5-4a32-9105-5747152ea7f5', payload={'page_content': '                                                                                                                          AUX- SOP-012(A)  \\n                                                                                                                12 Jun 2023  \\n \\n6 \\n Affairs  (DSO- PA). Do  not unpublish or deactivate the page.  Let leadership  address  \\nunpublishing the page.  More  on protocol for removing a page in  the next section.  \\n \\n(15)  Make sure  all devices,  desktop and  mobile,  are up-to-date with  security  software  \\nprotection. Our  computers and  smart  phones are  indispensable tools, and  we need  to \\nmitigate  risk.   \\n \\n(16)  Be aware of GEOtagging on social media. Geotagging is the process of adding \\ngeographical identification metadata to various media such as a photograph or \\nvideo, websites, SMS messages, QR Codes. It may reveal a location that should not \\nbe revealed, creating an OPSEC concern.    \\n \\n3.  Managing Social Media. \\n \\na.  Official Auxiliary  social  media  pages  potentially  have a worldwide  audience and are \\nexposed to  public scrutiny  more  than  ever . We  need  to present  content and  responses in  a \\nprofessional manner, reflecting  our core values  and command  messages.  Thus, those \\ninvolved in  using this  very  public medium need  to be trained  in the discipline  of Auxiliary  \\npublic a ffairs  coupled with  social  media  knowledge and  experience.  \\n \\nb.  Social  media  management  is often  more  complex  than  many  realize.  Unit commanders  \\nmust take into  account  resources  and training  when  considering a social  media  presence.  \\nOnly create a social media page if you have trained  Auxiliary staff to manage and \\nmonitor it on a consistent basis. \\n \\nc.  Unit leaders must include social media management during periods of unit leadership \\ntransition. Consider :  \\n \\n(1)  S taffing . \\n \\n(2)  Staff turnover. \\n \\n(3)  Familiarizing new staff/leaders with existing pages. \\n \\n(4)  Assessing c onsistent administration and  monitoring of pages. \\n \\n(5)  Optimizing effectiveness of your social media presence. \\n \\n(6)  Adding administrators  and providing logins to new staff/leader s while  removing \\nprevious staff. Change passwords.        \\n \\nd.  If an  Auxiliary  unit at  any organizational level  within  a district/region  creates  a social  \\nmedia  account of any  sort, then  the District Commodores shall  appoint an  Assistant  \\nDistrict Staff  Officer for Public Affairs  - Social  Media (ADSO- PA-SM) to help  manage \\nand monitor such  social  media  accounts. An  ADSO- PA-SM must be well -versed  on \\nCoast  Guard  and Auxiliary  social  media  policy and  guidelines, and  not be the DSO- PA.  \\n', 'metadata': {'source': './test_pdfs_copies_delete_after_use/USCGAUX_Social_Media_SOP_FINAL_ESIGNED_12JUN23.pdf', 'page': 10, 'title': 'AUXILIARY SOCIAL MEDIA STANDARD OPERATING PROCEDURES', 'pdf_id': '31fba5d9-53a8-5d3c-81cc-358d15f0b6e4', 'publication_number': None, 'organization': 'CG-BSX', 'scope': '1_national', 'issue_date': '2023-06-12T00:00:00Z', 'upsert_date': '2024-11-14T19:45:30Z', 'expiration_date': '2033-06-12T00:00:00Z', 'aux_specific': True, 'public_release': True, 'embedding': 'text-embedding-ada-002', 'page_count': 34}}, vector=None, shard_key=None, order_value=None),\n",
       " Record(id='b6db7dae-f089-4d5e-abdb-b5f9693ed2db', payload={'page_content': '                                                                                                                          AUX- SOP-012(A)  \\n                                                                                                                12 Jun 2023  \\n \\n17 \\n (6)  If you already  have a page with  incorrect  naming, do not make a new  page! Page \\nnames  can be changed  within  the \"s ettings ” menu. \\n \\n(7)  Do  not create \"unofficial\" Auxiliary  pages.  Any page created under the Coast Guard \\nAuxiliary name is considered official and public. There are no unofficial pages.  \\n \\n(8)  Never  create an official social  media  page for active duty Coast  Guard. That is solely  \\nunder the authority of active duty units and  managed  by Coast  Guard  PAOs. Active  \\nduty Coast  Guard  units will create their  own pages  with  the guidance of active duty \\nPAOs .  \\n \\n(9)  Auxiliary  social  media  pages  are not owned by  Auxiliary  members  even  if they  \\ncreate the page and  page content. Auxiliary  pages  and original content belong to  the \\nAuxiliary  and will be relinquished when  asked.  Auxiliary  pages  will remain  only in  \\nthe possession  of current  Auxiliary  members  and units.  \\n \\n(10)  Creating  a Facebook Page. \\n \\n(a)  To create or administer  an official  Auxiliary Facebook page, you must first \\nhave a personal profile on Facebook. A personal profile and timeli ne are a place \\non Facebook where you can share information (e.g, photos, videos) about \\nyourself. Note that u sing generic or fake identities on  Facebook to create an \\naccount  is a violation of their Terms of Service. If you use a unit name as a \\nprivate timeline na me (which is common practice), you are at risk of having the \\npersonal account removed, which could put the page at risk.  \\n \\n(b)  Reference (b)  guidance is to  not disguise, impersonate , or misrepresent who \\nyou are online. \\n \\n(c)  If you do not al ready have a personal account, you can create an account on \\neither your computer or via the mobile Facebook application on your \\nsmartphone (e.g., android or iPhone). Be aware not  all Facebook features or \\nfunctions work on mobile. \\n \\n(d)  Know the difference between pages and groups. For an official Facebook \\nAuxiliary page, use the \\'page\\' format not the \\'group\\' format. The two \\nformats  have different features and purposes. A \\'page\\' platform is public and \\nallows brands and organizations to introduce their services and activities with a \\nmore professional fact -based method. When someone on Facebook likes or \\nfollows a page, they can start viewing page updates in the newsfeed. A group is a community -based feature that gathers people with the same interests to discuss \\ntopics and share their opinions. Discussions are also welcome on Auxiliary pages if they fall within the guidelines of comment policy. Pages statistically \\nyield better results in search engines since all the text is public.  \\n ', 'metadata': {'source': './test_pdfs_copies_delete_after_use/USCGAUX_Social_Media_SOP_FINAL_ESIGNED_12JUN23.pdf', 'page': 21, 'title': 'AUXILIARY SOCIAL MEDIA STANDARD OPERATING PROCEDURES', 'pdf_id': '31fba5d9-53a8-5d3c-81cc-358d15f0b6e4', 'publication_number': None, 'organization': 'CG-BSX', 'scope': '1_national', 'issue_date': '2023-06-12T00:00:00Z', 'upsert_date': '2024-11-14T19:45:30Z', 'expiration_date': '2033-06-12T00:00:00Z', 'aux_specific': True, 'public_release': True, 'embedding': 'text-embedding-ada-002', 'page_count': 34}}, vector=None, shard_key=None, order_value=None),\n",
       " Record(id='b863eb90-334c-4963-b476-02f9bfbcc3d5', payload={'page_content': '                                                                                                                          AUX- SOP-012(A)  \\n                                                                                                                12 Jun 2023  \\n \\n5 \\n (5)  Do not post Auxiliary F acility  (AUXFAC)  vessel names or registration numbers \\nsince in some states this  may lead to a member name and address. Avoid AUXFAC \\nnames /numbers in images. Our posts should not be the catalyst to finding PII . \\n \\n(6)  Do not link bank accounts or other sensitive information to official social media \\naccount s. Do not boost posts with paid ads or any type of paid engagement. Do not \\nmonetize Auxiliary social media accounts.   \\n \\n(7)  Monitor your Auxiliary social media daily , checking for unusual activity that \\nindicates a hack.  If you have been compromised, change your password immediately \\nand verify  engagement of the two -factor authentication  process.  You can also \\nrequest alerts about unrecognized logins.   \\n \\n(8)  Due  to identi ty theft  and other online threats,  be cognizant of privacy  settings  on your \\npersonal accounts too, and  mak e your personal pages more  secure via privacy  setting  \\nadjustments . On Facebook, Twitter  and Instagram  personal accounts, we  recommend  \\nto set your audience to  \"friends  only\" instead  of public. \\n \\n(9)  On  your personal  pages, do not add  people or followers  you do not know to  your \\nfriend  list. It is not unusual to  receive friend  requests from  people you do not know, \\nwhich  may  include hackers.  \\n \\n(10)  If you use your personal page for business purposes, consider making a separate \\nbusiness page instead , or assigning each  post to  a target  audience.  On Facebook, \\nyou can  create custom lists  of people and  set your individual posts accordingly. Do  \\nnot use your personal timeline  to officially  conduct Auxiliary  business or disputes.  \\n \\n(11)  It is fine to share official  Auxiliary  posts to  your personal timeline  or account . In \\nthis case,  it is recommended  to keep  the shared  post to  a \"friends  only\" setting . If \\nyou do not maintain  that privacy  setting,  anyone can see a list of share d names  on \\nthe original post and  can click  on names, going directly  to personal timeline s, and  to \\nthe timelines  of anyone who has liked  or commented  on your public post.  \\n \\n(12)  Fake personal or business accounts  (cloning).  Search your social media on a routine \\nbasis for accounts impersonating you or your page. These cloned accounts are \\nusually created  for the purpose of criminal activity. Report these pages  or timelines  \\nto the respective platform.  \\n \\n(13)  Use  caution  opening messages  or comments  sent to Auxiliary  or personal  pages  that \\ncontain  video or links. If you have opened  a message,  do not click  on the video or \\nlink since these are sometimes  used  to spread  malware and viruses. \\n \\n(14)  Unmonitored or abandoned Auxiliary  social  media  accounts can  be the  target  of \\nhackers,  who can potentially  and fraudulently post messages  under the Auxiliary  \\nname.  Do not abandon pages!  Keep  them  active.  If a page is  no longer managed , \\nrelinquish the account  to the unit commander  and District Staff  Officer for Public ', 'metadata': {'source': './test_pdfs_copies_delete_after_use/USCGAUX_Social_Media_SOP_FINAL_ESIGNED_12JUN23.pdf', 'page': 9, 'title': 'AUXILIARY SOCIAL MEDIA STANDARD OPERATING PROCEDURES', 'pdf_id': '31fba5d9-53a8-5d3c-81cc-358d15f0b6e4', 'publication_number': None, 'organization': 'CG-BSX', 'scope': '1_national', 'issue_date': '2023-06-12T00:00:00Z', 'upsert_date': '2024-11-14T19:45:30Z', 'expiration_date': '2033-06-12T00:00:00Z', 'aux_specific': True, 'public_release': True, 'embedding': 'text-embedding-ada-002', 'page_count': 34}}, vector=None, shard_key=None, order_value=None),\n",
       " Record(id='bc69fa54-17cc-44ce-b835-a8741965795f', payload={'page_content': 'Subj:  AUXILIARY SOCIAL MEDIA STANDARD OPERATING        16790 / AUX- SOP-012(A) \\n          PROCEDURES                  12 Jun 2023 \\n \\n2  \\n8. SCOPE AND AUTHORITIES .  It is recommended the reader become familiar with the \\ndirectives and publications noted throughout this SOP . \\n \\n9. ENVIRONMENTAL ASPECT AND IMPACT CONSIDERATIONS .  This SOP  will not result \\nin any substantial change to existing environmental conditions or violation of any applicable \\nfederal, state, or local laws relating to the protection of the environment. \\n \\n10. DISTRIBUTION .  No paper distribution will be made of this SOP . An e lectronic version will \\nbe posted on the Coast Guard Auxiliary web site: https://www.cgaux.org  . All web sites in this SOP  \\nare the most current available. If the cited web link does not work, then access should be attempted \\nby copying and pasting or typing the web site address into the user’s internet browser.   \\n \\n11. RECORDS MANAGEMENT CONSIDERATIONS .  Records created as a result  of this SOP , \\nregardless of format or media, must be managed in accordance with records retention guidance in reference s (a) and (e).  \\n 12. FORMS.  Any forms referenced in this SOP  are available on the Coast Guard Auxiliary web \\nsite: https://www.cgaux.org\\n . \\n \\n13. REQUEST FOR CHANGES .  Auxiliary units and individuals may formally recommend \\nchanges in writing through the ir chain of leadership and management including the appropriate \\nAuxiliary national program manager(s) (email acceptable). Comments and suggestions from users of this SOP  are welcomed. All such correspondence may be emailed to Commandant (CG- BSX -1) \\nat: \\nCGAUX@uscg.mil  .  \\n  \\n# \\n  \\nDist:  DIRAUX (dpa),  NEXCOM, ANACO- CC, ANACO- FC, DIR -A', 'metadata': {'source': './test_pdfs_copies_delete_after_use/USCGAUX_Social_Media_SOP_FINAL_ESIGNED_12JUN23.pdf', 'page': 3, 'title': 'AUXILIARY SOCIAL MEDIA STANDARD OPERATING PROCEDURES', 'pdf_id': '31fba5d9-53a8-5d3c-81cc-358d15f0b6e4', 'publication_number': None, 'organization': 'CG-BSX', 'scope': '1_national', 'issue_date': '2023-06-12T00:00:00Z', 'upsert_date': '2024-11-14T19:45:30Z', 'expiration_date': '2033-06-12T00:00:00Z', 'aux_specific': True, 'public_release': True, 'embedding': 'text-embedding-ada-002', 'page_count': 34}}, vector=None, shard_key=None, order_value=None),\n",
       " Record(id='c2547250-2f7e-439e-b044-8efcd5452273', payload={'page_content': '                                                                                                                          AUX- SOP-012(A)  \\n                                                                                                                12 Jun 2023  \\n \\n27 \\n  \\nPost.  Any social media status update, photo, video, or other content shared on your platform.  \\n \\nReach .  Total number of people who have seen a particular  social post or ad. This metric does \\nnot necessarily i ndicate that all of these people have actually seen your content. They could have \\nscrolled right past it, for instance.  \\n \\nReaction .  A form of engagement on Facebook. In addition to Likes, reactions include Love, Ha -\\nha, Wow, Sad, and Angry. Each of these r eactions is expressed by clicking on the corresponding \\nemoji.  \\n \\nReply .  A social media function that allows you to respond publicly to another user’s comment, \\ncreating a comment thread.  \\n \\nRetweet .  To share someone else’s Tweet with your followers. When you click the retweet \\nbutton on the Twitter website or app, you can opt to republish the tweet as is, or add a comment \\nabove the retweet.  \\n \\nScheduling .  Planning social media updates and content ahead of time using a social media \\nmanagement platform or other publishing tool like Creator Studio .  \\n \\nSelfie .  A self -portrait photograph, usually taken with a smartphone and shared on social media. \\n \\nShare .  When  social media  users post content from another on their own network page, timeline \\nor group. \\n \\nSpam .  Unsolicited , unwanted, or repetitive content that clogs inboxes and clutters social media \\nfeeds. Digital junk mail.  \\n \\nTag.  A keyword added to a social media post to categorize content. You can also tag someone \\nin a post or photo, which creates a link to their social media profile and associates them with the \\ncontent. Users have the option to remove unwanted tags from their profile. Do not tag \\nAuxiliarists  on official Auxiliary Facebook pages. \\n \\nThread .  String of messages that make up a conversation on a social media post. Threads begin \\nwith an initial message and then continue as a series of replies or comments.  \\n \\nThrowback Thursday (#TBT) .  A popular hashtag used to share old photos on social media.  \\n \\nTraffic .  The number of users who visit a page.  In a social media context, increasing traffic is a \\ncommon marketing objective.  \\n \\nTrending .  A t opic that is popular on social media at a given moment.  \\n \\nTroll .  A social media user who makes deliberately offensive or annoying postings intending to \\nprovoke other users. ', 'metadata': {'source': './test_pdfs_copies_delete_after_use/USCGAUX_Social_Media_SOP_FINAL_ESIGNED_12JUN23.pdf', 'page': 31, 'title': 'AUXILIARY SOCIAL MEDIA STANDARD OPERATING PROCEDURES', 'pdf_id': '31fba5d9-53a8-5d3c-81cc-358d15f0b6e4', 'publication_number': None, 'organization': 'CG-BSX', 'scope': '1_national', 'issue_date': '2023-06-12T00:00:00Z', 'upsert_date': '2024-11-14T19:45:30Z', 'expiration_date': '2033-06-12T00:00:00Z', 'aux_specific': True, 'public_release': True, 'embedding': 'text-embedding-ada-002', 'page_count': 34}}, vector=None, shard_key=None, order_value=None),\n",
       " Record(id='c34c1536-f163-45af-be91-a65ed66d9fbf', payload={'page_content': 'AUX- SOP-012(A)  \\n                                                                                                                12 Jun 2023  \\n \\n28 \\n  \\nTweet .  A Twitter post. Tweets are limited to 280 characters and can include photos, videos, and \\nlinks. They are public by default. \\n \\nUnfollow.  To unsubscribe from a social media page or person.  \\n \\nURL .  Short for Uniform Resource Locator. It means the address of a website page or other \\nresource on the Internet.  \\n \\nViral .  A particular post or video that creates an unusually large number of engagements. An \\nextremely high number of shares is the clearest sign of going viral, as your post spreads across \\nthe internet like a virus.  \\n \\nVlogging.  A combination of the words video and blogging. To  create and post video blog \\ncontent.', 'metadata': {'source': './test_pdfs_copies_delete_after_use/USCGAUX_Social_Media_SOP_FINAL_ESIGNED_12JUN23.pdf', 'page': 32, 'title': 'AUXILIARY SOCIAL MEDIA STANDARD OPERATING PROCEDURES', 'pdf_id': '31fba5d9-53a8-5d3c-81cc-358d15f0b6e4', 'publication_number': None, 'organization': 'CG-BSX', 'scope': '1_national', 'issue_date': '2023-06-12T00:00:00Z', 'upsert_date': '2024-11-14T19:45:30Z', 'expiration_date': '2033-06-12T00:00:00Z', 'aux_specific': True, 'public_release': True, 'embedding': 'text-embedding-ada-002', 'page_count': 34}}, vector=None, shard_key=None, order_value=None),\n",
       " Record(id='d5a7f8e6-452e-407d-aea1-66ba6e64696f', payload={'page_content': '                                                                                                                          AUX- SOP-012(A)  \\n                                                                                                                12 Jun 2023  \\n \\n4 \\n  \\n(1)  Security .  Information designated  with  a security  classification cannot be posted. \\nInformation designated as For Official Use Only (FOUO) or Controlled Unclassified \\nInformation (CUI) shall not be included in a social media release unless specifically designated as  internet release authorized.  \\n (2)  Accuracy .  Check for accuracy  prior to release. Publish facts not supposition or \\ncommentary . Inaccurate information is difficult to correct once it has been posted on \\nsocial media.  \\n (3)  Policy .  Know the public a ffairs policies associated with release of information \\nbefore  posting, and understand any  additional guidelines within your district.   \\n (4)  Propriety .  All information will meet acceptable standards of p ropriety  or \\nappropriateness , including uniform standards. All posts will conform to the Coast \\nGuard’s Ethos and Core Values . \\n \\ni.  Secur ing Accounts. \\n \\n(1)  Securing personal and Auxiliary accounts with the below methods can help mitigate \\nthe risk of compromise of Auxiliary social media accounts. In the case of Facebook, \\na person utilizes a personal account to create an Auxiliary page. So, if the personal Face book account is compromised, the official Auxiliary account can also be \\ncompromised.  \\n \\n(2)  Secure personal and Auxiliary accounts by utilizing complex and unusual passwords. \\nChoose a strong password, which typically  includes numbers, symbols, and upper \\nand lowercase letters. Avoid  family names, pet names, birth or anniversary dates, \\ncommon words, or other easy -to-hack passwords. Change your password on a \\nroutine basis and do not use the same or similar passwords for different accounts. Do not share your password with anyone and keep your passwords in a secure location.  \\nIf any page administrators change , change the password.  \\n (3)  Use a unique unit email for your Auxiliary  social media account, so if your Auxiliary \\naccount is compromised, personal information will not be exposed. For official \\nAuxiliary accounts, such as Twitter or Instagram, a unit email is required . This will \\nsimplify sharing login information amongst multiple administrators . This will not \\nwork for Auxiliary Facebook  pages , which require a personal account to access a \\nFacebook page as an administrator.  \\n \\n(4)  Many platforms have two -factor  authentication ( e.g., Facebook , Twitter , Instagram , \\nGoogle ) for logging in or recovering an account. Make your accounts secure by \\nadjusting security settings for each platform , and ut ilize two -factor authentication . \\n \\n \\n', 'metadata': {'source': './test_pdfs_copies_delete_after_use/USCGAUX_Social_Media_SOP_FINAL_ESIGNED_12JUN23.pdf', 'page': 8, 'title': 'AUXILIARY SOCIAL MEDIA STANDARD OPERATING PROCEDURES', 'pdf_id': '31fba5d9-53a8-5d3c-81cc-358d15f0b6e4', 'publication_number': None, 'organization': 'CG-BSX', 'scope': '1_national', 'issue_date': '2023-06-12T00:00:00Z', 'upsert_date': '2024-11-14T19:45:30Z', 'expiration_date': '2033-06-12T00:00:00Z', 'aux_specific': True, 'public_release': True, 'embedding': 'text-embedding-ada-002', 'page_count': 34}}, vector=None, shard_key=None, order_value=None),\n",
       " Record(id='e638c614-6686-46f8-8738-4018ec584796', payload={'page_content': 'AUX- SOP-012(A)  \\n                                                                                                                12 Jun 2023  \\n \\n29 \\n  \\n \\nAppendix C', 'metadata': {'source': './test_pdfs_copies_delete_after_use/USCGAUX_Social_Media_SOP_FINAL_ESIGNED_12JUN23.pdf', 'page': 33, 'title': 'AUXILIARY SOCIAL MEDIA STANDARD OPERATING PROCEDURES', 'pdf_id': '31fba5d9-53a8-5d3c-81cc-358d15f0b6e4', 'publication_number': None, 'organization': 'CG-BSX', 'scope': '1_national', 'issue_date': '2023-06-12T00:00:00Z', 'upsert_date': '2024-11-14T19:45:30Z', 'expiration_date': '2033-06-12T00:00:00Z', 'aux_specific': True, 'public_release': True, 'embedding': 'text-embedding-ada-002', 'page_count': 34}}, vector=None, shard_key=None, order_value=None),\n",
       " Record(id='f23c0d06-0617-4e5a-814b-9c12f417ce8b', payload={'page_content': 'AUX- SOP-012(A)  \\n                                                                                                                12 Jun 2023  \\n \\n21 \\n   \\n \\n \\n(3)  Sample statistics insights from Facebook  \\n \\n(a)  The Overview  on Facebook gives you a bird’s- eye-view of everything happening \\non the page. You can view data for certain lengths of time. Data can be export ed \\ninto an E xcel spread sheet.  \\n \\n(b)  The Overview is broken down into sections and categories with graphs. \\n \\n1. Actions on Page: The combined total clicks for your contact information and \\ncall-to-action button. \\n \\n2. Page V iews:  Total views of your Facebook Page, including by people not \\nlogged into Facebook. \\n \\n3. Page Previews:  The number of times people hovered their mouse over your \\nPage information to see a preview of your Page. \\n \\n4. Page Likes:  The number of new likes. \\n \\n5. Post R each:  The number of people who saw your posts in their timeline. \\n \\n6. Story R each:  The number of people who saw your Stories. \\n \\n7. Recommendations: The number of people who recommended your Page. \\n \\n8. Post Engagement: A combined total of post likes, comments, shares, and other \\nengagements.', 'metadata': {'source': './test_pdfs_copies_delete_after_use/USCGAUX_Social_Media_SOP_FINAL_ESIGNED_12JUN23.pdf', 'page': 25, 'title': 'AUXILIARY SOCIAL MEDIA STANDARD OPERATING PROCEDURES', 'pdf_id': '31fba5d9-53a8-5d3c-81cc-358d15f0b6e4', 'publication_number': None, 'organization': 'CG-BSX', 'scope': '1_national', 'issue_date': '2023-06-12T00:00:00Z', 'upsert_date': '2024-11-14T19:45:30Z', 'expiration_date': '2033-06-12T00:00:00Z', 'aux_specific': True, 'public_release': True, 'embedding': 'text-embedding-ada-002', 'page_count': 34}}, vector=None, shard_key=None, order_value=None),\n",
       " Record(id='fb4ce8ed-dfa7-4b90-ba92-6c55bdf635ea', payload={'page_content': 'THIS PAGE INTENTIONALLY LEFT BLANK', 'metadata': {'source': './test_pdfs_copies_delete_after_use/USCGAUX_Social_Media_SOP_FINAL_ESIGNED_12JUN23.pdf', 'page': 1, 'title': 'AUXILIARY SOCIAL MEDIA STANDARD OPERATING PROCEDURES', 'pdf_id': '31fba5d9-53a8-5d3c-81cc-358d15f0b6e4', 'publication_number': None, 'organization': 'CG-BSX', 'scope': '1_national', 'issue_date': '2023-06-12T00:00:00Z', 'upsert_date': '2024-11-14T19:45:30Z', 'expiration_date': '2033-06-12T00:00:00Z', 'aux_specific': True, 'public_release': True, 'embedding': 'text-embedding-ada-002', 'page_count': 34}}, vector=None, shard_key=None, order_value=None)]"
      ]
     },
     "execution_count": 11,
     "metadata": {},
     "output_type": "execute_result"
    }
   ],
   "source": [
    "from qdrant_client.http import models\n",
    "\n",
    "records = client.scroll(\n",
    "    collection_name=qdrant_collection_name,\n",
    "    with_payload=True,  # change to True to see the payload\n",
    "    with_vectors=False,  # change to True to see the vectors\n",
    "    limit=1000,\n",
    "\n",
    "    scroll_filter=models.Filter(\n",
    "        must=[\n",
    "            models.FieldCondition(\n",
    "                key=\"metadata.pdf_id\",  # only in upsert>14NOV2024\n",
    "                match=models.MatchText(\n",
    "                    text=\"31fba5d9-53a8-5d3c-81cc-358d15f0b6e4\"),\n",
    "            ),\n",
    "        ]\n",
    "    ),\n",
    ")\n",
    "\n",
    "print(f\"Number of points found: {len(records[0])}\")\n",
    "records[0]"
   ]
  },
  {
   "cell_type": "markdown",
   "id": "9b3069d8",
   "metadata": {},
   "source": [
    "## Simple Utility to <span style=\"color:red\"><b>delete</b></span> record in Qdrant"
   ]
  },
  {
   "cell_type": "code",
   "execution_count": 70,
   "id": "480a8102",
   "metadata": {},
   "outputs": [
    {
     "name": "stdout",
     "output_type": "stream",
     "text": [
      "Number of points deleted: 34\n"
     ]
    }
   ],
   "source": [
    "from qdrant_client.http import models\n",
    "\n",
    "client.delete(\n",
    "    collection_name=qdrant_collection_name,\n",
    "    points_selector=models.Filter(\n",
    "        must=[\n",
    "            models.FieldCondition(\n",
    "                key=\"metadata.pdf_id\",\n",
    "                match=models.MatchText(\n",
    "                    text=\"31fba5d9-53a8-5d3c-81cc-358d15f0b6e4\"),  # BE CAREFUL CHECK THIS IS WHAT YOUR\n",
    "            ),\n",
    "        ]\n",
    "    ),\n",
    ")\n",
    "\n",
    "print(f\"Number of points deleted: {len(records[0])}\")"
   ]
  },
  {
   "cell_type": "code",
   "execution_count": null,
   "id": "4fd8de1d",
   "metadata": {},
   "outputs": [],
   "source": []
  }
 ],
 "metadata": {
  "kernelspec": {
   "display_name": ".venv-main",
   "language": "python",
   "name": "python3"
  },
  "language_info": {
   "codemirror_mode": {
    "name": "ipython",
    "version": 3
   },
   "file_extension": ".py",
   "mimetype": "text/x-python",
   "name": "python",
   "nbconvert_exporter": "python",
   "pygments_lexer": "ipython3",
   "version": "3.11.6"
  }
 },
 "nbformat": 4,
 "nbformat_minor": 5
}
