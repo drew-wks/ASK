{
 "cells": [
  {
   "cell_type": "markdown",
   "id": "66bdf56e",
   "metadata": {},
   "source": [
    "# Upsert PDFs to qdrant\n",
    "#### IT's designed to operate in PDF-wise fashion, unlike my previous ones that loaded and chunked an entire PDF in one go. THis one loads and chunks PDFs one at a time to enable for checking the id and enabling some better error handling."
   ]
  },
  {
   "cell_type": "code",
   "execution_count": null,
   "id": "10c1f7b9",
   "metadata": {},
   "outputs": [],
   "source": [
    "# %pip install --upgrade pip\n",
    "# %pip list # See what's installed and versions\n",
    "# %pip install openai==0.27.8\n",
    "# %pip install langchain==0.0.315\n",
    "# %pip install langchain-community\n",
    "%pip install langchain-qdrant\n",
    "# %pip install qdrant-client==1.6.3\n",
    "# %pip install pympler==1.1.3\n",
    "# %pip install pypdf==5.0.1\n",
    "# %pip install git+https://github.com/pikepdf/pikepdf.git#egg=pikepdf this requies python>=3.9\n",
    "#"
   ]
  },
  {
   "cell_type": "markdown",
   "id": "c5bda072",
   "metadata": {},
   "source": [
    "## 0. Imports and Configs\n"
   ]
  },
  {
   "cell_type": "code",
   "execution_count": 2,
   "id": "5e257d40",
   "metadata": {},
   "outputs": [
    {
     "name": "stdout",
     "output_type": "stream",
     "text": [
      "/Users/drew_wilkins/Drews_Files/Drew/Python/ASK/.venv-main/bin/python\n"
     ]
    }
   ],
   "source": [
    "# Confirm you're using the correct interpreter\n",
    "#\n",
    "import sys\n",
    "print(sys.executable)"
   ]
  },
  {
   "cell_type": "code",
   "execution_count": 3,
   "id": "60fdc824",
   "metadata": {},
   "outputs": [],
   "source": [
    "import pandas as pd\n",
    "import streamlit as st\n",
    "import os\n",
    "\n",
    "# Add the parent directory to sys.path so you can import library_utils from a subdirectory\n",
    "parent_dir = os.path.abspath(os.path.join(os.getcwd(), '..'))\n",
    "if parent_dir not in sys.path:\n",
    "    sys.path.append(parent_dir)"
   ]
  },
  {
   "cell_type": "code",
   "execution_count": 4,
   "id": "7ca6b6bb",
   "metadata": {},
   "outputs": [],
   "source": [
    "import library_utils as lib"
   ]
  },
  {
   "cell_type": "code",
   "execution_count": 5,
   "id": "0bf80b84",
   "metadata": {},
   "outputs": [],
   "source": [
    "# LANGSMITH CONFIG\n",
    "# These have to be set as environmental variables to be accessed behind the scenes\n",
    "\n",
    "os.environ[\"LANGCHAIN_API_KEY\"] = st.secrets[\"LANGCHAIN_API_KEY\"]\n",
    "os.environ[\"LANGCHAIN_TRACING_V2\"] = \"true\"\n",
    "os.environ[\"LANGCHAIN_PROJECT\"] = \"ASK_main_upsert_notebook\""
   ]
  },
  {
   "cell_type": "code",
   "execution_count": 6,
   "id": "5540a63e",
   "metadata": {},
   "outputs": [],
   "source": [
    "from langchain_openai import OpenAIEmbeddings\n",
    "# for langchain_openai.OpenAIEmbeddings\n",
    "OPENAI_API_KEY = st.secrets[\"OPENAI_API_KEY\"]\n",
    "\n",
    "CONFIG = {\n",
    "    \"splitter_type\": \"CharacterTextSplitter\",\n",
    "    \"chunk_size\": 2000,\n",
    "    \"chunk_overlap\": 200,\n",
    "    \"length_function\": len,\n",
    "    \"separators\": [\"}\"],  # [\" \", \",\", \"\\n\"]\n",
    "    \"embedding\": OpenAIEmbeddings(model=\"text-embedding-ada-002\"),\n",
    "    \"embedding_dims\": 1536,\n",
    "    \"model\": \"gpt-3.5-turbo-16k\",  # gpt-4, gpt-3.5-turbo-16k\n",
    "}"
   ]
  },
  {
   "cell_type": "markdown",
   "id": "c7e82ee0",
   "metadata": {},
   "source": [
    "## 1. Initialize the Qdrant and LC Vectorstore objects"
   ]
  },
  {
   "cell_type": "code",
   "execution_count": 7,
   "id": "5c665ba1",
   "metadata": {},
   "outputs": [],
   "source": [
    "# CONFIG: qdrant\n",
    "qdrant_collection_name = \"ASK_vectorstore\"\n",
    "# Only required for local instance (actual location is MacHD: private tmp local_qdrant)\n",
    "qdrant_path = \"/Users/drew_wilkins/Drews_Files/Drew/Python/VSCode/ASK/data/qdrant\"\n",
    "qdrant_url = st.secrets[\"QDRANT_URL\"]\n",
    "qdrant_api_key = st.secrets[\"QDRANT_API_KEY\"]"
   ]
  },
  {
   "cell_type": "code",
   "execution_count": 8,
   "id": "61a90112",
   "metadata": {},
   "outputs": [],
   "source": [
    "from qdrant_client import QdrantClient\n",
    "\n",
    "client = QdrantClient(\n",
    "    url=qdrant_url,\n",
    "    api_key=qdrant_api_key,\n",
    ")"
   ]
  },
  {
   "cell_type": "code",
   "execution_count": 9,
   "id": "583113b1",
   "metadata": {},
   "outputs": [
    {
     "data": {
      "text/plain": [
       "<langchain_qdrant.qdrant.QdrantVectorStore at 0x168241010>"
      ]
     },
     "execution_count": 9,
     "metadata": {},
     "output_type": "execute_result"
    }
   ],
   "source": [
    "from langchain_qdrant import QdrantVectorStore\n",
    "\n",
    "qdrant = QdrantVectorStore(client=client,\n",
    "                           collection_name=qdrant_collection_name,\n",
    "                           # embedding here is LC interface to the embedding model\n",
    "                           embedding=CONFIG[\"embedding\"],\n",
    "                           )\n",
    "\n",
    "\n",
    "qdrant"
   ]
  },
  {
   "cell_type": "markdown",
   "id": "126f91a5",
   "metadata": {},
   "source": [
    "## 2. Specify the file locations"
   ]
  },
  {
   "cell_type": "code",
   "execution_count": 11,
   "id": "4b738407",
   "metadata": {},
   "outputs": [],
   "source": [
    "pdf_filename = \"VE_workshop_Dec_4_22_2023.pdf\"  #\n",
    "source_directory = \"./test_pdfs_copies_delete_after_use\"\n",
    "pdf_path = os.path.join(source_directory, pdf_filename)\n",
    "\n",
    "metadata_source_path = \"./v2__planned_library_catalog_2024-11-03.xlsx\""
   ]
  },
  {
   "cell_type": "markdown",
   "id": "b171c0e6",
   "metadata": {},
   "source": [
    "## 3. Generate PDF ID"
   ]
  },
  {
   "cell_type": "code",
   "execution_count": 12,
   "id": "f506eb0a",
   "metadata": {},
   "outputs": [
    {
     "data": {
      "text/plain": [
       "'a0d00ff2-7ad5-5ea7-baa0-0d738380cd3e'"
      ]
     },
     "execution_count": 12,
     "metadata": {},
     "output_type": "execute_result"
    }
   ],
   "source": [
    "def get_pdf_id(pdf_path):\n",
    "    pdf_uuid = lib.compute_pdf_id(pdf_path)\n",
    "    pdf_id = str(pdf_uuid)\n",
    "    return pdf_id\n",
    "\n",
    "\n",
    "'''usage'''\n",
    "pdf_id = get_pdf_id(pdf_path)\n",
    "pdf_id"
   ]
  },
  {
   "cell_type": "markdown",
   "id": "3a068a7a",
   "metadata": {},
   "source": [
    "## 4. Check if PDF is already in Qdrant"
   ]
  },
  {
   "cell_type": "code",
   "execution_count": 20,
   "id": "23f4e852",
   "metadata": {},
   "outputs": [
    {
     "name": "stdout",
     "output_type": "stream",
     "text": [
      "a0d00ff2-7ad5-5ea7-baa0-0d738380cd3e in qdrant? False\n"
     ]
    },
    {
     "data": {
      "text/plain": [
       "False"
      ]
     },
     "execution_count": 20,
     "metadata": {},
     "output_type": "execute_result"
    }
   ],
   "source": [
    "from qdrant_client.http import models\n",
    "\n",
    "\n",
    "def is_pdf_id_in_qdrant(pdf_id: str) -> bool:\n",
    "    '''Helper function checks if pdf_id is already in Qdrant'''\n",
    "\n",
    "    response = client.count(\n",
    "        collection_name=qdrant_collection_name,\n",
    "        count_filter=models.Filter(\n",
    "            must=[\n",
    "                models.FieldCondition(\n",
    "                    key=\"metadata.pdf_id\",\n",
    "                    match=models.MatchText(text=pdf_id),\n",
    "                ),\n",
    "            ]\n",
    "        ),\n",
    "        exact=True,  # Ensures accurate count\n",
    "    )\n",
    "\n",
    "    pdf_id_in_qdrant = response.count > 0\n",
    "    print(f\"{pdf_id} in qdrant? {pdf_id_in_qdrant}\")\n",
    "\n",
    "    return pdf_id_in_qdrant\n",
    "\n",
    "\n",
    "'''usage'''\n",
    "is_pdf_id_in_qdrant(pdf_id)"
   ]
  },
  {
   "cell_type": "markdown",
   "id": "0a9dfdb7",
   "metadata": {},
   "source": [
    "## 5. Get metadata if it exists"
   ]
  },
  {
   "cell_type": "code",
   "execution_count": 14,
   "id": "29e05885",
   "metadata": {},
   "outputs": [
    {
     "name": "stdout",
     "output_type": "stream",
     "text": [
      "Successfully accessed metadata for pdf: a0d00ff2-7ad5-5ea7-baa0-0d738380cd3e\n"
     ]
    },
    {
     "data": {
      "text/plain": [
       "{'title': 'Auxiliary Vessel Examiner VE Workshop 2023',\n",
       " 'pdf_id': 'a0d00ff2-7ad5-5ea7-baa0-0d738380cd3e',\n",
       " 'publication_number': nan,\n",
       " 'organization': nan,\n",
       " 'scope': '1_national',\n",
       " 'issue_date': '2024-02-16T00:00:00Z',\n",
       " 'upsert_date': nan,\n",
       " 'expiration_date': '2034-02-16T00:00:00Z',\n",
       " 'aux_specific': True,\n",
       " 'public_release': 1.0,\n",
       " 'pdf_file_name': 'VE_workshop_Dec_4_22_2023.pdf',\n",
       " 'embedding': 'text-embedding-ada-002'}"
      ]
     },
     "execution_count": 14,
     "metadata": {},
     "output_type": "execute_result"
    }
   ],
   "source": [
    "# LEt's create a function to get the metadata as strings an then put this into library_utils\n",
    "\n",
    "\n",
    "def get_planned_metadata_for_single_record(pdf_id, metadata_source_path):\n",
    "    try:\n",
    "        df = pd.read_excel(metadata_source_path)\n",
    "\n",
    "        # Find the metadata row in df that corresponds to this pdf_id\n",
    "        pdf_metadata = df[df['pdf_id'].str.strip().astype(\n",
    "            str).str.lower() == pdf_id.lower()]\n",
    "\n",
    "        if not pdf_metadata.empty:\n",
    "            # Ensure no duplicate pdf_ids in the metadata\n",
    "            if len(pdf_metadata) > 1:\n",
    "                raise ValueError(\n",
    "                    f\"Found duplicates for pdf_id: '{pdf_id}', number of results: {len(pdf_metadata)}\")\n",
    "\n",
    "            pdf_metadata = pdf_metadata.iloc[0]\n",
    "            document_metadata = pdf_metadata.to_dict()\n",
    "            print(f\"Successfully accessed metadata for pdf: {pdf_id}\")\n",
    "            return document_metadata\n",
    "        else:\n",
    "            raise ValueError(f\"No metadata found for pdf: {pdf_id}\")\n",
    "\n",
    "    except Exception as e:\n",
    "        print(f\"Error retrieving metadata for {pdf_id}: {e}\")\n",
    "        return None, None  # Return None values if an error occurs to continue with the loop\n",
    "\n",
    "\n",
    "planned_metadata = get_planned_metadata_for_single_record(\n",
    "    pdf_id, metadata_source_path)\n",
    "\n",
    "planned_metadata"
   ]
  },
  {
   "cell_type": "markdown",
   "id": "e4d35529",
   "metadata": {},
   "source": [
    "## 6. Load PDFs into LangChain Document objects"
   ]
  },
  {
   "cell_type": "code",
   "execution_count": null,
   "id": "1384586c",
   "metadata": {},
   "outputs": [
    {
     "name": "stdout",
     "output_type": "stream",
     "text": [
      "Processed VE_workshop_Dec_4_22_2023.pdf\n",
      "number of pages processed: 31\n"
     ]
    }
   ],
   "source": [
    "import os\n",
    "from datetime import datetime, timezone\n",
    "import pypdf\n",
    "from langchain_community.document_loaders import PyPDFLoader\n",
    "\n",
    "\n",
    "def load_pdf(pdf_path, pdf_id, planned_metadata):  # pdf_dict is optional\n",
    "    \"\"\"Loads a PDF, pdf_id and, optionally, additional metadata.\n",
    "\n",
    "    Returns:\n",
    "        list: A list of Langchain page document objects with enriched metadata.\n",
    "    \"\"\"\n",
    "    pages = []\n",
    "\n",
    "    try:\n",
    "        loader = PyPDFLoader(pdf_path)\n",
    "        docs = loader.load()  # This returns a list of LC page document objects\n",
    "\n",
    "        with open(pdf_path, \"rb\") as pdf_file_obj:\n",
    "            reader = pypdf.PdfReader(pdf_file_obj)\n",
    "            # in case you want metadata from the orignal PDF\n",
    "            original_pdf_metadata = reader.metadata\n",
    "            enriched_metadata = {\n",
    "                'pdf_id': pdf_id,\n",
    "                'upsert_date': datetime.now(timezone.utc).strftime('%Y-%m-%dT%H:%M:%SZ'),\n",
    "                'aux_specific': bool(planned_metadata.get('aux_specific', 0)),\n",
    "                'public_release': bool(planned_metadata.get('public_release', 0)),\n",
    "                'page_count': len(reader.pages),\n",
    "                'embedding': \"text-embedding-ada-002\",\n",
    "            }\n",
    "            planned_metadata.update(enriched_metadata)\n",
    "            planned_metadata.pop('pdf_file_name', None)\n",
    "\n",
    "        for doc in docs:\n",
    "            doc.metadata.update(planned_metadata)\n",
    "            pages.append(doc)\n",
    "\n",
    "        print(f\"Processed {pdf_path}\")\n",
    "        print(\"number of pages processed:\", len(pages))\n",
    "    except FileNotFoundError:\n",
    "        print(f\"Error: Could not find {pdf_path}\")\n",
    "\n",
    "    return pages\n",
    "\n",
    "\n",
    "'''usage'''\n",
    "pages = load_pdf(pdf_path, pdf_id, planned_metadata)"
   ]
  },
  {
   "cell_type": "code",
   "execution_count": 16,
   "id": "03da1cbc",
   "metadata": {},
   "outputs": [
    {
     "data": {
      "text/plain": [
       "Document(metadata={'source': './test_pdfs_copies_delete_after_use/VE_workshop_Dec_4_22_2023.pdf', 'page': 0, 'title': 'Auxiliary Vessel Examiner VE Workshop 2023', 'pdf_id': 'a0d00ff2-7ad5-5ea7-baa0-0d738380cd3e', 'publication_number': nan, 'organization': nan, 'scope': '1_national', 'issue_date': '2024-02-16T00:00:00Z', 'upsert_date': '2024-11-14T19:38:16Z', 'expiration_date': '2034-02-16T00:00:00Z', 'aux_specific': True, 'public_release': True, 'embedding': 'text-embedding-ada-002', 'page_count': 31}, page_content='2023 VESSEL EXAMINER WORKSHOP\\nfor both USCG Auxiliary and US Power Squadrons  \\nPrepared by the \\nUNITED STATES COAST GUARD AUXILIARY\\n DIRECTORATE FOR VESSEL EXAMINATION \\nAND PARTNER VISITATION\\n1\\n٠Welcome to the 2023 Vessel Examiner Workshop, for both US Power Squadrons \\n(America’s Boating Club) and USCG Auxiliary.\\n٠It includes topics VEs requested to be included and information based on help desk \\nquestions received.\\n٠It can be done either in a group facilitated by an experienced VE or individually.\\n(NEXT SLIDE)\\n1')"
      ]
     },
     "execution_count": 16,
     "metadata": {},
     "output_type": "execute_result"
    }
   ],
   "source": [
    "pages[0]"
   ]
  },
  {
   "cell_type": "markdown",
   "id": "5f977e58",
   "metadata": {},
   "source": [
    "\n",
    "\n",
    "### Example enriched Langchain Page Document object\n",
    "\n",
    "```python\n",
    "page_content='Lorem ipsum dolor sit amet, consectetur adipiscing elit. Phasellus nunc sapien' metadata={'source': './raw_pdfs/lorem_ipsum.pdf', 'page': 1, 'page_count': 13, 'pdf_id': 'df6b2344-b73b-5c11-9f3e-aa2a370b1696'}\n",
    "```\n"
   ]
  },
  {
   "cell_type": "markdown",
   "id": "52ea2a89",
   "metadata": {},
   "source": [
    "## 7. Chunk the Pages\n"
   ]
  },
  {
   "cell_type": "code",
   "execution_count": null,
   "id": "ab05e49f",
   "metadata": {},
   "outputs": [
    {
     "name": "stdout",
     "output_type": "stream",
     "text": [
      "number of chunks: 31\n"
     ]
    },
    {
     "data": {
      "text/plain": [
       "Document(metadata={'source': './test_pdfs_copies_delete_after_use/VE_workshop_Dec_4_22_2023.pdf', 'page': 0, 'title': 'Auxiliary Vessel Examiner VE Workshop 2023', 'pdf_id': 'a0d00ff2-7ad5-5ea7-baa0-0d738380cd3e', 'publication_number': nan, 'organization': nan, 'scope': '1_national', 'issue_date': '2024-02-16T00:00:00Z', 'upsert_date': '2024-11-14T19:38:16Z', 'expiration_date': '2034-02-16T00:00:00Z', 'aux_specific': True, 'public_release': True, 'embedding': 'text-embedding-ada-002', 'page_count': 31}, page_content='2023 VESSEL EXAMINER WORKSHOP\\nfor both USCG Auxiliary and US Power Squadrons  \\nPrepared by the \\nUNITED STATES COAST GUARD AUXILIARY\\n DIRECTORATE FOR VESSEL EXAMINATION \\nAND PARTNER VISITATION\\n1\\n٠Welcome to the 2023 Vessel Examiner Workshop, for both US Power Squadrons \\n(America’s Boating Club) and USCG Auxiliary.\\n٠It includes topics VEs requested to be included and information based on help desk \\nquestions received.\\n٠It can be done either in a group facilitated by an experienced VE or individually.\\n(NEXT SLIDE)\\n1')"
      ]
     },
     "execution_count": 24,
     "metadata": {},
     "output_type": "execute_result"
    }
   ],
   "source": [
    "from langchain.text_splitter import RecursiveCharacterTextSplitter\n",
    "\n",
    "\n",
    "def chunk(pages):\n",
    "    # chunks at the page break\n",
    "    text_splitter = RecursiveCharacterTextSplitter(\n",
    "        chunk_size=CONFIG[\"chunk_size\"],\n",
    "        chunk_overlap=CONFIG[\"chunk_overlap\"],\n",
    "        length_function=CONFIG[\"length_function\"],\n",
    "        separators=CONFIG[\"separators\"]\n",
    "    )\n",
    "\n",
    "    chunks = text_splitter.split_documents(pages)\n",
    "    '''\"chunks\" is a list of objects of the class langchain.schema.document.Document'''\n",
    "\n",
    "    return chunks\n",
    "\n",
    "\n",
    "'''usage'''\n",
    "chunks = chunk(pages)\n",
    "print(\"number of chunks:\", len(chunks))\n",
    "chunks[0]"
   ]
  },
  {
   "cell_type": "markdown",
   "id": "b5c1d5c5",
   "metadata": {},
   "source": [
    "## 8. Add chunks to Qdrant\n"
   ]
  },
  {
   "cell_type": "code",
   "execution_count": 18,
   "id": "c16d3a32",
   "metadata": {},
   "outputs": [],
   "source": [
    "# .from_documents  creates the Qdrant vectorstore object with the documents/chunks, embeddings, and metadata and automatically configures the collection.  It is a Langchain class method used to initialize a new Qdrant instance with a collection of documents all at once.\n",
    "def upsert_to_qdrant(chunks):\n",
    "    qdrant.from_documents(\n",
    "        chunks,\n",
    "        embedding=CONFIG[\"embedding\"],\n",
    "        collection_name=qdrant_collection_name,\n",
    "        url=qdrant_url,\n",
    "        api_key=qdrant_api_key,\n",
    "        # keep this to false so you don[t overwrite your collection\n",
    "        force_recreate=False,\n",
    "    )\n",
    "    print(f\"Upserted to Qdrant\")"
   ]
  },
  {
   "cell_type": "markdown",
   "id": "edcfa129",
   "metadata": {},
   "source": [
    "### Option 1: Use this cell if loading a single PDF"
   ]
  },
  {
   "cell_type": "code",
   "execution_count": null,
   "id": "83af2f17",
   "metadata": {},
   "outputs": [],
   "source": [
    "'''usage'''\n",
    "pdf_chunks = upsert_to_qdrant(chunks)"
   ]
  },
  {
   "cell_type": "markdown",
   "id": "eb08c112",
   "metadata": {},
   "source": [
    "### Option 2: use this cell to load an entire folder of PDFs using the code above"
   ]
  },
  {
   "cell_type": "code",
   "execution_count": 22,
   "id": "1755f217",
   "metadata": {},
   "outputs": [
    {
     "name": "stdout",
     "output_type": "stream",
     "text": [
      "Processing USCGAUX_Social_Media_SOP_FINAL_ESIGNED_12JUN23.pdf\n",
      "31fba5d9-53a8-5d3c-81cc-358d15f0b6e4 in qdrant? False\n",
      "Successfully accessed metadata for pdf: 31fba5d9-53a8-5d3c-81cc-358d15f0b6e4\n",
      "Processed VE_workshop_Dec_4_22_2023.pdf\n",
      "number of pages processed: 34\n",
      "number of chunks: 34\n",
      "Upserted to Qdrant\n",
      "Processing VE_workshop_Dec_4_22_2023.pdf\n",
      "a0d00ff2-7ad5-5ea7-baa0-0d738380cd3e in qdrant? False\n",
      "Successfully accessed metadata for pdf: a0d00ff2-7ad5-5ea7-baa0-0d738380cd3e\n",
      "Processed VE_workshop_Dec_4_22_2023.pdf\n",
      "number of pages processed: 31\n",
      "number of chunks: 31\n",
      "Upserted to Qdrant\n"
     ]
    }
   ],
   "source": [
    "source_directory = source_directory\n",
    "metadata_source_path = metadata_source_path\n",
    "\n",
    "\n",
    "def mac_daddy_function(source_directory, metadata_source_path):\n",
    "    for dirpath, dirnames, filenames in os.walk(source_directory):\n",
    "        for filename in filenames:\n",
    "            if filename.lower().endswith(\".pdf\"):\n",
    "                pdf_path = os.path.join(dirpath, filename)\n",
    "                print(f\"Processing {filename}\")\n",
    "                try:\n",
    "                    pdf_id = get_pdf_id(pdf_path)\n",
    "                    if is_pdf_id_in_qdrant(pdf_id):\n",
    "                        raise ValueError(\n",
    "                            f\"PDF ID {pdf_id} is already in Qdrant. Delete first before proceeding.\")\n",
    "                    planned_metadata = get_planned_metadata_for_single_record(\n",
    "                        pdf_id, metadata_source_path)\n",
    "                    pages = load_pdf(pdf_path, pdf_id, planned_metadata)\n",
    "                    chunks = chunk(pages)\n",
    "                    upsert_to_qdrant(chunks)\n",
    "                except Exception as e:\n",
    "                    print(f\"Error processing {filename}: {e}\")\n",
    "\n",
    "\n",
    "'''usage'''\n",
    "mac_daddy_function(source_directory, metadata_source_path)"
   ]
  },
  {
   "cell_type": "markdown",
   "id": "9eb9d64f",
   "metadata": {},
   "source": [
    "## <span style=\"color:green\"><b>CONGRATULATIONS: You're done</b></span>\n"
   ]
  },
  {
   "cell_type": "markdown",
   "id": "bbe56977",
   "metadata": {},
   "source": [
    "## Simple Utility to see record in Qdrant"
   ]
  },
  {
   "cell_type": "code",
   "execution_count": null,
   "id": "7ea13d1e",
   "metadata": {},
   "outputs": [],
   "source": []
  }
 ],
 "metadata": {
  "kernelspec": {
   "display_name": ".venv-main",
   "language": "python",
   "name": "python3"
  },
  "language_info": {
   "codemirror_mode": {
    "name": "ipython",
    "version": 3
   },
   "file_extension": ".py",
   "mimetype": "text/x-python",
   "name": "python",
   "nbconvert_exporter": "python",
   "pygments_lexer": "ipython3",
   "version": "3.11.6"
  }
 },
 "nbformat": 4,
 "nbformat_minor": 5
}
