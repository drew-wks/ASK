{
 "cells": [
  {
   "cell_type": "markdown",
   "metadata": {},
   "source": [
    "# Extract metadata from a folder of PDFs, enrich it and save the enriched metadata to an excel file\n"
   ]
  },
  {
   "cell_type": "markdown",
   "metadata": {},
   "source": [
    "##### Adds/edits the metadata we are going to use. The custom metadata list is defined in this code block at the bottom. Custom fields can be defined in the custom_fields list. The functions take the list as an argument and checks for the additional custom metadata fields and includes them in the xlsx if they are present in the PDF files.\n",
    "\n",
    "##### With the check_pdf_issues function in place, before attempting to get metadata from a PDF, the script will first check if the PDF has issues like being encrypted or corrupt. If it's encrypted, it will attempt to decrypt using the provided password (in this case, an empty string). If it's corrupt or if there's any other issue, it will log the problem and skip the file.\n",
    "\n",
    "##### Calculates a deterministic ID you can use to identify duplicates later on.\n"
   ]
  },
  {
   "cell_type": "code",
   "execution_count": 1,
   "metadata": {},
   "outputs": [
    {
     "name": "stdout",
     "output_type": "stream",
     "text": [
      "/Users/drew_wilkins/Drews_Files/Drew/Python/ASK/.venv-v1/bin/python\n"
     ]
    }
   ],
   "source": [
    "# Confirm you're using the correct interpreter\n",
    "#\n",
    "import sys\n",
    "print(sys.executable)"
   ]
  },
  {
   "cell_type": "markdown",
   "metadata": {},
   "source": [
    "## 0. Installs and Imports\n"
   ]
  },
  {
   "cell_type": "code",
   "execution_count": null,
   "metadata": {},
   "outputs": [],
   "source": [
    "# %pip install --upgrade pip\n",
    "# %pip install ipython\n",
    "# %pip install pypdf\n",
    "# %pip install bs4\n",
    "# %pip install requests\n",
    "# %pip install openpyxl\n",
    "# %pip install tabulate"
   ]
  },
  {
   "cell_type": "code",
   "execution_count": 14,
   "metadata": {},
   "outputs": [],
   "source": [
    "from pypdf import PdfReader\n",
    "import os\n",
    "import sys\n",
    "from datetime import datetime, date, timedelta, timezone\n",
    "import pandas as pd\n",
    "\n",
    "from tabulate import tabulate"
   ]
  },
  {
   "cell_type": "code",
   "execution_count": 15,
   "metadata": {},
   "outputs": [],
   "source": [
    "'''This litle code block is used anytime you want to import a local module from within a Jupyter Notebook. This is required becuase Jupyter treats each cell as a module.'''\n",
    "\n",
    "# Navigate up one level from the current notebook's directory to reach the root directory\n",
    "current_dir = os.path.dirname(os.path.realpath('__file__'))\n",
    "parent_dir = os.path.dirname(current_dir)\n",
    "sys.path.append(parent_dir)"
   ]
  },
  {
   "cell_type": "code",
   "execution_count": 16,
   "metadata": {},
   "outputs": [],
   "source": [
    "import utils"
   ]
  },
  {
   "cell_type": "markdown",
   "metadata": {},
   "source": [
    "## 1. Configs\n"
   ]
  },
  {
   "cell_type": "code",
   "execution_count": 17,
   "metadata": {},
   "outputs": [],
   "source": [
    "source_directory = \"./raw_pdfs\""
   ]
  },
  {
   "cell_type": "markdown",
   "metadata": {},
   "source": [
    "#### Helper functions\n"
   ]
  },
  {
   "cell_type": "code",
   "execution_count": null,
   "metadata": {},
   "outputs": [],
   "source": [
    "# Code to create metadata dictionary\n",
    "# Check if the path exists\n",
    "def check_dir_exists(pdfs_source_dir):\n",
    "    if not os.path.exists(pdfs_source_dir):\n",
    "        print(f\"Error: The path '{pdfs_source_dir}' does not exist!\")\n",
    "        raise ValueError(f\"The path '{pdfs_source_dir}' does not exist!\")\n",
    "\n",
    "\n",
    "def check_pdf_for_issues(pdf_path):\n",
    "    try:\n",
    "        pdf = PdfReader(pdf_path)\n",
    "        if pdf.is_encrypted:\n",
    "            print(f\"Encryption detected for {pdf_path}\")\n",
    "            pdf.decrypt(\"\")\n",
    "            print(f\"All pages accessed: {len(pdf.pages)}\")\n",
    "        return True\n",
    "    except Exception as e:\n",
    "        print(f\"Issue with {pdf_path}: {e}\")\n",
    "        return False\n",
    "\n",
    "\n",
    "def get_pdf_metadata(pdf_path):\n",
    "    '''extract all metadata fields present in the PDF file \n",
    "    along with page count and the hash into a dictionary\n",
    "    '''\n",
    "    pdf_metadata = {}\n",
    "    today_date = datetime.now(timezone.utc).strftime('%Y-%m-%dT%H:%M:%SZ')\n",
    "\n",
    "    with open(pdf_path, 'rb') as f:\n",
    "        reader = PdfReader(f)\n",
    "        existing_pdf_metadata = reader.metadata\n",
    "        # existing pdf metadata code deleted from here\n",
    "\n",
    "        # Create the pdf metadata\n",
    "        file_name = os.path.basename(pdf_path)\n",
    "        while '.' in file_name:\n",
    "            # loop to remove mult extensions\n",
    "            file_name = os.path.splitext(file_name)[0]\n",
    "        pdf_metadata['title'] = existing_pdf_metadata.get('/Title')\n",
    "        if not pdf_metadata['title']:\n",
    "            pdf_metadata['title'] = file_name.replace('_', ' ')\n",
    "        pdf_metadata['leadership_scope'] = \"1_National\"\n",
    "        pdf_metadata['page_count'] = len(reader.pages)  # Add page count\n",
    "        creation_date_str = existing_pdf_metadata.get(\n",
    "            '/CreationDate', '')[2:10]\n",
    "        if creation_date_str:\n",
    "            pdf_metadata['creation_date'] = datetime.strptime(\n",
    "                creation_date_str, '%Y%m%d').strftime('%Y-%m-%dT%H:%M:%SZ')\n",
    "        else:\n",
    "            pdf_metadata['creation_date'] = \"none\"\n",
    "        pdf_metadata['effective_date'] = today_date\n",
    "        pdf_metadata['upsert_date'] = today_date\n",
    "        expiration_date = datetime.strptime(\n",
    "            pdf_metadata['effective_date'], '%Y-%m-%dT%H:%M:%SZ') + timedelta(days=365.25*10)\n",
    "        pdf_metadata['expiration_date'] = expiration_date.strftime(\n",
    "            '%Y-%m-%dT%H:%M:%SZ')\n",
    "        pdf_metadata['lifecycle'] = \"none\"\n",
    "        pdf_metadata['aux_specific'] = True\n",
    "        # True if document is available on public internet\n",
    "        pdf_metadata['public_release'] = True\n",
    "        # Substitute underscore for spaces, else it constrains how things are built\n",
    "        pdf_metadata['publication_number'] = \"none\" # Substitute underscore for spaces, else it constrains how things are built\n",
    "        # Originator  of the document. For CG, this is the Directive Originator using Standard Distribution List (SDL), COMDTNOTE 5605 encl (3) (i.e., CG-BSX-1)CHDIRAUX is listed as CG-BSX-1. For Auxiliary, prefix with \"AUX\" plus Unit Number (AUX-0130510) or office designation as listed in the National Staff SOP (e.g., AUX-NACO, AUX-ANACO_RP, AUX-R-DIR, etc.)\n",
    "        # uxiliarist who added this metadata in the record\n",
    "        pdf_metadata['originator'] = \"CG-BSX-1\"\n",
    "        pdf_metadata['curator'] = \"Wilkins,CA\"\n",
    "        pdf_metadata['pdf_id'] = str(utils.compute_pdf_id(\n",
    "            pdf_path)).strip()  # Compute unique ID and add to PDF\n",
    "        pdf_metadata['pdf_file_name'] = file_name  # add the filename\n",
    "        # needed to write the metadata back to the pdfs or during chunking. Also used to create the the doc name during RAG\n",
    "        pdf_metadata['source'] = pdf_path\n",
    "    return pdf_metadata"
   ]
  },
  {
   "cell_type": "markdown",
   "metadata": {},
   "source": [
    "#### Main code to process PDFs to create a metadata dictionary\n"
   ]
  },
  {
   "cell_type": "code",
   "execution_count": 19,
   "metadata": {},
   "outputs": [],
   "source": [
    "def make_metadata_dict_from_pdfs():\n",
    "    '''pulls the metadata from all the pdfs into a dictionary wfile path as keys\n",
    "    '''\n",
    "    check_dir_exists(source_directory)\n",
    "\n",
    "    all_pdfs_metadata = {}\n",
    "\n",
    "    for root, dirs, files in os.walk(source_directory):\n",
    "        for file in files:\n",
    "            if file.lower().endswith(\".pdf\"):\n",
    "                pdf_path = os.path.join(root, file)\n",
    "                check_pdf_for_issues(pdf_path)\n",
    "                pdf_metadata_dict = get_pdf_metadata(pdf_path)\n",
    "                all_pdfs_metadata[pdf_path] = pdf_metadata_dict\n",
    "\n",
    "    return all_pdfs_metadata\n",
    "\n",
    "\n",
    "all_pdfs_metadata = make_metadata_dict_from_pdfs()"
   ]
  },
  {
   "cell_type": "markdown",
   "metadata": {},
   "source": [
    "#### The dictionary for a single PDF should look something like this.\n",
    "\n",
    "Notice this is a dictionary with a dictionary inside of it:\n",
    "\n",
    "```python\n",
    " {'./raw_pdfs/AUXCA_SOP_005_B__20AUG24_ESIGN.pdf': {'title': 'AUXCA SOP 005 B  20AUG24 ESIGN', 'leadership_scope': '1_National', 'page_count': 30, 'creation_date': '2024-08-22T00:00:00Z', 'effective_date': '2024-11-01T21:36:18Z', 'upsert_date': '2024-11-01T21:36:18Z', 'expiration_date': '2034-08-22T12:00:00Z', 'lifecycle': 'none', 'aux_specific': True, 'public_release': True, 'publication_number': None, 'source': 'cgaux.org', 'organization': 'CG-BSX', 'curator': 'Wilkins,CA', 'document_id': 'b69af3d6-96ee-5a1b-8a1e-9a6feca305b2', 'file_name': 'AUXCA_SOP_005_B__20AUG24_ESIGN', 'pdf_path': './pdfs/AUXCA_SOP_005_B__20AUG24_ESIGN.pdf'}}\n",
    "```\n"
   ]
  },
  {
   "cell_type": "code",
   "execution_count": 20,
   "metadata": {},
   "outputs": [
    {
     "name": "stdout",
     "output_type": "stream",
     "text": [
      "\n",
      "\n",
      "Based on this dictionary...\n",
      " {'./raw_pdfs/CI_5400_7G.pdf': {'title': 'ORGANIZATION MANAGEMENT, COMDTINST 5400.7G', 'leadership_scope': '1_National', 'page_count': 37, 'creation_date': '2023-12-01T00:00:00Z', 'effective_date': '2024-11-02T22:04:43Z', 'upsert_date': '2024-11-02T22:04:43Z', 'expiration_date': '2034-11-03T10:04:43Z', 'lifecycle': 'none', 'aux_specific': True, 'public_release': True, 'publication_number': 'none', 'source': 'cgaux.org', 'originator': 'CG-BSX-1', 'curator': 'Wilkins,CA', 'pdf_id': '7ea37b80-a7ab-58b1-8cb5-afc1ccee61a5', 'pdf_file_name': 'CI_5400_7G', 'pdf_path': './raw_pdfs/CI_5400_7G.pdf'}, './raw_pdfs/AUXCA_SOP_005_B__20AUG24_ESIGN.pdf': {'title': 'AUXCA SOP 005 B  20AUG24 ESIGN', 'leadership_scope': '1_National', 'page_count': 30, 'creation_date': '2024-08-22T00:00:00Z', 'effective_date': '2024-11-02T22:04:44Z', 'upsert_date': '2024-11-02T22:04:44Z', 'expiration_date': '2034-11-03T10:04:44Z', 'lifecycle': 'none', 'aux_specific': True, 'public_release': True, 'publication_number': 'none', 'source': 'cgaux.org', 'originator': 'CG-BSX-1', 'curator': 'Wilkins,CA', 'pdf_id': 'b69af3d6-96ee-5a1b-8a1e-9a6feca305b2', 'pdf_file_name': 'AUXCA_SOP_005_B__20AUG24_ESIGN', 'pdf_path': './raw_pdfs/AUXCA_SOP_005_B__20AUG24_ESIGN.pdf'}}\n"
     ]
    }
   ],
   "source": [
    "print(f\"\\n\\nBased on this dictionary...\\n {all_pdfs_metadata}\")"
   ]
  },
  {
   "cell_type": "code",
   "execution_count": 10,
   "metadata": {},
   "outputs": [
    {
     "name": "stdout",
     "output_type": "stream",
     "text": [
      " An editable excel file has been posted as ./metadata.xlsx\n"
     ]
    }
   ],
   "source": [
    "today_date = datetime.now(timezone.utc).strftime('%Y-%m-%dT%H:%M:%SZ')\n",
    "metadata_file_path = f'./metadata.xlsx'\n",
    "\n",
    "'''\n",
    "Create a dataframe from the metadata dictionary.\n",
    "\n",
    "Always set index=True or some data will be lost. (either a row or column depending on whther you transposed or not. Either way, it's not very good.)\n",
    "\n",
    "The rest of the code assumes you are using .transpose() It's good for many pdfs. It places the field names across the top of the excel sheet and the file names down the left as row indices. You can remove it if you are just doing one pdf. Be sure to transpose it in the excel or in the code when you bring the excel back into the dataframe.\n",
    "'''\n",
    "\n",
    "pdf_metadata = pd.DataFrame(all_pdfs_metadata).transpose()  # .transpose()\n",
    "pdf_metadata.to_excel(metadata_file_path, index=True)\n",
    "\n",
    "print(f\"\"\" An editable excel file has been posted as {metadata_file_path}\"\"\")"
   ]
  },
  {
   "cell_type": "code",
   "execution_count": null,
   "metadata": {},
   "outputs": [],
   "source": []
  },
  {
   "cell_type": "code",
   "execution_count": null,
   "metadata": {},
   "outputs": [],
   "source": []
  }
 ],
 "metadata": {
  "kernelspec": {
   "display_name": ".venv-v1",
   "language": "python",
   "name": "python3"
  },
  "language_info": {
   "codemirror_mode": {
    "name": "ipython",
    "version": 3
   },
   "file_extension": ".py",
   "mimetype": "text/x-python",
   "name": "python",
   "nbconvert_exporter": "python",
   "pygments_lexer": "ipython3",
   "version": "3.11.6"
  },
  "orig_nbformat": 4
 },
 "nbformat": 4,
 "nbformat_minor": 2
}
