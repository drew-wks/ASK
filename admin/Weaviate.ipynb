{
 "cells": [
  {
   "cell_type": "code",
   "execution_count": null,
   "metadata": {
    "ExecuteTime": {
     "end_time": "2024-01-17T14:23:35.005255Z",
     "start_time": "2024-01-17T14:23:30.542652Z"
    }
   },
   "outputs": [],
   "source": [
    "#%pip install --pre -U \"weaviate-client==4.*\"\n",
    "#%pip install python-dotenv\n",
    "# %pip install python-dateutil"
   ]
  },
  {
   "cell_type": "code",
   "execution_count": 1,
   "metadata": {},
   "outputs": [
    {
     "data": {
      "text/plain": [
       "False"
      ]
     },
     "execution_count": 1,
     "metadata": {},
     "output_type": "execute_result"
    }
   ],
   "source": [
    "import os\n",
    "import sys\n",
    "\n",
    "import weaviate\n",
    "import weaviate.classes as wvc\n",
    "import uuid\n",
    "from weaviate.util import generate_uuid5\n",
    "from dotenv import load_dotenv, find_dotenv\n",
    "\n",
    "load_dotenv(find_dotenv())"
   ]
  },
  {
   "cell_type": "code",
   "execution_count": 2,
   "metadata": {},
   "outputs": [],
   "source": [
    "'''This litle code block is used anytime you want to import a local module from within a Jupyter Notebook. This is required becuase Jupyter treats each cell as a module.'''\n",
    "\n",
    "# Navigate up one level from the current notebook's directory to reach the root directory\n",
    "current_dir = os.path.dirname(os.path.realpath('__file__'))\n",
    "parent_dir = os.path.dirname(current_dir)\n",
    "sys.path.append(parent_dir)"
   ]
  },
  {
   "cell_type": "code",
   "execution_count": 3,
   "metadata": {},
   "outputs": [
    {
     "name": "stderr",
     "output_type": "stream",
     "text": [
      "/Users/drew_wilkins/Drews_Files/Drew/Python/ASK/.venv-311/lib/python3.11/site-packages/pydantic/_internal/_config.py:272: PydanticDeprecatedSince20: Support for class-based `config` is deprecated, use ConfigDict instead. Deprecated in Pydantic V2.0 to be removed in V3.0. See Pydantic V2 Migration Guide at https://errors.pydantic.dev/2.6/migration/\n",
      "  warnings.warn(DEPRECATION_MESSAGE, DeprecationWarning)\n",
      "2024-02-16 13:08:41.216 WARNING streamlit.runtime.caching.cache_data_api: No runtime found, using MemoryCacheStorageManager\n",
      "2024-02-16 13:08:41.234 \n",
      "  \u001b[33m\u001b[1mWarning:\u001b[0m to view this Streamlit app on a browser, run it with the following\n",
      "  command:\n",
      "\n",
      "    streamlit run /Users/drew_wilkins/Drews_Files/Drew/Python/ASK/.venv-311/lib/python3.11/site-packages/ipykernel_launcher.py [ARGUMENTS]\n"
     ]
    }
   ],
   "source": [
    "import utils"
   ]
  },
  {
   "cell_type": "markdown",
   "metadata": {},
   "source": [
    "## 2. Set Configurations and Clients"
   ]
  },
  {
   "cell_type": "code",
   "execution_count": null,
   "metadata": {
    "ExecuteTime": {
     "end_time": "2024-01-17T14:55:14.099127Z",
     "start_time": "2024-01-17T14:55:13.653297Z"
    }
   },
   "outputs": [],
   "source": [
    "url = os.getenv(\"WEAVIATE_URL_COMP\")\n",
    "api_key = os.getenv(\"WEAVIATE_API_KEY_COMP\")\n",
    "\n",
    "\n",
    "client = weaviate.connect_to_wcs(\n",
    "    cluster_url=url,\n",
    "    auth_credentials=weaviate.AuthApiKey(api_key),\n",
    "    headers={\n",
    "        \"X-OpenAI-Api-Key\": os.environ.get(\"OPENAI_API_KEY\")\n",
    "    }\n",
    ")"
   ]
  },
  {
   "cell_type": "code",
   "execution_count": 4,
   "metadata": {},
   "outputs": [],
   "source": [
    "pdf_source_directory = \"../docs/test_pdfs/\"\n",
    "library_catalog_directory = \"../docs/library_catalog/\"\n",
    "zulu_format = '%Y-%m-%dT%H:%MZ'"
   ]
  },
  {
   "cell_type": "markdown",
   "metadata": {},
   "source": [
    "## 2. Create the Collection and Define the Properties"
   ]
  },
  {
   "cell_type": "code",
   "execution_count": null,
   "metadata": {
    "ExecuteTime": {
     "end_time": "2024-01-17T15:10:28.053292Z",
     "start_time": "2024-01-17T15:10:27.335710Z"
    }
   },
   "outputs": [],
   "source": [
    "#create a Weaviate collection to hold PDF and PDFPages\n",
    "\n",
    "if client.collections.exists(\"PDF_document\"):\n",
    "    client.collections.delete(\"PDF_document\")\n",
    "if client.collections.exists(\"PDF_document_page\"):\n",
    "    client.collections.delete(\"PDF_document_page\")\n",
    "\n",
    "pdfs_collection = client.collections.create(\n",
    "    name=\"PDF_document\",\n",
    "    vectorizer_config=wvc.Configure.Vectorizer.none(),\n",
    "    generative_config=wvc.Configure.Generative.openai(),\n",
    "    properties=[\n",
    "        wvc.Property(\n",
    "            name=\"title\",\n",
    "            description=\"Name of the document. If none, defaults to File Name w/o extension\",\n",
    "            data_type=wvc.DataType.TEXT\n",
    "        ),\n",
    "        wvc.Property(\n",
    "            name=\"leadership_scope\",\n",
    "            description=\"1_National, 2_District, 3_Divison, 3_Sector, 4_Flotilla, 4_Station, 5_Facility\",\n",
    "            data_type=wvc.DataType.TEXT\n",
    "        ),\n",
    "        wvc.Property(\n",
    "            name=\"page_count\",\n",
    "            description=\"Number of pages in the document\",\n",
    "            data_type=wvc.DataType.INT\n",
    "        ),\n",
    "        wvc.Property(\n",
    "            name=\"creation_date\",\n",
    "            description=\"Uses existing pdf date, else defaults to ingestion date\",\n",
    "            data_type=wvc.DataType.DATE\n",
    "        ),\n",
    "        wvc.Property(\n",
    "            name=\"effective_date\",\n",
    "            description=\"Date document became effective, else defaults to ingestion date\",\n",
    "            data_type=wvc.DataType.DATE\n",
    "        ),\n",
    "            wvc.Property(\n",
    "            name=\"tagged_date\",\n",
    "            description=\"Date document metadata was added to the library catalog\",\n",
    "            data_type=wvc.DataType.DATE\n",
    "        ),\n",
    "        wvc.Property(\n",
    "            name=\"upsert_date\",\n",
    "            description=\"Date uploaded to the vector database\",\n",
    "            data_type=wvc.DataType.DATE\n",
    "        ),\n",
    "        wvc.Property(\n",
    "            name=\"expiration_date\",\n",
    "            description=\"If no cancellation date given, then defaults to effective date + 10 years per COMDINST M5215.6I\",\n",
    "            data_type=wvc.DataType.DATE\n",
    "        ),\n",
    "            wvc.Property(\n",
    "            name=\"lifecycle\",\n",
    "            description=\"Last name of Auxiliarist who curated. Currently blank\",\n",
    "            data_type=wvc.DataType.TEXT\n",
    "            ),\n",
    "        wvc.Property(\n",
    "            name=\"aux_specific\",\n",
    "            description=\"True if document specifically applies to the Auxiliary\",\n",
    "            data_type=wvc.DataType.BOOL\n",
    "        ),\n",
    "        wvc.Property(\n",
    "            name=\"public_release\",\n",
    "            description=\"True if document is available on public internet\",\n",
    "            data_type=wvc.DataType.BOOL\n",
    "        ),\n",
    "        wvc.Property(\n",
    "            name=\"publication_number\",\n",
    "            description=\"Identification number of the directive or document. In the case of Directives, underscores are used for spaces (e.g., COMDTINST_M1000.6A)\",\n",
    "            data_type=wvc.DataType.TEXT\n",
    "        ),\n",
    "        wvc.Property(\n",
    "            name=\"source\",\n",
    "            description=\"Web domain source of document (e.g.,uscg.mil, cgaux.org)\",\n",
    "            data_type=wvc.DataType.TEXT\n",
    "        ),\n",
    "        wvc.Property(\n",
    "            name=\"organization\",\n",
    "            description=\"Not curently used, can be used to track CG directive originator using Standard Distribution List (SDL), COMDTNOTE 5605 encl (3) (i.e., CG-BSX-1) or Auxiliary Unit Number (0130510)\",\n",
    "            data_type=wvc.DataType.TEXT\n",
    "        ),\n",
    "        wvc.Property(\n",
    "            name=\"curator\",\n",
    "            description=\"Last name of Auxiliarist who curated. Currently blank\",\n",
    "            data_type=wvc.DataType.TEXT\n",
    "        ),\n",
    "        wvc.Property(\n",
    "            name=\"file_name\",\n",
    "            description=\"Name of the PDF file\",\n",
    "            data_type=wvc.DataType.TEXT\n",
    "        ),\n",
    "    ]\n",
    ")\n",
    "\n",
    "pdf_pages_collection = client.collections.create(\n",
    "    name=\"PDF_document_page\",\n",
    "    vectorizer_config=wvc.Configure.Vectorizer.text2vec_openai(),\n",
    "    generative_config=wvc.Configure.Generative.openai(),\n",
    "    properties=[\n",
    "        wvc.Property(\n",
    "            name=\"content\",\n",
    "            description=\"content of the page\",\n",
    "            data_type=wvc.DataType.TEXT\n",
    "        ),\n",
    "        wvc.Property(\n",
    "            name=\"title\",\n",
    "            description=\"Taken from PDF_document object property of the same name\",\n",
    "            data_type=wvc.DataType.TEXT\n",
    "        ),\n",
    "        wvc.Property(\n",
    "            name=\"page_number\",\n",
    "            description=\"Page number\",\n",
    "            data_type=wvc.DataType.INT\n",
    "        ),\n",
    "        wvc.Property(\n",
    "            name=\"publication_number\",\n",
    "            description=\"Taken from PDF_document object property of the same name\",\n",
    "            data_type=wvc.DataType.TEXT,\n",
    "            skip_vectorization=True\n",
    "        ),\n",
    "    ],\n",
    "    references=[\n",
    "        wvc.ReferenceProperty(\n",
    "            name=\"hasPdfDocument\",\n",
    "            target_collection=\"PDF_document\"\n",
    "        )\n",
    "    ]\n",
    ")\n"
   ]
  },
  {
   "cell_type": "markdown",
   "metadata": {},
   "source": [
    "## Load Objects"
   ]
  },
  {
   "cell_type": "markdown",
   "metadata": {},
   "source": [
    "### Option A: Load with External Source of metadata"
   ]
  },
  {
   "cell_type": "markdown",
   "metadata": {},
   "source": [
    "I'm stuck. \n",
    "\n",
    "I'm think I'm having trouble getting my head around the fact we have PDF doc and pages. We have Langchain-derived metadata (page_content and page_number) and a seaprate dataframe with most of the rest of metadata. There's a bunch of iterations between and among these things and I'm not sure how to do it.\n",
    "\n",
    "Here's what we've got:\n",
    "- We have two fully defined schemas above.\n",
    "- We have a library catalog containing all the metadata at the PDF document level and most of the PDF page level (page_content and page_number excluded). It contains a unique ID for each PDF called document_id. PAthe is defined above: library_catalog_directory = \"../docs/library_catalog/\"\n",
    "- We have code below that pulls in the most recent library catalog into a pandas df\n",
    "- We have starter code below that pulls the library catalog values into the pdfs_collection\n",
    "- We have a function called utils.compute_doc_id(pdf_path) that computed the document_id in the library catalog so it should produce the same value when used on the PDFs \n",
    "\n"
   ]
  },
  {
   "cell_type": "code",
   "execution_count": null,
   "metadata": {},
   "outputs": [],
   "source": [
    "import pandas as pd\n",
    "\n",
    "catalog_file_path, last_update_date = utils.get_most_recent_filepath_and_date(\n",
    "    \"library_catalog\", library_catalog_directory, \"xlsx\")\n",
    "\n",
    "try:\n",
    "    df = pd.read_excel(catalog_file_path)\n",
    "    print(f\"Successfully imported:  {catalog_file_path}\")\n",
    "except Exception as e:\n",
    "    os.write(\n",
    "        1, f\"Failed to read the most recent library catalog file: {e}\\n\".encode())"
   ]
  },
  {
   "cell_type": "code",
   "execution_count": null,
   "metadata": {
    "collapsed": false
   },
   "outputs": [],
   "source": [
    "# starter code that pulls the library catalog into pdfs_collection\n",
    "\n",
    "import pypdf\n",
    "from langchain.document_loaders import PyPDFLoader\n",
    "import utils  # Ensure utils module with compute_doc_id function is imported\n",
    "\n",
    "pdfs_collection = client.collections.get(\"PDF_document\")\n",
    "pdf_pages_collection = client.collections.get(\"PDF_document_page\")\n",
    "\n",
    "def process_pdf(pdf_path, df):\n",
    "    try:\n",
    "        # Compute the document_id for the PDF\n",
    "        document_id = utils.compute_doc_id(pdf_path)\n",
    "\n",
    "        # Find the metadata row in df that corresponds to this document_id\n",
    "        pdf_metadata = df[df['document_id'] == document_id]\n",
    "\n",
    "        if not pdf_metadata.empty:\n",
    "            # Process the first (and presumably only) row that matches\n",
    "            properties = pdf_metadata.iloc[0].to_dict()\n",
    "            uuid = properties.pop('document_id')\n",
    "            pdfs_collection.data.insert(properties=properties, uuid=uuid) # I think this pulls all the PDF document fields into Weaviate\n",
    "        else:\n",
    "            raise ValueError(f\"No metadata found for document ID: {document_id}\")\n",
    "\n",
    "        # Process PDF pages\n",
    "        pages_objects = []\n",
    "        loader = PyPDFLoader(pdf_path)\n",
    "        for page in loader.load():\n",
    "            pages_objects.append(\n",
    "                wvc.DataObject(\n",
    "                    properties={\n",
    "                        # \"title\": this would come from the dataframe\n",
    "                        # \"publication_number\": this would come from the dataframe\n",
    "                        \"content\": page.page_content,\n",
    "                        \"page_number\": page.metadata[\"page\"],\n",
    "                    },\n",
    "                    references={\n",
    "                        \"hasPdfDocument\": document_id\n",
    "                    }\n",
    "                )\n",
    "            )\n",
    "        pdf_pages_collection.data.insert_many(pages_objects)\n",
    "\n",
    "    except FileNotFoundError:\n",
    "        print(f\"Error: Could not find {pdf_path}\")\n",
    "    except Exception as e:\n",
    "        print(f\"An error occurred: {e}\")\n"
   ]
  },
  {
   "cell_type": "markdown",
   "metadata": {},
   "source": [
    "### Option B: Load with PDF's embedded metadata"
   ]
  },
  {
   "cell_type": "code",
   "execution_count": null,
   "metadata": {
    "ExecuteTime": {
     "end_time": "2024-01-17T15:10:48.505757Z",
     "start_time": "2024-01-17T15:10:30.574933Z"
    },
    "collapsed": false
   },
   "outputs": [],
   "source": [
    "import pypdf\n",
    "from langchain.document_loaders import PyPDFLoader\n",
    "\n",
    "pdfs_collection = client.collections.get(\"PDF_document\")\n",
    "pdf_pages_collection = client.collections.get(\"PDF_document_page\")\n",
    "\n",
    "\n",
    "def process_pdf(pdf_path):\n",
    "    try:\n",
    "        reader = pypdf.PdfReader(pdf_path)\n",
    "        metadata_object = reader.metadata\n",
    "\n",
    "        document_id = generate_uuid5(metadata_object[\"/DocId\"], uuid.NAMESPACE_DNS)\n",
    "\n",
    "        pdfs_collection.data.insert(\n",
    "            uuid=document_id,\n",
    "            properties={\n",
    "                \"title\": metadata_object[\"/Title\"],\n",
    "                \"page_count\": int(metadata_object[\"/PageCount\"]),\n",
    "                # \"effective_date\": metadata_object[\"/EffectiveDate\"], -> requires date conversion\n",
    "                \"publication_number\": metadata_object[\"/PublicationNumber\"],\n",
    "                \"curator\": metadata_object[\"/Curator\"],\n",
    "                # ... need to add more properties\n",
    "            }\n",
    "        )\n",
    "\n",
    "        pages_objects = []\n",
    "        loader = PyPDFLoader(pdf_path)\n",
    "        for page in loader.load():\n",
    "            pages_objects.append(\n",
    "                wvc.DataObject(\n",
    "                    properties={\n",
    "                        \"title\": metadata_object[\"/Title\"],\n",
    "                        \"content\": page.page_content,\n",
    "                        \"page_number\": page.metadata[\"page\"],\n",
    "                        \"publication_number\": metadata_object[\"/PublicationNumber\"],\n",
    "                    },\n",
    "                    references={\n",
    "                        \"hasPdfDocument\": document_id\n",
    "                    }\n",
    "                )\n",
    "            )\n",
    "        pdf_pages_collection.data.insert_many(pages_objects)\n",
    "\n",
    "    except FileNotFoundError:\n",
    "        f\"Error: Could not find {pdf_path}\"\n",
    "\n",
    "\n",
    "print(\"Loading PDFs from directory...\")\n",
    "\n",
    "for folder_name, sub_folders, filenames in os.walk(pdf_source_directory):\n",
    "    for file in filenames:\n",
    "        if file.lower().endswith('.pdf'):\n",
    "            process_pdf(os.path.join(folder_name, file))"
   ]
  }
 ],
 "metadata": {
  "kernelspec": {
   "display_name": "Python 3",
   "language": "python",
   "name": "python3"
  },
  "language_info": {
   "codemirror_mode": {
    "name": "ipython",
    "version": 3
   },
   "file_extension": ".py",
   "mimetype": "text/x-python",
   "name": "python",
   "nbconvert_exporter": "python",
   "pygments_lexer": "ipython3",
   "version": "3.11.6"
  }
 },
 "nbformat": 4,
 "nbformat_minor": 2
}
