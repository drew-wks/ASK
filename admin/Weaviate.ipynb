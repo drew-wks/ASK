{
 "cells": [
  {
   "cell_type": "code",
   "execution_count": null,
   "metadata": {
    "ExecuteTime": {
     "end_time": "2024-04-19T20:18:05.909798Z",
     "start_time": "2024-04-19T20:18:02.315847Z"
    }
   },
   "outputs": [],
   "source": [
    "%pip install -U weaviate-client\n",
    "#%pip install python-dotenv"
   ]
  },
  {
   "cell_type": "code",
   "execution_count": 1,
   "metadata": {
    "ExecuteTime": {
     "end_time": "2024-04-19T20:18:10.873669Z",
     "start_time": "2024-04-19T20:18:10.319647Z"
    }
   },
   "outputs": [],
   "source": [
    "import os\n",
    "import sys\n",
    "import pandas as pd\n",
    "import weaviate\n",
    "import weaviate.classes as wvc\n",
    "#from dotenv import load_dotenv, find_dotenv\n",
    "\n",
    "#load_dotenv(find_dotenv())"
   ]
  },
  {
   "cell_type": "code",
   "execution_count": 3,
   "metadata": {
    "ExecuteTime": {
     "end_time": "2024-04-19T20:18:11.767Z",
     "start_time": "2024-04-19T20:18:11.764358Z"
    },
    "collapsed": false
   },
   "outputs": [],
   "source": [
    "'''This litle code block is used anytime you want to import a local module from within a Jupyter Notebook. This is required becuase Jupyter treats each cell as a module.'''\n",
    "\n",
    "# Navigate up one level from the current notebook's directory to reach the root directory\n",
    "current_dir = os.path.dirname(os.path.realpath('__file__'))\n",
    "parent_dir = os.path.dirname(current_dir)\n",
    "sys.path.append(parent_dir)"
   ]
  },
  {
   "cell_type": "code",
   "execution_count": 4,
   "metadata": {
    "ExecuteTime": {
     "end_time": "2024-04-19T20:18:14.128158Z",
     "start_time": "2024-04-19T20:18:13.795361Z"
    },
    "collapsed": false
   },
   "outputs": [
    {
     "name": "stderr",
     "output_type": "stream",
     "text": [
      "/home/codespace/.local/lib/python3.10/site-packages/pydantic/_internal/_config.py:284: PydanticDeprecatedSince20: Support for class-based `config` is deprecated, use ConfigDict instead. Deprecated in Pydantic V2.0 to be removed in V3.0. See Pydantic V2 Migration Guide at https://errors.pydantic.dev/2.7/migration/\n",
      "  warnings.warn(DEPRECATION_MESSAGE, DeprecationWarning)\n",
      "/home/codespace/.local/lib/python3.10/site-packages/pydantic/_internal/_generate_schema.py:263: PydanticDeprecatedSince20: `json_encoders` is deprecated. See https://docs.pydantic.dev/2.7/concepts/serialization/#custom-serializers for alternatives. Deprecated in Pydantic V2.0 to be removed in V3.0. See Pydantic V2 Migration Guide at https://errors.pydantic.dev/2.7/migration/\n",
      "  warnings.warn(\n",
      "2024-05-23 19:58:44.016 WARNING streamlit.runtime.caching.cache_data_api: No runtime found, using MemoryCacheStorageManager\n"
     ]
    }
   ],
   "source": [
    "import utils"
   ]
  },
  {
   "cell_type": "markdown",
   "metadata": {
    "collapsed": false
   },
   "source": [
    "## 2. Set Configurations and Clients"
   ]
  },
  {
   "cell_type": "code",
   "execution_count": 2,
   "metadata": {},
   "outputs": [
    {
     "name": "stdout",
     "output_type": "stream",
     "text": [
      "https://1syylnhesmc5shxvmydv1q.c1.us-east4.gcp.weaviate.cloud\n"
     ]
    }
   ],
   "source": [
    "url = os.getenv(\"WEAVIATE_URL_COMP\")\n",
    "api_key = os.getenv(\"WEAVIATE_API_KEY_COMP\")"
   ]
  },
  {
   "cell_type": "code",
   "execution_count": 3,
   "metadata": {
    "ExecuteTime": {
     "end_time": "2024-04-19T20:18:16.855544Z",
     "start_time": "2024-04-19T20:18:16.221817Z"
    },
    "collapsed": false
   },
   "outputs": [
    {
     "ename": "AttributeError",
     "evalue": "'NoneType' object has no attribute 'encode'",
     "output_type": "error",
     "traceback": [
      "\u001b[0;31m---------------------------------------------------------------------------\u001b[0m",
      "\u001b[0;31mAttributeError\u001b[0m                            Traceback (most recent call last)",
      "Cell \u001b[0;32mIn[3], line 1\u001b[0m\n\u001b[0;32m----> 1\u001b[0m client \u001b[38;5;241m=\u001b[39m \u001b[43mweaviate\u001b[49m\u001b[38;5;241;43m.\u001b[39;49m\u001b[43mconnect_to_wcs\u001b[49m\u001b[43m(\u001b[49m\n\u001b[1;32m      2\u001b[0m \u001b[43m    \u001b[49m\u001b[43mcluster_url\u001b[49m\u001b[38;5;241;43m=\u001b[39;49m\u001b[43murl\u001b[49m\u001b[43m,\u001b[49m\n\u001b[1;32m      3\u001b[0m \u001b[43m    \u001b[49m\u001b[43mauth_credentials\u001b[49m\u001b[38;5;241;43m=\u001b[39;49m\u001b[43mweaviate\u001b[49m\u001b[38;5;241;43m.\u001b[39;49m\u001b[43mauth\u001b[49m\u001b[38;5;241;43m.\u001b[39;49m\u001b[43mAuthApiKey\u001b[49m\u001b[43m(\u001b[49m\u001b[43mapi_key\u001b[49m\u001b[43m)\u001b[49m\u001b[43m,\u001b[49m\n\u001b[1;32m      4\u001b[0m \u001b[43m    \u001b[49m\u001b[43mheaders\u001b[49m\u001b[38;5;241;43m=\u001b[39;49m\u001b[43m{\u001b[49m\n\u001b[1;32m      5\u001b[0m \u001b[43m        \u001b[49m\u001b[38;5;124;43m\"\u001b[39;49m\u001b[38;5;124;43mX-OpenAI-Api-Key\u001b[39;49m\u001b[38;5;124;43m\"\u001b[39;49m\u001b[43m:\u001b[49m\u001b[43m \u001b[49m\u001b[43mos\u001b[49m\u001b[38;5;241;43m.\u001b[39;49m\u001b[43menviron\u001b[49m\u001b[38;5;241;43m.\u001b[39;49m\u001b[43mget\u001b[49m\u001b[43m(\u001b[49m\u001b[38;5;124;43m\"\u001b[39;49m\u001b[38;5;124;43mOPENAI_API_KEY\u001b[39;49m\u001b[38;5;124;43m\"\u001b[39;49m\u001b[43m)\u001b[49m\n\u001b[1;32m      6\u001b[0m \u001b[43m    \u001b[49m\u001b[43m}\u001b[49m\n\u001b[1;32m      7\u001b[0m \u001b[43m)\u001b[49m\n",
      "File \u001b[0;32m~/.python/current/lib/python3.10/site-packages/weaviate/connect/helpers.py:139\u001b[0m, in \u001b[0;36mconnect_to_wcs\u001b[0;34m(cluster_url, auth_credentials, headers, additional_config, skip_init_checks)\u001b[0m\n\u001b[1;32m     88\u001b[0m \u001b[38;5;28;01mdef\u001b[39;00m \u001b[38;5;21mconnect_to_wcs\u001b[39m(\n\u001b[1;32m     89\u001b[0m     cluster_url: \u001b[38;5;28mstr\u001b[39m,\n\u001b[1;32m     90\u001b[0m     auth_credentials: Optional[AuthCredentials],\n\u001b[0;32m   (...)\u001b[0m\n\u001b[1;32m     93\u001b[0m     skip_init_checks: \u001b[38;5;28mbool\u001b[39m \u001b[38;5;241m=\u001b[39m \u001b[38;5;28;01mFalse\u001b[39;00m,\n\u001b[1;32m     94\u001b[0m ) \u001b[38;5;241m-\u001b[39m\u001b[38;5;241m>\u001b[39m WeaviateClient:\n\u001b[1;32m     95\u001b[0m \u001b[38;5;250m    \u001b[39m\u001b[38;5;124;03m\"\"\"\u001b[39;00m\n\u001b[1;32m     96\u001b[0m \u001b[38;5;124;03m    Connect to a Weaviate Cloud (WCD) instance.\u001b[39;00m\n\u001b[1;32m     97\u001b[0m \n\u001b[0;32m   (...)\u001b[0m\n\u001b[1;32m    137\u001b[0m \u001b[38;5;124;03m        >>> # The connection is automatically closed when the context is exited.\u001b[39;00m\n\u001b[1;32m    138\u001b[0m \u001b[38;5;124;03m    \"\"\"\u001b[39;00m\n\u001b[0;32m--> 139\u001b[0m     \u001b[38;5;28;01mreturn\u001b[39;00m \u001b[43mconnect_to_weaviate_cloud\u001b[49m\u001b[43m(\u001b[49m\n\u001b[1;32m    140\u001b[0m \u001b[43m        \u001b[49m\u001b[43mcluster_url\u001b[49m\u001b[43m,\u001b[49m\u001b[43m \u001b[49m\u001b[43mauth_credentials\u001b[49m\u001b[43m,\u001b[49m\u001b[43m \u001b[49m\u001b[43mheaders\u001b[49m\u001b[43m,\u001b[49m\u001b[43m \u001b[49m\u001b[43madditional_config\u001b[49m\u001b[43m,\u001b[49m\u001b[43m \u001b[49m\u001b[43mskip_init_checks\u001b[49m\n\u001b[1;32m    141\u001b[0m \u001b[43m    \u001b[49m\u001b[43m)\u001b[49m\n",
      "File \u001b[0;32m~/.python/current/lib/python3.10/site-packages/weaviate/connect/helpers.py:85\u001b[0m, in \u001b[0;36mconnect_to_weaviate_cloud\u001b[0;34m(cluster_url, auth_credentials, headers, additional_config, skip_init_checks)\u001b[0m\n\u001b[1;32m     73\u001b[0m     grpc_host \u001b[38;5;241m=\u001b[39m \u001b[38;5;124mf\u001b[39m\u001b[38;5;124m\"\u001b[39m\u001b[38;5;124mgrpc-\u001b[39m\u001b[38;5;132;01m{\u001b[39;00mcluster_url\u001b[38;5;132;01m}\u001b[39;00m\u001b[38;5;124m\"\u001b[39m\n\u001b[1;32m     75\u001b[0m client \u001b[38;5;241m=\u001b[39m WeaviateClient(\n\u001b[1;32m     76\u001b[0m     connection_params\u001b[38;5;241m=\u001b[39mConnectionParams(\n\u001b[1;32m     77\u001b[0m         http\u001b[38;5;241m=\u001b[39mProtocolParams(host\u001b[38;5;241m=\u001b[39mcluster_url, port\u001b[38;5;241m=\u001b[39m\u001b[38;5;241m443\u001b[39m, secure\u001b[38;5;241m=\u001b[39m\u001b[38;5;28;01mTrue\u001b[39;00m),\n\u001b[0;32m   (...)\u001b[0m\n\u001b[1;32m     83\u001b[0m     skip_init_checks\u001b[38;5;241m=\u001b[39mskip_init_checks,\n\u001b[1;32m     84\u001b[0m )\n\u001b[0;32m---> 85\u001b[0m \u001b[38;5;28;01mreturn\u001b[39;00m \u001b[43m__connect\u001b[49m\u001b[43m(\u001b[49m\u001b[43mclient\u001b[49m\u001b[43m)\u001b[49m\n",
      "File \u001b[0;32m~/.python/current/lib/python3.10/site-packages/weaviate/connect/helpers.py:401\u001b[0m, in \u001b[0;36m__connect\u001b[0;34m(client)\u001b[0m\n\u001b[1;32m    399\u001b[0m \u001b[38;5;28;01mexcept\u001b[39;00m \u001b[38;5;167;01mException\u001b[39;00m \u001b[38;5;28;01mas\u001b[39;00m e:\n\u001b[1;32m    400\u001b[0m     client\u001b[38;5;241m.\u001b[39mclose()\n\u001b[0;32m--> 401\u001b[0m     \u001b[38;5;28;01mraise\u001b[39;00m e\n",
      "File \u001b[0;32m~/.python/current/lib/python3.10/site-packages/weaviate/connect/helpers.py:397\u001b[0m, in \u001b[0;36m__connect\u001b[0;34m(client)\u001b[0m\n\u001b[1;32m    395\u001b[0m \u001b[38;5;28;01mdef\u001b[39;00m \u001b[38;5;21m__connect\u001b[39m(client: WeaviateClient) \u001b[38;5;241m-\u001b[39m\u001b[38;5;241m>\u001b[39m WeaviateClient:\n\u001b[1;32m    396\u001b[0m     \u001b[38;5;28;01mtry\u001b[39;00m:\n\u001b[0;32m--> 397\u001b[0m         \u001b[43mclient\u001b[49m\u001b[38;5;241;43m.\u001b[39;49m\u001b[43mconnect\u001b[49m\u001b[43m(\u001b[49m\u001b[43m)\u001b[49m\n\u001b[1;32m    398\u001b[0m         \u001b[38;5;28;01mreturn\u001b[39;00m client\n\u001b[1;32m    399\u001b[0m     \u001b[38;5;28;01mexcept\u001b[39;00m \u001b[38;5;167;01mException\u001b[39;00m \u001b[38;5;28;01mas\u001b[39;00m e:\n",
      "File \u001b[0;32m~/.python/current/lib/python3.10/site-packages/weaviate/client.py:287\u001b[0m, in \u001b[0;36mWeaviateClient.connect\u001b[0;34m(self)\u001b[0m\n\u001b[1;32m    285\u001b[0m \u001b[38;5;28;01mif\u001b[39;00m \u001b[38;5;28mself\u001b[39m\u001b[38;5;241m.\u001b[39m_connection\u001b[38;5;241m.\u001b[39mis_connected():\n\u001b[1;32m    286\u001b[0m     \u001b[38;5;28;01mreturn\u001b[39;00m\n\u001b[0;32m--> 287\u001b[0m \u001b[38;5;28;43mself\u001b[39;49m\u001b[38;5;241;43m.\u001b[39;49m\u001b[43m_connection\u001b[49m\u001b[38;5;241;43m.\u001b[39;49m\u001b[43mconnect\u001b[49m\u001b[43m(\u001b[49m\u001b[38;5;28;43mself\u001b[39;49m\u001b[38;5;241;43m.\u001b[39;49m\u001b[43m__skip_init_checks\u001b[49m\u001b[43m)\u001b[49m\n",
      "File \u001b[0;32m~/.python/current/lib/python3.10/site-packages/weaviate/connect/v4.py:711\u001b[0m, in \u001b[0;36mConnectionV4.connect\u001b[0;34m(self, skip_init_checks)\u001b[0m\n\u001b[1;32m    710\u001b[0m \u001b[38;5;28;01mdef\u001b[39;00m \u001b[38;5;21mconnect\u001b[39m(\u001b[38;5;28mself\u001b[39m, skip_init_checks: \u001b[38;5;28mbool\u001b[39m) \u001b[38;5;241m-\u001b[39m\u001b[38;5;241m>\u001b[39m \u001b[38;5;28;01mNone\u001b[39;00m:\n\u001b[0;32m--> 711\u001b[0m     \u001b[38;5;28;43msuper\u001b[39;49m\u001b[43m(\u001b[49m\u001b[43m)\u001b[49m\u001b[38;5;241;43m.\u001b[39;49m\u001b[43mconnect\u001b[49m\u001b[43m(\u001b[49m\u001b[43mskip_init_checks\u001b[49m\u001b[43m)\u001b[49m\n\u001b[1;32m    712\u001b[0m     \u001b[38;5;66;03m# create GRPC channel. If Weaviate does not support GRPC then error now.\u001b[39;00m\n\u001b[1;32m    713\u001b[0m     \u001b[38;5;28mself\u001b[39m\u001b[38;5;241m.\u001b[39m_grpc_channel \u001b[38;5;241m=\u001b[39m \u001b[38;5;28mself\u001b[39m\u001b[38;5;241m.\u001b[39m_connection_params\u001b[38;5;241m.\u001b[39m_grpc_channel(\n\u001b[1;32m    714\u001b[0m         async_channel\u001b[38;5;241m=\u001b[39m\u001b[38;5;28;01mFalse\u001b[39;00m, proxies\u001b[38;5;241m=\u001b[39m\u001b[38;5;28mself\u001b[39m\u001b[38;5;241m.\u001b[39m_proxies\n\u001b[1;32m    715\u001b[0m     )\n",
      "File \u001b[0;32m~/.python/current/lib/python3.10/site-packages/weaviate/connect/v4.py:138\u001b[0m, in \u001b[0;36m_Connection.connect\u001b[0;34m(self, skip_init_checks)\u001b[0m\n\u001b[1;32m    136\u001b[0m \u001b[38;5;28;01mif\u001b[39;00m \u001b[38;5;28mself\u001b[39m\u001b[38;5;241m.\u001b[39membedded_db \u001b[38;5;129;01mis\u001b[39;00m \u001b[38;5;129;01mnot\u001b[39;00m \u001b[38;5;28;01mNone\u001b[39;00m:\n\u001b[1;32m    137\u001b[0m     \u001b[38;5;28mself\u001b[39m\u001b[38;5;241m.\u001b[39membedded_db\u001b[38;5;241m.\u001b[39mstart()\n\u001b[0;32m--> 138\u001b[0m \u001b[38;5;28;43mself\u001b[39;49m\u001b[38;5;241;43m.\u001b[39;49m\u001b[43m_create_clients\u001b[49m\u001b[43m(\u001b[49m\u001b[38;5;28;43mself\u001b[39;49m\u001b[38;5;241;43m.\u001b[39;49m\u001b[43m_auth\u001b[49m\u001b[43m,\u001b[49m\u001b[43m \u001b[49m\u001b[43mskip_init_checks\u001b[49m\u001b[43m)\u001b[49m\n\u001b[1;32m    139\u001b[0m \u001b[38;5;28mself\u001b[39m\u001b[38;5;241m.\u001b[39m__connected \u001b[38;5;241m=\u001b[39m \u001b[38;5;28;01mTrue\u001b[39;00m\n\u001b[1;32m    140\u001b[0m \u001b[38;5;28;01mif\u001b[39;00m \u001b[38;5;28mself\u001b[39m\u001b[38;5;241m.\u001b[39membedded_db \u001b[38;5;129;01mis\u001b[39;00m \u001b[38;5;129;01mnot\u001b[39;00m \u001b[38;5;28;01mNone\u001b[39;00m:\n",
      "File \u001b[0;32m~/.python/current/lib/python3.10/site-packages/weaviate/connect/v4.py:243\u001b[0m, in \u001b[0;36m_Connection._create_clients\u001b[0;34m(self, auth_client_secret, skip_init_checks)\u001b[0m\n\u001b[1;32m    238\u001b[0m \u001b[38;5;28;01mdef\u001b[39;00m \u001b[38;5;21m_create_clients\u001b[39m(\n\u001b[1;32m    239\u001b[0m     \u001b[38;5;28mself\u001b[39m, auth_client_secret: Optional[AuthCredentials], skip_init_checks: \u001b[38;5;28mbool\u001b[39m\n\u001b[1;32m    240\u001b[0m ) \u001b[38;5;241m-\u001b[39m\u001b[38;5;241m>\u001b[39m \u001b[38;5;28;01mNone\u001b[39;00m:\n\u001b[1;32m    241\u001b[0m     \u001b[38;5;66;03m# API keys are separate from OIDC and do not need any config from weaviate\u001b[39;00m\n\u001b[1;32m    242\u001b[0m     \u001b[38;5;28;01mif\u001b[39;00m auth_client_secret \u001b[38;5;129;01mis\u001b[39;00m \u001b[38;5;129;01mnot\u001b[39;00m \u001b[38;5;28;01mNone\u001b[39;00m \u001b[38;5;129;01mand\u001b[39;00m \u001b[38;5;28misinstance\u001b[39m(auth_client_secret, AuthApiKey):\n\u001b[0;32m--> 243\u001b[0m         \u001b[38;5;28;43mself\u001b[39;49m\u001b[38;5;241;43m.\u001b[39;49m\u001b[43m__make_clients\u001b[49m\u001b[43m(\u001b[49m\u001b[43m)\u001b[49m\n\u001b[1;32m    244\u001b[0m         \u001b[38;5;28;01mreturn\u001b[39;00m\n\u001b[1;32m    246\u001b[0m     \u001b[38;5;28;01mif\u001b[39;00m \u001b[38;5;124m\"\u001b[39m\u001b[38;5;124mauthorization\u001b[39m\u001b[38;5;124m\"\u001b[39m \u001b[38;5;129;01min\u001b[39;00m \u001b[38;5;28mself\u001b[39m\u001b[38;5;241m.\u001b[39m_headers \u001b[38;5;129;01mand\u001b[39;00m auth_client_secret \u001b[38;5;129;01mis\u001b[39;00m \u001b[38;5;28;01mNone\u001b[39;00m:\n",
      "File \u001b[0;32m~/.python/current/lib/python3.10/site-packages/weaviate/connect/v4.py:236\u001b[0m, in \u001b[0;36m_Connection.__make_clients\u001b[0;34m(self)\u001b[0m\n\u001b[1;32m    235\u001b[0m \u001b[38;5;28;01mdef\u001b[39;00m \u001b[38;5;21m__make_clients\u001b[39m(\u001b[38;5;28mself\u001b[39m) \u001b[38;5;241m-\u001b[39m\u001b[38;5;241m>\u001b[39m \u001b[38;5;28;01mNone\u001b[39;00m:\n\u001b[0;32m--> 236\u001b[0m     \u001b[38;5;28mself\u001b[39m\u001b[38;5;241m.\u001b[39m_client \u001b[38;5;241m=\u001b[39m \u001b[38;5;28;43mself\u001b[39;49m\u001b[38;5;241;43m.\u001b[39;49m\u001b[43m__make_sync_client\u001b[49m\u001b[43m(\u001b[49m\u001b[43m)\u001b[49m\n",
      "File \u001b[0;32m~/.python/current/lib/python3.10/site-packages/weaviate/connect/v4.py:218\u001b[0m, in \u001b[0;36m_Connection.__make_sync_client\u001b[0;34m(self)\u001b[0m\n\u001b[1;32m    217\u001b[0m \u001b[38;5;28;01mdef\u001b[39;00m \u001b[38;5;21m__make_sync_client\u001b[39m(\u001b[38;5;28mself\u001b[39m) \u001b[38;5;241m-\u001b[39m\u001b[38;5;241m>\u001b[39m Client:\n\u001b[0;32m--> 218\u001b[0m     \u001b[38;5;28;01mreturn\u001b[39;00m \u001b[43mClient\u001b[49m\u001b[43m(\u001b[49m\n\u001b[1;32m    219\u001b[0m \u001b[43m        \u001b[49m\u001b[43mheaders\u001b[49m\u001b[38;5;241;43m=\u001b[39;49m\u001b[38;5;28;43mself\u001b[39;49m\u001b[38;5;241;43m.\u001b[39;49m\u001b[43m_headers\u001b[49m\u001b[43m,\u001b[49m\n\u001b[1;32m    220\u001b[0m \u001b[43m        \u001b[49m\u001b[43mtimeout\u001b[49m\u001b[38;5;241;43m=\u001b[39;49m\u001b[43mTimeout\u001b[49m\u001b[43m(\u001b[49m\n\u001b[1;32m    221\u001b[0m \u001b[43m            \u001b[49m\u001b[38;5;28;43;01mNone\u001b[39;49;00m\u001b[43m,\u001b[49m\u001b[43m \u001b[49m\u001b[43mconnect\u001b[49m\u001b[38;5;241;43m=\u001b[39;49m\u001b[38;5;28;43mself\u001b[39;49m\u001b[38;5;241;43m.\u001b[39;49m\u001b[43mtimeout_config\u001b[49m\u001b[38;5;241;43m.\u001b[39;49m\u001b[43mquery\u001b[49m\u001b[43m,\u001b[49m\u001b[43m \u001b[49m\u001b[43mread\u001b[49m\u001b[38;5;241;43m=\u001b[39;49m\u001b[38;5;28;43mself\u001b[39;49m\u001b[38;5;241;43m.\u001b[39;49m\u001b[43mtimeout_config\u001b[49m\u001b[38;5;241;43m.\u001b[39;49m\u001b[43minsert\u001b[49m\n\u001b[1;32m    222\u001b[0m \u001b[43m        \u001b[49m\u001b[43m)\u001b[49m\u001b[43m,\u001b[49m\n\u001b[1;32m    223\u001b[0m \u001b[43m        \u001b[49m\u001b[43mmounts\u001b[49m\u001b[38;5;241;43m=\u001b[39;49m\u001b[38;5;28;43mself\u001b[39;49m\u001b[38;5;241;43m.\u001b[39;49m\u001b[43m__make_mounts\u001b[49m\u001b[43m(\u001b[49m\u001b[38;5;124;43m\"\u001b[39;49m\u001b[38;5;124;43msync\u001b[39;49m\u001b[38;5;124;43m\"\u001b[39;49m\u001b[43m)\u001b[49m\u001b[43m,\u001b[49m\n\u001b[1;32m    224\u001b[0m \u001b[43m    \u001b[49m\u001b[43m)\u001b[49m\n",
      "File \u001b[0;32m~/.local/lib/python3.10/site-packages/httpx/_client.py:643\u001b[0m, in \u001b[0;36mClient.__init__\u001b[0;34m(self, auth, params, headers, cookies, verify, cert, http1, http2, proxy, proxies, mounts, timeout, follow_redirects, limits, max_redirects, event_hooks, base_url, transport, app, trust_env, default_encoding)\u001b[0m\n\u001b[1;32m    618\u001b[0m \u001b[38;5;28;01mdef\u001b[39;00m \u001b[38;5;21m__init__\u001b[39m(\n\u001b[1;32m    619\u001b[0m     \u001b[38;5;28mself\u001b[39m,\n\u001b[1;32m    620\u001b[0m     \u001b[38;5;241m*\u001b[39m,\n\u001b[0;32m   (...)\u001b[0m\n\u001b[1;32m    641\u001b[0m     default_encoding: \u001b[38;5;28mstr\u001b[39m \u001b[38;5;241m|\u001b[39m typing\u001b[38;5;241m.\u001b[39mCallable[[\u001b[38;5;28mbytes\u001b[39m], \u001b[38;5;28mstr\u001b[39m] \u001b[38;5;241m=\u001b[39m \u001b[38;5;124m\"\u001b[39m\u001b[38;5;124mutf-8\u001b[39m\u001b[38;5;124m\"\u001b[39m,\n\u001b[1;32m    642\u001b[0m ) \u001b[38;5;241m-\u001b[39m\u001b[38;5;241m>\u001b[39m \u001b[38;5;28;01mNone\u001b[39;00m:\n\u001b[0;32m--> 643\u001b[0m     \u001b[38;5;28;43msuper\u001b[39;49m\u001b[43m(\u001b[49m\u001b[43m)\u001b[49m\u001b[38;5;241;43m.\u001b[39;49m\u001b[38;5;21;43m__init__\u001b[39;49m\u001b[43m(\u001b[49m\n\u001b[1;32m    644\u001b[0m \u001b[43m        \u001b[49m\u001b[43mauth\u001b[49m\u001b[38;5;241;43m=\u001b[39;49m\u001b[43mauth\u001b[49m\u001b[43m,\u001b[49m\n\u001b[1;32m    645\u001b[0m \u001b[43m        \u001b[49m\u001b[43mparams\u001b[49m\u001b[38;5;241;43m=\u001b[39;49m\u001b[43mparams\u001b[49m\u001b[43m,\u001b[49m\n\u001b[1;32m    646\u001b[0m \u001b[43m        \u001b[49m\u001b[43mheaders\u001b[49m\u001b[38;5;241;43m=\u001b[39;49m\u001b[43mheaders\u001b[49m\u001b[43m,\u001b[49m\n\u001b[1;32m    647\u001b[0m \u001b[43m        \u001b[49m\u001b[43mcookies\u001b[49m\u001b[38;5;241;43m=\u001b[39;49m\u001b[43mcookies\u001b[49m\u001b[43m,\u001b[49m\n\u001b[1;32m    648\u001b[0m \u001b[43m        \u001b[49m\u001b[43mtimeout\u001b[49m\u001b[38;5;241;43m=\u001b[39;49m\u001b[43mtimeout\u001b[49m\u001b[43m,\u001b[49m\n\u001b[1;32m    649\u001b[0m \u001b[43m        \u001b[49m\u001b[43mfollow_redirects\u001b[49m\u001b[38;5;241;43m=\u001b[39;49m\u001b[43mfollow_redirects\u001b[49m\u001b[43m,\u001b[49m\n\u001b[1;32m    650\u001b[0m \u001b[43m        \u001b[49m\u001b[43mmax_redirects\u001b[49m\u001b[38;5;241;43m=\u001b[39;49m\u001b[43mmax_redirects\u001b[49m\u001b[43m,\u001b[49m\n\u001b[1;32m    651\u001b[0m \u001b[43m        \u001b[49m\u001b[43mevent_hooks\u001b[49m\u001b[38;5;241;43m=\u001b[39;49m\u001b[43mevent_hooks\u001b[49m\u001b[43m,\u001b[49m\n\u001b[1;32m    652\u001b[0m \u001b[43m        \u001b[49m\u001b[43mbase_url\u001b[49m\u001b[38;5;241;43m=\u001b[39;49m\u001b[43mbase_url\u001b[49m\u001b[43m,\u001b[49m\n\u001b[1;32m    653\u001b[0m \u001b[43m        \u001b[49m\u001b[43mtrust_env\u001b[49m\u001b[38;5;241;43m=\u001b[39;49m\u001b[43mtrust_env\u001b[49m\u001b[43m,\u001b[49m\n\u001b[1;32m    654\u001b[0m \u001b[43m        \u001b[49m\u001b[43mdefault_encoding\u001b[49m\u001b[38;5;241;43m=\u001b[39;49m\u001b[43mdefault_encoding\u001b[49m\u001b[43m,\u001b[49m\n\u001b[1;32m    655\u001b[0m \u001b[43m    \u001b[49m\u001b[43m)\u001b[49m\n\u001b[1;32m    657\u001b[0m     \u001b[38;5;28;01mif\u001b[39;00m http2:\n\u001b[1;32m    658\u001b[0m         \u001b[38;5;28;01mtry\u001b[39;00m:\n",
      "File \u001b[0;32m~/.local/lib/python3.10/site-packages/httpx/_client.py:183\u001b[0m, in \u001b[0;36mBaseClient.__init__\u001b[0;34m(self, auth, params, headers, cookies, timeout, follow_redirects, max_redirects, event_hooks, base_url, trust_env, default_encoding)\u001b[0m\n\u001b[1;32m    181\u001b[0m \u001b[38;5;28mself\u001b[39m\u001b[38;5;241m.\u001b[39m_auth \u001b[38;5;241m=\u001b[39m \u001b[38;5;28mself\u001b[39m\u001b[38;5;241m.\u001b[39m_build_auth(auth)\n\u001b[1;32m    182\u001b[0m \u001b[38;5;28mself\u001b[39m\u001b[38;5;241m.\u001b[39m_params \u001b[38;5;241m=\u001b[39m QueryParams(params)\n\u001b[0;32m--> 183\u001b[0m \u001b[38;5;28mself\u001b[39m\u001b[38;5;241m.\u001b[39mheaders \u001b[38;5;241m=\u001b[39m \u001b[43mHeaders\u001b[49m\u001b[43m(\u001b[49m\u001b[43mheaders\u001b[49m\u001b[43m)\u001b[49m\n\u001b[1;32m    184\u001b[0m \u001b[38;5;28mself\u001b[39m\u001b[38;5;241m.\u001b[39m_cookies \u001b[38;5;241m=\u001b[39m Cookies(cookies)\n\u001b[1;32m    185\u001b[0m \u001b[38;5;28mself\u001b[39m\u001b[38;5;241m.\u001b[39m_timeout \u001b[38;5;241m=\u001b[39m Timeout(timeout)\n",
      "File \u001b[0;32m~/.local/lib/python3.10/site-packages/httpx/_models.py:72\u001b[0m, in \u001b[0;36mHeaders.__init__\u001b[0;34m(self, headers, encoding)\u001b[0m\n\u001b[1;32m     70\u001b[0m     \u001b[38;5;28mself\u001b[39m\u001b[38;5;241m.\u001b[39m_list \u001b[38;5;241m=\u001b[39m \u001b[38;5;28mlist\u001b[39m(headers\u001b[38;5;241m.\u001b[39m_list)\n\u001b[1;32m     71\u001b[0m \u001b[38;5;28;01melif\u001b[39;00m \u001b[38;5;28misinstance\u001b[39m(headers, Mapping):\n\u001b[0;32m---> 72\u001b[0m     \u001b[38;5;28mself\u001b[39m\u001b[38;5;241m.\u001b[39m_list \u001b[38;5;241m=\u001b[39m [\n\u001b[1;32m     73\u001b[0m         (\n\u001b[1;32m     74\u001b[0m             normalize_header_key(k, lower\u001b[38;5;241m=\u001b[39m\u001b[38;5;28;01mFalse\u001b[39;00m, encoding\u001b[38;5;241m=\u001b[39mencoding),\n\u001b[1;32m     75\u001b[0m             normalize_header_key(k, lower\u001b[38;5;241m=\u001b[39m\u001b[38;5;28;01mTrue\u001b[39;00m, encoding\u001b[38;5;241m=\u001b[39mencoding),\n\u001b[1;32m     76\u001b[0m             normalize_header_value(v, encoding),\n\u001b[1;32m     77\u001b[0m         )\n\u001b[1;32m     78\u001b[0m         \u001b[38;5;28;01mfor\u001b[39;00m k, v \u001b[38;5;129;01min\u001b[39;00m headers\u001b[38;5;241m.\u001b[39mitems()\n\u001b[1;32m     79\u001b[0m     ]\n\u001b[1;32m     80\u001b[0m \u001b[38;5;28;01melse\u001b[39;00m:\n\u001b[1;32m     81\u001b[0m     \u001b[38;5;28mself\u001b[39m\u001b[38;5;241m.\u001b[39m_list \u001b[38;5;241m=\u001b[39m [\n\u001b[1;32m     82\u001b[0m         (\n\u001b[1;32m     83\u001b[0m             normalize_header_key(k, lower\u001b[38;5;241m=\u001b[39m\u001b[38;5;28;01mFalse\u001b[39;00m, encoding\u001b[38;5;241m=\u001b[39mencoding),\n\u001b[0;32m   (...)\u001b[0m\n\u001b[1;32m     87\u001b[0m         \u001b[38;5;28;01mfor\u001b[39;00m k, v \u001b[38;5;129;01min\u001b[39;00m headers\n\u001b[1;32m     88\u001b[0m     ]\n",
      "File \u001b[0;32m~/.local/lib/python3.10/site-packages/httpx/_models.py:76\u001b[0m, in \u001b[0;36m<listcomp>\u001b[0;34m(.0)\u001b[0m\n\u001b[1;32m     70\u001b[0m     \u001b[38;5;28mself\u001b[39m\u001b[38;5;241m.\u001b[39m_list \u001b[38;5;241m=\u001b[39m \u001b[38;5;28mlist\u001b[39m(headers\u001b[38;5;241m.\u001b[39m_list)\n\u001b[1;32m     71\u001b[0m \u001b[38;5;28;01melif\u001b[39;00m \u001b[38;5;28misinstance\u001b[39m(headers, Mapping):\n\u001b[1;32m     72\u001b[0m     \u001b[38;5;28mself\u001b[39m\u001b[38;5;241m.\u001b[39m_list \u001b[38;5;241m=\u001b[39m [\n\u001b[1;32m     73\u001b[0m         (\n\u001b[1;32m     74\u001b[0m             normalize_header_key(k, lower\u001b[38;5;241m=\u001b[39m\u001b[38;5;28;01mFalse\u001b[39;00m, encoding\u001b[38;5;241m=\u001b[39mencoding),\n\u001b[1;32m     75\u001b[0m             normalize_header_key(k, lower\u001b[38;5;241m=\u001b[39m\u001b[38;5;28;01mTrue\u001b[39;00m, encoding\u001b[38;5;241m=\u001b[39mencoding),\n\u001b[0;32m---> 76\u001b[0m             \u001b[43mnormalize_header_value\u001b[49m\u001b[43m(\u001b[49m\u001b[43mv\u001b[49m\u001b[43m,\u001b[49m\u001b[43m \u001b[49m\u001b[43mencoding\u001b[49m\u001b[43m)\u001b[49m,\n\u001b[1;32m     77\u001b[0m         )\n\u001b[1;32m     78\u001b[0m         \u001b[38;5;28;01mfor\u001b[39;00m k, v \u001b[38;5;129;01min\u001b[39;00m headers\u001b[38;5;241m.\u001b[39mitems()\n\u001b[1;32m     79\u001b[0m     ]\n\u001b[1;32m     80\u001b[0m \u001b[38;5;28;01melse\u001b[39;00m:\n\u001b[1;32m     81\u001b[0m     \u001b[38;5;28mself\u001b[39m\u001b[38;5;241m.\u001b[39m_list \u001b[38;5;241m=\u001b[39m [\n\u001b[1;32m     82\u001b[0m         (\n\u001b[1;32m     83\u001b[0m             normalize_header_key(k, lower\u001b[38;5;241m=\u001b[39m\u001b[38;5;28;01mFalse\u001b[39;00m, encoding\u001b[38;5;241m=\u001b[39mencoding),\n\u001b[0;32m   (...)\u001b[0m\n\u001b[1;32m     87\u001b[0m         \u001b[38;5;28;01mfor\u001b[39;00m k, v \u001b[38;5;129;01min\u001b[39;00m headers\n\u001b[1;32m     88\u001b[0m     ]\n",
      "File \u001b[0;32m~/.local/lib/python3.10/site-packages/httpx/_utils.py:53\u001b[0m, in \u001b[0;36mnormalize_header_value\u001b[0;34m(value, encoding)\u001b[0m\n\u001b[1;32m     51\u001b[0m \u001b[38;5;28;01mif\u001b[39;00m \u001b[38;5;28misinstance\u001b[39m(value, \u001b[38;5;28mbytes\u001b[39m):\n\u001b[1;32m     52\u001b[0m     \u001b[38;5;28;01mreturn\u001b[39;00m value\n\u001b[0;32m---> 53\u001b[0m \u001b[38;5;28;01mreturn\u001b[39;00m \u001b[43mvalue\u001b[49m\u001b[38;5;241;43m.\u001b[39;49m\u001b[43mencode\u001b[49m(encoding \u001b[38;5;129;01mor\u001b[39;00m \u001b[38;5;124m\"\u001b[39m\u001b[38;5;124mascii\u001b[39m\u001b[38;5;124m\"\u001b[39m)\n",
      "\u001b[0;31mAttributeError\u001b[0m: 'NoneType' object has no attribute 'encode'"
     ]
    }
   ],
   "source": [
    "client = weaviate.connect_to_wcs(\n",
    "    cluster_url=url,\n",
    "    auth_credentials=weaviate.auth.AuthApiKey(api_key),\n",
    "    headers={\n",
    "        \"X-OpenAI-Api-Key\": os.environ.get(\"OPENAI_API_KEY\")\n",
    "    }\n",
    ")"
   ]
  },
  {
   "cell_type": "code",
   "execution_count": null,
   "metadata": {
    "ExecuteTime": {
     "end_time": "2024-04-19T20:18:17.535466Z",
     "start_time": "2024-04-19T20:18:17.532838Z"
    },
    "collapsed": false
   },
   "outputs": [],
   "source": [
    "pdf_source_directory = \"../docs/test_pdfs/\"\n",
    "library_catalog_directory = \"../docs/library_catalog/\"\n",
    "zulu_format = '%Y-%m-%dT%H:%MZ'"
   ]
  },
  {
   "cell_type": "markdown",
   "metadata": {
    "collapsed": false
   },
   "source": [
    "## 2. Create the Collection and Define the Properties"
   ]
  },
  {
   "cell_type": "code",
   "execution_count": null,
   "metadata": {
    "ExecuteTime": {
     "end_time": "2024-04-19T20:20:40.171490Z",
     "start_time": "2024-04-19T20:20:39.534739Z"
    },
    "collapsed": false
   },
   "outputs": [],
   "source": [
    "#create a Weaviate collection to hold PDF and PDFPages\n",
    "\n",
    "if client.collections.exists(\"PDF_document\"):\n",
    "    client.collections.delete(\"PDF_document\")\n",
    "if client.collections.exists(\"PDF_document_page\"):\n",
    "    client.collections.delete(\"PDF_document_page\")\n",
    "\n",
    "pdfs_collection = client.collections.create(\n",
    "    name=\"PDF_document\",\n",
    "    vectorizer_config=wvc.config.Configure.Vectorizer.none(),\n",
    "    generative_config=wvc.config.Configure.Generative.openai(),\n",
    "    properties=[\n",
    "        wvc.config.Property(\n",
    "            name=\"title\",\n",
    "            description=\"Name of the document. If none, defaults to File Name w/o extension\",\n",
    "            data_type=wvc.config.DataType.TEXT\n",
    "        ),\n",
    "        wvc.config.Property(\n",
    "            name=\"leadership_scope\",\n",
    "            description=\"1_National, 2_District, 3_Divison, 3_Sector, 4_Flotilla, 4_Station, 5_Facility\",\n",
    "            data_type=wvc.config.DataType.TEXT\n",
    "        ),\n",
    "        wvc.config.Property(\n",
    "            name=\"page_count\",\n",
    "            description=\"Number of pages in the document\",\n",
    "            data_type=wvc.config.DataType.INT\n",
    "        ),\n",
    "        wvc.config.Property(\n",
    "            name=\"creation_date\",\n",
    "            description=\"Uses existing pdf date, else defaults to ingestion date\",\n",
    "            data_type=wvc.config.DataType.DATE\n",
    "        ),\n",
    "        wvc.config.Property(\n",
    "            name=\"effective_date\",\n",
    "            description=\"Date document became effective, else defaults to ingestion date\",\n",
    "            data_type=wvc.config.DataType.DATE\n",
    "        ),\n",
    "            wvc.config.Property(\n",
    "            name=\"tagged_date\",\n",
    "            description=\"Date document metadata was added to the library catalog\",\n",
    "            data_type=wvc.config.DataType.DATE\n",
    "        ),\n",
    "        wvc.config.Property(\n",
    "            name=\"upsert_date\",\n",
    "            description=\"Date uploaded to the vector database\",\n",
    "            data_type=wvc.config.DataType.DATE\n",
    "        ),\n",
    "        wvc.config.Property(\n",
    "            name=\"expiration_date\",\n",
    "            description=\"If no cancellation date given, then defaults to effective date + 10 years per COMDINST M5215.6I\",\n",
    "            data_type=wvc.config.DataType.DATE\n",
    "        ),\n",
    "            wvc.config.Property(\n",
    "            name=\"lifecycle\",\n",
    "            description=\"Last name of Auxiliarist who curated. Currently blank\",\n",
    "            data_type=wvc.config.DataType.TEXT\n",
    "            ),\n",
    "        wvc.config.Property(\n",
    "            name=\"aux_specific\",\n",
    "            description=\"True if document specifically applies to the Auxiliary\",\n",
    "            data_type=wvc.config.DataType.BOOL\n",
    "        ),\n",
    "        wvc.config.Property(\n",
    "            name=\"public_release\",\n",
    "            description=\"True if document is available on public internet\",\n",
    "            data_type=wvc.config.DataType.BOOL\n",
    "        ),\n",
    "        wvc.config.Property(\n",
    "            name=\"publication_number\",\n",
    "            description=\"Identification number of the directive or document. In the case of Directives, underscores are used for spaces (e.g., COMDTINST_M1000.6A)\",\n",
    "            data_type=wvc.config.DataType.TEXT\n",
    "        ),\n",
    "        wvc.config.Property(\n",
    "            name=\"source\",\n",
    "            description=\"Web domain source of document (e.g.,uscg.mil, cgaux.org)\",\n",
    "            data_type=wvc.config.DataType.TEXT\n",
    "        ),\n",
    "        wvc.config.Property(\n",
    "            name=\"organization\",\n",
    "            description=\"Not curently used, can be used to track CG directive originator using Standard Distribution List (SDL), COMDTNOTE 5605 encl (3) (i.e., CG-BSX-1) or Auxiliary Unit Number (0130510)\",\n",
    "            data_type=wvc.config.DataType.TEXT\n",
    "        ),\n",
    "        wvc.config.Property(\n",
    "            name=\"curator\",\n",
    "            description=\"Last name of Auxiliarist who curated. Currently blank\",\n",
    "            data_type=wvc.config.DataType.TEXT\n",
    "        ),\n",
    "        wvc.config.Property(\n",
    "            name=\"file_name\",\n",
    "            description=\"Name of the PDF file\",\n",
    "            data_type=wvc.config.DataType.TEXT\n",
    "        ),\n",
    "    ]\n",
    ")\n",
    "\n",
    "pdf_pages_collection = client.collections.create(\n",
    "    name=\"PDF_document_page\",\n",
    "    vectorizer_config=wvc.config.Configure.Vectorizer.text2vec_openai(),\n",
    "    generative_config=wvc.config.Configure.Generative.openai(),\n",
    "    properties=[\n",
    "        wvc.config.Property(\n",
    "            name=\"content\",\n",
    "            description=\"content of the page\",\n",
    "            data_type=wvc.config.DataType.TEXT\n",
    "        ),\n",
    "        wvc.config.Property(\n",
    "            name=\"title\",\n",
    "            description=\"Taken from PDF_document object property of the same name\",\n",
    "            data_type=wvc.config.DataType.TEXT\n",
    "        ),\n",
    "        wvc.config.Property(\n",
    "            name=\"page_number\",\n",
    "            description=\"Page number\",\n",
    "            data_type=wvc.config.DataType.INT\n",
    "        ),\n",
    "        wvc.config.Property(\n",
    "            name=\"publication_number\",\n",
    "            description=\"Taken from PDF_document object property of the same name\",\n",
    "            data_type=wvc.config.DataType.TEXT,\n",
    "            skip_vectorization=True\n",
    "        ),\n",
    "    ],\n",
    "    references=[\n",
    "        wvc.config.ReferenceProperty(\n",
    "            name=\"hasPdfDocument\",\n",
    "            target_collection=\"PDF_document\"\n",
    "        )\n",
    "    ]\n",
    ")\n"
   ]
  },
  {
   "cell_type": "markdown",
   "metadata": {
    "collapsed": false
   },
   "source": [
    "## Load Objects"
   ]
  },
  {
   "cell_type": "code",
   "execution_count": null,
   "metadata": {
    "ExecuteTime": {
     "end_time": "2024-04-19T20:20:42.235955Z",
     "start_time": "2024-04-19T20:20:42.189093Z"
    },
    "collapsed": false
   },
   "outputs": [],
   "source": [
    "# Get the library catalog containing all the metadata and put it into a dataframe\n",
    "\n",
    "catalog_file_path, last_update_date = utils.get_most_recent_filepath_and_date(\n",
    "    \"library_catalog\", library_catalog_directory, \"xlsx\")\n",
    "\n",
    "datetime_cols = ['creation_date', 'effective_date',\n",
    "                 'tagged_date', 'upsert_date', 'expiration_date']\n",
    "\n",
    "try:\n",
    "    df = pd.read_excel(catalog_file_path)\n",
    "    for col in datetime_cols:\n",
    "        df[col] = pd.to_datetime(df[col], utc=True)\n",
    "        df[col] = df[col].dt.strftime('%Y-%m-%dT%H:%M:%SZ')\n",
    "    df.fillna('', inplace=True)\n",
    "    print(f\"Successfully imported:  {catalog_file_path}\")\n",
    "except Exception as e:\n",
    "    os.write(\n",
    "        1, f\"Failed to read the most recent library catalog file: {e}\\n\".encode())"
   ]
  },
  {
   "cell_type": "code",
   "execution_count": null,
   "metadata": {
    "ExecuteTime": {
     "end_time": "2024-04-19T20:20:57.522564Z",
     "start_time": "2024-04-19T20:20:45.651904Z"
    },
    "collapsed": false
   },
   "outputs": [],
   "source": [
    "# starter code that pulls the library catalog into pdfs_collection\n",
    "\n",
    "import pypdf\n",
    "import json\n",
    "from langchain.document_loaders import PyPDFLoader\n",
    "import utils  # Ensure utils module with compute_doc_id function is imported\n",
    "\n",
    "pdfs_collection = client.collections.get(\"PDF_document\")\n",
    "pdf_pages_collection = client.collections.get(\"PDF_document_page\")\n",
    "\n",
    "\n",
    "def process_pdf(pdf_path, df):\n",
    "    try:\n",
    "        # Compute the document_id for the PDF\n",
    "        document_id = str(utils.compute_doc_id(pdf_path))\n",
    "\n",
    "        # Find the metadata row in df that corresponds to this document_id\n",
    "        pdf_metadata = df[df['document_id'] == str(document_id)]\n",
    "\n",
    "        if not pdf_metadata.empty:\n",
    "            if len(pdf_metadata) > 1:\n",
    "                raise ValueError(\n",
    "                    f\"Found duplicates for document_id: '{document_id}', number of results: {len(pdf_metadata)}\")\n",
    "            pdf_metadata = pdf_metadata.iloc[0]\n",
    "            properties = pdf_metadata.to_dict()\n",
    "            if \"publication_number\" in properties:\n",
    "                properties['publication_number'] = str(properties['publication_number'])\n",
    "            pdfs_collection.data.insert(\n",
    "                properties=properties,\n",
    "                uuid=document_id\n",
    "            )\n",
    "        else:\n",
    "            raise ValueError(\n",
    "                f\"No metadata found for document ID: {document_id}\")\n",
    "\n",
    "        # Process PDF pages\n",
    "        pages_objects = []\n",
    "        loader = PyPDFLoader(pdf_path)\n",
    "        for page in loader.load():\n",
    "            pages_objects.append(\n",
    "                wvc.data.DataObject(\n",
    "                    properties={\n",
    "                        \"title\": properties['title'],\n",
    "                        \"publication_number\": str(properties['publication_number']),\n",
    "                        \"content\": page.page_content,\n",
    "                        \"page_number\": page.metadata[\"page\"],\n",
    "                    },\n",
    "                    references={\n",
    "                        \"hasPdfDocument\": document_id\n",
    "                    }\n",
    "                )\n",
    "            )\n",
    "        pdf_pages_collection.data.insert_many(pages_objects)\n",
    "\n",
    "    except FileNotFoundError:\n",
    "        print(f\"Error: Could not find {pdf_path}\")\n",
    "    except Exception as e:\n",
    "        print(f\"An error occurred: {e}\")\n",
    "\n",
    "\n",
    "print(\"Loading PDFs from directory...\")\n",
    "\n",
    "for folder_name, sub_folders, filenames in os.walk(pdf_source_directory):\n",
    "    for file in filenames:\n",
    "        if file.lower().endswith('.pdf'):\n",
    "            process_pdf(os.path.join(folder_name, file), df)"
   ]
  },
  {
   "cell_type": "code",
   "execution_count": null,
   "metadata": {
    "collapsed": false
   },
   "outputs": [],
   "source": []
  }
 ],
 "metadata": {
  "kernelspec": {
   "display_name": "Python 3",
   "language": "python",
   "name": "python3"
  },
  "language_info": {
   "codemirror_mode": {
    "name": "ipython",
    "version": 3
   },
   "file_extension": ".py",
   "mimetype": "text/x-python",
   "name": "python",
   "nbconvert_exporter": "python",
   "pygments_lexer": "ipython3",
   "version": "3.10.13"
  }
 },
 "nbformat": 4,
 "nbformat_minor": 2
}
