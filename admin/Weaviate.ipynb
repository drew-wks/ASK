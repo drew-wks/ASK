{
 "cells": [
  {
   "cell_type": "code",
   "outputs": [
    {
     "name": "stdout",
     "output_type": "stream",
     "text": [
      "Requirement already satisfied: weaviate-client==4.5.2 in /Users/byronvoorbach/Development/projects/weaviate/ASK/.venv/lib/python3.10/site-packages (4.5.2)\r\n",
      "Requirement already satisfied: requests<3.0.0,>=2.30.0 in /Users/byronvoorbach/Development/projects/weaviate/ASK/.venv/lib/python3.10/site-packages (from weaviate-client==4.5.2) (2.31.0)\r\n",
      "Requirement already satisfied: httpx==0.27.0 in /Users/byronvoorbach/Development/projects/weaviate/ASK/.venv/lib/python3.10/site-packages (from weaviate-client==4.5.2) (0.27.0)\r\n",
      "Requirement already satisfied: validators==0.22.0 in /Users/byronvoorbach/Development/projects/weaviate/ASK/.venv/lib/python3.10/site-packages (from weaviate-client==4.5.2) (0.22.0)\r\n",
      "Requirement already satisfied: authlib<2.0.0,>=1.2.1 in /Users/byronvoorbach/Development/projects/weaviate/ASK/.venv/lib/python3.10/site-packages (from weaviate-client==4.5.2) (1.3.0)\r\n",
      "Requirement already satisfied: pydantic<3.0.0,>=2.5.0 in /Users/byronvoorbach/Development/projects/weaviate/ASK/.venv/lib/python3.10/site-packages (from weaviate-client==4.5.2) (2.6.1)\r\n",
      "Requirement already satisfied: grpcio<2.0.0,>=1.57.0 in /Users/byronvoorbach/Development/projects/weaviate/ASK/.venv/lib/python3.10/site-packages (from weaviate-client==4.5.2) (1.60.1)\r\n",
      "Requirement already satisfied: grpcio-tools<2.0.0,>=1.57.0 in /Users/byronvoorbach/Development/projects/weaviate/ASK/.venv/lib/python3.10/site-packages (from weaviate-client==4.5.2) (1.60.1)\r\n",
      "Requirement already satisfied: grpcio-health-checking<2.0.0,>=1.57.0 in /Users/byronvoorbach/Development/projects/weaviate/ASK/.venv/lib/python3.10/site-packages (from weaviate-client==4.5.2) (1.60.1)\r\n",
      "Requirement already satisfied: anyio in /Users/byronvoorbach/Development/projects/weaviate/ASK/.venv/lib/python3.10/site-packages (from httpx==0.27.0->weaviate-client==4.5.2) (3.7.1)\r\n",
      "Requirement already satisfied: certifi in /Users/byronvoorbach/Development/projects/weaviate/ASK/.venv/lib/python3.10/site-packages (from httpx==0.27.0->weaviate-client==4.5.2) (2024.2.2)\r\n",
      "Requirement already satisfied: httpcore==1.* in /Users/byronvoorbach/Development/projects/weaviate/ASK/.venv/lib/python3.10/site-packages (from httpx==0.27.0->weaviate-client==4.5.2) (1.0.2)\r\n",
      "Requirement already satisfied: idna in /Users/byronvoorbach/Development/projects/weaviate/ASK/.venv/lib/python3.10/site-packages (from httpx==0.27.0->weaviate-client==4.5.2) (3.6)\r\n",
      "Requirement already satisfied: sniffio in /Users/byronvoorbach/Development/projects/weaviate/ASK/.venv/lib/python3.10/site-packages (from httpx==0.27.0->weaviate-client==4.5.2) (1.3.0)\r\n",
      "Requirement already satisfied: h11<0.15,>=0.13 in /Users/byronvoorbach/Development/projects/weaviate/ASK/.venv/lib/python3.10/site-packages (from httpcore==1.*->httpx==0.27.0->weaviate-client==4.5.2) (0.14.0)\r\n",
      "Requirement already satisfied: cryptography in /Users/byronvoorbach/Development/projects/weaviate/ASK/.venv/lib/python3.10/site-packages (from authlib<2.0.0,>=1.2.1->weaviate-client==4.5.2) (43.0.0.dev1)\r\n",
      "Requirement already satisfied: protobuf>=4.21.6 in /Users/byronvoorbach/Development/projects/weaviate/ASK/.venv/lib/python3.10/site-packages (from grpcio-health-checking<2.0.0,>=1.57.0->weaviate-client==4.5.2) (4.25.2)\r\n",
      "Requirement already satisfied: setuptools in /Users/byronvoorbach/Development/projects/weaviate/ASK/.venv/lib/python3.10/site-packages (from grpcio-tools<2.0.0,>=1.57.0->weaviate-client==4.5.2) (68.2.0)\r\n",
      "Requirement already satisfied: annotated-types>=0.4.0 in /Users/byronvoorbach/Development/projects/weaviate/ASK/.venv/lib/python3.10/site-packages (from pydantic<3.0.0,>=2.5.0->weaviate-client==4.5.2) (0.6.0)\r\n",
      "Requirement already satisfied: pydantic-core==2.16.2 in /Users/byronvoorbach/Development/projects/weaviate/ASK/.venv/lib/python3.10/site-packages (from pydantic<3.0.0,>=2.5.0->weaviate-client==4.5.2) (2.16.2)\r\n",
      "Requirement already satisfied: typing-extensions>=4.6.1 in /Users/byronvoorbach/Development/projects/weaviate/ASK/.venv/lib/python3.10/site-packages (from pydantic<3.0.0,>=2.5.0->weaviate-client==4.5.2) (4.9.0)\r\n",
      "Requirement already satisfied: charset-normalizer<4,>=2 in /Users/byronvoorbach/Development/projects/weaviate/ASK/.venv/lib/python3.10/site-packages (from requests<3.0.0,>=2.30.0->weaviate-client==4.5.2) (3.3.2)\r\n",
      "Requirement already satisfied: urllib3<3,>=1.21.1 in /Users/byronvoorbach/Development/projects/weaviate/ASK/.venv/lib/python3.10/site-packages (from requests<3.0.0,>=2.30.0->weaviate-client==4.5.2) (1.26.18)\r\n",
      "Requirement already satisfied: exceptiongroup in /Users/byronvoorbach/Development/projects/weaviate/ASK/.venv/lib/python3.10/site-packages (from anyio->httpx==0.27.0->weaviate-client==4.5.2) (1.2.0)\r\n",
      "Requirement already satisfied: cffi>=1.12 in /Users/byronvoorbach/Development/projects/weaviate/ASK/.venv/lib/python3.10/site-packages (from cryptography->authlib<2.0.0,>=1.2.1->weaviate-client==4.5.2) (1.16.0)\r\n",
      "Requirement already satisfied: pycparser in /Users/byronvoorbach/Development/projects/weaviate/ASK/.venv/lib/python3.10/site-packages (from cffi>=1.12->cryptography->authlib<2.0.0,>=1.2.1->weaviate-client==4.5.2) (2.21)\r\n",
      "\u001B[33mWARNING: There was an error checking the latest version of pip.\u001B[0m\u001B[33m\r\n",
      "\u001B[0mNote: you may need to restart the kernel to use updated packages.\n",
      "Requirement already satisfied: python-dotenv in /Users/byronvoorbach/Development/projects/weaviate/ASK/.venv/lib/python3.10/site-packages (1.0.1)\r\n",
      "\u001B[33mWARNING: There was an error checking the latest version of pip.\u001B[0m\u001B[33m\r\n",
      "\u001B[0mNote: you may need to restart the kernel to use updated packages.\n"
     ]
    }
   ],
   "source": [
    "import sys\n",
    "\n",
    "import pandas as pd\n",
    "%pip install --pre -U \"weaviate-client==4.5.2\"\n",
    "%pip install python-dotenv"
   ],
   "metadata": {
    "collapsed": false,
    "ExecuteTime": {
     "end_time": "2024-03-19T21:01:02.950274Z",
     "start_time": "2024-03-19T21:00:59.810757Z"
    }
   },
   "execution_count": 47
  },
  {
   "cell_type": "code",
   "outputs": [
    {
     "data": {
      "text/plain": "True"
     },
     "execution_count": 48,
     "metadata": {},
     "output_type": "execute_result"
    }
   ],
   "source": [
    "import os\n",
    "\n",
    "import weaviate\n",
    "import weaviate.classes as wvc\n",
    "from dotenv import load_dotenv, find_dotenv\n",
    "\n",
    "load_dotenv(find_dotenv())\n"
   ],
   "metadata": {
    "collapsed": false,
    "ExecuteTime": {
     "end_time": "2024-03-19T21:01:02.955523Z",
     "start_time": "2024-03-19T21:01:02.949304Z"
    }
   },
   "execution_count": 48
  },
  {
   "cell_type": "code",
   "outputs": [],
   "source": [
    "'''This litle code block is used anytime you want to import a local module from within a Jupyter Notebook. This is required becuase Jupyter treats each cell as a module.'''\n",
    "\n",
    "# Navigate up one level from the current notebook's directory to reach the root directory\n",
    "current_dir = os.path.dirname(os.path.realpath('__file__'))\n",
    "parent_dir = os.path.dirname(current_dir)\n",
    "sys.path.append(parent_dir)"
   ],
   "metadata": {
    "collapsed": false,
    "ExecuteTime": {
     "end_time": "2024-03-19T21:01:02.956543Z",
     "start_time": "2024-03-19T21:01:02.954336Z"
    }
   },
   "execution_count": 49
  },
  {
   "cell_type": "code",
   "outputs": [],
   "source": [
    "import utils"
   ],
   "metadata": {
    "collapsed": false,
    "ExecuteTime": {
     "end_time": "2024-03-19T21:01:02.962222Z",
     "start_time": "2024-03-19T21:01:02.957250Z"
    }
   },
   "execution_count": 50
  },
  {
   "cell_type": "markdown",
   "source": [
    "## 2. Set Configurations and Clients"
   ],
   "metadata": {
    "collapsed": false
   }
  },
  {
   "cell_type": "code",
   "outputs": [
    {
     "name": "stderr",
     "output_type": "stream",
     "text": [
      "/Users/byronvoorbach/Development/projects/weaviate/ASK/.venv/lib/python3.10/site-packages/weaviate/__init__.py:128: DeprecationWarning: Dep010: Importing AuthApiKey from weaviate is deprecated. Please import it from its specific module: weaviate.auth\n",
      "  _Warnings.root_module_import(name, map_[name])\n"
     ]
    }
   ],
   "source": [
    "url = os.getenv(\"WEAVIATE_URL_COMP\")\n",
    "api_key = os.getenv(\"WEAVIATE_API_KEY_COMP\")\n",
    "\n",
    "\n",
    "client = weaviate.connect_to_wcs(\n",
    "    cluster_url=url,\n",
    "    auth_credentials=weaviate.AuthApiKey(api_key),\n",
    "    headers={\n",
    "        \"X-OpenAI-Api-Key\": os.environ.get(\"OPENAI_API_KEY\")\n",
    "    }\n",
    ")"
   ],
   "metadata": {
    "collapsed": false,
    "ExecuteTime": {
     "end_time": "2024-03-19T21:01:03.452528Z",
     "start_time": "2024-03-19T21:01:02.966086Z"
    }
   },
   "execution_count": 51
  },
  {
   "cell_type": "code",
   "outputs": [],
   "source": [
    "pdf_source_directory = \"../docs/test_pdfs/\"\n",
    "library_catalog_directory = \"../docs/library_catalog/\"\n",
    "zulu_format = '%Y-%m-%dT%H:%MZ'"
   ],
   "metadata": {
    "collapsed": false,
    "ExecuteTime": {
     "end_time": "2024-03-19T21:01:03.458728Z",
     "start_time": "2024-03-19T21:01:03.453159Z"
    }
   },
   "execution_count": 52
  },
  {
   "cell_type": "markdown",
   "source": [
    "## 2. Create the Collection and Define the Properties"
   ],
   "metadata": {
    "collapsed": false
   }
  },
  {
   "cell_type": "code",
   "outputs": [
    {
     "name": "stderr",
     "output_type": "stream",
     "text": [
      "/var/folders/pj/g7wwflvx2_l_515jnbvqz2kr0000gn/T/ipykernel_85706/1788892571.py:96: ResourceWarning: unclosed <ssl.SSLSocket fd=78, family=AddressFamily.AF_INET, type=SocketKind.SOCK_STREAM, proto=0, laddr=('10.212.147.128', 60044), raddr=('34.102.177.51', 443)>\n",
      "  pdf_pages_collection = client.collections.create(\n",
      "ResourceWarning: Enable tracemalloc to get the object allocation traceback\n"
     ]
    }
   ],
   "source": [
    "#create a Weaviate collection to hold PDF and PDFPages\n",
    "\n",
    "if client.collections.exists(\"PDF_document\"):\n",
    "    client.collections.delete(\"PDF_document\")\n",
    "if client.collections.exists(\"PDF_document_page\"):\n",
    "    client.collections.delete(\"PDF_document_page\")\n",
    "\n",
    "pdfs_collection = client.collections.create(\n",
    "    name=\"PDF_document\",\n",
    "    vectorizer_config=wvc.config.Configure.Vectorizer.none(),\n",
    "    generative_config=wvc.config.Configure.Generative.openai(),\n",
    "    properties=[\n",
    "        wvc.config.Property(\n",
    "            name=\"title\",\n",
    "            description=\"Name of the document. If none, defaults to File Name w/o extension\",\n",
    "            data_type=wvc.config.DataType.TEXT\n",
    "        ),\n",
    "        wvc.config.Property(\n",
    "            name=\"leadership_scope\",\n",
    "            description=\"1_National, 2_District, 3_Divison, 3_Sector, 4_Flotilla, 4_Station, 5_Facility\",\n",
    "            data_type=wvc.config.DataType.TEXT\n",
    "        ),\n",
    "        wvc.config.Property(\n",
    "            name=\"page_count\",\n",
    "            description=\"Number of pages in the document\",\n",
    "            data_type=wvc.config.DataType.INT\n",
    "        ),\n",
    "        wvc.config.Property(\n",
    "            name=\"creation_date\",\n",
    "            description=\"Uses existing pdf date, else defaults to ingestion date\",\n",
    "            data_type=wvc.config.DataType.DATE\n",
    "        ),\n",
    "        wvc.config.Property(\n",
    "            name=\"effective_date\",\n",
    "            description=\"Date document became effective, else defaults to ingestion date\",\n",
    "            data_type=wvc.config.DataType.DATE\n",
    "        ),\n",
    "            wvc.config.Property(\n",
    "            name=\"tagged_date\",\n",
    "            description=\"Date document metadata was added to the library catalog\",\n",
    "            data_type=wvc.config.DataType.DATE\n",
    "        ),\n",
    "        wvc.config.Property(\n",
    "            name=\"upsert_date\",\n",
    "            description=\"Date uploaded to the vector database\",\n",
    "            data_type=wvc.config.DataType.DATE\n",
    "        ),\n",
    "        wvc.config.Property(\n",
    "            name=\"expiration_date\",\n",
    "            description=\"If no cancellation date given, then defaults to effective date + 10 years per COMDINST M5215.6I\",\n",
    "            data_type=wvc.config.DataType.DATE\n",
    "        ),\n",
    "            wvc.config.Property(\n",
    "            name=\"lifecycle\",\n",
    "            description=\"Last name of Auxiliarist who curated. Currently blank\",\n",
    "            data_type=wvc.config.DataType.TEXT\n",
    "            ),\n",
    "        wvc.config.Property(\n",
    "            name=\"aux_specific\",\n",
    "            description=\"True if document specifically applies to the Auxiliary\",\n",
    "            data_type=wvc.config.DataType.BOOL\n",
    "        ),\n",
    "        wvc.config.Property(\n",
    "            name=\"public_release\",\n",
    "            description=\"True if document is available on public internet\",\n",
    "            data_type=wvc.config.DataType.BOOL\n",
    "        ),\n",
    "        wvc.config.Property(\n",
    "            name=\"publication_number\",\n",
    "            description=\"Identification number of the directive or document. In the case of Directives, underscores are used for spaces (e.g., COMDTINST_M1000.6A)\",\n",
    "            data_type=wvc.config.DataType.TEXT\n",
    "        ),\n",
    "        wvc.config.Property(\n",
    "            name=\"source\",\n",
    "            description=\"Web domain source of document (e.g.,uscg.mil, cgaux.org)\",\n",
    "            data_type=wvc.config.DataType.TEXT\n",
    "        ),\n",
    "        wvc.config.Property(\n",
    "            name=\"organization\",\n",
    "            description=\"Not curently used, can be used to track CG directive originator using Standard Distribution List (SDL), COMDTNOTE 5605 encl (3) (i.e., CG-BSX-1) or Auxiliary Unit Number (0130510)\",\n",
    "            data_type=wvc.config.DataType.TEXT\n",
    "        ),\n",
    "        wvc.config.Property(\n",
    "            name=\"curator\",\n",
    "            description=\"Last name of Auxiliarist who curated. Currently blank\",\n",
    "            data_type=wvc.config.DataType.TEXT\n",
    "        ),\n",
    "        wvc.config.Property(\n",
    "            name=\"file_name\",\n",
    "            description=\"Name of the PDF file\",\n",
    "            data_type=wvc.config.DataType.TEXT\n",
    "        ),\n",
    "    ]\n",
    ")\n",
    "\n",
    "pdf_pages_collection = client.collections.create(\n",
    "    name=\"PDF_document_page\",\n",
    "    vectorizer_config=wvc.config.Configure.Vectorizer.text2vec_openai(),\n",
    "    generative_config=wvc.config.Configure.Generative.openai(),\n",
    "    properties=[\n",
    "        wvc.config.Property(\n",
    "            name=\"content\",\n",
    "            description=\"content of the page\",\n",
    "            data_type=wvc.config.DataType.TEXT\n",
    "        ),\n",
    "        wvc.config.Property(\n",
    "            name=\"title\",\n",
    "            description=\"Taken from PDF_document object property of the same name\",\n",
    "            data_type=wvc.config.DataType.TEXT\n",
    "        ),\n",
    "        wvc.config.Property(\n",
    "            name=\"page_number\",\n",
    "            description=\"Page number\",\n",
    "            data_type=wvc.config.DataType.INT\n",
    "        ),\n",
    "        wvc.config.Property(\n",
    "            name=\"publication_number\",\n",
    "            description=\"Taken from PDF_document object property of the same name\",\n",
    "            data_type=wvc.config.DataType.TEXT,\n",
    "            skip_vectorization=True\n",
    "        ),\n",
    "    ],\n",
    "    references=[\n",
    "        wvc.config.ReferenceProperty(\n",
    "            name=\"hasPdfDocument\",\n",
    "            target_collection=\"PDF_document\"\n",
    "        )\n",
    "    ]\n",
    ")\n"
   ],
   "metadata": {
    "collapsed": false,
    "ExecuteTime": {
     "end_time": "2024-03-19T21:01:04.007265Z",
     "start_time": "2024-03-19T21:01:03.463071Z"
    }
   },
   "execution_count": 53
  },
  {
   "cell_type": "markdown",
   "source": [
    "## Load Objects"
   ],
   "metadata": {
    "collapsed": false
   }
  },
  {
   "cell_type": "markdown",
   "source": [
    "### Option A: Load with External Source of metadata"
   ],
   "metadata": {
    "collapsed": false
   }
  },
  {
   "cell_type": "markdown",
   "source": [
    "I'm stuck. \n",
    "\n",
    "I'm think I'm having trouble getting my head around the fact we have PDF doc and pages. We have Langchain-derived metadata (page_content and page_number) and a seaprate dataframe with most of the rest of metadata. There's a bunch of iterations between and among these things and I'm not sure how to do it.\n",
    "\n",
    "Here's what we've got:\n",
    "- We have two fully defined schemas above.\n",
    "- We have a library catalog containing all the metadata at the PDF document level and most of the PDF page level (page_content and page_number excluded). It contains a unique ID for each PDF called document_id. PAthe is defined above: library_catalog_directory = \"../docs/library_catalog/\"\n",
    "- We have code below that pulls in the most recent library catalog into a pandas df\n",
    "- We have starter code below that pulls the library catalog values into the pdfs_collection\n",
    "- We have a function called utils.compute_doc_id(pdf_path) that computed the document_id in the library catalog so it should produce the same value when used on the PDFs \n",
    "\n"
   ],
   "metadata": {
    "collapsed": false
   }
  },
  {
   "cell_type": "code",
   "outputs": [
    {
     "name": "stdout",
     "output_type": "stream",
     "text": [
      "found the following file(s) ['library_catalog_2024-02-17T0018Z.xlsx', 'library_catalog_2024-01-30T2033Z.xlsx', 'library_catalog_2023-12-19T1900Z.xlsx']\n",
      "Successfully imported:  ../docs/library_catalog/library_catalog_2024-02-17T0018Z.xlsx\n"
     ]
    }
   ],
   "source": [
    "catalog_file_path, last_update_date = utils.get_most_recent_filepath_and_date(\n",
    "    \"library_catalog\", library_catalog_directory, \"xlsx\")\n",
    "\n",
    "datetime_cols = ['creation_date', 'effective_date', 'tagged_date', 'upsert_date', 'expiration_date']\n",
    "\n",
    "try:\n",
    "    df = pd.read_excel(catalog_file_path)\n",
    "    for col in datetime_cols:\n",
    "        df[col] = pd.to_datetime(df[col], utc=True)\n",
    "        df[col] = df[col].dt.strftime('%Y-%m-%dT%H:%M:%SZ')\n",
    "    df.fillna('', inplace=True)\n",
    "    print(f\"Successfully imported:  {catalog_file_path}\")\n",
    "except Exception as e:\n",
    "    os.write(\n",
    "        1, f\"Failed to read the most recent library catalog file: {e}\\n\".encode())"
   ],
   "metadata": {
    "collapsed": false,
    "ExecuteTime": {
     "end_time": "2024-03-19T21:01:04.063826Z",
     "start_time": "2024-03-19T21:01:04.005250Z"
    }
   },
   "execution_count": 54
  },
  {
   "cell_type": "code",
   "execution_count": 55,
   "metadata": {
    "collapsed": false,
    "ExecuteTime": {
     "end_time": "2024-03-19T21:01:04.190088Z",
     "start_time": "2024-03-19T21:01:04.063669Z"
    }
   },
   "outputs": [
    {
     "name": "stdout",
     "output_type": "stream",
     "text": [
      "Loading PDFs from directory...\n",
      "An error occurred: Found duplicates for document_id: '20b41567-46aa-5210-9c92-ea491921869f', number of results: 4\n",
      "An error occurred: Found duplicates for document_id: '4ebd0208-8328-5d69-8c44-ec50939c0967', number of results: 7\n",
      "An error occurred: Found duplicates for document_id: 'b9e3c726-3ca1-5f61-8895-c4ce7554a288', number of results: 2\n"
     ]
    }
   ],
   "source": [
    "# starter code that pulls the library catalog into pdfs_collection\n",
    "\n",
    "import pypdf\n",
    "import json\n",
    "from langchain.document_loaders import PyPDFLoader\n",
    "import utils  # Ensure utils module with compute_doc_id function is imported\n",
    "\n",
    "pdfs_collection = client.collections.get(\"PDF_document\")\n",
    "pdf_pages_collection = client.collections.get(\"PDF_document_page\")\n",
    "\n",
    "def process_pdf(pdf_path, df):\n",
    "    try:\n",
    "        # Compute the document_id for the PDF\n",
    "        document_id = str(utils.compute_doc_id(pdf_path))\n",
    "        \n",
    "        # Find the metadata row in df that corresponds to this document_id\n",
    "        pdf_metadata = df[df['document_id'] == str(document_id)]\n",
    "\n",
    "        if not pdf_metadata.empty:\n",
    "            if len(pdf_metadata) > 1:\n",
    "                raise ValueError(f\"Found duplicates for document_id: '{document_id}', number of results: {len(pdf_metadata)}\")    \n",
    "            pdf_metadata = pdf_metadata.iloc[0]\n",
    "            properties = pdf_metadata.to_dict()\n",
    "            pdfs_collection.data.insert(\n",
    "                properties=properties, \n",
    "                uuid=document_id\n",
    "            )\n",
    "        else:\n",
    "            raise ValueError(f\"No metadata found for document ID: {document_id}\")\n",
    "\n",
    "        # Process PDF pages\n",
    "        pages_objects = []\n",
    "        loader = PyPDFLoader(pdf_path)\n",
    "        for page in loader.load():\n",
    "            pages_objects.append(\n",
    "                wvc.data.DataObject(\n",
    "                    properties={\n",
    "                        \"title\": properties['title'],\n",
    "                        \"publication_number\": properties['publication_number'],\n",
    "                        \"content\": page.page_content,\n",
    "                        \"page_number\": page.metadata[\"page\"],\n",
    "                    },\n",
    "                    references={\n",
    "                        \"hasPdfDocument\": document_id\n",
    "                    }\n",
    "                )\n",
    "            )\n",
    "        pdf_pages_collection.data.insert_many(pages_objects)\n",
    "\n",
    "    except FileNotFoundError:\n",
    "        print(f\"Error: Could not find {pdf_path}\")\n",
    "    except Exception as e:\n",
    "        print(f\"An error occurred: {e}\")\n",
    "        \n",
    "print(\"Loading PDFs from directory...\")\n",
    "\n",
    "for folder_name, sub_folders, filenames in os.walk(pdf_source_directory):\n",
    "    for file in filenames:\n",
    "        if file.lower().endswith('.pdf'):\n",
    "            process_pdf(os.path.join(folder_name, file), df)"
   ]
  },
  {
   "cell_type": "code",
   "outputs": [],
   "source": [],
   "metadata": {
    "collapsed": false,
    "ExecuteTime": {
     "end_time": "2024-03-19T21:01:04.190501Z",
     "start_time": "2024-03-19T21:01:04.187912Z"
    }
   },
   "execution_count": 55
  }
 ],
 "metadata": {
  "kernelspec": {
   "display_name": "Python 3",
   "language": "python",
   "name": "python3"
  },
  "language_info": {
   "codemirror_mode": {
    "name": "ipython",
    "version": 3
   },
   "file_extension": ".py",
   "mimetype": "text/x-python",
   "name": "python",
   "nbconvert_exporter": "python",
   "pygments_lexer": "ipython3",
   "version": "3.11.6"
  }
 },
 "nbformat": 4,
 "nbformat_minor": 2
}
