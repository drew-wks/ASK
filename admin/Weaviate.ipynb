{
 "cells": [
  {
   "metadata": {
    "ExecuteTime": {
     "end_time": "2024-04-19T20:18:05.909798Z",
     "start_time": "2024-04-19T20:18:02.315847Z"
    }
   },
   "cell_type": "code",
   "source": [
    "import sys\n",
    "\n",
    "import pandas as pd\n",
    "%pip install --pre -U \"weaviate-client==4.5.5\"\n",
    "%pip install python-dotenv"
   ],
   "outputs": [
    {
     "name": "stdout",
     "output_type": "stream",
     "text": [
      "Requirement already satisfied: weaviate-client==4.5.5 in /Users/byronvoorbach/Development/projects/weaviate/ASK/.venv/lib/python3.10/site-packages (4.5.5)\r\n",
      "Requirement already satisfied: requests<3.0.0,>=2.30.0 in /Users/byronvoorbach/Development/projects/weaviate/ASK/.venv/lib/python3.10/site-packages (from weaviate-client==4.5.5) (2.31.0)\r\n",
      "Requirement already satisfied: httpx==0.27.0 in /Users/byronvoorbach/Development/projects/weaviate/ASK/.venv/lib/python3.10/site-packages (from weaviate-client==4.5.5) (0.27.0)\r\n",
      "Requirement already satisfied: validators==0.22.0 in /Users/byronvoorbach/Development/projects/weaviate/ASK/.venv/lib/python3.10/site-packages (from weaviate-client==4.5.5) (0.22.0)\r\n",
      "Requirement already satisfied: authlib<2.0.0,>=1.2.1 in /Users/byronvoorbach/Development/projects/weaviate/ASK/.venv/lib/python3.10/site-packages (from weaviate-client==4.5.5) (1.3.0)\r\n",
      "Requirement already satisfied: pydantic<3.0.0,>=2.5.0 in /Users/byronvoorbach/Development/projects/weaviate/ASK/.venv/lib/python3.10/site-packages (from weaviate-client==4.5.5) (2.6.1)\r\n",
      "Requirement already satisfied: grpcio<2.0.0,>=1.57.0 in /Users/byronvoorbach/Development/projects/weaviate/ASK/.venv/lib/python3.10/site-packages (from weaviate-client==4.5.5) (1.60.1)\r\n",
      "Requirement already satisfied: grpcio-tools<2.0.0,>=1.57.0 in /Users/byronvoorbach/Development/projects/weaviate/ASK/.venv/lib/python3.10/site-packages (from weaviate-client==4.5.5) (1.60.1)\r\n",
      "Requirement already satisfied: grpcio-health-checking<2.0.0,>=1.57.0 in /Users/byronvoorbach/Development/projects/weaviate/ASK/.venv/lib/python3.10/site-packages (from weaviate-client==4.5.5) (1.60.1)\r\n",
      "Requirement already satisfied: anyio in /Users/byronvoorbach/Development/projects/weaviate/ASK/.venv/lib/python3.10/site-packages (from httpx==0.27.0->weaviate-client==4.5.5) (3.7.1)\r\n",
      "Requirement already satisfied: certifi in /Users/byronvoorbach/Development/projects/weaviate/ASK/.venv/lib/python3.10/site-packages (from httpx==0.27.0->weaviate-client==4.5.5) (2024.2.2)\r\n",
      "Requirement already satisfied: httpcore==1.* in /Users/byronvoorbach/Development/projects/weaviate/ASK/.venv/lib/python3.10/site-packages (from httpx==0.27.0->weaviate-client==4.5.5) (1.0.2)\r\n",
      "Requirement already satisfied: idna in /Users/byronvoorbach/Development/projects/weaviate/ASK/.venv/lib/python3.10/site-packages (from httpx==0.27.0->weaviate-client==4.5.5) (3.6)\r\n",
      "Requirement already satisfied: sniffio in /Users/byronvoorbach/Development/projects/weaviate/ASK/.venv/lib/python3.10/site-packages (from httpx==0.27.0->weaviate-client==4.5.5) (1.3.0)\r\n",
      "Requirement already satisfied: h11<0.15,>=0.13 in /Users/byronvoorbach/Development/projects/weaviate/ASK/.venv/lib/python3.10/site-packages (from httpcore==1.*->httpx==0.27.0->weaviate-client==4.5.5) (0.14.0)\r\n",
      "Requirement already satisfied: cryptography in /Users/byronvoorbach/Development/projects/weaviate/ASK/.venv/lib/python3.10/site-packages (from authlib<2.0.0,>=1.2.1->weaviate-client==4.5.5) (43.0.0.dev1)\r\n",
      "Requirement already satisfied: protobuf>=4.21.6 in /Users/byronvoorbach/Development/projects/weaviate/ASK/.venv/lib/python3.10/site-packages (from grpcio-health-checking<2.0.0,>=1.57.0->weaviate-client==4.5.5) (4.25.2)\r\n",
      "Requirement already satisfied: setuptools in /Users/byronvoorbach/Development/projects/weaviate/ASK/.venv/lib/python3.10/site-packages (from grpcio-tools<2.0.0,>=1.57.0->weaviate-client==4.5.5) (68.2.0)\r\n",
      "Requirement already satisfied: annotated-types>=0.4.0 in /Users/byronvoorbach/Development/projects/weaviate/ASK/.venv/lib/python3.10/site-packages (from pydantic<3.0.0,>=2.5.0->weaviate-client==4.5.5) (0.6.0)\r\n",
      "Requirement already satisfied: pydantic-core==2.16.2 in /Users/byronvoorbach/Development/projects/weaviate/ASK/.venv/lib/python3.10/site-packages (from pydantic<3.0.0,>=2.5.0->weaviate-client==4.5.5) (2.16.2)\r\n",
      "Requirement already satisfied: typing-extensions>=4.6.1 in /Users/byronvoorbach/Development/projects/weaviate/ASK/.venv/lib/python3.10/site-packages (from pydantic<3.0.0,>=2.5.0->weaviate-client==4.5.5) (4.9.0)\r\n",
      "Requirement already satisfied: charset-normalizer<4,>=2 in /Users/byronvoorbach/Development/projects/weaviate/ASK/.venv/lib/python3.10/site-packages (from requests<3.0.0,>=2.30.0->weaviate-client==4.5.5) (3.3.2)\r\n",
      "Requirement already satisfied: urllib3<3,>=1.21.1 in /Users/byronvoorbach/Development/projects/weaviate/ASK/.venv/lib/python3.10/site-packages (from requests<3.0.0,>=2.30.0->weaviate-client==4.5.5) (1.26.18)\r\n",
      "Requirement already satisfied: exceptiongroup in /Users/byronvoorbach/Development/projects/weaviate/ASK/.venv/lib/python3.10/site-packages (from anyio->httpx==0.27.0->weaviate-client==4.5.5) (1.2.0)\r\n",
      "Requirement already satisfied: cffi>=1.12 in /Users/byronvoorbach/Development/projects/weaviate/ASK/.venv/lib/python3.10/site-packages (from cryptography->authlib<2.0.0,>=1.2.1->weaviate-client==4.5.5) (1.16.0)\r\n",
      "Requirement already satisfied: pycparser in /Users/byronvoorbach/Development/projects/weaviate/ASK/.venv/lib/python3.10/site-packages (from cffi>=1.12->cryptography->authlib<2.0.0,>=1.2.1->weaviate-client==4.5.5) (2.21)\r\n",
      "\u001B[33mWARNING: There was an error checking the latest version of pip.\u001B[0m\u001B[33m\r\n",
      "\u001B[0mNote: you may need to restart the kernel to use updated packages.\n",
      "Requirement already satisfied: python-dotenv in /Users/byronvoorbach/Development/projects/weaviate/ASK/.venv/lib/python3.10/site-packages (1.0.1)\r\n",
      "\u001B[33mWARNING: There was an error checking the latest version of pip.\u001B[0m\u001B[33m\r\n",
      "\u001B[0mNote: you may need to restart the kernel to use updated packages.\n"
     ]
    }
   ],
   "execution_count": 1
  },
  {
   "metadata": {
    "ExecuteTime": {
     "end_time": "2024-04-19T20:18:10.873669Z",
     "start_time": "2024-04-19T20:18:10.319647Z"
    }
   },
   "cell_type": "code",
   "source": [
    "import os\n",
    "\n",
    "import weaviate\n",
    "import weaviate.classes as wvc\n",
    "from dotenv import load_dotenv, find_dotenv\n",
    "\n",
    "load_dotenv(find_dotenv())"
   ],
   "outputs": [
    {
     "data": {
      "text/plain": [
       "True"
      ]
     },
     "execution_count": 2,
     "metadata": {},
     "output_type": "execute_result"
    }
   ],
   "execution_count": 2
  },
  {
   "cell_type": "code",
   "metadata": {
    "collapsed": false,
    "ExecuteTime": {
     "end_time": "2024-04-19T20:18:11.767Z",
     "start_time": "2024-04-19T20:18:11.764358Z"
    }
   },
   "source": [
    "'''This litle code block is used anytime you want to import a local module from within a Jupyter Notebook. This is required becuase Jupyter treats each cell as a module.'''\n",
    "\n",
    "# Navigate up one level from the current notebook's directory to reach the root directory\n",
    "current_dir = os.path.dirname(os.path.realpath('__file__'))\n",
    "parent_dir = os.path.dirname(current_dir)\n",
    "sys.path.append(parent_dir)"
   ],
   "outputs": [],
   "execution_count": 3
  },
  {
   "cell_type": "code",
   "metadata": {
    "collapsed": false,
    "ExecuteTime": {
     "end_time": "2024-04-19T20:18:14.128158Z",
     "start_time": "2024-04-19T20:18:13.795361Z"
    }
   },
   "source": [
    "import utils"
   ],
   "outputs": [
    {
     "name": "stderr",
     "output_type": "stream",
     "text": [
      "/Users/byronvoorbach/Development/projects/weaviate/ASK/.venv/lib/python3.10/site-packages/pydantic/_internal/_config.py:272: PydanticDeprecatedSince20: Support for class-based `config` is deprecated, use ConfigDict instead. Deprecated in Pydantic V2.0 to be removed in V3.0. See Pydantic V2 Migration Guide at https://errors.pydantic.dev/2.6/migration/\n",
      "  warnings.warn(DEPRECATION_MESSAGE, DeprecationWarning)\n",
      "2024-04-19 13:18:14.113 WARNING streamlit.runtime.caching.cache_data_api: No runtime found, using MemoryCacheStorageManager\n"
     ]
    }
   ],
   "execution_count": 4
  },
  {
   "cell_type": "markdown",
   "metadata": {
    "collapsed": false
   },
   "source": [
    "## 2. Set Configurations and Clients"
   ]
  },
  {
   "cell_type": "code",
   "metadata": {
    "collapsed": false,
    "ExecuteTime": {
     "end_time": "2024-04-19T20:18:16.855544Z",
     "start_time": "2024-04-19T20:18:16.221817Z"
    }
   },
   "source": [
    "url = os.getenv(\"WEAVIATE_URL_COMP\")\n",
    "api_key = os.getenv(\"WEAVIATE_API_KEY_COMP\")\n",
    "\n",
    "\n",
    "client = weaviate.connect_to_wcs(\n",
    "    cluster_url=url,\n",
    "    auth_credentials=weaviate.auth.AuthApiKey(api_key),\n",
    "    headers={\n",
    "        \"X-OpenAI-Api-Key\": os.environ.get(\"OPENAI_API_KEY\")\n",
    "    }\n",
    ")"
   ],
   "outputs": [],
   "execution_count": 5
  },
  {
   "cell_type": "code",
   "metadata": {
    "collapsed": false,
    "ExecuteTime": {
     "end_time": "2024-04-19T20:18:17.535466Z",
     "start_time": "2024-04-19T20:18:17.532838Z"
    }
   },
   "source": [
    "pdf_source_directory = \"../docs/test_pdfs/\"\n",
    "library_catalog_directory = \"../docs/library_catalog/\"\n",
    "zulu_format = '%Y-%m-%dT%H:%MZ'"
   ],
   "outputs": [],
   "execution_count": 6
  },
  {
   "cell_type": "markdown",
   "metadata": {
    "collapsed": false
   },
   "source": [
    "## 2. Create the Collection and Define the Properties"
   ]
  },
  {
   "cell_type": "code",
   "metadata": {
    "collapsed": false,
    "ExecuteTime": {
     "end_time": "2024-04-19T20:20:40.171490Z",
     "start_time": "2024-04-19T20:20:39.534739Z"
    }
   },
   "source": [
    "#create a Weaviate collection to hold PDF and PDFPages\n",
    "\n",
    "if client.collections.exists(\"PDF_document\"):\n",
    "    client.collections.delete(\"PDF_document\")\n",
    "if client.collections.exists(\"PDF_document_page\"):\n",
    "    client.collections.delete(\"PDF_document_page\")\n",
    "\n",
    "pdfs_collection = client.collections.create(\n",
    "    name=\"PDF_document\",\n",
    "    vectorizer_config=wvc.config.Configure.Vectorizer.none(),\n",
    "    generative_config=wvc.config.Configure.Generative.openai(),\n",
    "    properties=[\n",
    "        wvc.config.Property(\n",
    "            name=\"title\",\n",
    "            description=\"Name of the document. If none, defaults to File Name w/o extension\",\n",
    "            data_type=wvc.config.DataType.TEXT\n",
    "        ),\n",
    "        wvc.config.Property(\n",
    "            name=\"leadership_scope\",\n",
    "            description=\"1_National, 2_District, 3_Divison, 3_Sector, 4_Flotilla, 4_Station, 5_Facility\",\n",
    "            data_type=wvc.config.DataType.TEXT\n",
    "        ),\n",
    "        wvc.config.Property(\n",
    "            name=\"page_count\",\n",
    "            description=\"Number of pages in the document\",\n",
    "            data_type=wvc.config.DataType.INT\n",
    "        ),\n",
    "        wvc.config.Property(\n",
    "            name=\"creation_date\",\n",
    "            description=\"Uses existing pdf date, else defaults to ingestion date\",\n",
    "            data_type=wvc.config.DataType.DATE\n",
    "        ),\n",
    "        wvc.config.Property(\n",
    "            name=\"effective_date\",\n",
    "            description=\"Date document became effective, else defaults to ingestion date\",\n",
    "            data_type=wvc.config.DataType.DATE\n",
    "        ),\n",
    "            wvc.config.Property(\n",
    "            name=\"tagged_date\",\n",
    "            description=\"Date document metadata was added to the library catalog\",\n",
    "            data_type=wvc.config.DataType.DATE\n",
    "        ),\n",
    "        wvc.config.Property(\n",
    "            name=\"upsert_date\",\n",
    "            description=\"Date uploaded to the vector database\",\n",
    "            data_type=wvc.config.DataType.DATE\n",
    "        ),\n",
    "        wvc.config.Property(\n",
    "            name=\"expiration_date\",\n",
    "            description=\"If no cancellation date given, then defaults to effective date + 10 years per COMDINST M5215.6I\",\n",
    "            data_type=wvc.config.DataType.DATE\n",
    "        ),\n",
    "            wvc.config.Property(\n",
    "            name=\"lifecycle\",\n",
    "            description=\"Last name of Auxiliarist who curated. Currently blank\",\n",
    "            data_type=wvc.config.DataType.TEXT\n",
    "            ),\n",
    "        wvc.config.Property(\n",
    "            name=\"aux_specific\",\n",
    "            description=\"True if document specifically applies to the Auxiliary\",\n",
    "            data_type=wvc.config.DataType.BOOL\n",
    "        ),\n",
    "        wvc.config.Property(\n",
    "            name=\"public_release\",\n",
    "            description=\"True if document is available on public internet\",\n",
    "            data_type=wvc.config.DataType.BOOL\n",
    "        ),\n",
    "        wvc.config.Property(\n",
    "            name=\"publication_number\",\n",
    "            description=\"Identification number of the directive or document. In the case of Directives, underscores are used for spaces (e.g., COMDTINST_M1000.6A)\",\n",
    "            data_type=wvc.config.DataType.TEXT\n",
    "        ),\n",
    "        wvc.config.Property(\n",
    "            name=\"source\",\n",
    "            description=\"Web domain source of document (e.g.,uscg.mil, cgaux.org)\",\n",
    "            data_type=wvc.config.DataType.TEXT\n",
    "        ),\n",
    "        wvc.config.Property(\n",
    "            name=\"organization\",\n",
    "            description=\"Not curently used, can be used to track CG directive originator using Standard Distribution List (SDL), COMDTNOTE 5605 encl (3) (i.e., CG-BSX-1) or Auxiliary Unit Number (0130510)\",\n",
    "            data_type=wvc.config.DataType.TEXT\n",
    "        ),\n",
    "        wvc.config.Property(\n",
    "            name=\"curator\",\n",
    "            description=\"Last name of Auxiliarist who curated. Currently blank\",\n",
    "            data_type=wvc.config.DataType.TEXT\n",
    "        ),\n",
    "        wvc.config.Property(\n",
    "            name=\"file_name\",\n",
    "            description=\"Name of the PDF file\",\n",
    "            data_type=wvc.config.DataType.TEXT\n",
    "        ),\n",
    "    ]\n",
    ")\n",
    "\n",
    "pdf_pages_collection = client.collections.create(\n",
    "    name=\"PDF_document_page\",\n",
    "    vectorizer_config=wvc.config.Configure.Vectorizer.text2vec_openai(),\n",
    "    generative_config=wvc.config.Configure.Generative.openai(),\n",
    "    properties=[\n",
    "        wvc.config.Property(\n",
    "            name=\"content\",\n",
    "            description=\"content of the page\",\n",
    "            data_type=wvc.config.DataType.TEXT\n",
    "        ),\n",
    "        wvc.config.Property(\n",
    "            name=\"title\",\n",
    "            description=\"Taken from PDF_document object property of the same name\",\n",
    "            data_type=wvc.config.DataType.TEXT\n",
    "        ),\n",
    "        wvc.config.Property(\n",
    "            name=\"page_number\",\n",
    "            description=\"Page number\",\n",
    "            data_type=wvc.config.DataType.INT\n",
    "        ),\n",
    "        wvc.config.Property(\n",
    "            name=\"publication_number\",\n",
    "            description=\"Taken from PDF_document object property of the same name\",\n",
    "            data_type=wvc.config.DataType.TEXT,\n",
    "            skip_vectorization=True\n",
    "        ),\n",
    "    ],\n",
    "    references=[\n",
    "        wvc.config.ReferenceProperty(\n",
    "            name=\"hasPdfDocument\",\n",
    "            target_collection=\"PDF_document\"\n",
    "        )\n",
    "    ]\n",
    ")\n"
   ],
   "outputs": [],
   "execution_count": 13
  },
  {
   "cell_type": "markdown",
   "metadata": {
    "collapsed": false
   },
   "source": [
    "## Load Objects"
   ]
  },
  {
   "cell_type": "code",
   "metadata": {
    "collapsed": false,
    "ExecuteTime": {
     "end_time": "2024-04-19T20:20:42.235955Z",
     "start_time": "2024-04-19T20:20:42.189093Z"
    }
   },
   "source": [
    "# Get the library catalog containing all the metadata and put it into a dataframe\n",
    "\n",
    "catalog_file_path, last_update_date = utils.get_most_recent_filepath_and_date(\n",
    "    \"library_catalog\", library_catalog_directory, \"xlsx\")\n",
    "\n",
    "datetime_cols = ['creation_date', 'effective_date',\n",
    "                 'tagged_date', 'upsert_date', 'expiration_date']\n",
    "\n",
    "try:\n",
    "    df = pd.read_excel(catalog_file_path)\n",
    "    for col in datetime_cols:\n",
    "        df[col] = pd.to_datetime(df[col], utc=True)\n",
    "        df[col] = df[col].dt.strftime('%Y-%m-%dT%H:%M:%SZ')\n",
    "    df.fillna('', inplace=True)\n",
    "    print(f\"Successfully imported:  {catalog_file_path}\")\n",
    "except Exception as e:\n",
    "    os.write(\n",
    "        1, f\"Failed to read the most recent library catalog file: {e}\\n\".encode())"
   ],
   "outputs": [
    {
     "name": "stdout",
     "output_type": "stream",
     "text": [
      "found the following file(s) ['library_catalog_2024-04-19T0018Z.xlsx', 'library_catalog_2024-03-28T0018Z.xlsx', 'library_catalog_2024-02-17T0018Z.xlsx', 'library_catalog_2024-01-30T2033Z.xlsx', 'library_catalog_2023-12-19T1900Z.xlsx']\n",
      "Successfully imported:  /Users/byronvoorbach/Development/projects/weaviate/ASK/docs/library_catalog/library_catalog_2024-04-19T0018Z.xlsx\n"
     ]
    }
   ],
   "execution_count": 14
  },
  {
   "cell_type": "code",
   "metadata": {
    "collapsed": false,
    "ExecuteTime": {
     "end_time": "2024-04-19T20:20:57.522564Z",
     "start_time": "2024-04-19T20:20:45.651904Z"
    }
   },
   "source": [
    "# starter code that pulls the library catalog into pdfs_collection\n",
    "\n",
    "import pypdf\n",
    "import json\n",
    "from langchain.document_loaders import PyPDFLoader\n",
    "import utils  # Ensure utils module with compute_doc_id function is imported\n",
    "\n",
    "pdfs_collection = client.collections.get(\"PDF_document\")\n",
    "pdf_pages_collection = client.collections.get(\"PDF_document_page\")\n",
    "\n",
    "\n",
    "def process_pdf(pdf_path, df):\n",
    "    try:\n",
    "        # Compute the document_id for the PDF\n",
    "        document_id = str(utils.compute_doc_id(pdf_path))\n",
    "\n",
    "        # Find the metadata row in df that corresponds to this document_id\n",
    "        pdf_metadata = df[df['document_id'] == str(document_id)]\n",
    "\n",
    "        if not pdf_metadata.empty:\n",
    "            if len(pdf_metadata) > 1:\n",
    "                raise ValueError(\n",
    "                    f\"Found duplicates for document_id: '{document_id}', number of results: {len(pdf_metadata)}\")\n",
    "            pdf_metadata = pdf_metadata.iloc[0]\n",
    "            properties = pdf_metadata.to_dict()\n",
    "            if \"publication_number\" in properties:\n",
    "                properties['publication_number'] = str(properties['publication_number'])\n",
    "            pdfs_collection.data.insert(\n",
    "                properties=properties,\n",
    "                uuid=document_id\n",
    "            )\n",
    "        else:\n",
    "            raise ValueError(\n",
    "                f\"No metadata found for document ID: {document_id}\")\n",
    "\n",
    "        # Process PDF pages\n",
    "        pages_objects = []\n",
    "        loader = PyPDFLoader(pdf_path)\n",
    "        for page in loader.load():\n",
    "            pages_objects.append(\n",
    "                wvc.data.DataObject(\n",
    "                    properties={\n",
    "                        \"title\": properties['title'],\n",
    "                        \"publication_number\": str(properties['publication_number']),\n",
    "                        \"content\": page.page_content,\n",
    "                        \"page_number\": page.metadata[\"page\"],\n",
    "                    },\n",
    "                    references={\n",
    "                        \"hasPdfDocument\": document_id\n",
    "                    }\n",
    "                )\n",
    "            )\n",
    "        pdf_pages_collection.data.insert_many(pages_objects)\n",
    "\n",
    "    except FileNotFoundError:\n",
    "        print(f\"Error: Could not find {pdf_path}\")\n",
    "    except Exception as e:\n",
    "        print(f\"An error occurred: {e}\")\n",
    "\n",
    "\n",
    "print(\"Loading PDFs from directory...\")\n",
    "\n",
    "for folder_name, sub_folders, filenames in os.walk(pdf_source_directory):\n",
    "    for file in filenames:\n",
    "        if file.lower().endswith('.pdf'):\n",
    "            process_pdf(os.path.join(folder_name, file), df)"
   ],
   "outputs": [
    {
     "name": "stdout",
     "output_type": "stream",
     "text": [
      "Loading PDFs from directory...\n",
      "An error occurred: No metadata found for document ID: 03105046-8005-5f7b-b304-188d0abfb1a2\n"
     ]
    }
   ],
   "execution_count": 15
  },
  {
   "cell_type": "code",
   "metadata": {
    "collapsed": false
   },
   "source": [],
   "outputs": [],
   "execution_count": null
  }
 ],
 "metadata": {
  "kernelspec": {
   "display_name": "Python 3",
   "language": "python",
   "name": "python3"
  },
  "language_info": {
   "codemirror_mode": {
    "name": "ipython",
    "version": 3
   },
   "file_extension": ".py",
   "mimetype": "text/x-python",
   "name": "python",
   "nbconvert_exporter": "python",
   "pygments_lexer": "ipython3",
   "version": "3.11.6"
  }
 },
 "nbformat": 4,
 "nbformat_minor": 2
}
