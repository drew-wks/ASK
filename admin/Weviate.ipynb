{
 "cells": [
  {
   "cell_type": "markdown",
   "metadata": {},
   "source": [
    "## 1. Installs"
   ]
  },
  {
   "cell_type": "code",
   "execution_count": 2,
   "metadata": {},
   "outputs": [
    {
     "name": "stdout",
     "output_type": "stream",
     "text": [
      "Collecting weaviate-client==4.*\n",
      "  Using cached weaviate_client-4.4b4-py3-none-any.whl.metadata (3.4 kB)\n",
      "Requirement already satisfied: requests<3.0.0,>=2.30.0 in /Users/drew_wilkins/Drews_Files/Drew/Python/VSCode/.venv-311/lib/python3.11/site-packages (from weaviate-client==4.*) (2.31.0)\n",
      "Requirement already satisfied: validators<1.0.0,>=0.21.2 in /Users/drew_wilkins/Drews_Files/Drew/Python/VSCode/.venv-311/lib/python3.11/site-packages (from weaviate-client==4.*) (0.22.0)\n",
      "Requirement already satisfied: authlib<2.0.0,>=1.2.1 in /Users/drew_wilkins/Drews_Files/Drew/Python/VSCode/.venv-311/lib/python3.11/site-packages (from weaviate-client==4.*) (1.3.0)\n",
      "Requirement already satisfied: pydantic<3.0.0,>=2.1.1 in /Users/drew_wilkins/Drews_Files/Drew/Python/VSCode/.venv-311/lib/python3.11/site-packages (from weaviate-client==4.*) (2.5.2)\n",
      "Requirement already satisfied: grpcio<2.0.0,>=1.57.0 in /Users/drew_wilkins/Drews_Files/Drew/Python/VSCode/.venv-311/lib/python3.11/site-packages (from weaviate-client==4.*) (1.60.0)\n",
      "Requirement already satisfied: grpcio-tools<2.0.0,>=1.57.0 in /Users/drew_wilkins/Drews_Files/Drew/Python/VSCode/.venv-311/lib/python3.11/site-packages (from weaviate-client==4.*) (1.60.0)\n",
      "Requirement already satisfied: cryptography in /Users/drew_wilkins/Drews_Files/Drew/Python/VSCode/.venv-311/lib/python3.11/site-packages (from authlib<2.0.0,>=1.2.1->weaviate-client==4.*) (41.0.7)\n",
      "Requirement already satisfied: protobuf<5.0dev,>=4.21.6 in /Users/drew_wilkins/Drews_Files/Drew/Python/VSCode/.venv-311/lib/python3.11/site-packages (from grpcio-tools<2.0.0,>=1.57.0->weaviate-client==4.*) (4.25.1)\n",
      "Requirement already satisfied: setuptools in /Users/drew_wilkins/Drews_Files/Drew/Python/VSCode/.venv-311/lib/python3.11/site-packages (from grpcio-tools<2.0.0,>=1.57.0->weaviate-client==4.*) (65.5.0)\n",
      "Requirement already satisfied: annotated-types>=0.4.0 in /Users/drew_wilkins/Drews_Files/Drew/Python/VSCode/.venv-311/lib/python3.11/site-packages (from pydantic<3.0.0,>=2.1.1->weaviate-client==4.*) (0.6.0)\n",
      "Requirement already satisfied: pydantic-core==2.14.5 in /Users/drew_wilkins/Drews_Files/Drew/Python/VSCode/.venv-311/lib/python3.11/site-packages (from pydantic<3.0.0,>=2.1.1->weaviate-client==4.*) (2.14.5)\n",
      "Requirement already satisfied: typing-extensions>=4.6.1 in /Users/drew_wilkins/Drews_Files/Drew/Python/VSCode/.venv-311/lib/python3.11/site-packages (from pydantic<3.0.0,>=2.1.1->weaviate-client==4.*) (4.8.0)\n",
      "Requirement already satisfied: charset-normalizer<4,>=2 in /Users/drew_wilkins/Drews_Files/Drew/Python/VSCode/.venv-311/lib/python3.11/site-packages (from requests<3.0.0,>=2.30.0->weaviate-client==4.*) (3.3.2)\n",
      "Requirement already satisfied: idna<4,>=2.5 in /Users/drew_wilkins/Drews_Files/Drew/Python/VSCode/.venv-311/lib/python3.11/site-packages (from requests<3.0.0,>=2.30.0->weaviate-client==4.*) (3.6)\n",
      "Requirement already satisfied: urllib3<3,>=1.21.1 in /Users/drew_wilkins/Drews_Files/Drew/Python/VSCode/.venv-311/lib/python3.11/site-packages (from requests<3.0.0,>=2.30.0->weaviate-client==4.*) (2.1.0)\n",
      "Requirement already satisfied: certifi>=2017.4.17 in /Users/drew_wilkins/Drews_Files/Drew/Python/VSCode/.venv-311/lib/python3.11/site-packages (from requests<3.0.0,>=2.30.0->weaviate-client==4.*) (2023.11.17)\n",
      "Requirement already satisfied: cffi>=1.12 in /Users/drew_wilkins/Drews_Files/Drew/Python/VSCode/.venv-311/lib/python3.11/site-packages (from cryptography->authlib<2.0.0,>=1.2.1->weaviate-client==4.*) (1.16.0)\n",
      "Requirement already satisfied: pycparser in /Users/drew_wilkins/Drews_Files/Drew/Python/VSCode/.venv-311/lib/python3.11/site-packages (from cffi>=1.12->cryptography->authlib<2.0.0,>=1.2.1->weaviate-client==4.*) (2.21)\n",
      "Using cached weaviate_client-4.4b4-py3-none-any.whl (245 kB)\n",
      "Installing collected packages: weaviate-client\n",
      "  Attempting uninstall: weaviate-client\n",
      "    Found existing installation: weaviate-client 3.26.0\n",
      "    Uninstalling weaviate-client-3.26.0:\n",
      "      Successfully uninstalled weaviate-client-3.26.0\n",
      "Successfully installed weaviate-client-4.4b4\n",
      "Note: you may need to restart the kernel to use updated packages.\n"
     ]
    }
   ],
   "source": [
    "#%pip install --upgrade pip\n",
    "#%pip list # See what's installed and versions\n",
    "%pip install --pre -U \"weaviate-client==4.*\"\n",
    "#%pip install \"weaviate-client==3.*\""
   ]
  },
  {
   "cell_type": "code",
   "execution_count": 3,
   "metadata": {},
   "outputs": [
    {
     "data": {
      "text/plain": [
       "True"
      ]
     },
     "execution_count": 3,
     "metadata": {},
     "output_type": "execute_result"
    }
   ],
   "source": [
    "import os\n",
    "from dotenv import load_dotenv, find_dotenv\n",
    "load_dotenv(find_dotenv())"
   ]
  },
  {
   "cell_type": "code",
   "execution_count": 4,
   "metadata": {},
   "outputs": [],
   "source": [
    "import weaviate"
   ]
  },
  {
   "cell_type": "code",
   "execution_count": 5,
   "metadata": {},
   "outputs": [
    {
     "ename": "WeaviateGrpcUnavailable",
     "evalue": "gRPC is not available. Please make sure that gRPC is configured correctly in the client and on the server: your cluster may need upgrading to the latest Weaviate version to support gRPC.",
     "output_type": "error",
     "traceback": [
      "\u001b[0;31m---------------------------------------------------------------------------\u001b[0m",
      "\u001b[0;31mWeaviateGrpcUnavailable\u001b[0m                   Traceback (most recent call last)",
      "Cell \u001b[0;32mIn[5], line 3\u001b[0m\n\u001b[1;32m      1\u001b[0m \u001b[38;5;28;01mimport\u001b[39;00m \u001b[38;5;21;01mweaviate\u001b[39;00m\n\u001b[0;32m----> 3\u001b[0m client \u001b[38;5;241m=\u001b[39m \u001b[43mweaviate\u001b[49m\u001b[38;5;241;43m.\u001b[39;49m\u001b[43mconnect_to_wcs\u001b[49m\u001b[43m(\u001b[49m\n\u001b[1;32m      4\u001b[0m \u001b[43m    \u001b[49m\u001b[43mcluster_url\u001b[49m\u001b[38;5;241;43m=\u001b[39;49m\u001b[43mos\u001b[49m\u001b[38;5;241;43m.\u001b[39;49m\u001b[43mgetenv\u001b[49m\u001b[43m(\u001b[49m\u001b[38;5;124;43m\"\u001b[39;49m\u001b[38;5;124;43mWEAVIATE_URL\u001b[39;49m\u001b[38;5;124;43m\"\u001b[39;49m\u001b[43m)\u001b[49m\u001b[43m,\u001b[49m\n\u001b[1;32m      5\u001b[0m \u001b[43m    \u001b[49m\u001b[43mauth_credentials\u001b[49m\u001b[38;5;241;43m=\u001b[39;49m\u001b[43mweaviate\u001b[49m\u001b[38;5;241;43m.\u001b[39;49m\u001b[43mAuthApiKey\u001b[49m\u001b[43m(\u001b[49m\u001b[43mos\u001b[49m\u001b[38;5;241;43m.\u001b[39;49m\u001b[43mgetenv\u001b[49m\u001b[43m(\u001b[49m\u001b[38;5;124;43m\"\u001b[39;49m\u001b[38;5;124;43mWEAVIATE_API_KEY\u001b[39;49m\u001b[38;5;124;43m\"\u001b[39;49m\u001b[43m)\u001b[49m\u001b[43m)\u001b[49m\n\u001b[1;32m      6\u001b[0m \u001b[43m)\u001b[49m\n",
      "File \u001b[0;32m~/Drews_Files/Drew/Python/VSCode/.venv-311/lib/python3.11/site-packages/weaviate/connect/helpers.py:58\u001b[0m, in \u001b[0;36mconnect_to_wcs\u001b[0;34m(cluster_url, auth_credentials, headers, timeout)\u001b[0m\n\u001b[1;32m     56\u001b[0m resp \u001b[38;5;241m=\u001b[39m requests\u001b[38;5;241m.\u001b[39mget(\u001b[38;5;124mf\u001b[39m\u001b[38;5;124m\"\u001b[39m\u001b[38;5;124mhttps://\u001b[39m\u001b[38;5;132;01m{\u001b[39;00mgrpc_host\u001b[38;5;132;01m}\u001b[39;00m\u001b[38;5;124m:443/\u001b[39m\u001b[38;5;124m\"\u001b[39m, timeout\u001b[38;5;241m=\u001b[39mtimeout)\n\u001b[1;32m     57\u001b[0m \u001b[38;5;28;01mif\u001b[39;00m resp\u001b[38;5;241m.\u001b[39mstatus_code \u001b[38;5;241m!=\u001b[39m \u001b[38;5;241m415\u001b[39m:\n\u001b[0;32m---> 58\u001b[0m     \u001b[38;5;28;01mraise\u001b[39;00m WeaviateGrpcUnavailable(\n\u001b[1;32m     59\u001b[0m         \u001b[38;5;124m\"\u001b[39m\u001b[38;5;124myour cluster may need upgrading to the latest Weaviate version to support gRPC.\u001b[39m\u001b[38;5;124m\"\u001b[39m\n\u001b[1;32m     60\u001b[0m     )\n\u001b[1;32m     61\u001b[0m \u001b[38;5;28;01mreturn\u001b[39;00m WeaviateClient(\n\u001b[1;32m     62\u001b[0m     connection_params\u001b[38;5;241m=\u001b[39mConnectionParams(\n\u001b[1;32m     63\u001b[0m         http\u001b[38;5;241m=\u001b[39mProtocolParams(host\u001b[38;5;241m=\u001b[39mcluster_url, port\u001b[38;5;241m=\u001b[39m\u001b[38;5;241m443\u001b[39m, secure\u001b[38;5;241m=\u001b[39m\u001b[38;5;28;01mTrue\u001b[39;00m),\n\u001b[0;32m   (...)\u001b[0m\n\u001b[1;32m     68\u001b[0m     additional_config\u001b[38;5;241m=\u001b[39mAdditionalConfig(timeout\u001b[38;5;241m=\u001b[39mtimeout),\n\u001b[1;32m     69\u001b[0m )\n",
      "\u001b[0;31mWeaviateGrpcUnavailable\u001b[0m: gRPC is not available. Please make sure that gRPC is configured correctly in the client and on the server: your cluster may need upgrading to the latest Weaviate version to support gRPC."
     ]
    }
   ],
   "source": [
    "import weaviate\n",
    "\n",
    "client = weaviate.connect_to_wcs(\n",
    "    cluster_url=os.getenv(\"WEAVIATE_URL\"),\n",
    "    auth_credentials=weaviate.AuthApiKey(os.getenv(\"WEAVIATE_API_KEY\"))\n",
    ")"
   ]
  },
  {
   "cell_type": "code",
   "execution_count": 7,
   "metadata": {},
   "outputs": [
    {
     "ename": "TypeError",
     "evalue": "Client.__init__() got an unexpected keyword argument 'auth_credentials'",
     "output_type": "error",
     "traceback": [
      "\u001b[0;31m---------------------------------------------------------------------------\u001b[0m",
      "\u001b[0;31mTypeError\u001b[0m                                 Traceback (most recent call last)",
      "Cell \u001b[0;32mIn[7], line 3\u001b[0m\n\u001b[1;32m      1\u001b[0m \u001b[38;5;28;01mimport\u001b[39;00m \u001b[38;5;21;01mweaviate\u001b[39;00m\n\u001b[0;32m----> 3\u001b[0m client \u001b[38;5;241m=\u001b[39m \u001b[43mweaviate\u001b[49m\u001b[38;5;241;43m.\u001b[39;49m\u001b[43mClient\u001b[49m\u001b[43m(\u001b[49m\n\u001b[1;32m      4\u001b[0m \u001b[43m    \u001b[49m\u001b[43murl\u001b[49m\u001b[38;5;241;43m=\u001b[39;49m\u001b[43mos\u001b[49m\u001b[38;5;241;43m.\u001b[39;49m\u001b[43mgetenv\u001b[49m\u001b[43m(\u001b[49m\u001b[38;5;124;43m\"\u001b[39;49m\u001b[38;5;124;43mWEVIATE_URL\u001b[39;49m\u001b[38;5;124;43m\"\u001b[39;49m\u001b[43m)\u001b[49m\u001b[43m,\u001b[49m\n\u001b[1;32m      5\u001b[0m \u001b[43m    \u001b[49m\u001b[43mauth_credentials\u001b[49m\u001b[38;5;241;43m=\u001b[39;49m\u001b[43mweaviate\u001b[49m\u001b[38;5;241;43m.\u001b[39;49m\u001b[43mAuthApiKey\u001b[49m\u001b[43m(\u001b[49m\u001b[43mos\u001b[49m\u001b[38;5;241;43m.\u001b[39;49m\u001b[43mgetenv\u001b[49m\u001b[43m(\u001b[49m\u001b[38;5;124;43m\"\u001b[39;49m\u001b[38;5;124;43mWEAVIATE_API_KEY\u001b[39;49m\u001b[38;5;124;43m\"\u001b[39;49m\u001b[43m)\u001b[49m\u001b[43m)\u001b[49m\u001b[43m,\u001b[49m\n\u001b[1;32m      6\u001b[0m \u001b[43m    \u001b[49m\u001b[43madditional_headers\u001b[49m\u001b[38;5;241;43m=\u001b[39;49m\u001b[43m{\u001b[49m\n\u001b[1;32m      7\u001b[0m \u001b[43m        \u001b[49m\u001b[38;5;124;43m\"\u001b[39;49m\u001b[38;5;124;43mX-OpenAI-Api-Key\u001b[39;49m\u001b[38;5;124;43m\"\u001b[39;49m\u001b[43m:\u001b[49m\u001b[43m \u001b[49m\u001b[43mos\u001b[49m\u001b[38;5;241;43m.\u001b[39;49m\u001b[43mgetenv\u001b[49m\u001b[43m(\u001b[49m\u001b[38;5;124;43m\"\u001b[39;49m\u001b[38;5;124;43mOPENAI_API_KEY\u001b[39;49m\u001b[38;5;124;43m\"\u001b[39;49m\u001b[43m)\u001b[49m\n\u001b[1;32m      8\u001b[0m \u001b[43m    \u001b[49m\u001b[43m}\u001b[49m\n\u001b[1;32m      9\u001b[0m \u001b[43m)\u001b[49m\n",
      "\u001b[0;31mTypeError\u001b[0m: Client.__init__() got an unexpected keyword argument 'auth_credentials'"
     ]
    }
   ],
   "source": [
    "import weaviate\n",
    "\n",
    "client = weaviate.Client(\n",
    "    url=os.getenv(\"WEVIATE_URL\"),\n",
    "    auth_credentials=weaviate.AuthApiKey(os.getenv(\"WEAVIATE_API_KEY\")),\n",
    "    additional_headers={\n",
    "        \"X-OpenAI-Api-Key\": os.getenv(\"OPENAI_API_KEY\")\n",
    "    }\n",
    ")"
   ]
  },
  {
   "cell_type": "code",
   "execution_count": 12,
   "metadata": {},
   "outputs": [
    {
     "ename": "NameError",
     "evalue": "name 'client' is not defined",
     "output_type": "error",
     "traceback": [
      "\u001b[0;31m---------------------------------------------------------------------------\u001b[0m",
      "\u001b[0;31mNameError\u001b[0m                                 Traceback (most recent call last)",
      "Cell \u001b[0;32mIn[12], line 122\u001b[0m\n\u001b[1;32m    120\u001b[0m \u001b[38;5;66;03m# add the schema\u001b[39;00m\n\u001b[1;32m    121\u001b[0m classes \u001b[38;5;241m=\u001b[39m [pdf_document_class, pdf_document_page_class]\n\u001b[0;32m--> 122\u001b[0m \u001b[43mclient\u001b[49m\u001b[38;5;241m.\u001b[39mschema\u001b[38;5;241m.\u001b[39mcreate_class(classes)\n\u001b[1;32m    124\u001b[0m \u001b[38;5;66;03m# get the schema\u001b[39;00m\n\u001b[1;32m    125\u001b[0m schema \u001b[38;5;241m=\u001b[39m client\u001b[38;5;241m.\u001b[39mschema\u001b[38;5;241m.\u001b[39mget()\n",
      "\u001b[0;31mNameError\u001b[0m: name 'client' is not defined"
     ]
    }
   ],
   "source": [
    "import weaviate\n",
    "import json\n",
    "\n",
    "# we will create the class \"PDF_document\"\n",
    "pdf_document_class = {\n",
    "    \"class\": \"PDF_document\",\n",
    "    \"description\": \"Info about the overall PDF\",\n",
    "    \"properties\": [\n",
    "        {\n",
    "            \"name\": \"title\",\n",
    "            \"description\": \"Name of the document. If none, defaults to File Name w/o extension\",\n",
    "            \"dataType\": [\"text\"],\n",
    "        },\n",
    "        {\n",
    "            \"name\": \"file_name\",\n",
    "            \"description\": \"Name of the PDF file\",\n",
    "            \"dataType\": [\"text\"],\n",
    "        },\n",
    "        {\n",
    "            \"name\": \"leadership_scope\",\n",
    "            \"description\": \"1_National, 2_District, 3_Divison, 3_Sector, 4_Flotilla, 4_Station, 5_Facility\",\n",
    "            \"dataType\": [\"text\"],\n",
    "        },\n",
    "        {\n",
    "            \"name\": \"page_count\",\n",
    "            \"description\": \"Number of pages in the document\",\n",
    "            \"dataType\": [\"int\"],\n",
    "        },\n",
    "        {\n",
    "            \"pages\": \"creation_date\",\n",
    "            \"description\": \"Uses existing pdf date, else defaults to ingestion date\",\n",
    "            \"dataType\": [\"date\"],\n",
    "        },\n",
    "        {\n",
    "            \"pages\": \"effective_date\",\n",
    "            \"description\": \"Date document became effective\",\n",
    "            \"dataType\": [\"date\"],\n",
    "        },\n",
    "        {\n",
    "            \"pages\": \"ingestion_date\",\n",
    "            \"description\": \"Uses existing pdf date, else defaults to ingestion date\",\n",
    "            \"dataType\": [\"date\"],\n",
    "        },\n",
    "        {\n",
    "            \"pages\": \"expiration_date\",\n",
    "            \"description\": \"Defaults to effective date + 10 years per COMDINST 5215.6I\",\n",
    "            \"dataType\": [\"date\"],\n",
    "        },\n",
    "        {\n",
    "            \"pages\": \"curator\",\n",
    "            \"description\": \"Last name of Auxiliarist who curated\",\n",
    "            \"dataType\": [\"text\"],\n",
    "        },\n",
    "        {\n",
    "            \"pages\": \"source\",\n",
    "            \"description\": \"Web domain source of document (e.g.,uscg.mil, cgaux.org)\",\n",
    "            \"dataType\": [\"text\"],\n",
    "        },\n",
    "        {\n",
    "            \"name\": \"aux_specific\",\n",
    "            \"description\": \"True if document specifically applies to the Auxiliary\",\n",
    "            \"dataType\": [\"boolean\"],\n",
    "        },\n",
    "        {\n",
    "            \"name\": \"organization\",\n",
    "            \"description\": \"Not curently used, can be used to track CG Organizations (i.e., CG-BSX-1) or Auxiliary Unit Number (0130510)\",\n",
    "            \"dataType\": [\"text\"],\n",
    "        },\n",
    "        {\n",
    "            \"name\": \"public_release\",\n",
    "            \"description\": \"True if document is available on public internet\",\n",
    "            \"dataType\": [\"boolean\"],\n",
    "        },\n",
    "        {\n",
    "            \"pages\": \"publication_number\",\n",
    "            \"description\": \"Number of pages in the document\",\n",
    "            \"dataType\": [\"text\"],\n",
    "        },\n",
    "        {\n",
    "            \"name\": \"uuid\",\n",
    "            \"description\": \"unique identifier for the doc\",\n",
    "            \"dataType\": [\"uuid\"],\n",
    "        },\n",
    "        {\n",
    "            \"name\": \"PDF_document_pages\",\n",
    "            \"description\": \"The pages class\",\n",
    "            \"dataType\": [\"text[]\"],\n",
    "        },\n",
    "    ],\n",
    "}\n",
    "\n",
    "pdf_document_page_class = {\n",
    "    \"class\": \"PDF_document_page\",\n",
    "    \"description\": \"Information about a specific page in a PDF document\",\n",
    "    \"properties\": [\n",
    "        {\n",
    "            \"name\": \"content\",\n",
    "            \"description\": \"The content of the page\",\n",
    "            \"dataType\": [\"text\"],\n",
    "        },\n",
    "        {\n",
    "            \"name\": \"uuid\",\n",
    "            \"description\": \"unique identifier for the doc\",\n",
    "            \"dataType\": [\"uuid\"],\n",
    "        },\n",
    "        {\n",
    "            \"name\": \"page_number\",\n",
    "            \"description\": \"The page number\",\n",
    "            \"dataType\": [\"int\"],\n",
    "        },\n",
    "        {\n",
    "            \"name\": \"PDF_document\",\n",
    "            \"description\": \"The document to which the page refers\",\n",
    "            \"dataType\": [\"text\"],\n",
    "        },\n",
    "    ],\n",
    "    \"vectorizer\": \"text2vec-openai\",\n",
    "}\n",
    "\n",
    "# add the schema\n",
    "classes = [pdf_document_class, pdf_document_page_class]\n",
    "client.schema.create_class(classes)\n",
    "\n",
    "# get the schema\n",
    "schema = client.schema.get()\n",
    "\n",
    "# print the schema\n",
    "print(json.dumps(schema, indent=4))"
   ]
  },
  {
   "cell_type": "code",
   "execution_count": null,
   "metadata": {},
   "outputs": [],
   "source": []
  }
 ],
 "metadata": {
  "kernelspec": {
   "display_name": ".venv-311",
   "language": "python",
   "name": "python3"
  },
  "language_info": {
   "codemirror_mode": {
    "name": "ipython",
    "version": 3
   },
   "file_extension": ".py",
   "mimetype": "text/x-python",
   "name": "python",
   "nbconvert_exporter": "python",
   "pygments_lexer": "ipython3",
   "version": "3.11.6"
  }
 },
 "nbformat": 4,
 "nbformat_minor": 2
}
