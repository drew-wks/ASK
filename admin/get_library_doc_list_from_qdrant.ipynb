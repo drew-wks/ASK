{
 "cells": [
  {
   "cell_type": "markdown",
   "metadata": {},
   "source": [
    "###  This is the process for auditing the Qdrant DB and outputting a list of documents"
   ]
  },
  {
   "cell_type": "code",
   "execution_count": 2,
   "metadata": {},
   "outputs": [],
   "source": [
    "import pandas as pd\n",
    "import os\n",
    "from dotenv import load_dotenv, find_dotenv\n",
    "load_dotenv(find_dotenv())\n",
    "\n",
    "\n",
    "# CONFIG: qdrant\n",
    "api_key = os.environ.get(\"QDRANT_API_KEY\")\n",
    "url = os.environ.get(\"QDRANT_URL\")\n",
    "qdrant_collection_name = \"ASK_vectorstore\"\n",
    "# Only required for local instance /private/tmp/local_qdrant\n",
    "qdrant_path = \"/Users/drew_wilkins/Drews_Files/Drew/Python/VSCode/ASK/data/qdrant\""
   ]
  },
  {
   "cell_type": "code",
   "execution_count": 3,
   "metadata": {},
   "outputs": [],
   "source": [
    "# Load an instance of the client. WITHOUT LANGCHAIN\n",
    "# 22.5 sec for cloud\n",
    "# Running this locally places a lock file in the qdrant directory\n",
    "from qdrant_client import QdrantClient\n",
    "\n",
    "client = QdrantClient(url,\n",
    "                      prefer_grpc=True,\n",
    "                      api_key=api_key,\n",
    "                      )\n",
    "\n",
    "'''usage'''\n",
    "content = (client.get_collections())"
   ]
  },
  {
   "cell_type": "code",
   "execution_count": 4,
   "metadata": {},
   "outputs": [
    {
     "name": "stdout",
     "output_type": "stream",
     "text": [
      "all_records is a <class 'tuple'> containing 2elements. \n",
      "    The first element is a <class 'list'> of length 10357).\n",
      "    The second element is a <class 'NoneType'> of length unknown\n",
      "    \n"
     ]
    }
   ],
   "source": [
    "# Gets all points (i.e., records) and returns them as a 2-tuple\n",
    "# Tuple[List[types.Record], Optional[types.PointId]]\n",
    "# 7.1 sec for cloud\n",
    "\n",
    "all_records = client.scroll(\n",
    "    collection_name=qdrant_collection_name,\n",
    "    limit=100000,\n",
    "    with_payload=True,  # change to True to see the payload\n",
    "    with_vectors=False  # change to True to see the vectors\n",
    ")\n",
    "\n",
    "print(f\"\"\"all_records is a {type(all_records)} containing {len(all_records)}elements. \n",
    "    The first element is a {type(all_records[0])} of length {len(all_records[0])}).\n",
    "    The second element is a {type(all_records[1])} of length unknown\n",
    "    \"\"\")\n",
    "\n",
    "# all_points[0] #see the first point#"
   ]
  },
  {
   "cell_type": "code",
   "execution_count": 5,
   "metadata": {},
   "outputs": [],
   "source": [
    "def create_record_dict(all_records):\n",
    "    # Extract the records from all_records\n",
    "    records = all_records[0]\n",
    "\n",
    "    # Initialize an empty dictionary to store the results\n",
    "    records_dict = {}\n",
    "\n",
    "    # Iterate through each record in the records list\n",
    "    for record in records:\n",
    "        # Extract the id and metadata from the record\n",
    "        record_id = record.id\n",
    "        metadata = record.payload['metadata']\n",
    "\n",
    "        # Exclude the 'page_content' from the metadata\n",
    "        if 'page_content' in record.payload:\n",
    "            del record.payload['page_content']\n",
    "\n",
    "        # Add the record to the records_dict\n",
    "        records_dict[record_id] = metadata\n",
    "\n",
    "    return records_dict\n",
    "\n",
    "\n",
    "'''usage'''\n",
    "all_records_dict = create_record_dict(all_records)\n",
    "print(type(all_records_dict))\n",
    "print(\n",
    "    f\"Number of points: {len(all_records_dict)}.  Each point is a vector of floats, that is associated with an ID and a payload\")"
   ]
  },
  {
   "cell_type": "markdown",
   "metadata": {},
   "source": [
    "### Count Number of PDFs"
   ]
  },
  {
   "cell_type": "code",
   "execution_count": 35,
   "metadata": {},
   "outputs": [
    {
     "name": "stdout",
     "output_type": "stream",
     "text": [
      "Number of PDFs: 245\n"
     ]
    }
   ],
   "source": [
    "def count_pdfs_in_records(all_records_dict):\n",
    "    unique_sources = set()  # Using a set to ensure unique sources\n",
    "\n",
    "    for record in all_records_dict.values():\n",
    "        source = record['source']\n",
    "        unique_sources.add(source)\n",
    "\n",
    "    return len(unique_sources)  # Return the count of unique sources\n",
    "\n",
    "\n",
    "'''usage'''\n",
    "print(\"Number of PDFs:\", count_pdfs_in_records(all_records_dict))"
   ]
  },
  {
   "cell_type": "markdown",
   "metadata": {},
   "source": [
    "### List Duplicate PDFs"
   ]
  },
  {
   "cell_type": "code",
   "execution_count": null,
   "metadata": {},
   "outputs": [],
   "source": [
    "def find_duplicate_pdfs_in_records(all_records_dict):\n",
    "    seen = {}  # Dictionary to keep track of source-page combinations\n",
    "    duplicate_pdfs = set()  # Using a set to ensure unique sources\n",
    "\n",
    "    for record in all_records_dict.values():\n",
    "        source = record['source']\n",
    "        page = record['page']\n",
    "        # Tuple to represent the combination of source and page\n",
    "        key = (source, page)\n",
    "\n",
    "        if key in seen:\n",
    "            duplicate_pdfs.add(source)\n",
    "        else:\n",
    "            seen[key] = True\n",
    "\n",
    "    # Convert set to list for the final result\n",
    "    duplicate_pdfs = list(duplicate_pdfs)\n",
    "    return duplicate_pdfs\n",
    "\n",
    "\n",
    "'''usage'''\n",
    "duplicate_pdfs = find_duplicate_pdfs_in_records(all_records_dict)\n",
    "print(\"Number of duplicate PDFs:\", len(\n",
    "    duplicate_pdfs), \"\\r\\n\\r\\nPDFs with Duplicate Pages:\")\n",
    "for pdf in duplicate_pdfs:\n",
    "    print(pdf)"
   ]
  },
  {
   "cell_type": "markdown",
   "metadata": {},
   "source": [
    "### List Duplicate PDF Pages"
   ]
  },
  {
   "cell_type": "code",
   "execution_count": null,
   "metadata": {},
   "outputs": [],
   "source": [
    "def find_duplicate_pdfs_in_records(all_records_dict):\n",
    "    seen = {}  # Dictionary to keep track of source-page combinations\n",
    "    duplicate_pdfs = set()  # Using a set to ensure unique sources\n",
    "\n",
    "    for record in all_records_dict.values():\n",
    "        source = record['source']\n",
    "        page = record['page']\n",
    "        # Tuple to represent the combination of source and page\n",
    "        key = (source, page)\n",
    "\n",
    "        if key in seen:\n",
    "            duplicate_pdfs.add(key)\n",
    "        else:\n",
    "            seen[key] = True\n",
    "\n",
    "    return duplicate_pdfs\n",
    "\n",
    "\n",
    "'''usage'''\n",
    "duplicate_pdfs = find_duplicate_pdfs_in_records(all_records_dict)\n",
    "print(\"List of Duplicate Pages:\")\n",
    "for source, page in duplicate_pdfs:\n",
    "    print(f\"{source}, Page: {page}\")"
   ]
  },
  {
   "cell_type": "code",
   "execution_count": 57,
   "metadata": {},
   "outputs": [],
   "source": [
    "def create_unique_sources_dict(all_records_dict):\n",
    "\n",
    "    # Use a set to keep track of unique sources\n",
    "    seen_sources = set()\n",
    "\n",
    "    # Dictionary to store records with unique sources\n",
    "    unique_dict = {}\n",
    "\n",
    "    # Iterate through each record in the all_records_dict\n",
    "    for record_id, metadata in all_records_dict.items():\n",
    "        # If the record's source is not in the set, add it to the set and the unique_dict\n",
    "        source = metadata['source']\n",
    "        if source not in seen_sources:\n",
    "            seen_sources.add(source)\n",
    "            unique_dict[record_id] = metadata\n",
    "\n",
    "    return unique_dict\n",
    "\n",
    "\n",
    "'''usage'''\n",
    "unique_sources_dict = create_unique_sources_dict(all_records_dict)\n",
    "len(unique_sources_dict)"
   ]
  },
  {
   "cell_type": "code",
   "execution_count": 30,
   "metadata": {},
   "outputs": [],
   "source": [
    "def format_unique_source_dict(unique_sources_dict):\n",
    "    '''Format values and store as a dataframe'''\n",
    "\n",
    "    formatted_list = []\n",
    "\n",
    "    for record_id, metadata in unique_sources_dict.items():\n",
    "        # Extract the base filename without the extension\n",
    "        source = metadata['source']\n",
    "        base_filename = os.path.splitext(os.path.basename(source))[0]\n",
    "        metadata['source_short'] = base_filename\n",
    "\n",
    "        # Append the metadata to the list\n",
    "        formatted_list.append(metadata)\n",
    "\n",
    "        # exclude all metadata from list except these (source will be removed once we have all the metadata\n",
    "        # metadata = {key: metadata[key] for key in ['short_source', 'source'] if key in metadata}\n",
    "\n",
    "    # Convert the list to a DataFrame\n",
    "    dataframe = pd.DataFrame(formatted_list)\n",
    "\n",
    "    # Remove the 'page' column\n",
    "    dataframe = dataframe.drop(columns=['page'])\n",
    "    return dataframe\n",
    "\n",
    "\n",
    "'''usage'''\n",
    "unique_sources_df = format_unique_source_dict(unique_sources_dict)"
   ]
  },
  {
   "cell_type": "code",
   "execution_count": null,
   "metadata": {},
   "outputs": [],
   "source": [
    "from datetime import datetime\n",
    "\n",
    "\n",
    "def write_library_xlsx(unique_sources_df):\n",
    "    \"\"\"write dataframe to an Excel file.\"\"\"\n",
    "\n",
    "    # Get the current date and time in Zulu (UTC) time\n",
    "    now_utc = datetime.utcnow()\n",
    "    timestamp = now_utc.strftime('%d%b%Y-%H%M')\n",
    "\n",
    "    # Specify the relative path to save the Excel file with the timestamp appended\n",
    "    file_path = f'../reports/library_document_list_{timestamp}.xlsx'\n",
    "\n",
    "    # Save DataFrame to Excel\n",
    "    unique_sources_df.to_excel(file_path, index=False)\n",
    "\n",
    "\n",
    "'''usage'''\n",
    "write_library_xlsx(unique_sources_df)"
   ]
  }
 ],
 "metadata": {
  "kernelspec": {
   "display_name": ".venv",
   "language": "python",
   "name": "python3"
  },
  "language_info": {
   "codemirror_mode": {
    "name": "ipython",
    "version": 3
   },
   "file_extension": ".py",
   "mimetype": "text/x-python",
   "name": "python",
   "nbconvert_exporter": "python",
   "pygments_lexer": "ipython3",
   "version": "3.8.10"
  }
 },
 "nbformat": 4,
 "nbformat_minor": 2
}
