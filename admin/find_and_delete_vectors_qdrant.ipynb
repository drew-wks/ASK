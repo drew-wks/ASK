{
 "cells": [
  {
   "cell_type": "markdown",
   "metadata": {},
   "source": [
    "###  THis is the process for auditing the Qdrant DB and outputting a list of documents"
   ]
  },
  {
   "cell_type": "code",
   "execution_count": null,
   "metadata": {},
   "outputs": [],
   "source": []
  },
  {
   "cell_type": "code",
   "execution_count": 1,
   "metadata": {},
   "outputs": [],
   "source": [
    "import pandas as pd\n",
    "from datetime import datetime\n",
    "import os\n",
    "from dotenv import load_dotenv, find_dotenv\n",
    "load_dotenv(find_dotenv())\n",
    "\n",
    "\n",
    "# CONFIG: qdrant\n",
    "api_key = os.environ.get(\"QDRANT_API_KEY\")\n",
    "url = os.environ.get(\"QDRANT_URL\") # for cloud\n",
    "qdrant_collection_name = \"ASK_vectorstore\"\n",
    "qdrant_path = \"/Users/drew_wilkins/Drews_Files/Drew/Python/VSCode/ASK/data/qdrant\" #  for local instance /private/tmp/local_qdrant"
   ]
  },
  {
   "cell_type": "code",
   "execution_count": 2,
   "metadata": {},
   "outputs": [],
   "source": [
    "\n",
    "# Load an instance of the client. WITHOUT LANGCHAIN\n",
    "# 22.5 sec for cloud\n",
    "# Running this places a lock file in the qdrant directory\n",
    "from qdrant_client import QdrantClient\n",
    "client = QdrantClient(\n",
    "\n",
    ")\n",
    "\n",
    "client = QdrantClient(\n",
    "    url=url,\n",
    "    # prefer_grpc=True,\n",
    "    api_key=api_key,\n",
    "    # path=qdrant_path\n",
    ")\n",
    "\n",
    "'''usage'''\n",
    "content = (client.get_collections())"
   ]
  },
  {
   "cell_type": "code",
   "execution_count": 3,
   "metadata": {},
   "outputs": [
    {
     "data": {
      "text/plain": [
       "CollectionInfo(status=<CollectionStatus.GREEN: 'green'>, optimizer_status=<OptimizersStatusOneOf.OK: 'ok'>, vectors_count=10907, indexed_vectors_count=9362, points_count=10894, segments_count=2, config=CollectionConfig(params=CollectionParams(vectors=VectorParams(size=1536, distance=<Distance.COSINE: 'Cosine'>, hnsw_config=None, quantization_config=None, on_disk=None), shard_number=1, replication_factor=1, write_consistency_factor=1, on_disk_payload=True), hnsw_config=HnswConfig(m=16, ef_construct=100, full_scan_threshold=10000, max_indexing_threads=0, on_disk=False, payload_m=None), optimizer_config=OptimizersConfig(deleted_threshold=0.2, vacuum_min_vector_number=1000, default_segment_number=0, max_segment_size=None, memmap_threshold=None, indexing_threshold=20000, flush_interval_sec=5, max_optimization_threads=1), wal_config=WalConfig(wal_capacity_mb=32, wal_segments_ahead=0), quantization_config=None), payload_schema={})"
      ]
     },
     "execution_count": 3,
     "metadata": {},
     "output_type": "execute_result"
    }
   ],
   "source": [
    "client.get_collection(collection_name=qdrant_collection_name)"
   ]
  },
  {
   "cell_type": "code",
   "execution_count": null,
   "metadata": {},
   "outputs": [],
   "source": [
    "# Gets all points (i.e., records) and returns them as a 2-tuple\n",
    "# Tuple[List[types.Record], Optional[types.PointId]]\n",
    "# 7.1 sec for cloud\n",
    "\n",
    "all_records = client.scroll(\n",
    "    collection_name=qdrant_collection_name,\n",
    "    limit=100000,\n",
    "    with_payload=True,  # change to True to see the payload\n",
    "    with_vectors=False  # change to True to see the vectors\n",
    ")\n",
    "\n",
    "print(f\"\"\"all_records is a {type(all_records)} containing {len(all_records)}elements. \n",
    "    The first element is a {type(all_records[0])} of length {len(all_records[0])}).\n",
    "    The second element is a {type(all_records[1])} of length unknown\n",
    "    \"\"\")\n",
    "\n",
    "all_records[0]  # see the first point#"
   ]
  },
  {
   "cell_type": "markdown",
   "metadata": {},
   "source": [
    "##  Find and print individual points in the Qdrant DB"
   ]
  },
  {
   "cell_type": "markdown",
   "metadata": {},
   "source": [
    "##### Find points based on Filename\n",
    " "
   ]
  },
  {
   "cell_type": "code",
   "execution_count": null,
   "metadata": {},
   "outputs": [],
   "source": [
    "from qdrant_client.http import models\n",
    "\n",
    "client.scroll(\n",
    "    collection_name=qdrant_collection_name,\n",
    "    points_selector=models.Filter(\n",
    "        must=[\n",
    "            models.FieldCondition(\n",
    "                key=\"metadata.filename\",\n",
    "                match=models.MatchText(\n",
    "                    text=\"CI_16130_2G\")\n",
    "            ),\n",
    "        ]\n",
    "    ),\n",
    ")"
   ]
  },
  {
   "cell_type": "markdown",
   "metadata": {},
   "source": [
    "##### Find points based on keyword values, numbers, bool\n",
    " "
   ]
  },
  {
   "cell_type": "code",
   "execution_count": null,
   "metadata": {},
   "outputs": [],
   "source": [
    "# Uses MatchValue to find points based on keyword values, numbers, bool\n",
    "\n",
    "from qdrant_client.http import models\n",
    "\n",
    "client.scroll(\n",
    "    collection_name=qdrant_collection_name,\n",
    "    scroll_filter=models.Filter(\n",
    "        must=[\n",
    "            models.FieldCondition(\n",
    "                key=\"metadata.page\",\n",
    "                match=models.MatchValue(\n",
    "                    value=246),\n",
    "            ),\n",
    "        ]\n",
    "    ),\n",
    ")"
   ]
  },
  {
   "cell_type": "markdown",
   "metadata": {},
   "source": [
    "##### Find points based on both page AND source\n",
    " "
   ]
  },
  {
   "cell_type": "code",
   "execution_count": 182,
   "metadata": {},
   "outputs": [
    {
     "data": {
      "text/plain": [
       "([Record(id='62119d2b-4535-45e1-84e4-158a9a148685', payload=None, vector=None)],\n",
       " None)"
      ]
     },
     "execution_count": 182,
     "metadata": {},
     "output_type": "execute_result"
    }
   ],
   "source": [
    "from qdrant_client.http import models\n",
    "\n",
    "client.scroll(\n",
    "    collection_name=qdrant_collection_name,\n",
    "    with_payload=False,  # change to True to see the payload\n",
    "    with_vectors=False,  # change to True to see the vectors\n",
    "    scroll_filter=models.Filter(\n",
    "        must=[\n",
    "            models.FieldCondition(\n",
    "                key=\"metadata.page\",\n",
    "                match=models.MatchValue(\n",
    "                    value=0),\n",
    "            ),\n",
    "            models.FieldCondition(\n",
    "                key=\"metadata.source\",\n",
    "                match=models.MatchText(\n",
    "                    text=\"IAMSAR\"),\n",
    "            ),\n",
    "        ]\n",
    "    ),\n",
    ")"
   ]
  },
  {
   "cell_type": "code",
   "execution_count": 187,
   "metadata": {},
   "outputs": [
    {
     "data": {
      "text/plain": [
       "([Record(id='62119d2b-4535-45e1-84e4-158a9a148685', payload=None, vector=None)],\n",
       " None)"
      ]
     },
     "execution_count": 187,
     "metadata": {},
     "output_type": "execute_result"
    }
   ],
   "source": [
    "from qdrant_client.http import models\n",
    "\n",
    "client.scroll(\n",
    "    collection_name=qdrant_collection_name,\n",
    "    with_payload=False,  # change to True to see the payload\n",
    "    with_vectors=False,  # change to True to see the vectors\n",
    "    scroll_filter=models.Filter(\n",
    "        must=[\n",
    "            models.FieldCondition(\n",
    "                key=\"metadata.page\",\n",
    "                match=models.MatchValue(\n",
    "                    value=0),\n",
    "            ),\n",
    "            models.FieldCondition(\n",
    "                key=\"metadata.source\",\n",
    "                match=models.MatchText(\n",
    "                    text=\"IAMSAR\"),\n",
    "            ),\n",
    "        ]\n",
    "    ),\n",
    ")"
   ]
  },
  {
   "cell_type": "markdown",
   "metadata": {},
   "source": [
    "##### Find points based on page_content\n",
    " "
   ]
  },
  {
   "cell_type": "code",
   "execution_count": 118,
   "metadata": {},
   "outputs": [
    {
     "data": {
      "text/plain": [
       "([], None)"
      ]
     },
     "execution_count": 118,
     "metadata": {},
     "output_type": "execute_result"
    }
   ],
   "source": [
    "# uses MatchTest to find points that contain text in page_content\n",
    "\n",
    "from qdrant_client.http import models\n",
    "\n",
    "client.scroll(\n",
    "    collection_name=qdrant_collection_name,\n",
    "    scroll_filter=models.Filter(\n",
    "        must=[\n",
    "            models.FieldCondition(\n",
    "                key=\"page_content\",\n",
    "                match=models.MatchText(\n",
    "                    text=\"CMINST\"),\n",
    "            ),\n",
    "        ]\n",
    "    ),\n",
    ")"
   ]
  },
  {
   "cell_type": "markdown",
   "metadata": {},
   "source": [
    "##### Find points based on source field\n",
    " "
   ]
  },
  {
   "cell_type": "code",
   "execution_count": null,
   "metadata": {},
   "outputs": [],
   "source": [
    "# uses MatchTest to find points that contain text in source field\n",
    "\n",
    "from qdrant_client.http import models\n",
    "\n",
    "client.scroll(\n",
    "    collection_name=qdrant_collection_name,\n",
    "    scroll_filter=models.Filter(\n",
    "        must=[\n",
    "            models.FieldCondition(\n",
    "                key=\"metadata.source\",\n",
    "                match=models.MatchText(\n",
    "                    text=\"027_20_TEMPORARY_SUSPENSION_OF_ONLINE_PROCTOR_REQUIREMENT_FOR_AUXOP_SPECIALTY_COURSE_EXAMS\"),\n",
    "            ),\n",
    "        ]\n",
    "    ),\n",
    ")"
   ]
  },
  {
   "cell_type": "markdown",
   "metadata": {},
   "source": [
    "## Find and delete points\n",
    "This jsut sets a filter that you can use in either a scroll or delete function"
   ]
  },
  {
   "cell_type": "code",
   "execution_count": 175,
   "metadata": {},
   "outputs": [
    {
     "data": {
      "text/plain": [
       "([], None)"
      ]
     },
     "execution_count": 175,
     "metadata": {},
     "output_type": "execute_result"
    }
   ],
   "source": [
    "# Defines a filter that can be used in a scroll or delete function\n",
    "\n",
    "from qdrant_client.http import models\n",
    "\n",
    "scroll_filter = models.Filter(\n",
    "    must=[\n",
    "        models.FieldCondition(\n",
    "            key=\"metadata.source\",\n",
    "            match=models.MatchText(\n",
    "                text=\"169796.3D\"),\n",
    "        ),\n",
    "    ]\n",
    ")\n",
    "\n",
    "client.scroll(\n",
    "    collection_name=qdrant_collection_name,\n",
    "    scroll_filter=scroll_filter,\n",
    ")"
   ]
  },
  {
   "cell_type": "markdown",
   "metadata": {},
   "source": [
    "THis uses the filter to find the points"
   ]
  },
  {
   "cell_type": "markdown",
   "metadata": {},
   "source": [
    "This deletes the points based on the filter above"
   ]
  },
  {
   "cell_type": "code",
   "execution_count": 129,
   "metadata": {},
   "outputs": [
    {
     "data": {
      "text/plain": [
       "UpdateResult(operation_id=189, status=<UpdateStatus.COMPLETED: 'completed'>)"
      ]
     },
     "execution_count": 129,
     "metadata": {},
     "output_type": "execute_result"
    }
   ],
   "source": [
    "from qdrant_client.http import models\n",
    "\n",
    "client.delete(\n",
    "    collection_name=qdrant_collection_name,\n",
    "    points_selector=scroll_filter,\n",
    ")"
   ]
  },
  {
   "cell_type": "markdown",
   "metadata": {},
   "source": [
    "### All-in-one delete function based on metadata source value"
   ]
  },
  {
   "cell_type": "code",
   "execution_count": 174,
   "metadata": {},
   "outputs": [
    {
     "data": {
      "text/plain": [
       "UpdateResult(operation_id=209, status=<UpdateStatus.COMPLETED: 'completed'>)"
      ]
     },
     "execution_count": 174,
     "metadata": {},
     "output_type": "execute_result"
    }
   ],
   "source": [
    "client.delete(\n",
    "    collection_name=qdrant_collection_name,\n",
    "    points_selector=models.Filter(\n",
    "        must=[\n",
    "            models.FieldCondition(\n",
    "                key=\"metadata.source\",\n",
    "                match=models.MatchText(\n",
    "                    text=\"011_20_WEBINAR_DELIVERY_OF_THE_TCT_REFRESHER___COVID_19\")\n",
    "            ),\n",
    "        ]\n",
    "    ),\n",
    ")"
   ]
  },
  {
   "cell_type": "code",
   "execution_count": null,
   "metadata": {},
   "outputs": [],
   "source": [
    "content"
   ]
  },
  {
   "cell_type": "code",
   "execution_count": null,
   "metadata": {},
   "outputs": [],
   "source": [
    "[Record(id='00034c283b0e46c9acb88308fee2001c', payload={'page_content': \"*All ALAUX's are posted on the Chief Director of Auxiliary web site located at:   CHDIRAUX \\nALAUX    \\n \\nIf you have a question regarding this ALAUX, please seek resolution within your Chain of \\nLeadership and Management (COLM) including up to your servicing District Director of \\nAuxiliary (DIRAUX). If your questi on still cannot be resolved after that, then please email \\nCGAUX@uscg.mil .\", 'metadata': {'source': '/Users/drew_wilkins/Drews_Files/Drew/Python/VSCode/ASK/data/PDF_metadata_complete/ALAUXs/012_22_AUXDATA_II_SECURITY_UPDATES_FINAL.pdf', 'page': 1, '/Producer': 'pypdf', '/Title': '012 22 AUXDATA II SECURITY UPDATES FINAL', '/LeadershipScope': '1_National', '/PageCount': '2', '/CreationDate': '2022-03-11', '/EffectiveDate': '2022-03-11', '/IngestDate': '2023-10-30', '/ExpirationDate': '2032-03-10', '/AuxSpecific': 'True', '/PublicRelease': 'True', '/PublicationNumber': 'ALAUX_012 22', '/Source': 'cgaux.org', '/Organization': 'nan', '/Curator': 'Drew_Wilkins', '/DocId': '2a91c994e8ac98ff0a2222a7b7df14ea', '/FileName': '012_22_AUXDATA_II_SECURITY_UPDATES_FINAL'}}, vector=None),\n",
    " Record(id='002794e80e7545a486d5ad536e2250bf', payload={'page_content': 'U.S COAST GUARD AUXILIARY  - UNCLASSIFIED \\nThe Risk Management (RM) Instruction includes: \\n•A 5-step process \\n•The PEACE and STAAR models \\n•Risk Assessment Matrix (RAM) \\n•Mandates the use of GAR 2.0 \\n•Standardizes RM training for all communities (surface, \\nair, and shore) \\nResponse Directorate - Telecommunications Division 7Risk Management', 'metadata': {'source': '/Users/drew_wilkins/Drews_Files/Drew/Python/VSCode/ASK/data/PDF_metadata_complete/Aux National/Telecomms_TCO_Workshop Rev 1.4_2023.pdf', 'page': 6, '/Producer': 'pypdf', '/Title': '2023 Telecomms Workshop', '/LeadershipScope': '1_National', '/PageCount': '65', '/CreationDate': '2023-10-30', '/EffectiveDate': '2023-10-30', '/IngestDate': '2023-10-30', '/ExpirationDate': 'nan', '/AuxSpecific': 'True', '/PublicRelease': 'True', '/PublicationNumber': 'nan', '/Source': 'cgaux.org', '/Organization': 'nan', '/Curator': 'Drew_Wilkins', '/DocId': '7a54199383189945b5d30bffb6ccd438', '/FileName': 'Telecomms_TCO_Workshop Rev 1'}}, vector=None)]"
   ]
  },
  {
   "cell_type": "code",
   "execution_count": null,
   "metadata": {},
   "outputs": [],
   "source": [
    "page_number = data[\"metadata\"][\"page\"]"
   ]
  },
  {
   "cell_type": "markdown",
   "metadata": {},
   "source": [
    "### Example Payload from QdrantCloud"
   ]
  },
  {
   "cell_type": "code",
   "execution_count": null,
   "metadata": {},
   "outputs": [],
   "source": [
    "{\n",
    "  \"metadata\": {\n",
    "    \"page\": 162,\n",
    "    \"source\": \"References/Not catalogued/MSM Vol III Personnel CMINST 16000.8B Change 2.pdf\"\n",
    "  },\n",
    "  \"page_content\": \"COMDTINST M16000.8B  \\nUSCG Marine Safety Manual, Vol. III:  Marine Industry Personnel  \\nPART A: MARINER CREDENTIALING  \\nCHAPTER 12:  LICENSING FOR ENGINEERING OFFICERS  \\n \\nA12-2 \\n B. MMD Endorsements Accompanying Licenses.    \\nEngineers holding licenses that authorize service on inspected vessels of more than 2000 \\nhorsepower are entitled by 46 CFR 12.02- 11(d)(2) to an MMD endorsed for any unlicensed \\nrating in t he engine department. Such license holders should be encouraged to obtain an MMD \\nwhen the license is issued.  In many cases an MMD is required to legally serve aboard a vessel.  (See 46 CFR 12.02- 7). \\n \\nC. Creditable Service.  \\n \\n1. Minimum Vessel Size.    \\nAll servic e must be on vessels of at least 100 gross tons.  This is consistent with the \\nrequirements for ratings as a qualified member of the engine department.  See section 12.C.8 for exceptions for designated duty engineers.  \\n \\n2. Watchstanding Requirements.    \\nTraditio nally, the Coast Guard has held watchstanding experience to be an important part \\nof the professional development of third and second assistant engineers. Technological and design advances over the last several years have led to the development of ships tha t \\ncan operate with unattended engine rooms.  The certificates of inspection for such vessels still require licensed engineers to be on board (the engineer being on call as needed).  Since the engineers are on call, such service shall be treated as though t he license holder \\nwere in charge of a watch and will be creditable for a raise in grade\"\n",
    "}"
   ]
  }
 ],
 "metadata": {
  "kernelspec": {
   "display_name": ".venv",
   "language": "python",
   "name": "python3"
  },
  "language_info": {
   "codemirror_mode": {
    "name": "ipython",
    "version": 3
   },
   "file_extension": ".py",
   "mimetype": "text/x-python",
   "name": "python",
   "nbconvert_exporter": "python",
   "pygments_lexer": "ipython3",
   "version": "3.8.10"
  }
 },
 "nbformat": 4,
 "nbformat_minor": 2
}
