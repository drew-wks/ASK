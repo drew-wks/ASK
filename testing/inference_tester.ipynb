{
 "cells": [
  {
   "cell_type": "code",
   "execution_count": 6,
   "metadata": {},
   "outputs": [
    {
     "name": "stdout",
     "output_type": "stream",
     "text": [
      "/Users/drew_wilkins/Drews_Files/Drew/Python/Repositories/ASK/.venv-main/bin/python\n"
     ]
    }
   ],
   "source": [
    "import os, sys\n",
    "import pandas as pd\n",
    "import streamlit as st\n",
    "\n",
    "# Confirm you're using the correct interpreter\n",
    "print(sys.executable)\n",
    "\n",
    "# Add the parent directory to sys.path so you can import your modules from a subdirectory\n",
    "sys.path.append(os.path.abspath('..'))\n",
    "\n",
    "import rag\n",
    "from rag import CONFIG"
   ]
  },
  {
   "cell_type": "code",
   "execution_count": 7,
   "metadata": {},
   "outputs": [],
   "source": [
    "# Config LangSmith observability if you want to see the traces for this notebook\n",
    "os.environ[\"LANGCHAIN_API_KEY\"] = st.secrets[\"LANGCHAIN_API_KEY\"]\n",
    "os.environ[\"LANGCHAIN_TRACING_V2\"] = \"true\"\n",
    "os.environ[\"LANGCHAIN_PROJECT\"] = \"inference_tester.ipynb_on_ASK_main\""
   ]
  },
  {
   "cell_type": "code",
   "execution_count": 8,
   "metadata": {},
   "outputs": [],
   "source": [
    "user_question = 'Can the SDB uniform be worn for the inspection?'"
   ]
  },
  {
   "cell_type": "code",
   "execution_count": 9,
   "metadata": {},
   "outputs": [],
   "source": [
    "# Generate a response\n",
    "response = rag.rag(user_question)\n",
    "# response, enriched_question = rag.rag(user_question)"
   ]
  },
  {
   "cell_type": "code",
   "execution_count": 10,
   "metadata": {},
   "outputs": [
    {
     "name": "stdout",
     "output_type": "stream",
     "text": [
      "\n",
      "--------- \\ ASK \\ ------------------------------------- \n",
      "\n",
      "USER QUESTION: Can the SDB uniform be worn for the inspection?\n",
      "\n",
      "ENRICHED QUESTION: Can the Service Dress Blue Bravo uniform uniform be worn for the inspection?\n",
      "\n",
      "ANSWER: Yes, the Service Dress Blue Bravo uniform can be worn for inspections.\n",
      "\n",
      "LLM BASED ANSWER ON:\n",
      "COMDTINST M1020.6K - 3-143.B.9\n",
      "COMDTINST M16790.1G - G.5\n",
      "\n",
      "RETRIEVED DOCS:\n",
      "./raw_pdfs/Uniform Regulations CIM_1020_6K.pdf\n",
      "./raw_pdfs/BSX Policy Letter_AUX-PL-024-B_23-02__AUXILIARY UNIFORM AND APPEARANCE POLICY CHANGES_29JUL24.pdf\n",
      "./raw_pdfs/Auxiliary Manual CIM_16790_1G.pdf\n",
      "./raw_pdfs/Uniform Regulations CIM_1020_6K.pdf\n",
      "./raw_pdfs/Auxiliary Manual CIM_16790_1G.pdf\n"
     ]
    }
   ],
   "source": [
    "print(f\"\\n--------- \\\\ ASK \\ ------------------------------------- \\n\")\n",
    "print(f\"USER QUESTION: {response['user_question']}\\n\")\n",
    "print(f\"ENRICHED QUESTION: {response['enriched_question']}\\n\")\n",
    "print(f\"ANSWER: {response['answer']}\\n\")\n",
    "print(f\"LLM BASED ANSWER ON:\")\n",
    "print(\"\\n\".join(response['llm_sources']))\n",
    "print(f\"\\nRETRIEVED DOCS:\")\n",
    "print(\"\\n\".join(\n",
    "    map(lambda doc: doc.metadata['source'], response['context'])))\n",
    "\n",
    "\n",
    "# short_source_list = rag.create_short_source_list(response)\n",
    "# long_source_list = rag.create_long_source_list(response)\n",
    "# print(f\"Short source list: {short_source_list}\")\n",
    "# print(f\"{long_source_list}\")"
   ]
  },
  {
   "cell_type": "code",
   "execution_count": 11,
   "metadata": {},
   "outputs": [
    {
     "data": {
      "text/plain": [
       "{'user_question': 'Can the SDB uniform be worn for the inspection?',\n",
       " 'enriched_question': 'Can the Service Dress Blue Bravo uniform uniform be worn for the inspection?',\n",
       " 'context': [Document(metadata={'upsert_date': '2024-12-18T23:29:46Z', 'embedding': 'text-embedding-ada-002', 'expiration_date': '2030-06-30T00:00:00Z', 'organization': 'PSC-PSD', 'scope': '1_national', 'page_count': 200, 'issue_date': '2020-06-30T00:00:00Z', 'publication_number': 'COMDTINST M1020.6K', 'aux_specific': False, 'public_release': True, 'pdf_id': '25e956d7-3dd1-5126-b9b9-2407e53e2121', 'source': './raw_pdfs/Uniform Regulations CIM_1020_6K.pdf', 'title': 'UNIFORM REGULATIONS, COMDTINST M1020.6K', 'page': 48, '_id': 'e83c8988-d5f7-4954-a847-ff7e2753760b', '_collection_name': 'ASK_vectorstore'}, page_content='COMDTINST M1020.6K  \\n3-143.B.9.  Service Dress Blue \" Bravo\" (SDB)\\n          Men Women  \\nAuthorized Uniform Items  Additional Comments  \\nSDB Coat Men wear men’s version.  Women wear women’s version.  \\nLong Trousers /Slacks  Blue Dress Trousers /Slacks  (Men or women ). \\nSkirt  (Women only)  Optional for women.  (AF skirt is not authorized)  \\nLight Blue Shirt  Long or short sleeve . Overblouse is optional. (Females only) \\nOverblose bottom shall not be visible.  \\nCollar Insignia  Enlisted only.  As Worn on Light Blue Shirt.  See  4.A.5. \\nShoulder Boards  Worn on Light Blue shirt.  \\nTie Male will wear blue four -in-hand tie.  Female will wear blue tab \\ntie or optional four -in-hand . Tie bar/Tack is required with four -\\nin-hand tie  (See 2.A.1 for proper wear instructions).  \\nNametag  Worn ov er wearer’s right pocket.  \\nRibbons  Worn over wearer’s left pocket.  \\nLarge Qualification Insignia  and \\nLarge Identification Badges  See Chapter 4.B.4 for proper wear instructions.  \\nMiniature Devices See Chapter 4.B.4 for proper wear instructions . \\nBlack Sock s or Hosiery  Socks are worn with oxfords; hosiery with pumps or flats.  \\nBlack Oxford Shoes  Oxfords required for men.  Optional high -gloss.  \\nBlack Oxford Shoes, Pumps, or \\nFlats  Oxfords, pumps, or flats are worn with the slacks .  Pumps or \\nflats may be worn w ith the skirt.  Optional high -gloss.  \\nBelt with Buckle  Standard 1 ¼ inch black nylon  with brass buckle. \\nHead Gear  Combination cap  or Garrison Cap . \\nOccasions for Wear  Worn year -round by all personnel for all business and social \\noccasions where civilian  equivalent is coat and tie.'),\n",
       "  Document(metadata={'upsert_date': '2024-12-18T23:29:39Z', 'embedding': 'text-embedding-ada-002', 'expiration_date': '2034-07-29T00:00:00Z', 'organization': '', 'scope': '1_national', 'page_count': 24, 'issue_date': '2024-07-29T00:00:00Z', 'publication_number': 'AUX-PL-024-B', 'public_release': True, 'aux_specific': True, 'pdf_id': '08b3baae-3aa2-5ccd-8c80-8ab255a45156', 'source': './raw_pdfs/BSX Policy Letter_AUX-PL-024-B_23-02__AUXILIARY UNIFORM AND APPEARANCE POLICY CHANGES_29JUL24.pdf', 'title': 'BSX Policy Letter AUX-PL-024(B)/23-02, AUXILIARY UNIFORM AND APPEARANCE POLICY CHANGES', 'page': 8, '_id': '2cf5bb26-67ed-468f-a8b1-701a42e77067', '_collection_name': 'ASK_vectorstore'}, page_content='16790 / AUX -PL-024(B) \\nBSX Policy Letter 23 -02 \\n \\n4 \\nEncl (1)   \\nAuxMan Section 10.A.8. - Formal and Ceremonial Occasions  \\n \\nWearing an appropriate  Auxiliary uniform by active or retired Auxiliarists for formal  and \\nceremonial occasions is authorized as follows:  \\n \\n     a.  At civilian, military, and Auxiliary ceremonies and events that are clearly military \\nservice -centric in nature (e.g., military changes of command; Auxiliary changes of watch; \\nmilitary and Auxiliary retirements; Coast Guard Foundation dinners; local community \\nbanquets in honor of military services; patriotic parades on national holidays; funerals of \\nmilitary veterans and Auxiliarists) and which require a unifor m. Auxiliarists who do not own \\nDinner Dress Blue Jacket or Dinner Dress White Jacket may wear Service Dress Blue  “Bravo”  \\n(or Service Dress Blue “Alpha ” as may be prescribed) to such ceremonies and events for \\nwhich such formal wear is prescribed.  \\n \\n     b.  Service Dress Blue  “Bravo,”  Service Dress Blue “Alpha, ” or Service Dress White may \\nbe worn when prescribed for military personnel. However, Service Dress White is only \\nauthorized for wear by past and present District Commodores, past and present members of \\nthe National Executive Committee (NEXCOM), and Auxiliarists who are currently certified in \\nthe Auxiliary Chaplain Support (ACS) program when it is the prescribed uniform for the \\nceremony or event in which they have been invited to participate.  \\n \\n     c.  Social or other functions when the invitation has been clearly influenced by military \\nservice (e.g., an Auxiliarist who has been invited to be part of a bridal party for a military \\nbride and/or groom may wear Service Dress White only if it is the prescribed uniform and the \\nAuxiliarist is authorized to wear that uniform as authorized above).  \\n \\n     d.  If an Auxiliarist does not possess any of the aforementioned uniforms , then they may \\nwear the Blue Blazer outfit or civilian wear comparable for such events (e.g., personal gown; \\npersonal tuxedo).  \\n \\ne.  The Uniform Regulations, COMDTINST M1020.6 (series , CIM link ), authorize retired \\nCoast Guard personnel to wear the dress uniform that was prescribed at the time of their \\nretirement, or any dress uniform that is currently authorized for military personnel, to certain \\nformal and ceremonial events. The same holds true  for Auxiliarists in retired status. Such \\nevents include:  \\n \\n(1)   Military ceremonies (e.g., retirements; changes of command; funerals).  \\n \\n(2)   Patriotic parades on national holidays or occasions in which military personnel are \\ntaking part.  \\n \\n(3)  Social or other functions when the invitation has been influenced by the Auxiliarist’s \\nprior military service.  \\n \\nf.  Due to the nature of certain formal Auxiliary events like changes of watch, conferences, \\nand banquets, such events are recognized as falling within the general scope of military '),\n",
       "  Document(metadata={'upsert_date': '2024-12-18T23:33:23Z', 'embedding': 'text-embedding-ada-002', 'expiration_date': '2027-12-07T00:00:00Z', 'organization': 'CG-BSX', 'scope': '1_national', 'page_count': 710, 'issue_date': '2017-12-06T00:00:00Z', 'public_release': True, 'aux_specific': True, 'publication_number': 'COMDTINST M16790.1G', 'pdf_id': '97909bed-0a82-52b3-a5a3-f18ed65950a2', 'source': './raw_pdfs/Auxiliary Manual CIM_16790_1G.pdf', 'title': 'Auxiliary Manual, COMDTINST M16790.1G', 'page': 484, '_id': 'f2e6f11c-f7b4-4775-8367-0eb536c4cb62', '_collection_name': 'ASK_vectorstore'}, page_content='COMDTINST M16790.1G \\n \\n \\n \\n \\n \\n \\n \\nG.5.  Dinner \\nDress Blue The Dinner Dress Blue uniform is worn  for formal evening occasions when \\nthe Auxiliarist  does not have the Dinner Dress Bl ue or White jacket.  It is the \\nsame as the Service Dress Blue, except miniature medals, miniature breast \\ndevices, and a plain black bow tie are worn instead of ribbons, name tag, and \\nthe four-in-hand necktie.  The AUXOP a nd past officer devices, for which \\nthere are no miniatures, are also wo rn.  Only the combination cap is \\nappropriate for wear with this uniform.  (see Figure 10-22 ) \\n \\nFigure 10-22 \\nDinner Dress Blue (Men) \\n10-61'),\n",
       "  Document(metadata={'upsert_date': '2024-12-18T23:29:46Z', 'embedding': 'text-embedding-ada-002', 'expiration_date': '2030-06-30T00:00:00Z', 'scope': '1_national', 'organization': 'PSC-PSD', 'page_count': 200, 'issue_date': '2020-06-30T00:00:00Z', 'aux_specific': False, 'publication_number': 'COMDTINST M1020.6K', 'public_release': True, 'pdf_id': '25e956d7-3dd1-5126-b9b9-2407e53e2121', 'source': './raw_pdfs/Uniform Regulations CIM_1020_6K.pdf', 'title': 'UNIFORM REGULATIONS, COMDTINST M1020.6K', 'page': 12, '_id': 'dd401c4f-4dc9-4a50-a083-730e5b5772f5', '_collection_name': 'ASK_vectorstore'}, page_content=\"COMDTINST M1020.6K  \\n 1-5 1.B.  Authority to Prescribe  \\n \\n1.B.1.  Setting the Uniform of the Day  \\n \\nThe standard Coast Guard uniform of the day, regardless of season or location, is  Service \\nDress Blue (SDB) or Tropical Blue (TB) uniform.   \\n \\nDistrict commanders prescribe the uniform for the season, day, or special occasion for \\npersonnel within the geographical limits of their district .  (Superintendent, Coast Guard \\nAcademy, will prescr ibe the uniform for wear by all cadets and permanent detail .  \\nCommanding Officer, Training Center Cape May, will prescribe the uniform for wear by \\nall recruits and permanent detail.)  Co mmands in any locality within the district may \\namend the district's  uniform of the day only with prior approval of the appropriate district \\nstaff element, and then only when necessary due to short -term local situations or \\nvariations in weather or climate.   \\n \\nOther uniforms, such as Operational Dress Uniform (ODU) or authoriz ed organizational \\nclothing must be worn as required by the work or duties being performed.    \\n \\nCommands may authorize appropriate civilian clothing when civilian clothing is \\nprescribed by the training host command, cognizant program manager, or higher \\nautho rity.  When military members are authorized to wear civilian clothing while on \\nduty, applicable grooming standards of their gender apply.  \\n \\nArea , District, and local Commanders have the a uthority to require the wear of SDB .  The \\nfollowing criteria will be u sed as a guide to determine when S DB is more appropriate \\nthan TB or Winter Dress Blue ( WDB ):  \\n \\na. When a participant or guest at ceremonies or functions for which the military \\nor civilian host requires the use of their equivalent of SDB . \\n \\nb. When permanently or temporarily assigned at the facility of another military  \\nservice that observes seasonal uniform changes.  \\n \\nc. When a participant or guest in any ceremony or function at which a higher \\nlevel of formality is traditional or expected.  \\n \\nd. When attending official or s ocial functions after 1800, Dinner Dress or \\nService Dress Blue “Alpha” may be more appropriate.  \\n \\ne. When participating in hearings at the local, state, federal, or international \\nlevel.  \\n \\nf. When serving as a Coast Guard or military representative at military fune rals.  \\nService Dress Blue “Alpha” with combination cap is also the appropriate \"),\n",
       "  Document(metadata={'upsert_date': '2024-12-18T23:33:23Z', 'embedding': 'text-embedding-ada-002', 'expiration_date': '2027-12-07T00:00:00Z', 'scope': '1_national', 'organization': 'CG-BSX', 'page_count': 710, 'issue_date': '2017-12-06T00:00:00Z', 'publication_number': 'COMDTINST M16790.1G', 'aux_specific': True, 'public_release': True, 'pdf_id': '97909bed-0a82-52b3-a5a3-f18ed65950a2', 'source': './raw_pdfs/Auxiliary Manual CIM_16790_1G.pdf', 'title': 'Auxiliary Manual, COMDTINST M16790.1G', 'page': 514, '_id': '4615779f-e862-44b5-8d7f-a4db2b949a14', '_collection_name': 'ASK_vectorstore'}, page_content='COMDTINST M16790.1G \\n \\n \\n \\n \\n \\nI.3.h.  Insignia Full silver sleev e lace is worn on the coat slee ves mounted by the appropriate \\nAuxiliary shield and soft or enhanced shoulder boards are worn on the shirt. \\nI.3.i.  Breast \\nInsignia/Devices This uniform is worn with ribbons, breast insignia, ba dges, devices, and \\nname tags. \\nI.3.j.  Hat The combination cap is the prescribed ha t to be worn with this uniform.  The \\ngarrison cap may be worn, but it will no longer be authorized for Auxiliary \\nwear with the Service Dress Blue uniform as of 31 December 2012.  The \\ncold weather cap may be worn in accordance with the provisions of section \\nD.3.e of this chapter.  \\nI.3.k.  \\nAccessories The bridge coat and the trench coat ar e the prescribed outer wear with this \\nuniform. \\nThe over coat, reefer coat, and foul weather parka may be worn with the \\nService Dress Blue uniform, but they  w i l l  n o  l o n g e r  b e  a u t h o r i z e d  f o r  \\nAuxiliary wear with it as of 31 D ecember 2012.  The windbreaker may be \\nworn in place of the Service Dress Blue coat, unless the coat is prescribed or \\nconsidered more appropriate.  The cardigan sweater and the wooly-pully \\nsweater may be worn with this uniform in accordance with the provisions of \\nsection D.6 and D.7 of this chapter.  \\n10-91')],\n",
       " 'answer': 'Yes, the Service Dress Blue Bravo uniform can be worn for inspections.',\n",
       " 'llm_sources': ['COMDTINST M1020.6K - 3-143.B.9',\n",
       "  'COMDTINST M16790.1G - G.5']}"
      ]
     },
     "execution_count": 11,
     "metadata": {},
     "output_type": "execute_result"
    }
   ],
   "source": [
    "response"
   ]
  },
  {
   "cell_type": "code",
   "execution_count": 12,
   "metadata": {},
   "outputs": [
    {
     "name": "stdout",
     "output_type": "stream",
     "text": [
      "Yes, the Service Dress Blue Bravo uniform can be worn for inspections.\n"
     ]
    }
   ],
   "source": [
    "answer_text = response['answer']\n",
    "\n",
    "# Print the answer\n",
    "print(answer_text)"
   ]
  },
  {
   "cell_type": "markdown",
   "metadata": {},
   "source": [
    "## Input and Response schema"
   ]
  },
  {
   "cell_type": "code",
   "execution_count": 13,
   "metadata": {},
   "outputs": [
    {
     "data": {
      "text/plain": [
       "\"{\\n    'Question': 'string'\\n    }\\n\\nresponse object:\\n    {\\n    'user_question': 'string'\\n    'enriched_question': 'string'\\n    'context': [list of Document objects]\\n    'answer': {\\n        'answer': 'string', \\n        'llm_sources': ['string 1', 'string2']\\n        }\\n    }\\n    \""
      ]
     },
     "execution_count": 13,
     "metadata": {},
     "output_type": "execute_result"
    }
   ],
   "source": [
    "'''{\n",
    "    'Question': 'string'\n",
    "    }\n",
    "\n",
    "response object:\n",
    "    {\n",
    "    'user_question': 'string'\n",
    "    'enriched_question': 'string'\n",
    "    'context': [list of Document objects]\n",
    "    'answer': {\n",
    "        'answer': 'string', \n",
    "        'llm_sources': ['string 1', 'string2']\n",
    "        }\n",
    "    }\n",
    "    '''"
   ]
  },
  {
   "cell_type": "code",
   "execution_count": null,
   "metadata": {},
   "outputs": [],
   "source": []
  }
 ],
 "metadata": {
  "kernelspec": {
   "display_name": ".venv-main",
   "language": "python",
   "name": "python3"
  },
  "language_info": {
   "codemirror_mode": {
    "name": "ipython",
    "version": 3
   },
   "file_extension": ".py",
   "mimetype": "text/x-python",
   "name": "python",
   "nbconvert_exporter": "python",
   "pygments_lexer": "ipython3",
   "version": "3.11.9"
  }
 },
 "nbformat": 4,
 "nbformat_minor": 2
}
