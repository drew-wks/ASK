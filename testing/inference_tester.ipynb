{
 "cells": [
  {
   "cell_type": "code",
   "execution_count": 1,
   "metadata": {},
   "outputs": [
    {
     "name": "stdout",
     "output_type": "stream",
     "text": [
      "/Users/drew_wilkins/Drews_Files/Drew/Python/Repositories/ASK/.venv-main/bin/python\n"
     ]
    }
   ],
   "source": [
    "import os, sys\n",
    "import pandas as pd\n",
    "import streamlit as st\n",
    "\n",
    "# Confirm you're using the correct interpreter\n",
    "print(sys.executable)\n",
    "\n",
    "# Add the parent directory to sys.path so you can import your modules from a subdirectory\n",
    "sys.path.append(os.path.abspath('..'))\n",
    "\n",
    "import rag\n",
    "from rag import CONFIG"
   ]
  },
  {
   "cell_type": "code",
   "execution_count": 2,
   "metadata": {},
   "outputs": [],
   "source": [
    "# Config LangSmith observability if you want to see the traces for this notebook\n",
    "os.environ[\"LANGCHAIN_API_KEY\"] = st.secrets[\"LANGCHAIN_API_KEY\"]\n",
    "os.environ[\"LANGCHAIN_TRACING_V2\"] = \"true\"\n",
    "os.environ[\"LANGCHAIN_PROJECT\"] = \"inference_tester.ipynb_on_ASK_main\""
   ]
  },
  {
   "cell_type": "code",
   "execution_count": 3,
   "metadata": {},
   "outputs": [],
   "source": [
    "user_question = 'How is harassment generally defined, and who is responsible for making sure Auxiliarists do not encounter discrimination or harassment?'"
   ]
  },
  {
   "cell_type": "code",
   "execution_count": 4,
   "metadata": {},
   "outputs": [
    {
     "name": "stderr",
     "output_type": "stream",
     "text": [
      "2025-01-13 15:09:05.223 Thread 'MainThread': missing ScriptRunContext! This warning can be ignored when running in bare mode.\n",
      "2025-01-13 15:09:05.301 \n",
      "  \u001b[33m\u001b[1mWarning:\u001b[0m to view this Streamlit app on a browser, run it with the following\n",
      "  command:\n",
      "\n",
      "    streamlit run /Users/drew_wilkins/Drews_Files/Drew/Python/Repositories/ASK/.venv-main/lib/python3.11/site-packages/ipykernel_launcher.py [ARGUMENTS]\n",
      "2025-01-13 15:09:05.302 Thread 'MainThread': missing ScriptRunContext! This warning can be ignored when running in bare mode.\n",
      "2025-01-13 15:09:05.302 Thread 'MainThread': missing ScriptRunContext! This warning can be ignored when running in bare mode.\n",
      "2025-01-13 15:09:05.805 Thread 'Thread-5': missing ScriptRunContext! This warning can be ignored when running in bare mode.\n",
      "2025-01-13 15:09:05.807 Thread 'Thread-5': missing ScriptRunContext! This warning can be ignored when running in bare mode.\n",
      "2025-01-13 15:09:07.537 Thread 'MainThread': missing ScriptRunContext! This warning can be ignored when running in bare mode.\n",
      "2025-01-13 15:09:07.537 Thread 'MainThread': missing ScriptRunContext! This warning can be ignored when running in bare mode.\n"
     ]
    }
   ],
   "source": [
    "# Generate a response\n",
    "response = rag.rag(user_question)\n",
    "# response, enriched_question = rag.rag(user_question)"
   ]
  },
  {
   "cell_type": "code",
   "execution_count": 5,
   "metadata": {},
   "outputs": [
    {
     "name": "stdout",
     "output_type": "stream",
     "text": [
      "\n",
      "--------- \\ ASK \\ ------------------------------------- \n",
      "\n",
      "USER QUESTION: How is harassment generally defined, and who is responsible for making sure Auxiliarists do not encounter discrimination or harassment?\n",
      "\n",
      "ENRICHED QUESTION: How is harassment generally defined, and who is responsible for making sure Auxiliarists do not encounter discrimination or harassment?\n",
      "\n",
      "ANSWER: Harassment is generally defined as unwelcome advances, requests for favors, and other physical and verbal conduct that affects an individual's employment or service performance, or creates an intimidating, hostile, or offensive environment. The Coast Guard and Auxiliary are responsible for ensuring that Auxiliarists do not encounter discrimination or harassment.\n",
      "\n",
      "LLM BASED ANSWER ON:\n",
      "COMDTINST M16790.1G\n",
      "\n",
      "RETRIEVED DOCS:\n",
      "./raw_pdfs/Auxiliary Manual CIM_16790_1G.pdf\n",
      "./raw_pdfs/Flotilla_Procedures_Guide_FINAL_ESIGNED_23MAR23.pdf\n",
      "./raw_pdfs/Auxiliary Manual CIM_16790_1G.pdf\n",
      "./raw_pdfs/USCG-Civil-Rights-Manual-COMDTINST-M5350-4E.pdf\n",
      "./raw_pdfs/USCG-Civil-Rights-Manual-COMDTINST-M5350-4E.pdf\n"
     ]
    }
   ],
   "source": [
    "print(f\"\\n--------- \\\\ ASK \\ ------------------------------------- \\n\")\n",
    "print(f\"USER QUESTION: {response['user_question']}\\n\")\n",
    "print(f\"ENRICHED QUESTION: {response['enriched_question']}\\n\")\n",
    "print(f\"ANSWER: {response['answer']}\\n\")\n",
    "print(f\"LLM BASED ANSWER ON:\")\n",
    "print(\"\\n\".join(response['llm_sources']))\n",
    "print(f\"\\nRETRIEVED DOCS:\")\n",
    "print(\"\\n\".join(\n",
    "    map(lambda doc: doc.metadata['source'], response['context'])))\n",
    "\n",
    "\n",
    "# short_source_list = rag.create_short_source_list(response)\n",
    "# long_source_list = rag.create_long_source_list(response)\n",
    "# print(f\"Short source list: {short_source_list}\")\n",
    "# print(f\"{long_source_list}\")"
   ]
  },
  {
   "cell_type": "code",
   "execution_count": 6,
   "metadata": {},
   "outputs": [
    {
     "data": {
      "text/plain": [
       "{'user_question': 'How is harassment generally defined, and who is responsible for making sure Auxiliarists do not encounter discrimination or harassment?',\n",
       " 'enriched_question': 'How is harassment generally defined, and who is responsible for making sure Auxiliarists do not encounter discrimination or harassment?',\n",
       " 'context': [Document(metadata={'upsert_date': '2024-12-18T23:33:23Z', 'embedding': 'text-embedding-ada-002', 'expiration_date': '2027-12-07T00:00:00Z', 'scope': '1_national', 'organization': 'CG-BSX', 'page_count': 710, 'issue_date': '2017-12-06T00:00:00Z', 'aux_specific': True, 'publication_number': 'COMDTINST M16790.1G', 'public_release': True, 'pdf_id': '97909bed-0a82-52b3-a5a3-f18ed65950a2', 'source': './raw_pdfs/Auxiliary Manual CIM_16790_1G.pdf', 'title': 'Auxiliary Manual, COMDTINST M16790.1G', 'page': 348, '_id': 'ee48568c-502b-43e2-8934-d0b9c9cdbe1f', '_collection_name': 'ASK_vectorstore'}, page_content='COMDTINST M16790.1G \\n \\n \\n \\n \\n \\n \\n \\nSection B. Anti-Discrimination and Anti-Harassment \\nIntroduction The Coast Guard is committed to a workplace where no member of the \\nworkforce will be subject to physical or  verbal harassment, abuse, violence, \\nor discrimination based on an individual’s race, colo r, religion, sex, sexual \\norientation, national origin, age, disabi lity, marital status , parental status, \\npolitical affiliation, or  a n y  o t h e r  b a s i s  p r o t e c t e d by law.  Simply, it is \\ncommitted to an environment free of harassing and discriminatory behavior. \\nHarassment is generally defined as  u n w e l c o m e d  a d v a n c e s ,  r e q u e s t s  f o r  \\nfavors, and other physical and verbal conduct when such conduct explicitly \\nor implicitly affects an individual’s employment, unreasonably interferes \\nwith an individual’s service performan ce, or creates an intimidating, hostile, \\nor offensive environment.  This also encompasses unwelcome display or \\ncommunication of sexually offensive materials. \\nB.1.  \\nResponsibilities The Coast Guard and Auxiliary must  h a v e  p e o p l e  w h o  s e r v e  t o g e t h e r  \\neffectively to accomplish missions and are responsible for enabling and \\nensuring this for each of its members.  \\nB.1.a.  Fair \\nTreatment All persons are entitled to be treated fa irly and with dignity and respect.  All \\nmust be allowed to serve and to enjoy an environment free of unlawful \\ndiscrimination and harassment. \\nB.1.b.  Adverse \\nEffects of \\nHarassment The economic costs of harassment are si gnificant.  Even more harmful are \\nthe negative effects of harassment on productivity and readiness.  These \\nareas include increased absenteeism,  g r e a t e r  p e r s o n n e l  t u r n o v e r ,  l o w e r  \\nmorale, and decreased effectiveness.  Adverse actions also result in a loss of \\npersonal, organizational, and public trus t.  While not easy to quantify, these \\ncosts are real and seriously affect the Coast Guard and Auxiliary’s ability to \\naccomplish missions.  \\nB.1.c.  \\nPrevention \\nThrough \\nLeadership and \\nCommitment The key to preventing harassment is pe rsonal leadership and commitment.  \\nThose who serve in Auxiliary leader ship and staff positions must commit \\nthemselves to constantly and consiste ntly promoting equitable treatment.  \\nAuxiliary leaders must convey this commitment clearly and unequivocally \\nto all Auxiliarist s by holding themselves and their Auxiliarist s accountable.  \\nThere must be firm determination to use these tools judiciously and in \\ntimely fashion in meeting the Commandant ’s goals as stated in this chapter.  \\n7-9 '),\n",
       "  Document(metadata={'upsert_date': '2024-12-18T23:31:44Z', 'embedding': 'text-embedding-ada-002', 'expiration_date': '2033-03-23T00:00:00Z', 'organization': 'CG-BSX', 'scope': '1_national', 'page_count': 245, 'issue_date': '2023-03-24T00:00:00Z', 'aux_specific': True, 'public_release': True, 'publication_number': '', 'pdf_id': '4527cfc9-f47d-5945-8e0d-9e98e1fce929', 'source': './raw_pdfs/Flotilla_Procedures_Guide_FINAL_ESIGNED_23MAR23.pdf', 'title': 'Auxiliary Flotilla Procedures Guide', 'page': 91, '_id': '0d1cbc80-4648-4817-b03c-64e36bdef439', '_collection_name': 'ASK_vectorstore'}, page_content='   \\n3-28 M. Human Resource Concerns  \\nHarassment and discrimination in any form by Auxiliarists are  \\nprohibited. In accordance with the Commandant’s Anti-\\nDiscrimination and Anti- Harassment Policy Statement, all \\nAuxiliarists has the right to be treated with dignity and respect, \\nwithout regard to race, color, national origin, religion, sex  (including \\ngender identity, sexual orientation, and pregnancy), age, disability , \\ngenetic information, marital status, parental status, political affiliation, engagement in a protected Equal Employment Opportunity/Equal Opportunity (EEO) activity, or any further basis \\nprotected by law and policy. \\nIn their relations hips with each other, all members shall treat one \\nanother with respect, courtesy, equality , and personal consideration. \\nIt is especially desirable that flotilla  officers set an example of \\nfairness and consideration in their association with all fellow \\nmembers.  The A UXMAN contains detailed instructions for handling \\nany complaints. A n FC or VFC who feels a need for advice should \\nimmediately consult the AUXMAN along with division leadership .  \\nSexual assault is  not tolerated in the Coast Guard. Such  criminal acts \\nviolate  the Coast Guard ’s Core V alues.  All Auxiliarists are expected \\nto foster and maintain an environment of mutual respect and trust to \\nensure the safety and security of others. They are expected to  \\nbecome familiar with and follow the co ntents of the Coast Guard’s \\nSexual Assault Prevention, Response, and Recovery  (SAPR R) \\nProgram ( COMDTINST M1754.10 (series))  when reporting sexual \\nassault and responding to sexual assault allegations. It is available through the DIRAUX office.    \\nThe flotilla, like all other Auxiliary levels of organization, is subject to the current policies of the Commandant of the Coast Guard \\nregarding equal opportunities. In accordance with the Commandant’s Equal Opportunity Policy Statement, a ll qualified members have an \\nequal opportunity to participate in all Auxiliary programs and activities regardless of race, color, national origin, religion, sex  \\n(including gender identity, sexual orientation, and pregnancy), age, \\ndisability , genetic infor mation, marital status, parental status, \\npolitical affiliation, engagement in a protected EEO  activity, or any \\nfurther basis protected by law and policy. This includes the right to become a candidate for elected and appointed office, provided \\nrequired elig ibility criteria  are met .  M.3. Equal \\nOpportunity  M.1. Harassment \\nand \\nDiscrimination  \\nM.2. Sexual \\nAssault  '),\n",
       "  Document(metadata={'upsert_date': '2024-12-18T23:33:23Z', 'embedding': 'text-embedding-ada-002', 'expiration_date': '2027-12-07T00:00:00Z', 'organization': 'CG-BSX', 'scope': '1_national', 'page_count': 710, 'issue_date': '2017-12-06T00:00:00Z', 'aux_specific': True, 'public_release': True, 'publication_number': 'COMDTINST M16790.1G', 'pdf_id': '97909bed-0a82-52b3-a5a3-f18ed65950a2', 'source': './raw_pdfs/Auxiliary Manual CIM_16790_1G.pdf', 'title': 'Auxiliary Manual, COMDTINST M16790.1G', 'page': 351, '_id': 'bc5fae32-9208-4071-b832-bc6e734c2444', '_collection_name': 'ASK_vectorstore'}, page_content='COMDTINST M16790.1G \\n \\n \\n \\n \\nB.3.  Procedures The following procedures apply when addressing harassment issues: \\na. Those in leadership or supervisory positions shall not condone or ignore \\nharassment of which they have knowledge, or should have reason to \\nhave knowledge. \\nb. Reprisal action shall not be taken against any person who, in good faith, \\nraises an allegation of, or provides information about, an incident of \\nharassment. \\nc. Auxiliarists who believe they have been harassed are encouraged to \\naddress their concerns or objections a bout the incident di rectly with the \\nperson demonstrating the ha rassing behavior.  If th is approach fails to \\nbring satisfactory results, or places the Auxiliarist at greater risk, the \\nAuxiliarist may file a complaint usi ng the procedures for a civil rights \\ncomplaint as listed in section D of this chapter. \\nd. Auxiliarists found to have engaged in harassment, whether in an \\nisolated incident or of a recurring ma ture that is finally discovered, may \\nbe administratively disenrolled from the Auxiliary, or receive an oral or \\nwritten caution or disciplinary ac tion, depending on the magnitude of \\nthe violation. \\nB.4.  Training The following forms of tr aining are provided for Auxiliarists : \\na. All Auxiliarists, when joining the A uxiliary, will receive training in the \\nprevention of harassment as part of  initial orientat ion and then once \\nevery five years. \\nb. The Coast Guard Director of Civil Rights (CG-00H) has developed and \\nimplemented a training program th at includes communications and \\nmarketing features.  It also contai ns guides for resolving harassment \\nactions and addressing polic ies and applicable laws. \\nc. National and district elected and appointed  leader s and District Staff \\nOfficers may receive instruction about Coast Guard Anti-Discrimination \\nand Anti-Harassment policy at eith er the annual National Training \\nConference (N-TRAIN) or NACON. \\nB.5.  Assistance Assistance on the subject of harassment  prevention is available through the \\nCoast Guard Auxiliary Civil Rights Coordinator (CGAUX-CRC).  \\n7-12  '),\n",
       "  Document(metadata={'upsert_date': '2024-12-18T23:34:08Z', 'embedding': 'text-embedding-ada-002', 'expiration_date': '2030-10-22T00:00:00Z', 'organization': 'CG-00H', 'scope': '1_national', 'page_count': 161, 'issue_date': '2020-10-21T00:00:00Z', 'aux_specific': False, 'public_release': True, 'publication_number': 'COMDTINST M5350.4E', 'pdf_id': '416b3f0c-064c-592d-86c6-d2fb4f52a36b', 'source': './raw_pdfs/USCG-Civil-Rights-Manual-COMDTINST-M5350-4E.pdf', 'title': 'U.S. COAST GUARD CIVIL RIGHTS MANUAL, COMDTINST M5350.4E', 'page': 49, '_id': '8ea04112-e0d2-4359-9ea3-d638dd3a59e9', '_collection_name': 'ASK_vectorstore'}, page_content=' \\n     \\n \\n  \\n \\n  \\n \\n   \\n  \\n   \\n    \\n     \\n  \\n   \\n      \\n    \\n   \\n \\n    \\n \\n \\n   \\n     \\n \\n  \\n \\n  \\n    \\n \\n  \\n  \\n  \\n  \\n \\n   \\n \\n  \\n  \\n    \\n \\n  \\n  COMDTINST M5350.4E \\n9. Reporting Sexual Harassment . Sexual harassment is a serious issue and every supervisor \\nand Commander has an obligation to take action when made aware of a problem.  When \\nsexual harassment has occurred or is taking place the person experiencing harassment can choose to confront the harasser.  However, if the person is uncomfortable confronting the \\nharasser , or the situation is so severe that it is dangerous or unreasonable to do so, the \\nperson should immediate ly bring the matter to the attention of a supervisor or CO/OIC in \\nprivate.  If the supervisor is the alleged harasser, the harassment should be reported to the next higher level in the chain of command. Additionally, at any point, individuals experiencing harassment or retaliation have the right to initiate an EEO/EO complaint or \\nseek guidance from a servicing CRSP. \\n10. Acts of Retaliation . Acts of retaliation for reporting prohibited harassment or \\nparticipating in an investigation is prohibited.  If anyone feels that they are being \\nretaliated against or punished or suffering negative consequences as an employee of the Coast Guard because of the fact that they experienced, reported or attempted to stop or prevent harassment, they may also file a complaint regarding the retaliation issue. See \\nChapter 5 of this Manual for details on the process of filing complaints. \\n11. Responsibilities of the CO/OIC , Managers, and Supervisors . CO/OIC, managers, and \\nsupervisors are required to follow the steps outlined in the Harassment Complaint Procedures in this chapter when they become aware or are notified of sexual harassment \\nallegations.  The CO/OIC, Managers, and Supervisors should be sure that their conduct sets an example and is not such that they may be vulnerable to claims of sexual harassment. \\n12. Knowledge and Recording . All levels of leadership need to maintain accountability for \\nthe behavior of their subordinates.  Leaders and supervisors who fail to recognize acts of sexual harassment and take appropriate action are not performing the responsibilities and duties of their position.  Leadership must be knowledgeable of sexual harassment prevention policies and must take appropriate administrative and/or disciplinary action once harassment is reported .  The CO/OIC , Managers, and Supervisors must ensure that \\nall unit personnel receive SHP training each year. \\nJ. Whistleblower Protection . Retaliation or harassment of an employee or applicant for \\nemployment because he or she discloses information that is reasonably believed to evidence violations of law, rule or regulation, gross mismanagement, gross waste of funds, an abuse of authority, or a substantial and specific danger to public health or safety is prohibited.  This applies unless disclosure of such information is specifically prohibited by law and such information is specifically required to be kept secret by executive order in the interest of national defense or the conduct of foreign affairs.  Civilian personnel who believe that they are subjected to whistleblower retaliation may file a complaint with the DHS Office of Inspector General (OIG) or the U.S. Office of Special Counsel (OSC).  Military members who believe they are subjected to whistleblower retaliation may file a complaint with the DHS OIG, but not the U.S. OSC.  The website for the DHS O IG for whistleblowers seeking \\nassistance is: https://www.oig.dhs.gov/whistleblower -protection. The U.S. OSC’s website \\nfor filing a complaint is: https://osc.gov/pages/file -complaint.aspx. \\n3-22 '),\n",
       "  Document(metadata={'upsert_date': '2024-12-18T23:34:08Z', 'embedding': 'text-embedding-ada-002', 'expiration_date': '2030-10-22T00:00:00Z', 'organization': 'CG-00H', 'scope': '1_national', 'page_count': 161, 'issue_date': '2020-10-21T00:00:00Z', 'publication_number': 'COMDTINST M5350.4E', 'public_release': True, 'aux_specific': False, 'pdf_id': '416b3f0c-064c-592d-86c6-d2fb4f52a36b', 'source': './raw_pdfs/USCG-Civil-Rights-Manual-COMDTINST-M5350-4E.pdf', 'title': 'U.S. COAST GUARD CIVIL RIGHTS MANUAL, COMDTINST M5350.4E', 'page': 34, '_id': 'f4f2f8e0-90e2-4c08-8035-24790b0aeee4', '_collection_name': 'ASK_vectorstore'}, page_content=' \\n     \\n   \\n \\n   \\n     \\n  \\n   \\n    \\n  \\n    \\n      \\n   \\n  \\n     \\n \\n \\n   \\n        \\n  \\n    \\n  \\n    \\n \\n   \\n \\n  \\n \\n   \\n    \\n   \\n \\n    \\n \\n     \\n \\n COMDTINST M5350.4E \\nGuard has determined that the most effective way to deter harass ing behavior is to \\naddress such behavior as misconduct, even if the behavior does not rise to the level of \\nunlawful harassment under civil rights laws and regulations. \\n5. Purpose: The purpose of this policy is to prescribe procedures, in accordance with the \\nEEOC and DHS Anti -Harassmen t policies, for preventing harassment in the S ervice and \\nto promptly correct any harassment that occurs .  This policy also prescribes additional \\nnotification procedures for conduct that could constitute a potential hate incident and \\nguidance for determinin g and addressing the occurrence of a hate incident. However, this \\npolicy is not designed to make a legal determination that unlawful harassment has occurred or grant relief to individuals who allege they have been subjected to harassment. \\n6. Responsibility: Civil R ights Directorate ( COMDT CG-00H) staff, Commanding \\nOfficers /Officers in Charge (CO/OIC) , Deputy and Assistant Commandants for \\nDirectorates , and the Judge Advocate General ( TJAG) must ensure compliance with the \\nprovisions of this policy. COMDT CG-00H is only responsible for providing guidance \\non the Coast Guard Anti-Harassment and Hate Incident policy and collecting and maintaining data. The command is responsible for carrying out the policy discussed below. \\n7. Acts of Retaliation .  Acts of retaliation or reprisal for reporting harassment or \\nparticipating in an investigation of harassment are prohibited. If a member believes he or \\nshe is subjected to retaliation/ repris al for participating in complaint activity, they may \\nalso file a complaint regarding the retaliation or reprisal issue.  See Chapter 5 of this \\nManual for details on the process of filing complaints. \\nD.  Defining  Unlawful Harassment and  Prohibited Harassment  \\n1. Unlawful Harassment : Unlawful harassment is discrimination that violates federal law .  \\nUnlawful harassment includes, but is not limited to, unwelcome conduct, whether verbal, \\nnonverbal, or physica l, that is based on an individual’ s protected status (including : race, \\ncolor, religion, sex, national origin, age, disability, genetic information, status as a parent, marital status, political affiliation, and retaliation ) and is so objectively offensive as to \\nalter the victim’s conditions of employment.  \\na. Examples of unwelcome conduct include: offensive jokes, epithets, slurs, \\nstereotyping, name calling, mockery, intimidating or demeaning acts, and the \\ncirculation or posting of written or graphic materials that show hostility toward individuals because of their protected status.  \\nb. This standard is met when the conduct results in a tangible employment action or a hostile work environment. \\n(1) Tangible employment action harassment is a type of harassment in which the \\nharassment by a supervisor or manager results in a personnel action.  A tangible employment action must be an official action, such as hiring, firing, promotion or failure to promote, demotion, undesirable assignment, significant change in \\n3-7 ')],\n",
       " 'answer': \"Harassment is generally defined as unwelcome advances, requests for favors, and other physical and verbal conduct that affects an individual's employment or service performance, or creates an intimidating, hostile, or offensive environment. The Coast Guard and Auxiliary are responsible for ensuring that Auxiliarists do not encounter discrimination or harassment.\",\n",
       " 'llm_sources': ['COMDTINST M16790.1G']}"
      ]
     },
     "execution_count": 6,
     "metadata": {},
     "output_type": "execute_result"
    }
   ],
   "source": [
    "response"
   ]
  },
  {
   "cell_type": "code",
   "execution_count": 7,
   "metadata": {},
   "outputs": [
    {
     "name": "stdout",
     "output_type": "stream",
     "text": [
      "Harassment is generally defined as unwelcome advances, requests for favors, and other physical and verbal conduct that affects an individual's employment or service performance, or creates an intimidating, hostile, or offensive environment. The Coast Guard and Auxiliary are responsible for ensuring that Auxiliarists do not encounter discrimination or harassment.\n"
     ]
    }
   ],
   "source": [
    "answer_text = response['answer']\n",
    "\n",
    "# Print the answer\n",
    "print(answer_text)"
   ]
  },
  {
   "cell_type": "markdown",
   "metadata": {},
   "source": [
    "## Input and Response schema"
   ]
  },
  {
   "cell_type": "code",
   "execution_count": 8,
   "metadata": {},
   "outputs": [
    {
     "data": {
      "text/plain": [
       "\"{\\n    'Question': 'string'\\n    }\\n\\nresponse object:\\n    {\\n    'user_question': 'string'\\n    'enriched_question': 'string'\\n    'context': [list of Document objects]\\n    'answer': {\\n        'answer': 'string', \\n        'llm_sources': ['string 1', 'string2']\\n        }\\n    }\\n    \""
      ]
     },
     "execution_count": 8,
     "metadata": {},
     "output_type": "execute_result"
    }
   ],
   "source": [
    "'''{\n",
    "    'Question': 'string'\n",
    "    }\n",
    "\n",
    "response object:\n",
    "    {\n",
    "    'user_question': 'string'\n",
    "    'enriched_question': 'string'\n",
    "    'context': [list of Document objects]\n",
    "    'answer': {\n",
    "        'answer': 'string', \n",
    "        'llm_sources': ['string 1', 'string2']\n",
    "        }\n",
    "    }\n",
    "    '''"
   ]
  },
  {
   "cell_type": "code",
   "execution_count": null,
   "metadata": {},
   "outputs": [],
   "source": []
  }
 ],
 "metadata": {
  "kernelspec": {
   "display_name": ".venv-main",
   "language": "python",
   "name": "python3"
  },
  "language_info": {
   "codemirror_mode": {
    "name": "ipython",
    "version": 3
   },
   "file_extension": ".py",
   "mimetype": "text/x-python",
   "name": "python",
   "nbconvert_exporter": "python",
   "pygments_lexer": "ipython3",
   "version": "3.11.9"
  }
 },
 "nbformat": 4,
 "nbformat_minor": 2
}
