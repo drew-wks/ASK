{
 "cells": [
  {
   "cell_type": "code",
   "execution_count": 1,
   "metadata": {},
   "outputs": [
    {
     "name": "stdout",
     "output_type": "stream",
     "text": [
      "/Users/drew_wilkins/Drews_Files/Drew/Python/Repositories/ASK/.venv-main/bin/python\n"
     ]
    }
   ],
   "source": [
    "import os, sys\n",
    "import pandas as pd\n",
    "import streamlit as st\n",
    "\n",
    "# Confirm you're using the correct interpreter\n",
    "print(sys.executable)\n",
    "\n",
    "# Add the parent directory to sys.path so you can import your modules from a subdirectory\n",
    "sys.path.append(os.path.abspath('..'))\n",
    "\n",
    "import rag\n",
    "from rag import CONFIG"
   ]
  },
  {
   "cell_type": "code",
   "execution_count": 2,
   "metadata": {},
   "outputs": [],
   "source": [
    "# Config LangSmith observability if you want to see the traces for this notebook\n",
    "os.environ[\"LANGCHAIN_API_KEY\"] = st.secrets[\"LANGCHAIN_API_KEY\"]\n",
    "os.environ[\"LANGCHAIN_TRACING_V2\"] = \"true\"\n",
    "os.environ[\"LANGCHAIN_PROJECT\"] = \"inference_tester.ipynb_on_ASK_main\""
   ]
  },
  {
   "cell_type": "code",
   "execution_count": 3,
   "metadata": {},
   "outputs": [],
   "source": [
    "user_question = 'how many vessel exams do I need to do each year to stay current?'"
   ]
  },
  {
   "cell_type": "code",
   "execution_count": 4,
   "metadata": {},
   "outputs": [
    {
     "name": "stderr",
     "output_type": "stream",
     "text": [
      "2025-01-16 20:28:49.701 Thread 'MainThread': missing ScriptRunContext! This warning can be ignored when running in bare mode.\n",
      "2025-01-16 20:28:49.783 \n",
      "  \u001b[33m\u001b[1mWarning:\u001b[0m to view this Streamlit app on a browser, run it with the following\n",
      "  command:\n",
      "\n",
      "    streamlit run /Users/drew_wilkins/Drews_Files/Drew/Python/Repositories/ASK/.venv-main/lib/python3.11/site-packages/ipykernel_launcher.py [ARGUMENTS]\n",
      "2025-01-16 20:28:49.783 Thread 'MainThread': missing ScriptRunContext! This warning can be ignored when running in bare mode.\n",
      "2025-01-16 20:28:49.783 Thread 'MainThread': missing ScriptRunContext! This warning can be ignored when running in bare mode.\n",
      "2025-01-16 20:28:50.289 Thread 'Thread-5': missing ScriptRunContext! This warning can be ignored when running in bare mode.\n",
      "2025-01-16 20:28:50.291 Thread 'Thread-5': missing ScriptRunContext! This warning can be ignored when running in bare mode.\n",
      "2025-01-16 20:28:50.752 Thread 'MainThread': missing ScriptRunContext! This warning can be ignored when running in bare mode.\n",
      "2025-01-16 20:28:50.752 Thread 'MainThread': missing ScriptRunContext! This warning can be ignored when running in bare mode.\n"
     ]
    },
    {
     "name": "stdout",
     "output_type": "stream",
     "text": [
      "Compressor setup successful: llm_chain=PromptTemplate(input_variables=['context', 'question'], input_types={}, output_parser=NoOutputParser(), partial_variables={}, template='Given the following question and context, extract any part of the context *AS IS* that is relevant to answer the question. If none of the context is relevant return NO_OUTPUT. \\n\\nRemember, *DO NOT* edit the extracted parts of the context.\\n\\n> Question: {question}\\n> Context:\\n>>>\\n{context}\\n>>>\\nExtracted relevant parts:')\n",
      "| ChatOpenAI(client=<openai.resources.chat.completions.Completions object at 0x1716d0190>, async_client=<openai.resources.chat.completions.AsyncCompletions object at 0x1716dc550>, root_client=<openai.OpenAI object at 0x3205a9910>, root_async_client=<openai.AsyncOpenAI object at 0x1716d0310>, model_name='gpt-4o-mini', model_kwargs={}, openai_api_key=SecretStr('**********'))\n",
      "| NoOutputParser() get_input=<function default_get_input at 0x3200d7920>\n",
      "Retrieved context: 2 documents.\n"
     ]
    }
   ],
   "source": [
    "# Generate a response\n",
    "response = rag.rag(user_question)\n",
    "# response, enriched_question = rag.rag(user_question)"
   ]
  },
  {
   "cell_type": "code",
   "execution_count": 5,
   "metadata": {},
   "outputs": [
    {
     "name": "stdout",
     "output_type": "stream",
     "text": [
      "\n",
      "--------- \\ ASK \\ ------------------------------------- \n",
      "\n",
      "USER QUESTION: how many vessel exams do I need to do each year to stay current?\n",
      "\n",
      "ENRICHED QUESTION: how many vessel exams do I need to do each year to stay current?\n",
      "\n",
      "RETRIEVED DOCUMENTS:\n",
      "Auxiliary Manual, COMDTINST M16790.1G, page 372\n",
      "AUXILIARY 2019 PROGRAM VISITATION WORKSHOP, page 23\n",
      "\n",
      "ANSWER: To remain certified as a Recreational Boating Safety (RBS) Vessel Examiner (VE), you must perform at least five Vessel Safety Checks (VSCs), whether they pass or fail, each year following your initial qualification, including the year in which you were qualified.\n",
      "\n",
      "LLM BASED ANSWER ON:\n",
      "B.8.a.(1) Maintaining Certification\n"
     ]
    }
   ],
   "source": [
    "print(f\"\\n--------- \\\\ ASK \\ ------------------------------------- \\n\")\n",
    "print(f\"USER QUESTION: {response['user_question']}\\n\")\n",
    "print(f\"ENRICHED QUESTION: {response['enriched_question']}\\n\")\n",
    "print(\"RETRIEVED DOCUMENTS:\")\n",
    "print(\"\\n\".join(\n",
    "    map(lambda doc: f\"{doc.metadata['title']}, page {doc.metadata['page']}\", response['context'])))\n",
    "print(f\"\\nANSWER: {response['answer']}\\n\")\n",
    "print(f\"LLM BASED ANSWER ON:\")\n",
    "print(\"\\n\".join(response['llm_sources']))\n",
    "\n",
    "\n",
    "# short_source_list = rag.create_short_source_list(response)\n",
    "# long_source_list = rag.create_long_source_list(response)\n",
    "# print(f\"Short source list: {short_source_list}\")\n",
    "# print(f\"{long_source_list}\")"
   ]
  },
  {
   "cell_type": "code",
   "execution_count": 6,
   "metadata": {},
   "outputs": [
    {
     "name": "stdout",
     "output_type": "stream",
     "text": [
      "Auxiliary Manual, COMDTINST M16790.1G\n",
      "AUXILIARY 2019 PROGRAM VISITATION WORKSHOP\n"
     ]
    }
   ],
   "source": [
    "print(\"\\n\".join(response[\"sources\"]))"
   ]
  },
  {
   "cell_type": "code",
   "execution_count": 7,
   "metadata": {},
   "outputs": [
    {
     "data": {
      "text/plain": [
       "{'answer': 'To remain certified as a Recreational Boating Safety (RBS) Vessel Examiner (VE), you must perform at least five Vessel Safety Checks (VSCs), whether they pass or fail, each year following your initial qualification, including the year in which you were qualified.',\n",
       " 'sources': ['Auxiliary Manual, COMDTINST M16790.1G',\n",
       "  'AUXILIARY 2019 PROGRAM VISITATION WORKSHOP'],\n",
       " 'user_question': 'how many vessel exams do I need to do each year to stay current?',\n",
       " 'enriched_question': 'how many vessel exams do I need to do each year to stay current?',\n",
       " 'context': [Document(metadata={'upsert_date': '2024-12-18T23:33:23Z', 'embedding': 'text-embedding-ada-002', 'expiration_date': '2027-12-07T00:00:00Z', 'scope': '1_national', 'organization': 'CG-BSX', 'page_count': 710, 'issue_date': '2017-12-06T00:00:00Z', 'public_release': True, 'aux_specific': True, 'publication_number': 'COMDTINST M16790.1G', 'pdf_id': '97909bed-0a82-52b3-a5a3-f18ed65950a2', 'source': './raw_pdfs/Auxiliary Manual CIM_16790_1G.pdf', 'title': 'Auxiliary Manual, COMDTINST M16790.1G', 'page': 372, '_id': 'ff13729d-4a7b-4540-a0d2-44736c39e8e3', '_collection_name': 'ASK_vectorstore'}, page_content='B.8.a.(1)  \\nMaintaining \\nCertification To remain certified, RBS VEs must perf orm at least five VSCs (passing or \\nfailing) and/or Auxiliary surface facility inspections each year following \\ninitial qualification, including the year in which qualified.'),\n",
       "  Document(metadata={'upsert_date': '2024-12-18T23:30:07Z', 'embedding': 'text-embedding-ada-002', 'expiration_date': '2029-03-12T00:00:00Z', 'scope': '1_national', 'organization': '', 'page_count': 41, 'issue_date': '2019-03-13T00:00:00Z', 'publication_number': '', 'public_release': True, 'aux_specific': True, 'pdf_id': 'f8d87cf8-ed5e-574b-848d-1f0bb7855e32', 'source': './raw_pdfs/Program_Visitation_Workshop-B_2019.pdf', 'title': 'AUXILIARY 2019 PROGRAM VISITATION WORKSHOP', 'page': 23, '_id': 'dbac3928-18ba-4801-9c81-e961a4136503', '_collection_name': 'ASK_vectorstore'}, page_content='•A National V –Directorate award for completing a \\nminimum of 100 Program Visits and/or Vessel \\nSafety Exam in a calendar year.')],\n",
       " 'llm_sources': ['B.8.a.(1) Maintaining Certification']}"
      ]
     },
     "execution_count": 7,
     "metadata": {},
     "output_type": "execute_result"
    }
   ],
   "source": [
    "response"
   ]
  },
  {
   "cell_type": "code",
   "execution_count": 8,
   "metadata": {},
   "outputs": [
    {
     "name": "stdout",
     "output_type": "stream",
     "text": [
      "To remain certified as a Recreational Boating Safety (RBS) Vessel Examiner (VE), you must perform at least five Vessel Safety Checks (VSCs), whether they pass or fail, each year following your initial qualification, including the year in which you were qualified.\n"
     ]
    }
   ],
   "source": [
    "answer_text = response['answer']\n",
    "\n",
    "# Print the answer\n",
    "print(answer_text)"
   ]
  },
  {
   "cell_type": "code",
   "execution_count": 9,
   "metadata": {},
   "outputs": [
    {
     "name": "stdout",
     "output_type": "stream",
     "text": [
      "Auxiliary Manual, COMDTINST M16790.1G, page 372\n",
      "AUXILIARY 2019 PROGRAM VISITATION WORKSHOP, page 23\n"
     ]
    }
   ],
   "source": [
    "print(\"\\n\".join(\n",
    "    map(lambda doc: f\"{doc.metadata['title']}, page {doc.metadata['page']}\", response['context'])))"
   ]
  },
  {
   "cell_type": "markdown",
   "metadata": {},
   "source": [
    "## Input and Response schema"
   ]
  },
  {
   "cell_type": "code",
   "execution_count": 10,
   "metadata": {},
   "outputs": [
    {
     "data": {
      "text/plain": [
       "\"{\\n    'Question': 'string'\\n    }\\n\\nresponse object:\\n    {\\n    'user_question': 'string'\\n    'enriched_question': 'string'\\n    'context': [list of Document objects]\\n    'answer': {\\n        'answer': 'string', \\n        'llm_sources': ['string 1', 'string2']\\n        }\\n    }\\n    \""
      ]
     },
     "execution_count": 10,
     "metadata": {},
     "output_type": "execute_result"
    }
   ],
   "source": [
    "'''{\n",
    "    'Question': 'string'\n",
    "    }\n",
    "\n",
    "response object:\n",
    "    {\n",
    "    'user_question': 'string'\n",
    "    'enriched_question': 'string'\n",
    "    'context': [list of Document objects]\n",
    "    'answer': {\n",
    "        'answer': 'string', \n",
    "        'llm_sources': ['string 1', 'string2']\n",
    "        }\n",
    "    }\n",
    "    '''"
   ]
  },
  {
   "cell_type": "code",
   "execution_count": null,
   "metadata": {},
   "outputs": [],
   "source": []
  }
 ],
 "metadata": {
  "kernelspec": {
   "display_name": ".venv-main",
   "language": "python",
   "name": "python3"
  },
  "language_info": {
   "codemirror_mode": {
    "name": "ipython",
    "version": 3
   },
   "file_extension": ".py",
   "mimetype": "text/x-python",
   "name": "python",
   "nbconvert_exporter": "python",
   "pygments_lexer": "ipython3",
   "version": "3.11.9"
  }
 },
 "nbformat": 4,
 "nbformat_minor": 2
}
