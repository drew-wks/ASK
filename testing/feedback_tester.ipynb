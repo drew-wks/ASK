{
 "cells": [
  {
   "cell_type": "code",
   "execution_count": 3,
   "metadata": {},
   "outputs": [],
   "source": [
    "import os"
   ]
  },
  {
   "cell_type": "code",
   "execution_count": 4,
   "metadata": {},
   "outputs": [],
   "source": [
    "# Config LangSmith if you also want the traces\n",
    "os.environ[\"LANGCHAIN_API_KEY\"] = st.secrets[\"LANGCHAIN_API_KEY\"]\n",
    "os.environ[\"LANGCHAIN_TRACING_V2\"] = \"true\"\n",
    "os.environ[\"LANGCHAIN_PROJECT\"] = \"langchain_user_feedback_tester.ipynb_on_ASK_main\""
   ]
  },
  {
   "cell_type": "markdown",
   "metadata": {},
   "source": [
    "## Runs without a Streamlit app"
   ]
  },
  {
   "cell_type": "code",
   "execution_count": 4,
   "metadata": {},
   "outputs": [
    {
     "name": "stderr",
     "output_type": "stream",
     "text": [
      "2024-12-30 18:16:02.667 Thread 'MainThread': missing ScriptRunContext! This warning can be ignored when running in bare mode.\n",
      "2024-12-30 18:16:02.667 Session state does not function when running a script without `streamlit run`\n",
      "2024-12-30 18:16:02.668 Thread 'MainThread': missing ScriptRunContext! This warning can be ignored when running in bare mode.\n"
     ]
    }
   ],
   "source": [
    "\n",
    "\n",
    "predefined_run_id = uuid.uuid4()\n",
    "\n",
    "predefined_run_id"
   ]
  },
  {
   "cell_type": "code",
   "execution_count": 5,
   "metadata": {},
   "outputs": [],
   "source": [
    "import uuid\n",
    "from langsmith import traceable\n",
    "\n",
    "predefined_run_id = uuid.uuid4()\n",
    "\n",
    "predefined_run_id\n",
    "\n",
    "@traceable\n",
    "def sample_app():\n",
    "    print(\"Hello World\")\n",
    "    \n",
    "    \n",
    "sample_app(\n",
    "    langsmith_extra={\"run_id\": predefined_run_id}\n",
    ")"
   ]
  },
  {
   "cell_type": "code",
   "execution_count": 6,
   "metadata": {},
   "outputs": [
    {
     "name": "stderr",
     "output_type": "stream",
     "text": [
      "2024-12-30 18:16:07.117 Thread 'MainThread': missing ScriptRunContext! This warning can be ignored when running in bare mode.\n"
     ]
    },
    {
     "name": "stdout",
     "output_type": "stream",
     "text": [
      "Hello World\n"
     ]
    }
   ],
   "source": []
  },
  {
   "cell_type": "code",
   "execution_count": 7,
   "metadata": {},
   "outputs": [
    {
     "data": {
      "text/plain": [
       "Feedback(id=UUID('f1e8afd8-abd2-45f0-9014-9ae8ddfd78f6'), created_at=datetime.datetime(2024, 12, 30, 23, 16, 10, 465434, tzinfo=datetime.timezone.utc), modified_at=datetime.datetime(2024, 12, 30, 23, 16, 10, 465437, tzinfo=datetime.timezone.utc), run_id=UUID('642a60c7-f375-4756-9c73-1939a4055ba4'), trace_id=None, key='user_feedback', score=1, value=None, comment='what an amazing app this is!!!', correction=None, feedback_source=FeedbackSourceBase(type='api', metadata={}), session_id=None, comparative_experiment_id=None, feedback_group_id=None, extra=None)"
      ]
     },
     "execution_count": 7,
     "metadata": {},
     "output_type": "execute_result"
    }
   ],
   "source": [
    "from langsmith import Client\n",
    "\n",
    "\n",
    "ls_client = Client()\n",
    "\n",
    "ls_client.create_feedback(\n",
    "    # project id for inference_tester.ipynb_on_ASK_main\n",
    "    # project_id=\"20d1dded-c22f-458a-9915-8f92159e3dfd\",\n",
    "    run_id=predefined_run_id,\n",
    "    key=\"user_feedback\",\n",
    "    score=1,\n",
    "    comment=\"what an amazing app this is!!!\",\n",
    ")"
   ]
  }
 ],
 "metadata": {
  "kernelspec": {
   "display_name": ".venv-main",
   "language": "python",
   "name": "python3"
  },
  "language_info": {
   "codemirror_mode": {
    "name": "ipython",
    "version": 3
   },
   "file_extension": ".py",
   "mimetype": "text/x-python",
   "name": "python",
   "nbconvert_exporter": "python",
   "pygments_lexer": "ipython3",
   "version": "3.11.9"
  }
 },
 "nbformat": 4,
 "nbformat_minor": 2
}
