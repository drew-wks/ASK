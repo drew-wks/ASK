{
 "cells": [
  {
   "cell_type": "code",
   "execution_count": null,
   "metadata": {},
   "outputs": [],
   "source": [
    "import os"
   ]
  },
  {
   "cell_type": "code",
   "execution_count": null,
   "metadata": {},
   "outputs": [],
   "source": [
    "# Config LangSmith if you also want the traces\n",
    "os.environ[\"LANGCHAIN_API_KEY\"] = st.secrets[\"LANGCHAIN_API_KEY\"]\n",
    "os.environ[\"LANGCHAIN_TRACING_V2\"] = \"true\"\n",
    "os.environ[\"LANGCHAIN_PROJECT\"] = \"langchain_user_feedback_tester.ipynb_on_ASK_main\""
   ]
  },
  {
   "cell_type": "code",
   "execution_count": 3,
   "metadata": {},
   "outputs": [
    {
     "data": {
      "text/plain": [
       "Feedback(id=UUID('757c9fa3-a2b9-48f7-bbf2-9323e0431855'), created_at=datetime.datetime(2024, 12, 23, 20, 32, 50, 613982, tzinfo=datetime.timezone.utc), modified_at=datetime.datetime(2024, 12, 23, 20, 32, 50, 613986, tzinfo=datetime.timezone.utc), run_id=UUID('d3763856-37c1-4fd0-a34c-bd36207b22c6'), trace_id=None, key='user_feedback', score=1, value=None, comment='text', correction=None, feedback_source=FeedbackSourceBase(type='api', metadata={}), session_id=None, comparative_experiment_id=None, feedback_group_id=None, extra=None)"
      ]
     },
     "execution_count": 3,
     "metadata": {},
     "output_type": "execute_result"
    }
   ],
   "source": [
    "from langsmith import Client\n",
    "\n",
    "\n",
    "ls_client = Client()\n",
    "\n",
    "ls_client.create_feedback(\n",
    "    # project_id=\"20d1dded-c22f-458a-9915-8f92159e3dfd\",\n",
    "    run_id=\"d3763856-37c1-4fd0-a34c-bd36207b22c6\",\n",
    "    key=\"user_feedback\",\n",
    "    score=1,\n",
    "    comment=\"text\",\n",
    ")"
   ]
  }
 ],
 "metadata": {
  "kernelspec": {
   "display_name": ".venv-main",
   "language": "python",
   "name": "python3"
  },
  "language_info": {
   "codemirror_mode": {
    "name": "ipython",
    "version": 3
   },
   "file_extension": ".py",
   "mimetype": "text/x-python",
   "name": "python",
   "nbconvert_exporter": "python",
   "pygments_lexer": "ipython3",
   "version": "3.11.9"
  }
 },
 "nbformat": 4,
 "nbformat_minor": 2
}
