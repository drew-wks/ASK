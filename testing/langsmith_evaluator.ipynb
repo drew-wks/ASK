{
 "cells": [
  {
   "cell_type": "markdown",
   "metadata": {},
   "source": [
    "## Run an experiment in Langsmith\n",
    "### Do not add code to this to run a regular qa or it may put the wrong tracing project name. Use inference_tester.ipynb instead"
   ]
  },
  {
   "cell_type": "code",
   "execution_count": null,
   "metadata": {},
   "outputs": [],
   "source": [
    "%pip install pip --upgrade"
   ]
  },
  {
   "cell_type": "code",
   "execution_count": 1,
   "metadata": {},
   "outputs": [],
   "source": [
    "from dotenv import load_dotenv\n",
    "import os, sys\n",
    "\n",
    "load_dotenv('/Users/drew_wilkins/Drews_Files/Drew/Python/VSCode/.env')\n",
    "\n",
    "# Add the parent directory to sys.path so you can import your modules from a subdirectory\n",
    "sys.path.append(os.path.abspath('..'))\n",
    "\n",
    "import rag\n",
    "from rag import CONFIG"
   ]
  },
  {
   "cell_type": "code",
   "execution_count": null,
   "metadata": {},
   "outputs": [
    {
     "name": "stdout",
     "output_type": "stream",
     "text": [
      "View the evaluation results for experiment: 'testing the tracing-ffb74e94' at:\n",
      "https://smith.langchain.com/o/3941ecea-6957-508c-9f4f-08ed62dc7d61/datasets/471f89ed-317b-4ed9-ad2e-38121ba9c2fa/compare?selectedSessions=bcd6d02f-0178-4029-9a7c-840016a3382c\n",
      "\n",
      "\n"
     ]
    },
    {
     "data": {
      "application/vnd.jupyter.widget-view+json": {
       "model_id": "a61dd73f58554c41b24ec821a7ea6634",
       "version_major": 2,
       "version_minor": 0
      },
      "text/plain": [
       "0it [00:00, ?it/s]"
      ]
     },
     "metadata": {},
     "output_type": "display_data"
    },
    {
     "name": "stderr",
     "output_type": "stream",
     "text": [
      "2024-12-27 15:35:15.403 Thread 'MainThread': missing ScriptRunContext! This warning can be ignored when running in bare mode.\n",
      "2024-12-27 15:35:15.433 \n",
      "  \u001b[33m\u001b[1mWarning:\u001b[0m to view this Streamlit app on a browser, run it with the following\n",
      "  command:\n",
      "\n",
      "    streamlit run /Users/drew_wilkins/Drews_Files/Drew/Python/Repositories/ASK/.venv-main/lib/python3.11/site-packages/ipykernel_launcher.py [ARGUMENTS]\n",
      "2024-12-27 15:35:15.433 Thread 'MainThread': missing ScriptRunContext! This warning can be ignored when running in bare mode.\n",
      "2024-12-27 15:35:15.433 Thread 'MainThread': missing ScriptRunContext! This warning can be ignored when running in bare mode.\n",
      "2024-12-27 15:35:15.935 Thread 'Thread-7': missing ScriptRunContext! This warning can be ignored when running in bare mode.\n",
      "2024-12-27 15:35:15.936 Thread 'Thread-7': missing ScriptRunContext! This warning can be ignored when running in bare mode.\n",
      "2024-12-27 15:35:16.419 Thread 'MainThread': missing ScriptRunContext! This warning can be ignored when running in bare mode.\n",
      "2024-12-27 15:35:16.420 Thread 'MainThread': missing ScriptRunContext! This warning can be ignored when running in bare mode.\n"
     ]
    }
   ],
   "source": [
    "from langsmith.evaluation import evaluate, LangChainStringEvaluator\n",
    "\n",
    "\n",
    "cot_qa_evaluator = LangChainStringEvaluator(\"cot_qa\")\n",
    "\n",
    "dataset = \"one_example\"  # ASK-groundtruth_v1  # one_example #ASK-groundtruth-BQII\n",
    "# ASK-groundtruth_v1  ASK-accuracy-test-BQII_QA_set   initial_EDA\n",
    "experiment_prefix = \"testing the tracing\"\n",
    "\n",
    "experiment_description = \"\"\n",
    "# Checking accuracy of RAG on BQII_QA_set\n",
    "# Initial EDA check of dataset to ensure questions are in scope and groundtruth answers are correct\n",
    "\n",
    "# Evaluator expects a dict with  \"answer\" and \"contexts\" keys\n",
    "experiment_results = evaluate(\n",
    "    rag.rag_for_eval,\n",
    "    data=dataset,\n",
    "    evaluators=[cot_qa_evaluator],\n",
    "    metadata=CONFIG,\n",
    "    experiment_prefix=experiment_prefix,\n",
    "    description=experiment_description,\n",
    "    # type: ignore\n",
    ")"
   ]
  },
  {
   "cell_type": "markdown",
   "metadata": {},
   "source": [
    "NOTE Be very careful before you delete the LCEL code. this may integrate in other tests in ways you cant see yet"
   ]
  },
  {
   "cell_type": "markdown",
   "metadata": {},
   "source": []
  }
 ],
 "metadata": {
  "kernelspec": {
   "display_name": ".venv-main",
   "language": "python",
   "name": "python3"
  },
  "language_info": {
   "codemirror_mode": {
    "name": "ipython",
    "version": 3
   },
   "file_extension": ".py",
   "mimetype": "text/x-python",
   "name": "python",
   "nbconvert_exporter": "python",
   "pygments_lexer": "ipython3",
   "version": "3.11.9"
  }
 },
 "nbformat": 4,
 "nbformat_minor": 2
}
