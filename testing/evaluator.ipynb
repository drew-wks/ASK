{
 "cells": [
  {
   "cell_type": "markdown",
   "metadata": {},
   "source": [
    "## Evaluate RAG Quality\n",
    "##### Evaluates the app by running an experiment in Langsmith  \n",
    "Do not add code to this to run a regular rag inferences or it may put the wrong tracing project name. Use inference_tester.ipynb instead\n",
    "\n",
    "Tests \n",
    "-  Accuracy (COT Answer Accuracy)\n",
    "-  Recall- How many of the relevant documents were retrieved\n",
    "-  Precision- How well did the response answer the question given the retrieved documents\n",
    "-  Truthfulness - Did the response stray from the documents or hallucinate?\n"
   ]
  },
  {
   "cell_type": "code",
   "execution_count": null,
   "metadata": {},
   "outputs": [],
   "source": [
    "%pip install pip --upgrade"
   ]
  },
  {
   "cell_type": "code",
   "execution_count": 17,
   "metadata": {},
   "outputs": [],
   "source": [
    "from dotenv import load_dotenv\n",
    "import os, sys\n",
    "\n",
    "load_dotenv('/Users/drew_wilkins/Drews_Files/Drew/Python/VSCode/.env')\n",
    "\n",
    "# Add the parent directory to sys.path so you can import your modules from a subdirectory\n",
    "sys.path.append(os.path.abspath('..'))\n",
    "\n",
    "import rag\n",
    "from rag import CONFIG"
   ]
  },
  {
   "cell_type": "code",
   "execution_count": 18,
   "metadata": {},
   "outputs": [],
   "source": [
    "# Config LangSmith if you also want the traces\n",
    "os.environ[\"LANGCHAIN_TRACING_V2\"] = \"true\"\n",
    "os.environ[\"LANGCHAIN_PROJECT\"] = \"langchain_evaluator.ipynb on ASK main/local\""
   ]
  },
  {
   "cell_type": "code",
   "execution_count": 19,
   "metadata": {},
   "outputs": [],
   "source": [
    "from langsmith.evaluation import evaluate\n",
    "from langsmith import Client\n",
    "\n",
    "client = Client()"
   ]
  },
  {
   "cell_type": "markdown",
   "metadata": {},
   "source": [
    "### Choose your dataset"
   ]
  },
  {
   "cell_type": "code",
   "execution_count": 4,
   "metadata": {},
   "outputs": [],
   "source": [
    "\n",
    "dataset_name = \"ASK-groundtruth_with_sources\"\n",
    "# ASK-groundtruth_v1   initial_EDA\n",
    "\n",
    "\n",
    "# data = dataset_name\n",
    "data = client.list_examples(dataset_name=dataset_name, example_ids=[\n",
    "                            \"096d9dfb-1835-4b42-99a5-bf4985ca25c6\"])\n",
    "\n",
    "\n",
    "experiment_prefix = \"testing the tracing\"\n",
    "\n",
    "experiment_description = \"\""
   ]
  },
  {
   "cell_type": "markdown",
   "metadata": {},
   "source": [
    "### Evaluate for Answer Correctness (Accuracy)"
   ]
  },
  {
   "cell_type": "code",
   "execution_count": 5,
   "metadata": {},
   "outputs": [],
   "source": [
    "from langsmith.evaluation import LangChainStringEvaluator\n",
    "\n",
    "\n",
    "def prepare_cot_qa_data(run, example):\n",
    "    '''\n",
    "    Create a dictionary for the evaluator to use.\n",
    "\n",
    "    run is the rag funtion \n",
    "    example is the example from the dataset\n",
    "    '''\n",
    "    return {\n",
    "        # Populates the input key with the question from the test dataset\n",
    "        \"input\": example.inputs[\"question\"],\n",
    "        # Populates the reference key with the ground truth answer from the test dataset\n",
    "        \"reference\": example.outputs[\"ground_truth_answer\"],\n",
    "        # Populates the prediction key with answer from rag.rag output\n",
    "        \"prediction\": run.outputs[\"answer\"],\n",
    "    }\n",
    "\n",
    "\n",
    "# cot_qa uses the CotQAEvalChain class which uses the prompt template here: https://smith.langchain.com/hub/wfh/cot_qa\n",
    "accuracy_evaluator = LangChainStringEvaluator(\n",
    "    \"cot_qa\",\n",
    "    prepare_data=prepare_cot_qa_data\n",
    ")"
   ]
  },
  {
   "cell_type": "code",
   "execution_count": null,
   "metadata": {},
   "outputs": [],
   "source": [
    "evaluate(\n",
    "    # sends rag.rag a string instead of a dict, which is its default\n",
    "    lambda input: rag.rag(input[\"question\"]),\n",
    "    data=data,\n",
    "    evaluators=[accuracy_evaluator],\n",
    "    metadata=CONFIG,\n",
    "    experiment_prefix=experiment_prefix,\n",
    "    description=experiment_description,\n",
    "    # type: ignore    # This supresses an error\n",
    ")"
   ]
  },
  {
   "cell_type": "markdown",
   "metadata": {},
   "source": [
    "### Evaluate for Truthfulness (detect Hallucinations)"
   ]
  },
  {
   "cell_type": "code",
   "execution_count": 22,
   "metadata": {},
   "outputs": [],
   "source": [
    "from langchain import hub\n",
    "from langchain_openai import ChatOpenAI\n",
    "\n",
    "\n",
    "# Prompt to grade Truthfulness. It's a Langchain object with two inputs: \"documents\", \"student_answer\"\n",
    "grade_prompt_truthfulness = prompt = hub.pull(\n",
    "    \"langchain-ai/rag-answer-hallucination\")\n",
    "\n",
    "\n",
    "def hallucination_evaluator(run, example) -> dict:\n",
    "    \"\"\"\n",
    "    A simple evaluator for detecting generation hallucinations\n",
    "    \"\"\"\n",
    "\n",
    "    # RAG inputs\n",
    "    input_question = example.inputs[\"question\"]\n",
    "    contexts = run.outputs[\"context\"]\n",
    "    prediction = run.outputs[\"answer\"]\n",
    "\n",
    "    # LLM grader\n",
    "    llm = ChatOpenAI(model=\"gpt-4-turbo\", temperature=0)\n",
    "\n",
    "    # Structured prompt\n",
    "    answer_grader = grade_prompt_truthfulness | llm\n",
    "\n",
    "    # Get score by passing populated prompt to the evaluator\n",
    "    score = answer_grader.invoke({\"documents\": contexts,\n",
    "                                  \"student_answer\": prediction})\n",
    "    score = score[\"Score\"]\n",
    "\n",
    "    return {\"key\": \"Truthfulness\", \"score\": score}"
   ]
  },
  {
   "cell_type": "code",
   "execution_count": null,
   "metadata": {},
   "outputs": [],
   "source": [
    "grade_prompt_truthfulness"
   ]
  },
  {
   "cell_type": "code",
   "execution_count": null,
   "metadata": {},
   "outputs": [],
   "source": [
    "evaluate(\n",
    "    lambda input: rag.rag(input[\"question\"]),\n",
    "    data=data,\n",
    "    evaluators=[hallucination_evaluator],\n",
    "    experiment_prefix=\"rag-qa-oai-precision\",\n",
    "    metadata=CONFIG,\n",
    "    blocking=True  # This shows the results in the notebook\n",
    ")"
   ]
  },
  {
   "cell_type": "markdown",
   "metadata": {},
   "source": [
    "### Retreival Relevance (Recall)"
   ]
  },
  {
   "cell_type": "code",
   "execution_count": null,
   "metadata": {},
   "outputs": [],
   "source": [
    "from langsmith.evaluation import LangChainStringEvaluator\n",
    "\n",
    "\n",
    "recall_evaluator = LangChainStringEvaluator(\n",
    "    \"score_string\",\n",
    "    config={\n",
    "        \"criteria\": {\n",
    "            \"Recall\": \"\"\"The Assistant's Answer is a set of documents retrieved from a vectorstore. The input is a question used for retrieval. You will score whether the Assistant's Answer (retrieved documents) are relevant to the input question. The score should be between 0 and 10. A score of [[0]] means that the Assistant answer contains documents that are not at all relevnat to the input question. A score of [[5]] menas that the Assistant answre contains some documents are relevant to the input question. A score of [[10]] means that all of the Assistant answer documents are all relevant to the input question. \"\"\"\n",
    "        },\n",
    "        \"normalize_by\": 10,\n",
    "    },\n",
    "    prepare_data=lambda run, example: {\n",
    "        \"prediction\": run.outputs[\"context\"],\n",
    "        \"input\": example.inputs[\"question\"],\n",
    "    }\n",
    ")"
   ]
  },
  {
   "cell_type": "code",
   "execution_count": null,
   "metadata": {},
   "outputs": [],
   "source": [
    "evaluate(\n",
    "    lambda input: rag.rag(input[\"question\"]),\n",
    "    data=data,\n",
    "    evaluators=[recall_evaluator],\n",
    "    experiment_prefix=\"rag-qa-oai-recall\",\n",
    "    metadata=CONFIG,\n",
    ")"
   ]
  },
  {
   "cell_type": "markdown",
   "metadata": {},
   "source": [
    "### Combo Evaluation"
   ]
  },
  {
   "cell_type": "code",
   "execution_count": 20,
   "metadata": {},
   "outputs": [],
   "source": [
    "\n",
    "dataset_name = \"ASK-groundtruth_with_sources\"\n",
    "# ASK-groundtruth_v1   initial_EDA\n",
    "\n",
    "\n",
    "# data = dataset_name\n",
    "data = client.list_examples(dataset_name=dataset_name, example_ids=[\n",
    "                            \"096d9dfb-1835-4b42-99a5-bf4985ca25c6\"])\n",
    "\n",
    "\n",
    "experiment_prefix = \"setting up the evaluators\"\n",
    "\n",
    "experiment_description = \"\""
   ]
  },
  {
   "cell_type": "code",
   "execution_count": null,
   "metadata": {},
   "outputs": [],
   "source": [
    "evaluate(\n",
    "    lambda input: rag.rag(input[\"question\"]),\n",
    "    data=data,\n",
    "    evaluators=[accuracy_evaluator, recall_evaluator,\n",
    "                hallucination_evaluator],\n",
    "    experiment_prefix=\"rag-qa-oai-accuracy-recall-truthfulness\",\n",
    "    metadata=CONFIG,\n",
    "    blocking=True  # This shows the results in the notebook\n",
    ")  # type: ignore    # This supresses an error"
   ]
  },
  {
   "cell_type": "code",
   "execution_count": null,
   "metadata": {},
   "outputs": [],
   "source": []
  }
 ],
 "metadata": {
  "kernelspec": {
   "display_name": ".venv-main",
   "language": "python",
   "name": "python3"
  },
  "language_info": {
   "codemirror_mode": {
    "name": "ipython",
    "version": 3
   },
   "file_extension": ".py",
   "mimetype": "text/x-python",
   "name": "python",
   "nbconvert_exporter": "python",
   "pygments_lexer": "ipython3",
   "version": "3.11.9"
  }
 },
 "nbformat": 4,
 "nbformat_minor": 2
}
