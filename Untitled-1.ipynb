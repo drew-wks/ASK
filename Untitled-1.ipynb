{
 "cells": [
  {
   "cell_type": "code",
   "execution_count": 1,
   "metadata": {},
   "outputs": [],
   "source": [
    "import os, sys, re\n",
    "import pandas as pd"
   ]
  },
  {
   "cell_type": "markdown",
   "metadata": {},
   "source": []
  },
  {
   "cell_type": "code",
   "execution_count": 8,
   "metadata": {},
   "outputs": [],
   "source": [
    "def get_library_catalog_excel_and_date():\n",
    "    '''Gets the most recent catalog of library documents'''\n",
    "\n",
    "    directory_path = './docs/library_catalog/'\n",
    "    files_in_directory = os.listdir(directory_path)\n",
    "    excel_files = [file for file in files_in_directory if re.match(\n",
    "        r'library_catalog_.*\\.xlsx$', file)]\n",
    "\n",
    "    if not excel_files:\n",
    "        os.write(1, b\"There's no Excel file in the directory.\\n\")\n",
    "        return None, None\n",
    "\n",
    "    excel_files_with_time = [(file, os.path.getmtime(\n",
    "        os.path.join(directory_path, file))) for file in excel_files]\n",
    "    excel_files_with_time.sort(key=lambda x: x[1], reverse=True)\n",
    "    most_recent_file, modification_time = excel_files_with_time[0]\n",
    "    try:\n",
    "        df = pd.read_excel(os.path.join(directory_path, most_recent_file))\n",
    "    except Exception as e:\n",
    "        print(f\"Failed to read the Excel file: {e}\")\n",
    "        return None, None\n",
    "\n",
    "    last_update_date = datetime.datetime.fromtimestamp(\n",
    "        modification_time).strftime('%Y-%m-%dT%H:%M:%SZ')\n",
    "\n",
    "    return df, last_update_date"
   ]
  },
  {
   "cell_type": "code",
   "execution_count": 9,
   "metadata": {},
   "outputs": [
    {
     "name": "stdout",
     "output_type": "stream",
     "text": [
      "There's no Excel file in the directory.\n"
     ]
    }
   ],
   "source": [
    "df, last_update_date = get_library_catalog_excel_and_date()"
   ]
  },
  {
   "cell_type": "code",
   "execution_count": null,
   "metadata": {},
   "outputs": [],
   "source": []
  },
  {
   "cell_type": "code",
   "execution_count": 10,
   "metadata": {},
   "outputs": [],
   "source": [
    "directory_path = './docs/library_catalog/'\n",
    "files_in_directory = os.listdir(directory_path)"
   ]
  },
  {
   "cell_type": "code",
   "execution_count": 11,
   "metadata": {},
   "outputs": [
    {
     "name": "stdout",
     "output_type": "stream",
     "text": [
      "['libary_catalog_2024-12-20T19:41:09Z.xlsx', 'library_doc_catalog_2023-12-19T1900Z.xlsx']\n"
     ]
    }
   ],
   "source": [
    "print(files_in_directory)"
   ]
  },
  {
   "cell_type": "code",
   "execution_count": 12,
   "metadata": {},
   "outputs": [],
   "source": [
    "excel_files = [file for file in files_in_directory if re.match(\n",
    "    r'library_catalog_.*\\.xlsx$', file)]"
   ]
  },
  {
   "cell_type": "code",
   "execution_count": 13,
   "metadata": {},
   "outputs": [
    {
     "name": "stdout",
     "output_type": "stream",
     "text": [
      "[]\n"
     ]
    }
   ],
   "source": [
    "print(excel_files)"
   ]
  },
  {
   "cell_type": "code",
   "execution_count": null,
   "metadata": {},
   "outputs": [],
   "source": []
  }
 ],
 "metadata": {
  "kernelspec": {
   "display_name": ".venv-main",
   "language": "python",
   "name": "python3"
  },
  "language_info": {
   "codemirror_mode": {
    "name": "ipython",
    "version": 3
   },
   "file_extension": ".py",
   "mimetype": "text/x-python",
   "name": "python",
   "nbconvert_exporter": "python",
   "pygments_lexer": "ipython3",
   "version": "3.11.9"
  }
 },
 "nbformat": 4,
 "nbformat_minor": 2
}
