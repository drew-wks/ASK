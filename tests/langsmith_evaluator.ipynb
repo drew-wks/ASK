{
 "cells": [
  {
   "cell_type": "code",
   "execution_count": null,
   "metadata": {},
   "outputs": [],
   "source": [
    "import os, sys\n",
    "import streamlit as st\n",
    "\n",
    "\n",
    "# Add the parent directory to sys.path so you can import your modules from a subdirectory\n",
    "sys.path.append(os.path.abspath('..'))\n",
    "\n",
    "import rag\n",
    "from rag import CONFIG"
   ]
  },
  {
   "cell_type": "code",
   "execution_count": null,
   "metadata": {},
   "outputs": [],
   "source": [
    "# Config Langsmith\n",
    "os.environ[\"LANGCHAIN_API_KEY\"] = st.secrets[\"LANGCHAIN_API_KEY\"]\n",
    "os.environ[\"LANGCHAIN_TRACING_V2\"] = \"true\"\n",
    "os.environ[\"LANGCHAIN_PROJECT\"] = \"langchain_evaluator_testing_the_tester_code\""
   ]
  },
  {
   "cell_type": "code",
   "execution_count": null,
   "metadata": {},
   "outputs": [],
   "source": [
    "question = \"What's required to be FC?\""
   ]
  },
  {
   "cell_type": "code",
   "execution_count": null,
   "metadata": {},
   "outputs": [],
   "source": [
    "response = rag.rag(question)"
   ]
  },
  {
   "cell_type": "code",
   "execution_count": null,
   "metadata": {},
   "outputs": [],
   "source": [
    "print(response)"
   ]
  },
  {
   "cell_type": "code",
   "execution_count": null,
   "metadata": {},
   "outputs": [],
   "source": [
    "print({question})\n",
    "print(f\"{response['answer']['answer']}\")"
   ]
  },
  {
   "cell_type": "markdown",
   "metadata": {},
   "source": [
    "## Actually run a test in Langsmith"
   ]
  },
  {
   "cell_type": "code",
   "execution_count": null,
   "metadata": {},
   "outputs": [
    {
     "name": "stdout",
     "output_type": "stream",
     "text": [
      "View the evaluation results for experiment: 'ASK-groundtruth_v1-45f8d1de' at:\n",
      "https://smith.langchain.com/o/3941ecea-6957-508c-9f4f-08ed62dc7d61/datasets/e8705465-e24d-49ac-b001-b361dc157103/compare?selectedSessions=8ac126bd-2504-4810-8c7b-c778b44e0d22\n",
      "\n",
      "\n"
     ]
    },
    {
     "name": "stderr",
     "output_type": "stream",
     "text": [
      "0it [00:00, ?it/s]2024-11-17 22:28:03.032 Thread 'ThreadPoolExecutor-12_3': missing ScriptRunContext! This warning can be ignored when running in bare mode.\n",
      "2024-11-17 22:28:03.033 Thread 'ThreadPoolExecutor-12_2': missing ScriptRunContext! This warning can be ignored when running in bare mode.\n",
      "2024-11-17 22:28:03.033 Thread 'ThreadPoolExecutor-12_1': missing ScriptRunContext! This warning can be ignored when running in bare mode.\n",
      "2024-11-17 22:28:03.033 Thread 'ThreadPoolExecutor-12_0': missing ScriptRunContext! This warning can be ignored when running in bare mode.\n",
      "2024-11-17 22:28:03.035 Thread 'ThreadPoolExecutor-12_4': missing ScriptRunContext! This warning can be ignored when running in bare mode.\n",
      "2024-11-17 22:28:03.036 Thread 'ThreadPoolExecutor-12_3': missing ScriptRunContext! This warning can be ignored when running in bare mode.\n",
      "2024-11-17 22:28:03.038 Thread 'ThreadPoolExecutor-12_6': missing ScriptRunContext! This warning can be ignored when running in bare mode.\n",
      "2024-11-17 22:28:03.039 Thread 'ThreadPoolExecutor-12_7': missing ScriptRunContext! This warning can be ignored when running in bare mode.\n",
      "2024-11-17 22:28:03.039 Thread 'ThreadPoolExecutor-12_5': missing ScriptRunContext! This warning can be ignored when running in bare mode.\n",
      "2024-11-17 22:28:03.041 Thread 'ThreadPoolExecutor-12_2': missing ScriptRunContext! This warning can be ignored when running in bare mode.\n",
      "2024-11-17 22:28:03.043 Thread 'ThreadPoolExecutor-12_8': missing ScriptRunContext! This warning can be ignored when running in bare mode.\n",
      "2024-11-17 22:28:03.044 Thread 'ThreadPoolExecutor-12_9': missing ScriptRunContext! This warning can be ignored when running in bare mode.\n",
      "2024-11-17 22:28:03.046 Thread 'ThreadPoolExecutor-12_10': missing ScriptRunContext! This warning can be ignored when running in bare mode.\n",
      "2024-11-17 22:28:03.047 Thread 'ThreadPoolExecutor-12_11': missing ScriptRunContext! This warning can be ignored when running in bare mode.\n",
      "2024-11-17 22:28:03.047 Thread 'ThreadPoolExecutor-12_1': missing ScriptRunContext! This warning can be ignored when running in bare mode.\n",
      "2024-11-17 22:28:03.048 Thread 'ThreadPoolExecutor-12_0': missing ScriptRunContext! This warning can be ignored when running in bare mode.\n",
      "2024-11-17 22:28:03.049 Thread 'ThreadPoolExecutor-12_4': missing ScriptRunContext! This warning can be ignored when running in bare mode.\n",
      "2024-11-17 22:28:03.049 Thread 'ThreadPoolExecutor-12_3': missing ScriptRunContext! This warning can be ignored when running in bare mode.\n",
      "2024-11-17 22:28:03.050 Thread 'ThreadPoolExecutor-12_6': missing ScriptRunContext! This warning can be ignored when running in bare mode.\n",
      "2024-11-17 22:28:03.050 Thread 'ThreadPoolExecutor-12_7': missing ScriptRunContext! This warning can be ignored when running in bare mode.\n",
      "2024-11-17 22:28:03.050 Thread 'ThreadPoolExecutor-12_5': missing ScriptRunContext! This warning can be ignored when running in bare mode.\n",
      "2024-11-17 22:28:03.050 Thread 'ThreadPoolExecutor-12_2': missing ScriptRunContext! This warning can be ignored when running in bare mode.\n",
      "2024-11-17 22:28:03.051 Thread 'ThreadPoolExecutor-12_8': missing ScriptRunContext! This warning can be ignored when running in bare mode.\n",
      "2024-11-17 22:28:03.051 Thread 'ThreadPoolExecutor-12_9': missing ScriptRunContext! This warning can be ignored when running in bare mode.\n",
      "2024-11-17 22:28:03.051 Thread 'ThreadPoolExecutor-12_10': missing ScriptRunContext! This warning can be ignored when running in bare mode.\n",
      "2024-11-17 22:28:03.052 Thread 'ThreadPoolExecutor-12_11': missing ScriptRunContext! This warning can be ignored when running in bare mode.\n",
      "2024-11-17 22:28:03.052 Thread 'ThreadPoolExecutor-12_1': missing ScriptRunContext! This warning can be ignored when running in bare mode.\n",
      "2024-11-17 22:28:03.052 Thread 'ThreadPoolExecutor-12_0': missing ScriptRunContext! This warning can be ignored when running in bare mode.\n",
      "2024-11-17 22:28:03.052 Thread 'ThreadPoolExecutor-12_4': missing ScriptRunContext! This warning can be ignored when running in bare mode.\n",
      "2024-11-17 22:28:03.053 Thread 'ThreadPoolExecutor-12_3': missing ScriptRunContext! This warning can be ignored when running in bare mode.\n",
      "2024-11-17 22:28:03.053 Thread 'ThreadPoolExecutor-12_6': missing ScriptRunContext! This warning can be ignored when running in bare mode.\n",
      "2024-11-17 22:28:03.053 Thread 'ThreadPoolExecutor-12_7': missing ScriptRunContext! This warning can be ignored when running in bare mode.\n",
      "2024-11-17 22:28:03.054 Thread 'ThreadPoolExecutor-12_5': missing ScriptRunContext! This warning can be ignored when running in bare mode.\n",
      "2024-11-17 22:28:03.054 Thread 'ThreadPoolExecutor-12_2': missing ScriptRunContext! This warning can be ignored when running in bare mode.\n",
      "2024-11-17 22:28:03.055 Thread 'ThreadPoolExecutor-12_8': missing ScriptRunContext! This warning can be ignored when running in bare mode.\n",
      "2024-11-17 22:28:03.055 Thread 'ThreadPoolExecutor-12_9': missing ScriptRunContext! This warning can be ignored when running in bare mode.\n",
      "2024-11-17 22:28:03.056 Thread 'ThreadPoolExecutor-12_10': missing ScriptRunContext! This warning can be ignored when running in bare mode.\n",
      "2024-11-17 22:28:03.056 Thread 'ThreadPoolExecutor-12_11': missing ScriptRunContext! This warning can be ignored when running in bare mode.\n",
      "2024-11-17 22:28:03.062 Thread 'ThreadPoolExecutor-12_1': missing ScriptRunContext! This warning can be ignored when running in bare mode.\n",
      "2024-11-17 22:28:03.073 Thread 'ThreadPoolExecutor-12_1': missing ScriptRunContext! This warning can be ignored when running in bare mode.\n",
      "2024-11-17 22:28:03.064 Thread 'ThreadPoolExecutor-12_4': missing ScriptRunContext! This warning can be ignored when running in bare mode.\n",
      "2024-11-17 22:28:03.064 Thread 'ThreadPoolExecutor-12_3': missing ScriptRunContext! This warning can be ignored when running in bare mode.\n",
      "2024-11-17 22:28:03.067 Thread 'ThreadPoolExecutor-12_6': missing ScriptRunContext! This warning can be ignored when running in bare mode.\n",
      "2024-11-17 22:28:03.067 Thread 'ThreadPoolExecutor-12_7': missing ScriptRunContext! This warning can be ignored when running in bare mode.\n",
      "2024-11-17 22:28:03.067 Thread 'ThreadPoolExecutor-12_5': missing ScriptRunContext! This warning can be ignored when running in bare mode.\n",
      "2024-11-17 22:28:03.067 Thread 'ThreadPoolExecutor-12_2': missing ScriptRunContext! This warning can be ignored when running in bare mode.\n",
      "2024-11-17 22:28:03.068 Thread 'ThreadPoolExecutor-12_8': missing ScriptRunContext! This warning can be ignored when running in bare mode.\n",
      "2024-11-17 22:28:03.068 Thread 'ThreadPoolExecutor-12_9': missing ScriptRunContext! This warning can be ignored when running in bare mode.\n",
      "2024-11-17 22:28:03.069 Thread 'ThreadPoolExecutor-12_10': missing ScriptRunContext! This warning can be ignored when running in bare mode.\n",
      "2024-11-17 22:28:03.069 Thread 'ThreadPoolExecutor-12_11': missing ScriptRunContext! This warning can be ignored when running in bare mode.\n",
      "2024-11-17 22:28:03.063 Thread 'ThreadPoolExecutor-12_0': missing ScriptRunContext! This warning can be ignored when running in bare mode.\n",
      "2024-11-17 22:28:03.132 Thread 'ThreadPoolExecutor-12_4': missing ScriptRunContext! This warning can be ignored when running in bare mode.\n",
      "2024-11-17 22:28:03.134 Thread 'ThreadPoolExecutor-12_6': missing ScriptRunContext! This warning can be ignored when running in bare mode.\n",
      "2024-11-17 22:28:03.137 Thread 'ThreadPoolExecutor-12_7': missing ScriptRunContext! This warning can be ignored when running in bare mode.\n",
      "2024-11-17 22:28:03.152 Thread 'ThreadPoolExecutor-12_5': missing ScriptRunContext! This warning can be ignored when running in bare mode.\n",
      "2024-11-17 22:28:03.167 Thread 'ThreadPoolExecutor-12_8': missing ScriptRunContext! This warning can be ignored when running in bare mode.\n",
      "2024-11-17 22:28:03.176 Thread 'ThreadPoolExecutor-12_9': missing ScriptRunContext! This warning can be ignored when running in bare mode.\n"
     ]
    },
    {
     "name": "stdout",
     "output_type": "stream",
     "text": [
      "Input received by rag_for_eval: {'Question': ' Can the AWU uniform be worn for the inspection?'}\n",
      "Input received by rag_for_eval: {'Question': 'If an Auxiliarist in AP status is arrested, even if not while assigned to duty, must they notify the DIRAUX?'}\n",
      "Input received by rag_for_eval: {'Question': \"I'm a pilot. Can I join the auxiliary air program?\"}\n",
      "Input received by rag_for_eval: {'Question': 'What mission code do I use to record hours for studying?'}\n",
      "Input received by rag_for_eval: {'Question': 'Do Aviators require TCT training to maintain their qualifications? Is the CRM class they are required to take equivalent to TCT? In other words, do pilots and observers have to take TCT and the one hour refresher? If they are both a Surface Operator and an Aviator, do they have to take both TCT and CRM, or will one substitute for the other?'}\n",
      "Input received by rag_for_eval: {'Question': 'What are the requirements to join the Auxiliary?'}\n",
      "Input received by rag_for_eval: {'Question': 'Is an Auxiliarist in AP status counted on unit rosters?'}\n",
      "Input received by rag_for_eval: {'Question': 'When is an applicant officially recognized as an Auxiliarist?'}\n",
      "Input received by rag_for_eval: {'Question': 'How many crew are required for a patrol vessel of 30 ft?'}\n",
      "Input received by rag_for_eval: {'Question': 'Is AUXPAD considered an operational mission?'}\n",
      "Input received by rag_for_eval: {'Question': 'What do the three types of PSIs represent?'}\n",
      "Input received by rag_for_eval: {'Question': 'What are the types of PSIs?'}\n"
     ]
    },
    {
     "name": "stderr",
     "output_type": "stream",
     "text": [
      "2024-11-17 22:28:03.178 Thread 'ThreadPoolExecutor-12_10': missing ScriptRunContext! This warning can be ignored when running in bare mode.\n",
      "2024-11-17 22:28:03.186 Thread 'ThreadPoolExecutor-12_11': missing ScriptRunContext! This warning can be ignored when running in bare mode.\n",
      "2024-11-17 22:28:03.188 Thread 'ThreadPoolExecutor-12_0': missing ScriptRunContext! This warning can be ignored when running in bare mode.\n",
      "2024-11-17 22:28:04.710 Thread 'ThreadPoolExecutor-12_0': missing ScriptRunContext! This warning can be ignored when running in bare mode.\n",
      "2024-11-17 22:28:04.712 Thread 'ThreadPoolExecutor-12_0': missing ScriptRunContext! This warning can be ignored when running in bare mode.\n",
      "2024-11-17 22:28:04.712 Thread 'ThreadPoolExecutor-12_0': missing ScriptRunContext! This warning can be ignored when running in bare mode.\n",
      "2024-11-17 22:28:04.712 Thread 'ThreadPoolExecutor-12_0': missing ScriptRunContext! This warning can be ignored when running in bare mode.\n",
      "2024-11-17 22:28:04.713 Thread 'ThreadPoolExecutor-12_0': missing ScriptRunContext! This warning can be ignored when running in bare mode.\n"
     ]
    },
    {
     "name": "stdout",
     "output_type": "stream",
     "text": [
      "Input received by rag_for_eval: {'Question': 'When may a member in AP status receive an Auxiliary ID card?'}\n"
     ]
    },
    {
     "name": "stderr",
     "output_type": "stream",
     "text": [
      "2024-11-17 22:28:04.939 Thread 'ThreadPoolExecutor-12_8': missing ScriptRunContext! This warning can be ignored when running in bare mode.\n",
      "2024-11-17 22:28:04.948 Thread 'ThreadPoolExecutor-12_8': missing ScriptRunContext! This warning can be ignored when running in bare mode.\n",
      "2024-11-17 22:28:04.948 Thread 'ThreadPoolExecutor-12_1': missing ScriptRunContext! This warning can be ignored when running in bare mode.\n",
      "2024-11-17 22:28:04.948 Thread 'ThreadPoolExecutor-12_8': missing ScriptRunContext! This warning can be ignored when running in bare mode.\n",
      "2024-11-17 22:28:04.948 Thread 'ThreadPoolExecutor-12_1': missing ScriptRunContext! This warning can be ignored when running in bare mode.\n",
      "2024-11-17 22:28:04.949 Thread 'ThreadPoolExecutor-12_8': missing ScriptRunContext! This warning can be ignored when running in bare mode.\n",
      "2024-11-17 22:28:04.949 Thread 'ThreadPoolExecutor-12_1': missing ScriptRunContext! This warning can be ignored when running in bare mode.\n",
      "2024-11-17 22:28:04.949 Thread 'ThreadPoolExecutor-12_8': missing ScriptRunContext! This warning can be ignored when running in bare mode.\n",
      "2024-11-17 22:28:04.949 Thread 'ThreadPoolExecutor-12_1': missing ScriptRunContext! This warning can be ignored when running in bare mode.\n",
      "2024-11-17 22:28:04.950 Thread 'ThreadPoolExecutor-12_1': missing ScriptRunContext! This warning can be ignored when running in bare mode.\n"
     ]
    },
    {
     "name": "stdout",
     "output_type": "stream",
     "text": [
      "Input received by rag_for_eval: {'Question': 'Can I use a flashing yellow light when towing a disabled vessel?'}\n",
      "Input received by rag_for_eval: {'Question': 'How do I help out at after a hurricane?'}\n"
     ]
    },
    {
     "name": "stderr",
     "output_type": "stream",
     "text": [
      "2024-11-17 22:28:05.424 Thread 'ThreadPoolExecutor-12_11': missing ScriptRunContext! This warning can be ignored when running in bare mode.\n",
      "2024-11-17 22:28:05.426 Thread 'ThreadPoolExecutor-12_11': missing ScriptRunContext! This warning can be ignored when running in bare mode.\n",
      "2024-11-17 22:28:05.427 Thread 'ThreadPoolExecutor-12_11': missing ScriptRunContext! This warning can be ignored when running in bare mode.\n",
      "2024-11-17 22:28:05.427 Thread 'ThreadPoolExecutor-12_11': missing ScriptRunContext! This warning can be ignored when running in bare mode.\n",
      "2024-11-17 22:28:05.427 Thread 'ThreadPoolExecutor-12_11': missing ScriptRunContext! This warning can be ignored when running in bare mode.\n"
     ]
    },
    {
     "name": "stdout",
     "output_type": "stream",
     "text": [
      "Input received by rag_for_eval: {'Question': 'How can I volunteer for emergency communications during a national disaster?'}\n"
     ]
    },
    {
     "name": "stderr",
     "output_type": "stream",
     "text": [
      "2024-11-17 22:28:05.731 Thread 'ThreadPoolExecutor-12_9': missing ScriptRunContext! This warning can be ignored when running in bare mode.\n",
      "2024-11-17 22:28:05.736 Thread 'ThreadPoolExecutor-12_9': missing ScriptRunContext! This warning can be ignored when running in bare mode.\n",
      "2024-11-17 22:28:05.737 Thread 'ThreadPoolExecutor-12_9': missing ScriptRunContext! This warning can be ignored when running in bare mode.\n",
      "2024-11-17 22:28:05.738 Thread 'ThreadPoolExecutor-12_9': missing ScriptRunContext! This warning can be ignored when running in bare mode.\n",
      "2024-11-17 22:28:05.738 Thread 'ThreadPoolExecutor-12_9': missing ScriptRunContext! This warning can be ignored when running in bare mode.\n",
      "2024-11-17 22:28:05.839 Thread 'ThreadPoolExecutor-12_3': missing ScriptRunContext! This warning can be ignored when running in bare mode.\n",
      "2024-11-17 22:28:05.851 Thread 'ThreadPoolExecutor-12_3': missing ScriptRunContext! This warning can be ignored when running in bare mode.\n",
      "2024-11-17 22:28:05.860 Thread 'ThreadPoolExecutor-12_10': missing ScriptRunContext! This warning can be ignored when running in bare mode.\n",
      "2024-11-17 22:28:05.861 Thread 'ThreadPoolExecutor-12_3': missing ScriptRunContext! This warning can be ignored when running in bare mode.\n",
      "2024-11-17 22:28:05.865 Thread 'ThreadPoolExecutor-12_10': missing ScriptRunContext! This warning can be ignored when running in bare mode.\n",
      "2024-11-17 22:28:05.867 Thread 'ThreadPoolExecutor-12_3': missing ScriptRunContext! This warning can be ignored when running in bare mode.\n",
      "2024-11-17 22:28:05.867 Thread 'ThreadPoolExecutor-12_10': missing ScriptRunContext! This warning can be ignored when running in bare mode.\n",
      "2024-11-17 22:28:05.868 Thread 'ThreadPoolExecutor-12_3': missing ScriptRunContext! This warning can be ignored when running in bare mode.\n",
      "2024-11-17 22:28:05.869 Thread 'ThreadPoolExecutor-12_10': missing ScriptRunContext! This warning can be ignored when running in bare mode.\n",
      "2024-11-17 22:28:05.870 Thread 'ThreadPoolExecutor-12_10': missing ScriptRunContext! This warning can be ignored when running in bare mode.\n"
     ]
    },
    {
     "name": "stdout",
     "output_type": "stream",
     "text": [
      "Input received by rag_for_eval: {'Question': 'What are the steps to membership in the Coast Guard Auxiliary?'}\n",
      "Input received by rag_for_eval: {'Question': 'How long should the applicant expect to be in AP status?'}\n",
      "Input received by rag_for_eval: {'Question': 'Can I use my plane in Auxiliary Aviation?'}\n"
     ]
    },
    {
     "name": "stderr",
     "output_type": "stream",
     "text": [
      "2024-11-17 22:28:06.003 Thread 'ThreadPoolExecutor-12_5': missing ScriptRunContext! This warning can be ignored when running in bare mode.\n",
      "2024-11-17 22:28:06.024 Thread 'ThreadPoolExecutor-12_5': missing ScriptRunContext! This warning can be ignored when running in bare mode.\n",
      "2024-11-17 22:28:06.025 Thread 'ThreadPoolExecutor-12_5': missing ScriptRunContext! This warning can be ignored when running in bare mode.\n",
      "2024-11-17 22:28:06.045 Thread 'ThreadPoolExecutor-12_5': missing ScriptRunContext! This warning can be ignored when running in bare mode.\n",
      "2024-11-17 22:28:06.046 Thread 'ThreadPoolExecutor-12_5': missing ScriptRunContext! This warning can be ignored when running in bare mode.\n",
      "2024-11-17 22:28:06.051 Thread 'ThreadPoolExecutor-12_4': missing ScriptRunContext! This warning can be ignored when running in bare mode.\n",
      "2024-11-17 22:28:06.058 Thread 'ThreadPoolExecutor-12_4': missing ScriptRunContext! This warning can be ignored when running in bare mode.\n",
      "2024-11-17 22:28:06.058 Thread 'ThreadPoolExecutor-12_4': missing ScriptRunContext! This warning can be ignored when running in bare mode.\n",
      "2024-11-17 22:28:06.059 Thread 'ThreadPoolExecutor-12_4': missing ScriptRunContext! This warning can be ignored when running in bare mode.\n",
      "2024-11-17 22:28:06.062 Thread 'ThreadPoolExecutor-12_4': missing ScriptRunContext! This warning can be ignored when running in bare mode.\n",
      "2024-11-17 22:28:06.176 Thread 'ThreadPoolExecutor-12_6': missing ScriptRunContext! This warning can be ignored when running in bare mode.\n",
      "2024-11-17 22:28:06.179 Thread 'ThreadPoolExecutor-12_6': missing ScriptRunContext! This warning can be ignored when running in bare mode.\n",
      "2024-11-17 22:28:06.180 Thread 'ThreadPoolExecutor-12_6': missing ScriptRunContext! This warning can be ignored when running in bare mode.\n",
      "2024-11-17 22:28:06.181 Thread 'ThreadPoolExecutor-12_6': missing ScriptRunContext! This warning can be ignored when running in bare mode.\n",
      "2024-11-17 22:28:06.181 Thread 'ThreadPoolExecutor-12_6': missing ScriptRunContext! This warning can be ignored when running in bare mode.\n"
     ]
    },
    {
     "name": "stdout",
     "output_type": "stream",
     "text": [
      "Input received by rag_for_eval: {'Question': 'What \"vessels\" are required to comply with the Navigation Rules?'}\n",
      "Input received by rag_for_eval: {'Question': 'Where do Kayaks and Canoes fit into the Navigation Rules'}\n",
      "Input received by rag_for_eval: {'Question': 'What mission code do I use to record hours for Meeting time, Pre-meeting prep, Travel to and from meeting as a non-officer?'}\n"
     ]
    },
    {
     "name": "stderr",
     "output_type": "stream",
     "text": [
      "2024-11-17 22:28:06.504 Thread 'ThreadPoolExecutor-12_7': missing ScriptRunContext! This warning can be ignored when running in bare mode.\n",
      "2024-11-17 22:28:06.507 Thread 'ThreadPoolExecutor-12_7': missing ScriptRunContext! This warning can be ignored when running in bare mode.\n",
      "2024-11-17 22:28:06.507 Thread 'ThreadPoolExecutor-12_7': missing ScriptRunContext! This warning can be ignored when running in bare mode.\n",
      "2024-11-17 22:28:06.508 Thread 'ThreadPoolExecutor-12_7': missing ScriptRunContext! This warning can be ignored when running in bare mode.\n",
      "2024-11-17 22:28:06.510 Thread 'ThreadPoolExecutor-12_7': missing ScriptRunContext! This warning can be ignored when running in bare mode.\n",
      "2024-11-17 22:28:06.597 Thread 'ThreadPoolExecutor-12_2': missing ScriptRunContext! This warning can be ignored when running in bare mode.\n",
      "2024-11-17 22:28:06.602 Thread 'ThreadPoolExecutor-12_2': missing ScriptRunContext! This warning can be ignored when running in bare mode.\n",
      "2024-11-17 22:28:06.603 Thread 'ThreadPoolExecutor-12_2': missing ScriptRunContext! This warning can be ignored when running in bare mode.\n",
      "2024-11-17 22:28:06.603 Thread 'ThreadPoolExecutor-12_2': missing ScriptRunContext! This warning can be ignored when running in bare mode.\n",
      "2024-11-17 22:28:06.604 Thread 'ThreadPoolExecutor-12_2': missing ScriptRunContext! This warning can be ignored when running in bare mode.\n"
     ]
    },
    {
     "name": "stdout",
     "output_type": "stream",
     "text": [
      "Input received by rag_for_eval: {'Question': 'Can a FC from another flotilla do my uniform inspection?'}\n",
      "Input received by rag_for_eval: {'Question': 'What mission code do I use for vessel safety checks?'}\n"
     ]
    },
    {
     "name": "stderr",
     "output_type": "stream",
     "text": [
      "2024-11-17 22:28:06.954 Thread 'ThreadPoolExecutor-12_0': missing ScriptRunContext! This warning can be ignored when running in bare mode.\n",
      "2024-11-17 22:28:06.958 Thread 'ThreadPoolExecutor-12_0': missing ScriptRunContext! This warning can be ignored when running in bare mode.\n",
      "2024-11-17 22:28:06.960 Thread 'ThreadPoolExecutor-12_0': missing ScriptRunContext! This warning can be ignored when running in bare mode.\n",
      "2024-11-17 22:28:06.963 Thread 'ThreadPoolExecutor-12_0': missing ScriptRunContext! This warning can be ignored when running in bare mode.\n",
      "2024-11-17 22:28:06.963 Thread 'ThreadPoolExecutor-12_0': missing ScriptRunContext! This warning can be ignored when running in bare mode.\n",
      "2024-11-17 22:28:06.976 Thread 'ThreadPoolExecutor-12_8': missing ScriptRunContext! This warning can be ignored when running in bare mode.\n",
      "2024-11-17 22:28:06.989 Thread 'ThreadPoolExecutor-12_8': missing ScriptRunContext! This warning can be ignored when running in bare mode.\n",
      "2024-11-17 22:28:07.004 Thread 'ThreadPoolExecutor-12_8': missing ScriptRunContext! This warning can be ignored when running in bare mode.\n",
      "2024-11-17 22:28:07.012 Thread 'ThreadPoolExecutor-12_8': missing ScriptRunContext! This warning can be ignored when running in bare mode.\n",
      "2024-11-17 22:28:07.014 Thread 'ThreadPoolExecutor-12_8': missing ScriptRunContext! This warning can be ignored when running in bare mode.\n",
      "2024-11-17 22:28:07.141 Thread 'ThreadPoolExecutor-12_1': missing ScriptRunContext! This warning can be ignored when running in bare mode.\n",
      "2024-11-17 22:28:07.144 Thread 'ThreadPoolExecutor-12_1': missing ScriptRunContext! This warning can be ignored when running in bare mode.\n",
      "2024-11-17 22:28:07.151 Thread 'ThreadPoolExecutor-12_1': missing ScriptRunContext! This warning can be ignored when running in bare mode.\n",
      "2024-11-17 22:28:07.153 Thread 'ThreadPoolExecutor-12_1': missing ScriptRunContext! This warning can be ignored when running in bare mode.\n"
     ]
    },
    {
     "name": "stdout",
     "output_type": "stream",
     "text": [
      "Input received by rag_for_eval: {'Question': 'Who can do my uniform inspection?'}\n",
      "Input received by rag_for_eval: {'Question': 'How many fatigue hours for a patrol where I was underway for 7 hours and then stopped for lunch for an hour and then we spent an combined hour on the boat before and after the patrol'}\n",
      "Input received by rag_for_eval: {'Question': 'Are Auxiliarists in AP status authorized to receive Auxiliary publications?'}\n"
     ]
    },
    {
     "name": "stderr",
     "output_type": "stream",
     "text": [
      "2024-11-17 22:28:07.154 Thread 'ThreadPoolExecutor-12_1': missing ScriptRunContext! This warning can be ignored when running in bare mode.\n",
      "2024-11-17 22:28:07.803 Thread 'ThreadPoolExecutor-12_9': missing ScriptRunContext! This warning can be ignored when running in bare mode.\n",
      "2024-11-17 22:28:07.804 Thread 'ThreadPoolExecutor-12_9': missing ScriptRunContext! This warning can be ignored when running in bare mode.\n",
      "2024-11-17 22:28:07.806 Thread 'ThreadPoolExecutor-12_9': missing ScriptRunContext! This warning can be ignored when running in bare mode.\n",
      "2024-11-17 22:28:07.812 Thread 'ThreadPoolExecutor-12_9': missing ScriptRunContext! This warning can be ignored when running in bare mode.\n",
      "2024-11-17 22:28:07.813 Thread 'ThreadPoolExecutor-12_9': missing ScriptRunContext! This warning can be ignored when running in bare mode.\n",
      "2024-11-17 22:28:07.952 Thread 'ThreadPoolExecutor-12_5': missing ScriptRunContext! This warning can be ignored when running in bare mode.\n",
      "2024-11-17 22:28:07.953 Thread 'ThreadPoolExecutor-12_5': missing ScriptRunContext! This warning can be ignored when running in bare mode.\n",
      "2024-11-17 22:28:07.954 Thread 'ThreadPoolExecutor-12_5': missing ScriptRunContext! This warning can be ignored when running in bare mode.\n",
      "2024-11-17 22:28:07.955 Thread 'ThreadPoolExecutor-12_5': missing ScriptRunContext! This warning can be ignored when running in bare mode.\n",
      "2024-11-17 22:28:07.958 Thread 'ThreadPoolExecutor-12_5': missing ScriptRunContext! This warning can be ignored when running in bare mode.\n",
      "2024-11-17 22:28:07.996 Thread 'ThreadPoolExecutor-12_6': missing ScriptRunContext! This warning can be ignored when running in bare mode.\n"
     ]
    },
    {
     "name": "stdout",
     "output_type": "stream",
     "text": [
      "Input received by rag_for_eval: {'Question': \"I'm qualified as an AV, is there a ribbon for the qualification?\"}\n",
      "Input received by rag_for_eval: {'Question': 'Are AUXDATA entries made for Auxiliarists in AP Status?'}\n",
      "Input received by rag_for_eval: {'Question': 'I am a Coxswain and own a vessel, may I take non-operationally qualified members who want to do ATON work on patrol with me?'}\n"
     ]
    },
    {
     "name": "stderr",
     "output_type": "stream",
     "text": [
      "2024-11-17 22:28:08.003 Thread 'ThreadPoolExecutor-12_6': missing ScriptRunContext! This warning can be ignored when running in bare mode.\n",
      "2024-11-17 22:28:08.035 Thread 'ThreadPoolExecutor-12_6': missing ScriptRunContext! This warning can be ignored when running in bare mode.\n",
      "2024-11-17 22:28:08.040 Thread 'ThreadPoolExecutor-12_6': missing ScriptRunContext! This warning can be ignored when running in bare mode.\n",
      "2024-11-17 22:28:08.048 Thread 'ThreadPoolExecutor-12_6': missing ScriptRunContext! This warning can be ignored when running in bare mode.\n",
      "1it [00:05,  5.35s/it]2024-11-17 22:28:08.376 Thread 'ThreadPoolExecutor-12_4': missing ScriptRunContext! This warning can be ignored when running in bare mode.\n",
      "2024-11-17 22:28:08.376 Thread 'ThreadPoolExecutor-12_4': missing ScriptRunContext! This warning can be ignored when running in bare mode.\n",
      "2024-11-17 22:28:08.376 Thread 'ThreadPoolExecutor-12_4': missing ScriptRunContext! This warning can be ignored when running in bare mode.\n",
      "2024-11-17 22:28:08.377 Thread 'ThreadPoolExecutor-12_4': missing ScriptRunContext! This warning can be ignored when running in bare mode.\n",
      "2024-11-17 22:28:08.377 Thread 'ThreadPoolExecutor-12_4': missing ScriptRunContext! This warning can be ignored when running in bare mode.\n",
      "2024-11-17 22:28:08.443 Thread 'ThreadPoolExecutor-12_10': missing ScriptRunContext! This warning can be ignored when running in bare mode.\n",
      "2024-11-17 22:28:08.443 Thread 'ThreadPoolExecutor-12_10': missing ScriptRunContext! This warning can be ignored when running in bare mode.\n",
      "2024-11-17 22:28:08.443 Thread 'ThreadPoolExecutor-12_10': missing ScriptRunContext! This warning can be ignored when running in bare mode.\n",
      "2024-11-17 22:28:08.444 Thread 'ThreadPoolExecutor-12_10': missing ScriptRunContext! This warning can be ignored when running in bare mode.\n",
      "2024-11-17 22:28:08.444 Thread 'ThreadPoolExecutor-12_10': missing ScriptRunContext! This warning can be ignored when running in bare mode.\n",
      "2it [00:05,  2.30s/it]2024-11-17 22:28:08.539 Thread 'ThreadPoolExecutor-12_3': missing ScriptRunContext! This warning can be ignored when running in bare mode.\n",
      "2024-11-17 22:28:08.543 Thread 'ThreadPoolExecutor-12_3': missing ScriptRunContext! This warning can be ignored when running in bare mode.\n",
      "2024-11-17 22:28:08.544 Thread 'ThreadPoolExecutor-12_3': missing ScriptRunContext! This warning can be ignored when running in bare mode.\n",
      "2024-11-17 22:28:08.547 Thread 'ThreadPoolExecutor-12_3': missing ScriptRunContext! This warning can be ignored when running in bare mode.\n",
      "2024-11-17 22:28:08.548 Thread 'ThreadPoolExecutor-12_3': missing ScriptRunContext! This warning can be ignored when running in bare mode.\n"
     ]
    },
    {
     "name": "stdout",
     "output_type": "stream",
     "text": [
      "Input received by rag_for_eval: {'Question': \"I'm not a pilot. Can I join the Auxiliary air program?\"}\n",
      "Input received by rag_for_eval: {'Question': 'What do I need to do to remain qualified?'}\n",
      "Input received by rag_for_eval: {'Question': 'How long should the applicant expect to be in AP status?'}\n"
     ]
    },
    {
     "name": "stderr",
     "output_type": "stream",
     "text": [
      "3it [00:05,  1.32s/it]2024-11-17 22:28:08.696 Thread 'ThreadPoolExecutor-12_7': missing ScriptRunContext! This warning can be ignored when running in bare mode.\n",
      "2024-11-17 22:28:08.696 Thread 'ThreadPoolExecutor-12_7': missing ScriptRunContext! This warning can be ignored when running in bare mode.\n",
      "2024-11-17 22:28:08.696 Thread 'ThreadPoolExecutor-12_7': missing ScriptRunContext! This warning can be ignored when running in bare mode.\n",
      "2024-11-17 22:28:08.697 Thread 'ThreadPoolExecutor-12_7': missing ScriptRunContext! This warning can be ignored when running in bare mode.\n",
      "2024-11-17 22:28:08.698 Thread 'ThreadPoolExecutor-12_7': missing ScriptRunContext! This warning can be ignored when running in bare mode.\n"
     ]
    },
    {
     "name": "stdout",
     "output_type": "stream",
     "text": [
      "Input received by rag_for_eval: {'Question': \"What's the policy for wearing a life jacket on the dock when doing a patrol?\"}\n"
     ]
    },
    {
     "name": "stderr",
     "output_type": "stream",
     "text": [
      "34it [04:32,  8.01s/it]\n"
     ]
    }
   ],
   "source": [
    "from langsmith.evaluation import evaluate, LangChainStringEvaluator\n",
    "\n",
    "\n",
    "qa_evaluator = [LangChainStringEvaluator(\"cot_qa\")]\n",
    "dataset_name = \"ASK-groundtruth_v1\"  # ASK-groundtruth_v1  # one_example\n",
    "\n",
    "experiment_results = evaluate(\n",
    "\n",
    "    # Evaluator expects a dict with  \"answer\" and \"contexts\" keys\n",
    "    rag.rag_for_eval,\n",
    "    data=dataset_name,\n",
    "    evaluators=qa_evaluator,\n",
    "    metadata=CONFIG,\n",
    "    experiment_prefix=\"ASK-groundtruth_v1\",\n",
    "    description=\"initial unit test of eval pipeline\",\n",
    ")"
   ]
  },
  {
   "cell_type": "code",
   "execution_count": null,
   "metadata": {},
   "outputs": [],
   "source": []
  }
 ],
 "metadata": {
  "kernelspec": {
   "display_name": ".venv-main",
   "language": "python",
   "name": "python3"
  },
  "language_info": {
   "codemirror_mode": {
    "name": "ipython",
    "version": 3
   },
   "file_extension": ".py",
   "mimetype": "text/x-python",
   "name": "python",
   "nbconvert_exporter": "python",
   "pygments_lexer": "ipython3",
   "version": "3.11.6"
  }
 },
 "nbformat": 4,
 "nbformat_minor": 2
}
