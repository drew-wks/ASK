{
 "cells": [
  {
   "cell_type": "code",
   "execution_count": 3,
   "metadata": {},
   "outputs": [
    {
     "name": "stdout",
     "output_type": "stream",
     "text": [
      "/Users/drew_wilkins/Drews_Files/Drew/Python/Repositories/ASK/.venv-main/bin/python\n"
     ]
    }
   ],
   "source": [
    "import os, sys\n",
    "import pandas as pd\n",
    "import openpyxl  # open xlsx files with pandas\n",
    "import streamlit as st\n",
    "\n",
    "# Confirm you're using the correct interpreter\n",
    "print(sys.executable)\n",
    "\n",
    "# Add the parent directory to sys.path so you can import your modules from a subdirectory\n",
    "sys.path.append(os.path.abspath('..'))\n",
    "\n",
    "import rag\n",
    "from rag import CONFIG"
   ]
  },
  {
   "cell_type": "code",
   "execution_count": 4,
   "metadata": {},
   "outputs": [],
   "source": [
    "# Config LangSmith observability\n",
    "os.environ[\"LANGCHAIN_API_KEY\"] = st.secrets[\"LANGCHAIN_API_KEY\"]\n",
    "os.environ[\"LANGCHAIN_TRACING_V2\"] = \"true\"\n",
    "os.environ[\"LANGCHAIN_PROJECT\"] = \"inference_tester.ipynb_on_ASK_main\""
   ]
  },
  {
   "cell_type": "code",
   "execution_count": 5,
   "metadata": {},
   "outputs": [],
   "source": [
    "user_question = 'Can the AWU uniform be worn for the inspection?'"
   ]
  },
  {
   "cell_type": "code",
   "execution_count": 6,
   "metadata": {},
   "outputs": [
    {
     "name": "stderr",
     "output_type": "stream",
     "text": [
      "2024-12-22 18:10:30.570 Thread 'MainThread': missing ScriptRunContext! This warning can be ignored when running in bare mode.\n",
      "2024-12-22 18:10:30.583 \n",
      "  \u001b[33m\u001b[1mWarning:\u001b[0m to view this Streamlit app on a browser, run it with the following\n",
      "  command:\n",
      "\n",
      "    streamlit run /Users/drew_wilkins/Drews_Files/Drew/Python/Repositories/ASK/.venv-main/lib/python3.11/site-packages/ipykernel_launcher.py [ARGUMENTS]\n",
      "2024-12-22 18:10:30.583 Thread 'MainThread': missing ScriptRunContext! This warning can be ignored when running in bare mode.\n",
      "2024-12-22 18:10:30.584 Thread 'MainThread': missing ScriptRunContext! This warning can be ignored when running in bare mode.\n",
      "2024-12-22 18:10:31.089 Thread 'Thread-6': missing ScriptRunContext! This warning can be ignored when running in bare mode.\n",
      "2024-12-22 18:10:31.090 Thread 'Thread-6': missing ScriptRunContext! This warning can be ignored when running in bare mode.\n",
      "2024-12-22 18:10:31.995 Thread 'MainThread': missing ScriptRunContext! This warning can be ignored when running in bare mode.\n",
      "2024-12-22 18:10:31.996 Thread 'MainThread': missing ScriptRunContext! This warning can be ignored when running in bare mode.\n"
     ]
    }
   ],
   "source": [
    "# Generate a response\n",
    "response = rag.rag(user_question)\n",
    "# response, enriched_question = rag.rag(user_question)"
   ]
  },
  {
   "cell_type": "code",
   "execution_count": 8,
   "metadata": {},
   "outputs": [
    {
     "name": "stdout",
     "output_type": "stream",
     "text": [
      "\n",
      "--------- \\ ASK \\ ------------------------------------- \n",
      "\n",
      "USER QUESTION: Can the AWU uniform be worn for the inspection?\n",
      "\n",
      "ENRICHED QUESTION: Can the Auxiliary Alternate Work Uniform uniform be worn for the inspection?\n",
      "\n",
      "ANSWER: Yes, the Auxiliary Alternate Work Uniform (AWU) can be worn for the inspection. According to the Auxiliary Manual, Auxiliarists may choose any of their personal uniforms they are authorized and outfitted to wear for the inspection, and the AWU is specifically authorized as an alternative work uniform for activities that involve multiple Auxiliarists. However, it is important to note that the AWU is not authorized for ceremonial occasions.\n",
      "\n",
      "LLM BASED ANSWER ON:\n",
      "Auxiliary Manual\n",
      "Chief Director's Standard Operating Procedure - September 2021\n",
      "\n",
      "RETRIEVED DOCS:\n",
      "./raw_pdfs/BSX Policy Letter_AUX-PL-024-B_23-02__AUXILIARY UNIFORM AND APPEARANCE POLICY CHANGES_29JUL24.pdf\n",
      "./raw_pdfs/Auxiliary_Uniform_Update_National_Board_24Oct2021.pdf\n",
      "./raw_pdfs/AUXCA SANITATION WORKSHOP MARCH 2022.pdf\n",
      "./raw_pdfs/IT Instructor WORKSHOP 2023 Jan 2023 Final.pdf\n",
      "./raw_pdfs/Auxiliary_Uniform_Update_National_Board_24Oct2021.pdf\n"
     ]
    }
   ],
   "source": [
    "print(f\"\\n--------- \\\\ ASK \\ ------------------------------------- \\n\")\n",
    "print(f\"USER QUESTION: {response['user_question']}\\n\")\n",
    "print(f\"ENRICHED QUESTION: {response['enriched_question']}\\n\")\n",
    "print(f\"ANSWER: {response['answer']}\\n\")\n",
    "print(f\"LLM BASED ANSWER ON:\")\n",
    "print(\"\\n\".join(response['llm_sources']))\n",
    "print(f\"\\nRETRIEVED DOCS:\")\n",
    "print(\"\\n\".join(\n",
    "    map(lambda doc: doc.metadata['source'], response['context'])))\n",
    "\n",
    "\n",
    "# short_source_list = rag.create_short_source_list(response)\n",
    "# long_source_list = rag.create_long_source_list(response)\n",
    "# print(f\"Short source list: {short_source_list}\")\n",
    "# print(f\"{long_source_list}\")"
   ]
  },
  {
   "cell_type": "code",
   "execution_count": 9,
   "metadata": {},
   "outputs": [
    {
     "data": {
      "text/plain": [
       "{'user_question': 'Can the AWU uniform be worn for the inspection?',\n",
       " 'enriched_question': 'Can the Auxiliary Alternate Work Uniform uniform be worn for the inspection?',\n",
       " 'context': [Document(metadata={'upsert_date': '2024-12-18T23:29:39Z', 'embedding': 'text-embedding-ada-002', 'expiration_date': '2034-07-29T00:00:00Z', 'scope': '1_national', 'organization': '', 'page_count': 24, 'issue_date': '2024-07-29T00:00:00Z', 'public_release': True, 'aux_specific': True, 'publication_number': 'AUX-PL-024-B', 'pdf_id': '08b3baae-3aa2-5ccd-8c80-8ab255a45156', 'source': './raw_pdfs/BSX Policy Letter_AUX-PL-024-B_23-02__AUXILIARY UNIFORM AND APPEARANCE POLICY CHANGES_29JUL24.pdf', 'title': 'BSX Policy Letter AUX-PL-024(B)/23-02, AUXILIARY UNIFORM AND APPEARANCE POLICY CHANGES', 'page': 10, '_id': '49fdc853-59c1-4157-a94f-55f8fa4ca1db', '_collection_name': 'ASK_vectorstore'}, page_content='16790 / AUX -PL-024(B) \\nBSX Policy Letter 23 -02 \\n \\n6 \\nEncl (1)  Guard certification for the items they manufacture.  The safest course is to purchase insignia \\nsupplied to the district by the AUXCEN or to ask the Materials ( MA) officer.  \\n \\n \\nAuxMan Section 10.C.1. - Setting an Example and Uniform Inspection Requirements  \\n \\nElected and appoint ed officers are expected to wear the uniform properly to set an example.  \\nThey must motivate and inspire other Auxiliarists to maintain the highest standards of personal \\nappearance, hygiene, and grooming when wearing the un iform. They must also hold \\nmembership accountable for maintaining the same high standards. Accordingly, the following \\nprovisions in this section are effective beginning in CY 2024.  \\nAuxiliarists in a membership status other than Approval Pending (AP) or retired shall undergo \\na uniform inspection each calendar year performed and validated for AUXDATA II entry \\npurposes by their FC, VFC, IPFC, or other elected officer (i.e., this includes other immediate \\npast elected officers) in their Chain of Leadership and Management (COL M) (e.g., uniform \\ninspections may be conducted for attendees at a district conference or division training forum). \\nThe Chief Director of Auxiliary (CHDIRAUX), Deputy C HDIRAUX, Director, and \\nOperations Training Officer  (OTO) may also conduct these inspections.  An Auxiliarist may \\nnot inspect the mselves. It is primarily the responsibility of the aforementioned elected  officers to \\nenter uniform inspection information into a member’s AUXDATA II record  (the two fields \\nrelated to uniform inspections found in the “General Information” section of a member’s record \\ndetail are the “Uniform Exempt” field and the “Uniform Last Inspected” date field ). Although \\nInformation Services ( IS) officers are authorized to edit uniform inspection records, they should \\nonly be utilized as backup to assist with data entry. Should an elected officer need training in \\norder to make this entry, the y should consult with their local IS chain.  \\nUndergoing inspection by an elected or immediate past elected officer in another Auxiliary \\nCOL M is also authorized. For example, an Auxiliarist may undergo their uniform inspection \\nin another Auxiliary region while away from their home (e.g., at the annual Auxiliary National \\nConference). In such case, the Auxiliarist must provide the inspector’s att estation of inspection \\nto their FC for AUXDATA II record entry purposes (email acceptable).  \\n \\nThose authorized to perform uniform inspections may not specify the uniform to be worn. \\nDinner Dress Jacket uniforms , Hot Weather Uniform (HWU) versions, the Auxiliary jump \\nsuit, flight suit, or any organizational clothing  (defined as Coast Guard unit -owned clothing \\nthat is issued to individuals ) are not authorized for the purpose of this annual inspection. A n \\nAuxiliarist may otherwise choose any of their personal uniform s they are authorized and \\noutfitted to wear (e.g., a certified vessel examiner (VE) who is also a coxswain and instructor \\nmay choose to be inspected in the ODU, CGWU , or AWU with authorized VE polo shirt; an \\nAuxiliarist who only wears the Blue Blazer Outfit for their Auxiliary activities must wear that \\nfor inspection purposes ). An Auxiliary  aviator who only owns a flight suit and who does not \\nown the Tropical Blue uniform, ODU, CGWU, or AWU must stand inspection in the flight \\nsuit. Otherwise, the individual should stan d inspection in one of the other uniforms.  \\n \\nFlexibility shall also be afforded Auxiliarists to undergo inspect ion. Multiple opportunities for \\ninspection  shall be provided (e.g., flotillas and divisions should hold inspection opportunities '),\n",
       "  Document(metadata={'upsert_date': '2024-12-18T23:30:18Z', 'embedding': 'text-embedding-ada-002', 'expiration_date': '2031-10-27T00:00:00Z', 'organization': 'CG-BSX', 'scope': '1_national', 'page_count': 6, 'issue_date': '2021-10-27T00:00:00Z', 'publication_number': '', 'aux_specific': True, 'public_release': True, 'pdf_id': '908864cc-29b0-5cf2-b710-eff2e1cadbab', 'source': './raw_pdfs/Auxiliary_Uniform_Update_National_Board_24Oct2021.pdf', 'title': 'Auxiliary Uniform Update National Board 24Oct2021', 'page': 3, '_id': 'b5918569-4812-4980-9967-d57b7b8002f2', '_collection_name': 'ASK_vectorstore'}, page_content='4Auxiliary Work Uniform (AWU)\\nAuxiliary Work Uniform :Dark navy blue polo shirt with themember’s lastname\\nembroidered ontheright side chest (allcaps) andtheAuxiliary logo embroidered on\\ntheleftside chest .Worn with dark navy blue cargo tactical pants, belt, boots, and\\nAuxiliary ballcap.'),\n",
       "  Document(metadata={'upsert_date': '2024-12-18T23:35:17Z', 'embedding': 'text-embedding-ada-002', 'expiration_date': '2032-03-05T00:00:00Z', 'scope': '1_national', 'organization': '', 'page_count': 90, 'issue_date': '2022-03-06T00:00:00Z', 'publication_number': '', 'public_release': True, 'aux_specific': True, 'pdf_id': 'd9c73633-6bbd-56d7-94d9-953c6c207a4a', 'source': './raw_pdfs/AUXCA SANITATION WORKSHOP MARCH 2022.pdf', 'title': 'AUXCA SANITATION National WORKSHOP 2022', 'page': 62, '_id': '7f1e55fe-85fb-4cc7-a96f-f7f3f4b215d4', '_collection_name': 'ASK_vectorstore'}, page_content='Clothing Guidelines\\n\\uf097Wear clean, approved Auxiliary and AUXCA \\nuniforms as authorized by the Auxiliary \\nManual.\\n\\uf097Wear safety shoes or boots. Medical clearance \\nfor variations in footwear is acceptable.\\n\\uf097Wear a white apron\\n\\uf097Wear an approved clean cover\\n\\uf097Do not wear jewelry (watches, rings, earrings, \\netc.) while preparing or serving food\\nAUG2019'),\n",
       "  Document(metadata={'upsert_date': '2024-12-18T23:33:06Z', 'embedding': 'text-embedding-ada-002', 'expiration_date': '2032-12-20T00:00:00Z', 'organization': '', 'scope': '1_national', 'page_count': 44, 'issue_date': '2022-12-21T00:00:00Z', 'publication_number': '', 'aux_specific': True, 'public_release': True, 'pdf_id': '0d842dd8-b419-58b1-8c89-0f206fa3d2af', 'source': './raw_pdfs/IT Instructor WORKSHOP 2023 Jan 2023 Final.pdf', 'title': 'Auxiliary IT National WORKSHOP 2023', 'page': 34, '_id': '48ad1867-16b3-49ae-97f3-9b08fc672975', '_collection_name': 'ASK_vectorstore'}, page_content='Uniforms – Alternative \\nWork Uniform (AWU)\\n•The Chief Director’s Standard Operating \\nProcedure - September 2021.\\n•Authorizes the AWU for PE Classes\\n•Available on the Chief Director’s web \\npage under SOPs.\\n35\\n January 2023\\n• The\\xa0SOP\\xa0states\\xa0that\\xa0Auxiliarists \\xa0who\\xa0participate \\xa0in\\xa0activities\\xa0that\\xa0often\\xa0involve\\xa0multiple\\xa0Auxiliarists \\xa0\\n(e.g.,\\xa0public\\xa0education \\xa0classes;\\xa0boat\\xa0crews;\\xa0aircrews)\\xa0may\\xa0wear\\xa0the\\xa0ODU\\xa0(with\\xa0or\\xa0without\\xa0\\noperations \\xa0polo\\xa0shirt),\\xa0the\\xa0CG‐U,\\xa0or\\xa0the\\xa0Auxiliary\\xa0Work\\xa0Uniform\\xa0(AWU).\\xa0\\n• It\\xa0further\\xa0states:\\xa0The\\xa0AWU\\xa0is\\xa0authorized \\xa0to\\xa0be\\xa0worn\\xa0as\\xa0an\\xa0alternative \\xa0work\\xa0uniform\\xa0whenever \\xa0the\\xa0\\nODU\\xa0or\\xa0CG‐U\\xa0is\\xa0authorized \\xa0to\\xa0be\\xa0worn.\\xa0This\\xa0includes\\xa0authorization \\xa0to\\xa0be\\xa0worn\\xa0to\\xa0instruct\\xa0virtual\\xa0\\nand\\xa0in‐person\\xa0public\\xa0education \\xa0classes,\\xa0perform\\xa0boating\\xa0safety\\xa0partner\\xa0visits,\\xa0and\\xa0for\\xa0public\\xa0\\noutreach\\xa0events\\xa0(e.g.,\\xa0boating\\xa0safety\\xa0booths\\xa0at\\xa0boat\\xa0shows;\\xa0public\\xa0outreach\\xa0information \\xa0tables\\xa0at\\xa0\\nNational\\xa0Safe\\xa0Boating\\xa0Week\\xa0events).\\xa0The\\xa0AWU\\xa0is\\xa0specifically \\xa0not\\xa0authorized \\xa0to\\xa0be\\xa0worn\\xa0for\\xa0\\nceremonial \\xa0occasions \\xa0(e.g.,\\xa0as\\xa0part\\xa0of\\xa0a\\xa0color\\xa0guard;\\xa0or\\xa0in\\xa0parade\\xa0formation). \\xa0\\n35'),\n",
       "  Document(metadata={'upsert_date': '2024-12-18T23:30:18Z', 'embedding': 'text-embedding-ada-002', 'expiration_date': '2031-10-27T00:00:00Z', 'scope': '1_national', 'organization': 'CG-BSX', 'page_count': 6, 'issue_date': '2021-10-27T00:00:00Z', 'aux_specific': True, 'publication_number': '', 'public_release': True, 'pdf_id': '908864cc-29b0-5cf2-b710-eff2e1cadbab', 'source': './raw_pdfs/Auxiliary_Uniform_Update_National_Board_24Oct2021.pdf', 'title': 'Auxiliary Uniform Update National Board 24Oct2021', 'page': 2, '_id': '172e0f60-2e37-4a0a-bd68-dba2f5ecbbfd', '_collection_name': 'ASK_vectorstore'}, page_content='New Coast Guard Auxiliary Uniform\\nAuxiliary Work Uniform (AWU) :This will beanoptional work uniform\\nauthorized forallAuxiliarists towear .Itwillbeamandatory work uniform for\\nmembers whocan’t fitintotheCGU .\\n3')],\n",
       " 'answer': 'Yes, the Auxiliary Alternate Work Uniform (AWU) can be worn for the inspection. According to the Auxiliary Manual, Auxiliarists may choose any of their personal uniforms they are authorized and outfitted to wear for the inspection, and the AWU is specifically authorized as an alternative work uniform for activities that involve multiple Auxiliarists. However, it is important to note that the AWU is not authorized for ceremonial occasions.',\n",
       " 'llm_sources': ['Auxiliary Manual',\n",
       "  \"Chief Director's Standard Operating Procedure - September 2021\"]}"
      ]
     },
     "execution_count": 9,
     "metadata": {},
     "output_type": "execute_result"
    }
   ],
   "source": [
    "response"
   ]
  },
  {
   "cell_type": "code",
   "execution_count": null,
   "metadata": {},
   "outputs": [],
   "source": [
    "answer_text = response['answer']\n",
    "\n",
    "# Print the answer\n",
    "print(answer_text)"
   ]
  },
  {
   "cell_type": "markdown",
   "metadata": {},
   "source": [
    "## Input and Response schema"
   ]
  },
  {
   "cell_type": "code",
   "execution_count": null,
   "metadata": {},
   "outputs": [],
   "source": [
    "'''{\n",
    "    'Question': 'string'\n",
    "    }\n",
    "\n",
    "response object:\n",
    "    {\n",
    "    'user_question': 'string'\n",
    "    'enriched_question': 'string'\n",
    "    'context': [list of Document objects]\n",
    "    'answer': {\n",
    "        'answer': 'string', \n",
    "        'llm_sources': ['string 1', 'string2']\n",
    "        }\n",
    "    }\n",
    "    '''"
   ]
  },
  {
   "cell_type": "code",
   "execution_count": null,
   "metadata": {},
   "outputs": [],
   "source": []
  }
 ],
 "metadata": {
  "kernelspec": {
   "display_name": ".venv-main",
   "language": "python",
   "name": "python3"
  },
  "language_info": {
   "codemirror_mode": {
    "name": "ipython",
    "version": 3
   },
   "file_extension": ".py",
   "mimetype": "text/x-python",
   "name": "python",
   "nbconvert_exporter": "python",
   "pygments_lexer": "ipython3",
   "version": "3.11.9"
  }
 },
 "nbformat": 4,
 "nbformat_minor": 2
}
