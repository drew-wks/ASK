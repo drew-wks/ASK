{
 "cells": [
  {
   "cell_type": "markdown",
   "metadata": {},
   "source": []
  },
  {
   "cell_type": "code",
   "execution_count": null,
   "metadata": {},
   "outputs": [],
   "source": [
    "%pip install importlib"
   ]
  },
  {
   "cell_type": "code",
   "execution_count": null,
   "metadata": {},
   "outputs": [],
   "source": [
    "'''\n",
    "TODO remove this if confirmed no longer needed\n",
    "from importlib import reload\n",
    "reload(ASK)'''"
   ]
  },
  {
   "cell_type": "code",
   "execution_count": 1,
   "metadata": {},
   "outputs": [],
   "source": [
    "import rag\n",
    "from rag import config"
   ]
  },
  {
   "cell_type": "code",
   "execution_count": 8,
   "metadata": {},
   "outputs": [
    {
     "name": "stderr",
     "output_type": "stream",
     "text": [
      "2024-10-23 16:10:07.806 Thread 'MainThread': missing ScriptRunContext! This warning can be ignored when running in bare mode.\n",
      "2024-10-23 16:10:07.807 Thread 'MainThread': missing ScriptRunContext! This warning can be ignored when running in bare mode.\n",
      "2024-10-23 16:10:07.807 Thread 'MainThread': missing ScriptRunContext! This warning can be ignored when running in bare mode.\n",
      "2024-10-23 16:10:07.808 Thread 'MainThread': missing ScriptRunContext! This warning can be ignored when running in bare mode.\n",
      "2024-10-23 16:10:07.808 Thread 'MainThread': missing ScriptRunContext! This warning can be ignored when running in bare mode.\n"
     ]
    },
    {
     "name": "stdout",
     "output_type": "stream",
     "text": [
      "\n",
      "--------- \\ \\ ASK \\ -------------------------------------\n",
      "\n",
      "To become an Auxiliary Culinary Assistant (AUXCA), you must complete the AUXCA program training and qualify for either the AUXCA-1 Specialist or AUXCA-2 Specialist competency, or both. \n",
      "\n",
      "Here is the step-by-step process to become an AUXCA:\n",
      "\n",
      "1. Ensure you meet the requirements: You must possess OS (Operational Specialist) Favorable PSI (Personnel Security Investigation) and be in AP (Active), IQ (Inactive Qualified), BQ (Basic Qualification), or AX (Auxiliary) status.\n",
      "\n",
      "2. Interview and approval: You need to be interviewed and approved by the Sector Officer - Culinary Assistant (SO-CA) before you can start AUXCA training.\n",
      "\n",
      "3. Complete AUXCA training: Once approved, you can start the AUXCA training. This training is provided by the Coast Guard and covers the necessary culinary skills and knowledge.\n",
      "\n",
      "4. Complete AUXCA PQS: After completing the AUXCA training, you must complete the AUXCA PQS (Qualification Standard) within one year of finishing the Basic AUXCA Course.\n",
      "\n",
      "5. Review and approval: The District Director of Auxiliary (DIRAUX) will review and approve your AUXCA PQS.\n",
      "\n",
      "6. AUXCA competency assignment: Once your AUXCA PQS is approved, the AUXCA competency will be assigned to you in AUXDATA II (Auxiliary Database).\n",
      "\n",
      "7. Maintain currency: To remain current in the AUXCA competency, you must complete the new AUXCA PQS no later than one year after starting it.\n",
      "\n",
      "It's important to note that the availability of AUXCA-1 Specialist activities, which involve supporting Coast Guard galleys and dining facilities, may vary based on the need in your geographic area. AUXCA-2 Specialist activities, which support Auxiliary unit culinary assistance needs, are not a requirement for providing direct support but can enhance your culinary skills and preparedness.\n",
      "\n",
      "Make sure to check with your local AUXCA program management for information on training opportunities and availability in your area.\n",
      "*AUXCA_SOP_FINAL_18JUN21_esign*, page 4\n",
      "\n",
      "*19_15_AUXILIARY_MANDATED_TRAINING__AUXMT____FAQs_AND_WHAT_IF_SCENARIOS___05NOV2015*, page 0\n",
      "\n",
      "*030_23_WORKFORCE_RESILIENCE_COURSE_NAME_CHANGE*, page 1\n",
      "\n",
      "*017_22_AUX_SUPPORT_OF_SW_BORDER_OPS*, page 1\n",
      "\n",
      "*AUXCA_SOP_FINAL_18JUN21_esign*, page 10\n",
      "\n"
     ]
    }
   ],
   "source": [
    "retriever = rag.get_retriever()\n",
    "\n",
    "query = 'how to become auxca?'\n",
    "response = rag.rag(query, retriever)\n",
    "print(\"\")\n",
    "print(\"--------- \\\\ ASK \\ -------------------------------------\")\n",
    "print(\"\")\n",
    "print(f\"{response['result']}\")\n",
    "\n",
    "short_source_list = rag.create_short_source_list(response)\n",
    "# long_source_list = rag.create_long_source_list(response)\n",
    "print(f\"{short_source_list}\")\n",
    "# print(f\"{long_source_list}\")\n",
    "query_length, source_length, result_length, total_tokens = rag.count_tokens(\n",
    "    response)"
   ]
  },
  {
   "cell_type": "markdown",
   "metadata": {},
   "source": []
  },
  {
   "cell_type": "code",
   "execution_count": null,
   "metadata": {},
   "outputs": [],
   "source": [
    "client.close()  # Release db from this process\n",
    "del client\n",
    "del qdrant"
   ]
  },
  {
   "cell_type": "code",
   "execution_count": null,
   "metadata": {},
   "outputs": [],
   "source": [
    "import ASK_inference as ASK\n",
    "from ASK_inference import config\n",
    "\n",
    "client = ASK.qdrant_connect_cloud()"
   ]
  },
  {
   "cell_type": "code",
   "execution_count": 12,
   "metadata": {},
   "outputs": [],
   "source": [
    "qdrant = ASK.create_langchain_qdrant(client)"
   ]
  },
  {
   "cell_type": "code",
   "execution_count": 13,
   "metadata": {},
   "outputs": [],
   "source": [
    "retriever = ASK.init_retriever_and_generator(qdrant)"
   ]
  },
  {
   "cell_type": "code",
   "execution_count": null,
   "metadata": {},
   "outputs": [],
   "source": [
    "query = 'What is the Auxiliary'\n",
    "response = ASK.rag(query, retriever)\n",
    "print(f\"{response['result']}\")"
   ]
  },
  {
   "cell_type": "code",
   "execution_count": null,
   "metadata": {},
   "outputs": [],
   "source": [
    "source_length, source_tokens, tot_tokens = count_tokens(response)"
   ]
  },
  {
   "cell_type": "code",
   "execution_count": null,
   "metadata": {},
   "outputs": [],
   "source": []
  }
 ],
 "metadata": {
  "kernelspec": {
   "display_name": ".venv",
   "language": "python",
   "name": "python3"
  },
  "language_info": {
   "codemirror_mode": {
    "name": "ipython",
    "version": 3
   },
   "file_extension": ".py",
   "mimetype": "text/x-python",
   "name": "python",
   "nbconvert_exporter": "python",
   "pygments_lexer": "ipython3",
   "version": "3.11.6"
  }
 },
 "nbformat": 4,
 "nbformat_minor": 2
}
