{
 "cells": [
  {
   "cell_type": "markdown",
   "metadata": {},
   "source": []
  },
  {
   "cell_type": "code",
   "execution_count": null,
   "metadata": {},
   "outputs": [],
   "source": [
    "%pip install importlib"
   ]
  },
  {
   "cell_type": "code",
   "execution_count": 1,
   "metadata": {},
   "outputs": [
    {
     "data": {
      "text/plain": [
       "'\\nTODO remove this if confirmed no longer needed\\nfrom importlib import reload\\nreload(ASK)\\n'"
      ]
     },
     "execution_count": 1,
     "metadata": {},
     "output_type": "execute_result"
    }
   ],
   "source": [
    "'''\n",
    "TODO remove this if confirmed no longer needed\n",
    "from importlib import reload\n",
    "reload(ASK)\n",
    "'''"
   ]
  },
  {
   "cell_type": "code",
   "execution_count": 2,
   "metadata": {},
   "outputs": [],
   "source": [
    "import sys\n",
    "import os\n",
    "\n",
    "# Add the parent directory to sys.path so you can import rag from a subdirectory\n",
    "parent_dir = os.path.abspath(os.path.join(os.getcwd(), '..'))\n",
    "if parent_dir not in sys.path:\n",
    "    sys.path.append(parent_dir)"
   ]
  },
  {
   "cell_type": "code",
   "execution_count": 3,
   "metadata": {},
   "outputs": [],
   "source": [
    "import rag\n",
    "from rag import CONFIG"
   ]
  },
  {
   "cell_type": "code",
   "execution_count": 5,
   "metadata": {},
   "outputs": [
    {
     "name": "stderr",
     "output_type": "stream",
     "text": [
      "2024-11-14 21:12:05.696 Thread 'MainThread': missing ScriptRunContext! This warning can be ignored when running in bare mode.\n",
      "2024-11-14 21:12:05.697 Thread 'MainThread': missing ScriptRunContext! This warning can be ignored when running in bare mode.\n",
      "2024-11-14 21:12:05.697 Thread 'MainThread': missing ScriptRunContext! This warning can be ignored when running in bare mode.\n",
      "2024-11-14 21:12:05.697 Thread 'MainThread': missing ScriptRunContext! This warning can be ignored when running in bare mode.\n",
      "2024-11-14 21:12:05.698 Thread 'MainThread': missing ScriptRunContext! This warning can be ignored when running in bare mode.\n"
     ]
    },
    {
     "name": "stdout",
     "output_type": "stream",
     "text": [
      "\n",
      "--------- \\ ASK \\ -------------------------------------\n",
      "\n",
      "To become an Auxiliary Culinary Assistant (AUXCA), you must complete the AUXCA program training, qualification, and assignment of either the Auxiliary Culinary Assistance Specialist 1 (AUXCA-1 Specialist) or AUXCA-2 Specialist competency, or both. The AUXCA-1 Specialist activities involve supporting Coast Guard culinary operations, while the AUXCA-2 Specialist activities focus on Auxiliary unit culinary assistance needs. AUXCA-2 Specialist competency is not required to provide direct support to Auxiliary unit culinary service needs. To qualify for AUXCA-1 or AUXCA-2 Specialist, you must be a member of the Auxiliary, complete the required training courses, be in Basically Qualified (BQ) membership status, be current in annual uniform inspection, and successfully complete the Introduction to Risk Management (IRM) course. AUXCA-1 trainees must also undergo a medical screening and complete the two-dose Hepatitis A vaccination series. It's important to note that the availability of AUXCA-1 Specialist opportunities may vary in different geographic areas. For more information, refer to the Auxiliary Culinary Assistance (AUXCA) Program Standard Operating Procedures (AUX-SOP-005(B)).\n",
      "*AUXILIARY CULINARY ASSISTANCE (AUXCA) PROGRAM STANDARD OPERATING PROCEDURES_20AUG24_SOP-005-B*, page 6\n",
      "\n",
      "*19_15_AUXILIARY_MANDATED_TRAINING__AUXMT____FAQs_AND_WHAT_IF_SCENARIOS___05NOV2015*, page 0\n",
      "\n",
      "*030_23_WORKFORCE_RESILIENCE_COURSE_NAME_CHANGE*, page 1\n",
      "\n",
      "*017_22_AUX_SUPPORT_OF_SW_BORDER_OPS*, page 1\n",
      "\n",
      "*AUXILIARY CULINARY ASSISTANCE (AUXCA) PROGRAM STANDARD OPERATING PROCEDURES_20AUG24_SOP-005-B*, page 9\n",
      "\n"
     ]
    }
   ],
   "source": [
    "user_question = 'how to become auxca?'\n",
    "response, enriched_question = rag.rag(user_question)\n",
    "print(\"\")\n",
    "print(\"--------- \\\\ ASK \\ -------------------------------------\")\n",
    "print(\"\")\n",
    "print(f\"{response['answer']['answer']}\")\n",
    "\n",
    "short_source_list = rag.create_short_source_list(response)\n",
    "# long_source_list = rag.create_long_source_list(response)\n",
    "print(f\"{short_source_list}\")\n",
    "# print(f\"{long_source_list}\")"
   ]
  },
  {
   "cell_type": "markdown",
   "metadata": {},
   "source": []
  },
  {
   "cell_type": "code",
   "execution_count": null,
   "metadata": {},
   "outputs": [],
   "source": [
    "client.close()  # Release db from this process\n",
    "del client\n",
    "del qdrant"
   ]
  },
  {
   "cell_type": "code",
   "execution_count": null,
   "metadata": {},
   "outputs": [],
   "source": []
  }
 ],
 "metadata": {
  "kernelspec": {
   "display_name": ".venv-main",
   "language": "python",
   "name": "python3"
  },
  "language_info": {
   "codemirror_mode": {
    "name": "ipython",
    "version": 3
   },
   "file_extension": ".py",
   "mimetype": "text/x-python",
   "name": "python",
   "nbconvert_exporter": "python",
   "pygments_lexer": "ipython3",
   "version": "3.11.6"
  }
 },
 "nbformat": 4,
 "nbformat_minor": 2
}
