{
 "cells": [
  {
   "cell_type": "markdown",
   "metadata": {},
   "source": []
  },
  {
   "cell_type": "code",
   "execution_count": null,
   "metadata": {},
   "outputs": [],
   "source": [
    "%pip install importlib"
   ]
  },
  {
   "cell_type": "code",
   "execution_count": 1,
   "metadata": {},
   "outputs": [
    {
     "data": {
      "text/plain": [
       "'\\nTODO remove this if confirmed no longer needed\\nfrom importlib import reload\\nreload(ASK)'"
      ]
     },
     "execution_count": 1,
     "metadata": {},
     "output_type": "execute_result"
    }
   ],
   "source": [
    "'''\n",
    "TODO remove this if confirmed no longer needed\n",
    "from importlib import reload\n",
    "reload(ASK)\n",
    "'''"
   ]
  },
  {
   "cell_type": "code",
   "execution_count": 5,
   "metadata": {},
   "outputs": [],
   "source": [
    "import sys\n",
    "import os\n",
    "\n",
    "# Add the parent directory to sys.path so you can import rag\n",
    "parent_dir = os.path.abspath(os.path.join(os.getcwd(), '..'))\n",
    "if parent_dir not in sys.path:\n",
    "    sys.path.append(parent_dir)"
   ]
  },
  {
   "cell_type": "code",
   "execution_count": 7,
   "metadata": {},
   "outputs": [],
   "source": [
    "import rag\n",
    "from rag import config"
   ]
  },
  {
   "cell_type": "code",
   "execution_count": 8,
   "metadata": {},
   "outputs": [
    {
     "name": "stderr",
     "output_type": "stream",
     "text": [
      "2024-10-23 16:43:51.892 Thread 'MainThread': missing ScriptRunContext! This warning can be ignored when running in bare mode.\n",
      "2024-10-23 16:43:51.893 Thread 'MainThread': missing ScriptRunContext! This warning can be ignored when running in bare mode.\n",
      "2024-10-23 16:43:51.893 Thread 'MainThread': missing ScriptRunContext! This warning can be ignored when running in bare mode.\n",
      "2024-10-23 16:43:51.958 Thread 'MainThread': missing ScriptRunContext! This warning can be ignored when running in bare mode.\n",
      "2024-10-23 16:43:51.958 Thread 'MainThread': missing ScriptRunContext! This warning can be ignored when running in bare mode.\n"
     ]
    },
    {
     "name": "stdout",
     "output_type": "stream",
     "text": [
      "\n",
      "--------- \\ ASK \\ -------------------------------------\n",
      "\n",
      "To become an Auxiliary Culinary Assistant (AUXCA), you must complete the AUXCA program training and qualification process. Here are the steps to become an AUXCA:\n",
      "\n",
      "1. Possess OS Favorable PSI: You must have a favorable Personnel Security Investigation (PSI) at the OS level.\n",
      "\n",
      "2. Be in AP, IQ, BQ, or AX status: You must be enrolled in the Auxiliary as an Active Participant (AP), Inactive Qualified (IQ), Basic Qualified (BQ), or Apprentice (AX) status.\n",
      "\n",
      "3. Interviewed/approved by SO-CA: You need to be interviewed and approved by the Sector Officer in Charge of Culinary Affairs (SO-CA). This is to ensure your suitability and commitment to the AUXCA program.\n",
      "\n",
      "4. Complete AUXCA PQS: You must complete the AUXCA Program Qualification Standard (PQS) within one year of completing the Basic AUXCA Course. The PQS covers the necessary knowledge and skills required to perform as an AUXCA.\n",
      "\n",
      "5. Review and approval by DSO-CA: The District Staff Officer in Charge of Culinary Affairs (DSO-CA) will review and recommend your qualification for AUXCA. Once approved, they will sign off on your AUXCA PQS.\n",
      "\n",
      "6. Review and approval by DIRAUX: The District Director of Auxiliary (DIRAUX) will review and approve your AUXCA qualification. Once approved, they will sign off on your AUXCA PQS.\n",
      "\n",
      "7. AUXCA competency assigned: Your AUXCA competency will be assigned, and the completion will be recorded in AUXDATA II, the Auxiliary's database.\n",
      "\n",
      "It's important to note that there are two levels of AUXCA competency: AUXCA-1 Specialist and AUXCA-2 Specialist. Achieving the AUXCA-1 Specialist competency automatically earns you the AUXCA-2 Specialist competency. However, only possessing the AUXCA-2 Specialist competency is not a requirement for providing direct support to Auxiliary unit culinary assistance needs.\n",
      "\n",
      "You should also be aware that the availability of AUXCA-1 Specialist activities may vary based on the need for culinary support in Coast Guard galleys and dining facilities. Therefore, it's recommended to explore the likelihood and sufficiency of these opportunities before pursuing AUXCA-1 Specialist training and qualification.\n",
      "\n",
      "For more detailed information and guidance, you can refer to the Auxiliary Culinary Assistance (AUXCA) Program Standard Operating Procedures (AUX-SOP-005(A)) and consult with your local AUXCA program management.\n",
      "*AUXCA_SOP_FINAL_18JUN21_esign*, page 4\n",
      "\n",
      "*19_15_AUXILIARY_MANDATED_TRAINING__AUXMT____FAQs_AND_WHAT_IF_SCENARIOS___05NOV2015*, page 0\n",
      "\n",
      "*030_23_WORKFORCE_RESILIENCE_COURSE_NAME_CHANGE*, page 1\n",
      "\n",
      "*017_22_AUX_SUPPORT_OF_SW_BORDER_OPS*, page 1\n",
      "\n",
      "*AUXCA_SOP_FINAL_18JUN21_esign*, page 10\n",
      "\n"
     ]
    }
   ],
   "source": [
    "retriever = rag.get_retriever()\n",
    "\n",
    "query = 'how to become auxca?'\n",
    "response = rag.rag(query, retriever)\n",
    "print(\"\")\n",
    "print(\"--------- \\\\ ASK \\ -------------------------------------\")\n",
    "print(\"\")\n",
    "print(f\"{response['result']}\")\n",
    "\n",
    "short_source_list = rag.create_short_source_list(response)\n",
    "# long_source_list = rag.create_long_source_list(response)\n",
    "print(f\"{short_source_list}\")\n",
    "# print(f\"{long_source_list}\")\n",
    "query_length, source_length, result_length, total_tokens = rag.count_tokens(\n",
    "    response)"
   ]
  },
  {
   "cell_type": "markdown",
   "metadata": {},
   "source": []
  },
  {
   "cell_type": "code",
   "execution_count": null,
   "metadata": {},
   "outputs": [],
   "source": [
    "client.close()  # Release db from this process\n",
    "del client\n",
    "del qdrant"
   ]
  },
  {
   "cell_type": "code",
   "execution_count": null,
   "metadata": {},
   "outputs": [],
   "source": []
  }
 ],
 "metadata": {
  "kernelspec": {
   "display_name": ".venv",
   "language": "python",
   "name": "python3"
  },
  "language_info": {
   "codemirror_mode": {
    "name": "ipython",
    "version": 3
   },
   "file_extension": ".py",
   "mimetype": "text/x-python",
   "name": "python",
   "nbconvert_exporter": "python",
   "pygments_lexer": "ipython3",
   "version": "3.11.6"
  }
 },
 "nbformat": 4,
 "nbformat_minor": 2
}
