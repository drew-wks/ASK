{
 "cells": [
  {
   "cell_type": "code",
   "execution_count": 1,
   "metadata": {},
   "outputs": [],
   "source": [
    "from dotenv import load_dotenv\n",
    "import os, sys\n",
    "\n",
    "load_dotenv('/Users/drew_wilkins/Drews_Files/Drew/Python/VSCode/.env')\n",
    "\n",
    "# Add the parent directory to sys.path so you can import your modules from a subdirectory\n",
    "sys.path.append(os.path.abspath('..'))\n",
    "\n",
    "import rag\n",
    "from rag import CONFIG"
   ]
  },
  {
   "cell_type": "code",
   "execution_count": 2,
   "metadata": {},
   "outputs": [],
   "source": [
    "user_question = 'how to become NACO?'"
   ]
  },
  {
   "cell_type": "code",
   "execution_count": 3,
   "metadata": {},
   "outputs": [
    {
     "name": "stderr",
     "output_type": "stream",
     "text": [
      "2024-11-18 16:05:29.649 Thread 'MainThread': missing ScriptRunContext! This warning can be ignored when running in bare mode.\n",
      "2024-11-18 16:05:29.662 \n",
      "  \u001b[33m\u001b[1mWarning:\u001b[0m to view this Streamlit app on a browser, run it with the following\n",
      "  command:\n",
      "\n",
      "    streamlit run /Users/drew_wilkins/Drews_Files/Drew/Python/ASK/.venv-main/lib/python3.11/site-packages/ipykernel_launcher.py [ARGUMENTS]\n",
      "2024-11-18 16:05:29.663 Thread 'MainThread': missing ScriptRunContext! This warning can be ignored when running in bare mode.\n",
      "2024-11-18 16:05:29.664 Thread 'MainThread': missing ScriptRunContext! This warning can be ignored when running in bare mode.\n",
      "2024-11-18 16:05:30.169 Thread 'Thread-4': missing ScriptRunContext! This warning can be ignored when running in bare mode.\n",
      "2024-11-18 16:05:30.170 Thread 'Thread-4': missing ScriptRunContext! This warning can be ignored when running in bare mode.\n",
      "2024-11-18 16:05:30.776 Thread 'MainThread': missing ScriptRunContext! This warning can be ignored when running in bare mode.\n",
      "2024-11-18 16:05:30.776 Thread 'MainThread': missing ScriptRunContext! This warning can be ignored when running in bare mode.\n"
     ]
    }
   ],
   "source": [
    "# Generate a response\n",
    "response = rag.rag(user_question)\n",
    "# response, enriched_question = rag.rag(user_question)"
   ]
  },
  {
   "cell_type": "code",
   "execution_count": 4,
   "metadata": {},
   "outputs": [
    {
     "name": "stdout",
     "output_type": "stream",
     "text": [
      "\n",
      "--------- \\ ASK \\ ------------------------------------- \n",
      "\n",
      "USER QUESTION: how to become NACO?\n",
      "\n",
      "ENRICHED QUESTION: how to become National Commodore of the Auxiliary?\n",
      "\n",
      "ANSWER: To become the National Commodore of the Auxiliary, an Auxiliarist must be elected by the National Board. The National Board consists of the Chief Director, Immediate Past National Commodore, Vice National Commodore, Deputy National Commodores, and District Commodores. The National Commodore serves a one-year term and is responsible for providing leadership and direction to the Auxiliary's national organization. The process of becoming National Commodore involves active participation in Auxiliary leadership positions, demonstrating exemplary leadership skills, and being elected by the National Board.\n",
      "\n",
      "LLM BASED ANSWER ON:\n",
      "COMDTINST M16790.1G\n",
      "\n",
      "RETRIEVED DOCS:\n",
      "References/ALAUXs/2014/18_14_CHIEF_DIRECTOR_FINAL_ACTION_ON_NATIONAL_BOARD_RECOMMENDATIONS_NACON_2014__14SEP2014.pdf\n",
      "For_injestion/IT Instructor WORKSHOP 2023 Jan 2023 Final.pdf\n",
      "References/National Directorates/National Leadership Documents/Strategic_Plan_2022-2028.pdf\n",
      "References/Auxiliary Manual CIM_16790_1G.pdf\n",
      "References/Auxiliary Manual CIM_16790_1G.pdf\n"
     ]
    }
   ],
   "source": [
    "print(f\"\\n--------- \\\\ ASK \\ ------------------------------------- \\n\")\n",
    "print(f\"USER QUESTION: {response['user_question']}\\n\")\n",
    "print(f\"ENRICHED QUESTION: {response['enriched_question']}\\n\")\n",
    "print(f\"ANSWER: {response['answer']['answer']}\\n\")\n",
    "print(f\"LLM BASED ANSWER ON:\")\n",
    "print(\"\\n\".join(response['answer']['llm_sources']))\n",
    "print(f\"\\nRETRIEVED DOCS:\")\n",
    "print(\"\\n\".join(\n",
    "    map(lambda doc: doc.metadata['source'], response['context'])))\n",
    "\n",
    "\n",
    "# short_source_list = rag.create_short_source_list(response)\n",
    "# long_source_list = rag.create_long_source_list(response)\n",
    "# print(f\"Short source list: {short_source_list}\")\n",
    "# print(f\"{long_source_list}\")"
   ]
  },
  {
   "cell_type": "code",
   "execution_count": null,
   "metadata": {},
   "outputs": [],
   "source": [
    "response"
   ]
  },
  {
   "cell_type": "code",
   "execution_count": null,
   "metadata": {},
   "outputs": [],
   "source": [
    "answer_text = response['answer']['answer']\n",
    "\n",
    "# Print the answer\n",
    "print(answer_text)"
   ]
  },
  {
   "cell_type": "markdown",
   "metadata": {},
   "source": [
    "## Input and Response schema"
   ]
  },
  {
   "cell_type": "code",
   "execution_count": null,
   "metadata": {},
   "outputs": [],
   "source": [
    "'''{\n",
    "    'Question': 'string'\n",
    "    }\n",
    "\n",
    "response object:\n",
    "    {\n",
    "    'user_question': 'string'\n",
    "    'enriched_question': 'string'\n",
    "    'context': [list of Document objects]\n",
    "    'answer': {\n",
    "        'answer': 'string', \n",
    "        'llm_sources': ['string 1', 'string2']\n",
    "        }\n",
    "    }\n",
    "    '''"
   ]
  },
  {
   "cell_type": "code",
   "execution_count": null,
   "metadata": {},
   "outputs": [],
   "source": []
  }
 ],
 "metadata": {
  "kernelspec": {
   "display_name": ".venv-main",
   "language": "python",
   "name": "python3"
  },
  "language_info": {
   "codemirror_mode": {
    "name": "ipython",
    "version": 3
   },
   "file_extension": ".py",
   "mimetype": "text/x-python",
   "name": "python",
   "nbconvert_exporter": "python",
   "pygments_lexer": "ipython3",
   "version": "3.11.6"
  }
 },
 "nbformat": 4,
 "nbformat_minor": 2
}
